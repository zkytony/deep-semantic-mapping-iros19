{
 "cells": [
  {
   "cell_type": "code",
   "execution_count": 1,
   "metadata": {},
   "outputs": [],
   "source": [
    "%load_ext autoreload\n",
    "%autoreload 2"
   ]
  },
  {
   "cell_type": "code",
   "execution_count": 2,
   "metadata": {
    "collapsed": true
   },
   "outputs": [],
   "source": [
    "import os\n",
    "import tensorflow as tf\n",
    "\n",
    "import numpy as np\n",
    "import libspn as spn\n",
    "\n",
    "from deepsm.graphspn.spn_model import SpnModel, mod_compute_graph_up\n",
    "from deepsm.graphspn.tbm.spn_template import TemplateSpn, NodeTemplateSpn, EdgeRelationTemplateSpn\n",
    "from deepsm.graphspn.tbm.spn_instance import NodeTemplateInstanceSpn, EdgeRelationTemplateInstanceSpn\n",
    "from deepsm.graphspn.tbm.template import ThreeRelTemplate, SingleRelTemplate, SingleTemplate, RelTemplate\n",
    "from deepsm.graphspn.tbm.graph_builder import build_graph\n",
    "from deepsm.util import CategoryManager"
   ]
  },
  {
   "cell_type": "markdown",
   "metadata": {},
   "source": [
    "# Load Template SPNs"
   ]
  },
  {
   "cell_type": "code",
   "execution_count": 3,
   "metadata": {
    "collapsed": true
   },
   "outputs": [],
   "source": [
    "spn31_path = \"/home/zkytony/Documents/thesis/experiments/deep-semantic-mapping/deepsm/experiments/results/graphspn/EdgeRelationTemplateExperiment/models/ThreeRelTemplate_2_Stockholm456.spn\"\n",
    "spn11_path = \"/home/zkytony/Documents/thesis/experiments/deep-semantic-mapping/deepsm/experiments/results/graphspn/EdgeRelationTemplateExperiment/models/SingleRelTemplate_2_Stockholm456.spn\"\n",
    "spn10_path = \"/home/zkytony/Documents/thesis/experiments/deep-semantic-mapping/deepsm/experiments/results/graphspn/EdgeRelationTemplateExperiment/models/SingleTemplate_2_Stockholm456.spn\"\n",
    "spn01_path = \"/home/zkytony/Documents/thesis/experiments/deep-semantic-mapping/deepsm/experiments/results/graphspn/EdgeRelationTemplateExperiment/models/RelTemplate_2_Stockholm456.spn\""
   ]
  },
  {
   "cell_type": "code",
   "execution_count": 4,
   "metadata": {},
   "outputs": [
    {
     "name": "stdout",
     "output_type": "stream",
     "text": [
      "Generating SPN structure...\n",
      "[Using seed 100]\n",
      "Generating SPN structure...\n",
      "[Using seed 100]\n",
      "Conc_EdgeRelationTemplateSpn_1_1\n",
      "Generating SPN structure...\n",
      "[Using seed 100]\n",
      "Generating SPN structure...\n",
      "[Using seed 100]\n"
     ]
    }
   ],
   "source": [
    "tspn31 = EdgeRelationTemplateSpn(ThreeRelTemplate, seed=100)\n",
    "tspn11 = EdgeRelationTemplateSpn(SingleRelTemplate, seed=100)\n",
    "print(tspn11._conc_inputs)\n",
    "tspn10 = EdgeRelationTemplateSpn(SingleTemplate, seed=100)\n",
    "tspn01 = EdgeRelationTemplateSpn(RelTemplate, seed=100)"
   ]
  },
  {
   "cell_type": "code",
   "execution_count": 5,
   "metadata": {
    "collapsed": true
   },
   "outputs": [],
   "source": [
    "sess = tf.Session()"
   ]
  },
  {
   "cell_type": "code",
   "execution_count": 6,
   "metadata": {},
   "outputs": [
    {
     "name": "stderr",
     "output_type": "stream",
     "text": [
      "[INFO] [spn.JSONLoader:load] Loading SPN graph from file '/home/zkytony/Documents/thesis/experiments/deep-semantic-mapping/deepsm/experiments/results/graphspn/EdgeRelationTemplateExperiment/models/ThreeRelTemplate_2_Stockholm456.spn'\n",
      "[INFO] [spn.JSONLoader:load] Loading SPN graph from file '/home/zkytony/Documents/thesis/experiments/deep-semantic-mapping/deepsm/experiments/results/graphspn/EdgeRelationTemplateExperiment/models/SingleRelTemplate_2_Stockholm456.spn'\n",
      "[INFO] [spn.JSONLoader:load] Loading SPN graph from file '/home/zkytony/Documents/thesis/experiments/deep-semantic-mapping/deepsm/experiments/results/graphspn/EdgeRelationTemplateExperiment/models/SingleTemplate_2_Stockholm456.spn'\n",
      "[INFO] [spn.JSONLoader:load] Loading SPN graph from file '/home/zkytony/Documents/thesis/experiments/deep-semantic-mapping/deepsm/experiments/results/graphspn/EdgeRelationTemplateExperiment/models/RelTemplate_2_Stockholm456.spn'\n"
     ]
    },
    {
     "name": "stdout",
     "output_type": "stream",
     "text": [
      "Conc_EdgeRelationTemplateSpn_1_1_1\n"
     ]
    }
   ],
   "source": [
    "tspn31.load(spn31_path, sess)\n",
    "tspn11.load(spn11_path, sess)\n",
    "print(tspn11._conc_inputs)\n",
    "tspn10.load(spn10_path, sess)\n",
    "tspn01.load(spn01_path, sess)"
   ]
  },
  {
   "cell_type": "code",
   "execution_count": 7,
   "metadata": {},
   "outputs": [],
   "source": [
    "spns = [(tspn, tspn.template) for tspn in [tspn31, tspn11, tspn10, tspn01]]"
   ]
  },
  {
   "cell_type": "code",
   "execution_count": 8,
   "metadata": {},
   "outputs": [
    {
     "name": "stdout",
     "output_type": "stream",
     "text": [
      "Conc_EdgeRelationTemplateSpn_3_1_1\n",
      "Conc_EdgeRelationTemplateSpn_1_1_1\n",
      "Conc_EdgeRelationTemplateSpn_1_0_1\n",
      "Conc_EdgeRelationTemplateSpn_0_1_1\n"
     ]
    }
   ],
   "source": [
    "print(tspn31._conc_inputs)\n",
    "print(tspn11._conc_inputs)\n",
    "print(tspn10._conc_inputs)\n",
    "print(tspn01._conc_inputs)"
   ]
  },
  {
   "cell_type": "markdown",
   "metadata": {},
   "source": [
    "# Load a topo map"
   ]
  },
  {
   "cell_type": "code",
   "execution_count": 9,
   "metadata": {
    "collapsed": true
   },
   "outputs": [],
   "source": [
    "graph_file = \"/home/zkytony/Documents/thesis/experiments/deep-semantic-mapping/deepsm/experiments/analysis/stockholm_floor7_cloudy_b/3nodes.ug\""
   ]
  },
  {
   "cell_type": "code",
   "execution_count": 10,
   "metadata": {},
   "outputs": [
    {
     "name": "stdout",
     "output_type": "stream",
     "text": [
      "3\n",
      "2\n"
     ]
    }
   ],
   "source": [
    "topo_map, likelihoods = build_graph(graph_file)\n",
    "print(len(topo_map.nodes))\n",
    "print(CategoryManager.NUM_CATEGORIES)"
   ]
  },
  {
   "cell_type": "markdown",
   "metadata": {},
   "source": [
    "# Construct instance spn with view template"
   ]
  },
  {
   "cell_type": "code",
   "execution_count": 11,
   "metadata": {},
   "outputs": [],
   "source": [
    "visualize_partitions_dirpath = \"./tmp\"\n",
    "os.makedirs(visualize_partitions_dirpath, exist_ok=True)"
   ]
  },
  {
   "cell_type": "markdown",
   "metadata": {},
   "source": [
    "### Remove inputs for template SPNs"
   ]
  },
  {
   "cell_type": "code",
   "execution_count": 12,
   "metadata": {},
   "outputs": [],
   "source": [
    "tspn31._conc_inputs.set_inputs()\n",
    "tspn11._conc_inputs.set_inputs()\n",
    "tspn10._conc_inputs.set_inputs()\n",
    "tspn01._conc_inputs.set_inputs()"
   ]
  },
  {
   "cell_type": "code",
   "execution_count": 13,
   "metadata": {},
   "outputs": [
    {
     "name": "stdout",
     "output_type": "stream",
     "text": [
      "Importing matplotlib...\n",
      "Partition 1\n",
      "Duplicating... 1\n"
     ]
    },
    {
     "name": "stderr",
     "output_type": "stream",
     "text": [
      "/home/zkytony/Documents/thesis/experiments/deep-semantic-mapping/deepsm/graphspn/tbm/spn_instance.py:566: UserWarning: \n",
      "This call to matplotlib.use() has no effect because the backend has already\n",
      "been chosen; matplotlib.use() must be called *before* pylab, matplotlib.pyplot,\n",
      "or matplotlib.backends is imported for the first time.\n",
      "\n",
      "The backend was *originally* set to 'module://ipykernel.pylab.backend_inline' by the following code:\n",
      "  File \"/usr/lib/python3.5/runpy.py\", line 184, in _run_module_as_main\n",
      "    \"__main__\", mod_spec)\n",
      "  File \"/usr/lib/python3.5/runpy.py\", line 85, in _run_code\n",
      "    exec(code, run_globals)\n",
      "  File \"/home/zkytony/py3/lib/python3.5/site-packages/ipykernel_launcher.py\", line 16, in <module>\n",
      "    app.launch_new_instance()\n",
      "  File \"/home/zkytony/py3/lib/python3.5/site-packages/traitlets/config/application.py\", line 658, in launch_instance\n",
      "    app.start()\n",
      "  File \"/home/zkytony/py3/lib/python3.5/site-packages/ipykernel/kernelapp.py\", line 486, in start\n",
      "    self.io_loop.start()\n",
      "  File \"/home/zkytony/py3/lib/python3.5/site-packages/tornado/platform/asyncio.py\", line 127, in start\n",
      "    self.asyncio_loop.run_forever()\n",
      "  File \"/usr/lib/python3.5/asyncio/base_events.py\", line 345, in run_forever\n",
      "    self._run_once()\n",
      "  File \"/usr/lib/python3.5/asyncio/base_events.py\", line 1312, in _run_once\n",
      "    handle._run()\n",
      "  File \"/usr/lib/python3.5/asyncio/events.py\", line 125, in _run\n",
      "    self._callback(*self._args)\n",
      "  File \"/home/zkytony/py3/lib/python3.5/site-packages/tornado/platform/asyncio.py\", line 117, in _handle_events\n",
      "    handler_func(fileobj, events)\n",
      "  File \"/home/zkytony/py3/lib/python3.5/site-packages/tornado/stack_context.py\", line 276, in null_wrapper\n",
      "    return fn(*args, **kwargs)\n",
      "  File \"/home/zkytony/py3/lib/python3.5/site-packages/zmq/eventloop/zmqstream.py\", line 450, in _handle_events\n",
      "    self._handle_recv()\n",
      "  File \"/home/zkytony/py3/lib/python3.5/site-packages/zmq/eventloop/zmqstream.py\", line 480, in _handle_recv\n",
      "    self._run_callback(callback, msg)\n",
      "  File \"/home/zkytony/py3/lib/python3.5/site-packages/zmq/eventloop/zmqstream.py\", line 432, in _run_callback\n",
      "    callback(*args, **kwargs)\n",
      "  File \"/home/zkytony/py3/lib/python3.5/site-packages/tornado/stack_context.py\", line 276, in null_wrapper\n",
      "    return fn(*args, **kwargs)\n",
      "  File \"/home/zkytony/py3/lib/python3.5/site-packages/ipykernel/kernelbase.py\", line 283, in dispatcher\n",
      "    return self.dispatch_shell(stream, msg)\n",
      "  File \"/home/zkytony/py3/lib/python3.5/site-packages/ipykernel/kernelbase.py\", line 233, in dispatch_shell\n",
      "    handler(stream, idents, msg)\n",
      "  File \"/home/zkytony/py3/lib/python3.5/site-packages/ipykernel/kernelbase.py\", line 399, in execute_request\n",
      "    user_expressions, allow_stdin)\n",
      "  File \"/home/zkytony/py3/lib/python3.5/site-packages/ipykernel/ipkernel.py\", line 208, in do_execute\n",
      "    res = shell.run_cell(code, store_history=store_history, silent=silent)\n",
      "  File \"/home/zkytony/py3/lib/python3.5/site-packages/ipykernel/zmqshell.py\", line 537, in run_cell\n",
      "    return super(ZMQInteractiveShell, self).run_cell(*args, **kwargs)\n",
      "  File \"/home/zkytony/py3/lib/python3.5/site-packages/IPython/core/interactiveshell.py\", line 2666, in run_cell\n",
      "    self.events.trigger('post_run_cell', result)\n",
      "  File \"/home/zkytony/py3/lib/python3.5/site-packages/IPython/core/events.py\", line 88, in trigger\n",
      "    func(*args, **kwargs)\n",
      "  File \"/home/zkytony/py3/lib/python3.5/site-packages/ipykernel/pylab/backend_inline.py\", line 160, in configure_once\n",
      "    activate_matplotlib(backend)\n",
      "  File \"/home/zkytony/py3/lib/python3.5/site-packages/IPython/core/pylabtools.py\", line 311, in activate_matplotlib\n",
      "    matplotlib.pyplot.switch_backend(backend)\n",
      "  File \"/home/zkytony/py3/lib/python3.5/site-packages/matplotlib/pyplot.py\", line 232, in switch_backend\n",
      "    matplotlib.use(newbackend, warn=False, force=True)\n",
      "  File \"/home/zkytony/py3/lib/python3.5/site-packages/matplotlib/__init__.py\", line 1305, in use\n",
      "    reload(sys.modules['matplotlib.backends'])\n",
      "  File \"/home/zkytony/py3/lib/python3.5/importlib/__init__.py\", line 166, in reload\n",
      "    _bootstrap._exec(spec, module)\n",
      "  File \"/home/zkytony/py3/lib/python3.5/site-packages/matplotlib/backends/__init__.py\", line 14, in <module>\n",
      "    line for line in traceback.format_stack()\n",
      "\n",
      "\n",
      "  matplotlib.use('Agg')\n"
     ]
    },
    {
     "name": "stdout",
     "output_type": "stream",
     "text": [
      "Visualized partition 1\n",
      "Partition 2\n",
      "Duplicating... 1\n",
      "Visualized partition 2\n"
     ]
    },
    {
     "data": {
      "text/plain": [
       "<matplotlib.figure.Figure at 0x7f888490eda0>"
      ]
     },
     "metadata": {},
     "output_type": "display_data"
    }
   ],
   "source": [
    "ispn = EdgeRelationTemplateInstanceSpn(topo_map, sess, *spns,\n",
    "                                       num_partitions=2,\n",
    "                                       seq_id=\"floor1_happy\",\n",
    "                                       visualize_partitions_dirpath=visualize_partitions_dirpath,\n",
    "                                       db_name=\"Fake\",\n",
    "                                       divisions=8)"
   ]
  },
  {
   "cell_type": "code",
   "execution_count": 14,
   "metadata": {},
   "outputs": [
    {
     "data": {
      "text/plain": [
       "True"
      ]
     },
     "execution_count": 14,
     "metadata": {},
     "output_type": "execute_result"
    }
   ],
   "source": [
    "ispn._root.is_valid()"
   ]
  },
  {
   "cell_type": "code",
   "execution_count": 15,
   "metadata": {},
   "outputs": [
    {
     "name": "stdout",
     "output_type": "stream",
     "text": [
      "Expanding...\n"
     ]
    }
   ],
   "source": [
    "ispn.expand()"
   ]
  },
  {
   "cell_type": "code",
   "execution_count": 16,
   "metadata": {},
   "outputs": [
    {
     "name": "stdout",
     "output_type": "stream",
     "text": [
      "Initializing learning Ops...\n",
      "WARNING:tensorflow:From /home/zkytony/Documents/thesis/experiments/libspn/libspn/graph/sum.py:298: calling argmax (from tensorflow.python.ops.math_ops) with dimension is deprecated and will be removed in a future version.\n",
      "Instructions for updating:\n",
      "Use the `axis` argument instead\n"
     ]
    },
    {
     "name": "stderr",
     "output_type": "stream",
     "text": [
      "[WARNING] [tensorflow:warning] From /home/zkytony/Documents/thesis/experiments/libspn/libspn/graph/sum.py:298: calling argmax (from tensorflow.python.ops.math_ops) with dimension is deprecated and will be removed in a future version.\n",
      "Instructions for updating:\n",
      "Use the `axis` argument instead\n"
     ]
    },
    {
     "name": "stdout",
     "output_type": "stream",
     "text": [
      "Initializing MPE Ops...\n"
     ]
    }
   ],
   "source": [
    "ispn.init_ops()"
   ]
  },
  {
   "cell_type": "code",
   "execution_count": 17,
   "metadata": {},
   "outputs": [
    {
     "data": {
      "text/html": [
       "<svg id=\"Sc8927a1c11fb43e082b0e8836166a7d6\" width=\"950\" height=\"800\"></svg>\n",
       "<script>\n",
       " require.config({\n",
       "   paths: {\n",
       "     d3: 'https://d3js.org/d3.v4.min'\n",
       "   }\n",
       " });\n",
       " require(['d3'], function(d3){\n",
       "\n",
       "   var graph = {\"links\": [{\"target\": \"Product_43\", \"value\": 1, \"source\": \"ContVars_1\"}, {\"target\": \"Product_43\", \"value\": 1, \"source\": \"IVs_2\"}, {\"target\": \"Product_42\", \"value\": 1, \"source\": \"ContVars_3\"}, {\"target\": \"Product_42\", \"value\": 1, \"source\": \"IVs_4\"}, {\"target\": \"Product_41\", \"value\": 1, \"source\": \"ContVars_5\"}, {\"target\": \"Product_41\", \"value\": 1, \"source\": \"IVs_6\"}, {\"target\": \"Product_40\", \"value\": 1, \"source\": \"ContVars_7\"}, {\"target\": \"Product_40\", \"value\": 1, \"source\": \"IVs_8\"}, {\"target\": \"Product_39\", \"value\": 1, \"source\": \"ContVars_9\"}, {\"target\": \"Product_39\", \"value\": 1, \"source\": \"IVs_10\"}, {\"target\": \"Product_38\", \"value\": 1, \"source\": \"ContVars_11\"}, {\"target\": \"Product_38\", \"value\": 1, \"source\": \"IVs_12\"}, {\"target\": \"Conc_2_floor1_happy\", \"value\": 1, \"source\": \"Product_38\"}, {\"target\": \"Conc_2_floor1_happy\", \"value\": 1, \"source\": \"Product_39\"}, {\"target\": \"Conc_2_floor1_happy\", \"value\": 1, \"source\": \"Product_40\"}, {\"target\": \"Conc_2_floor1_happy\", \"value\": 1, \"source\": \"Product_41\"}, {\"target\": \"Conc_2_floor1_happy\", \"value\": 1, \"source\": \"Product_42\"}, {\"target\": \"Conc_2_floor1_happy\", \"value\": 1, \"source\": \"Product_43\"}, {\"target\": \"Conc_2_floor1_happy\", \"value\": 5, \"source\": \"View_2_floor1_happy_13\"}, {\"target\": \"Product_19\", \"value\": 1, \"source\": \"Conc_2_floor1_happy\"}, {\"target\": \"Product_19\", \"value\": 1, \"source\": \"Conc_2_floor1_happy\"}, {\"target\": \"Product_20\", \"value\": 1, \"source\": \"Conc_2_floor1_happy\"}, {\"target\": \"Product_20\", \"value\": 1, \"source\": \"Conc_2_floor1_happy\"}, {\"target\": \"Product_21\", \"value\": 1, \"source\": \"Conc_2_floor1_happy\"}, {\"target\": \"Product_21\", \"value\": 1, \"source\": \"Conc_2_floor1_happy\"}, {\"target\": \"Product_22\", \"value\": 1, \"source\": \"Conc_2_floor1_happy\"}, {\"target\": \"Product_22\", \"value\": 1, \"source\": \"Conc_2_floor1_happy\"}, {\"target\": \"Sum_5\", \"value\": 1, \"source\": \"Product_22\"}, {\"target\": \"Sum_5\", \"value\": 1, \"source\": \"Product_21\"}, {\"target\": \"Sum_5\", \"value\": 1, \"source\": \"Product_20\"}, {\"target\": \"Sum_5\", \"value\": 1, \"source\": \"Product_19\"}, {\"target\": \"Product_23\", \"value\": 1, \"source\": \"Conc_2_floor1_happy\"}, {\"target\": \"Product_23\", \"value\": 1, \"source\": \"Conc_2_floor1_happy\"}, {\"target\": \"Product_24\", \"value\": 1, \"source\": \"Conc_2_floor1_happy\"}, {\"target\": \"Product_24\", \"value\": 1, \"source\": \"Conc_2_floor1_happy\"}, {\"target\": \"Product_25\", \"value\": 1, \"source\": \"Conc_2_floor1_happy\"}, {\"target\": \"Product_25\", \"value\": 1, \"source\": \"Conc_2_floor1_happy\"}, {\"target\": \"Product_26\", \"value\": 1, \"source\": \"Conc_2_floor1_happy\"}, {\"target\": \"Product_26\", \"value\": 1, \"source\": \"Conc_2_floor1_happy\"}, {\"target\": \"Product_27\", \"value\": 1, \"source\": \"Conc_2_floor1_happy\"}, {\"target\": \"Product_27\", \"value\": 1, \"source\": \"Conc_2_floor1_happy\"}, {\"target\": \"Product_28\", \"value\": 1, \"source\": \"Conc_2_floor1_happy\"}, {\"target\": \"Product_28\", \"value\": 1, \"source\": \"Conc_2_floor1_happy\"}, {\"target\": \"Product_29\", \"value\": 1, \"source\": \"Conc_2_floor1_happy\"}, {\"target\": \"Product_29\", \"value\": 1, \"source\": \"Conc_2_floor1_happy\"}, {\"target\": \"Product_30\", \"value\": 1, \"source\": \"Conc_2_floor1_happy\"}, {\"target\": \"Product_30\", \"value\": 1, \"source\": \"Conc_2_floor1_happy\"}, {\"target\": \"Product_31\", \"value\": 1, \"source\": \"Conc_2_floor1_happy\"}, {\"target\": \"Product_31\", \"value\": 1, \"source\": \"Conc_2_floor1_happy\"}, {\"target\": \"Product_32\", \"value\": 1, \"source\": \"Conc_2_floor1_happy\"}, {\"target\": \"Product_32\", \"value\": 1, \"source\": \"Conc_2_floor1_happy\"}, {\"target\": \"Sum_6\", \"value\": 1, \"source\": \"Product_32\"}, {\"target\": \"Sum_6\", \"value\": 1, \"source\": \"Product_31\"}, {\"target\": \"Sum_6\", \"value\": 1, \"source\": \"Product_30\"}, {\"target\": \"Sum_6\", \"value\": 1, \"source\": \"Product_29\"}, {\"target\": \"Sum_6\", \"value\": 1, \"source\": \"Product_28\"}, {\"target\": \"Sum_6\", \"value\": 1, \"source\": \"Product_27\"}, {\"target\": \"Sum_6\", \"value\": 1, \"source\": \"Product_26\"}, {\"target\": \"Sum_6\", \"value\": 1, \"source\": \"Product_25\"}, {\"target\": \"Sum_6\", \"value\": 1, \"source\": \"Product_24\"}, {\"target\": \"Sum_6\", \"value\": 1, \"source\": \"Product_23\"}, {\"target\": \"Product_33\", \"value\": 1, \"source\": \"Sum_6\"}, {\"target\": \"Product_33\", \"value\": 1, \"source\": \"Sum_5\"}, {\"target\": \"Sum_7\", \"value\": 1, \"source\": \"Product_32\"}, {\"target\": \"Sum_7\", \"value\": 1, \"source\": \"Product_31\"}, {\"target\": \"Sum_7\", \"value\": 1, \"source\": \"Product_30\"}, {\"target\": \"Sum_7\", \"value\": 1, \"source\": \"Product_29\"}, {\"target\": \"Sum_7\", \"value\": 1, \"source\": \"Product_28\"}, {\"target\": \"Sum_7\", \"value\": 1, \"source\": \"Product_27\"}, {\"target\": \"Sum_7\", \"value\": 1, \"source\": \"Product_26\"}, {\"target\": \"Sum_7\", \"value\": 1, \"source\": \"Product_25\"}, {\"target\": \"Sum_7\", \"value\": 1, \"source\": \"Product_24\"}, {\"target\": \"Sum_7\", \"value\": 1, \"source\": \"Product_23\"}, {\"target\": \"Product_34\", \"value\": 1, \"source\": \"Sum_7\"}, {\"target\": \"Product_34\", \"value\": 1, \"source\": \"Sum_5\"}, {\"target\": \"Sum_8\", \"value\": 1, \"source\": \"Product_22\"}, {\"target\": \"Sum_8\", \"value\": 1, \"source\": \"Product_21\"}, {\"target\": \"Sum_8\", \"value\": 1, \"source\": \"Product_20\"}, {\"target\": \"Sum_8\", \"value\": 1, \"source\": \"Product_19\"}, {\"target\": \"Product_35\", \"value\": 1, \"source\": \"Sum_6\"}, {\"target\": \"Product_35\", \"value\": 1, \"source\": \"Sum_8\"}, {\"target\": \"Product_36\", \"value\": 1, \"source\": \"Sum_7\"}, {\"target\": \"Product_36\", \"value\": 1, \"source\": \"Sum_8\"}, {\"target\": \"Sum_9\", \"value\": 1, \"source\": \"Product_36\"}, {\"target\": \"Sum_9\", \"value\": 1, \"source\": \"Product_35\"}, {\"target\": \"Sum_9\", \"value\": 1, \"source\": \"Product_34\"}, {\"target\": \"Sum_9\", \"value\": 1, \"source\": \"Product_33\"}, {\"target\": \"Product_37\", \"value\": 1, \"source\": \"Sum_9\"}, {\"target\": \"Product\", \"value\": 1, \"source\": \"Conc_2_floor1_happy\"}, {\"target\": \"Product\", \"value\": 1, \"source\": \"Conc_2_floor1_happy\"}, {\"target\": \"Product_1\", \"value\": 1, \"source\": \"Conc_2_floor1_happy\"}, {\"target\": \"Product_1\", \"value\": 1, \"source\": \"Conc_2_floor1_happy\"}, {\"target\": \"Product_2\", \"value\": 1, \"source\": \"Conc_2_floor1_happy\"}, {\"target\": \"Product_2\", \"value\": 1, \"source\": \"Conc_2_floor1_happy\"}, {\"target\": \"Product_3\", \"value\": 1, \"source\": \"Conc_2_floor1_happy\"}, {\"target\": \"Product_3\", \"value\": 1, \"source\": \"Conc_2_floor1_happy\"}, {\"target\": \"Sum\", \"value\": 1, \"source\": \"Product_3\"}, {\"target\": \"Sum\", \"value\": 1, \"source\": \"Product_2\"}, {\"target\": \"Sum\", \"value\": 1, \"source\": \"Product_1\"}, {\"target\": \"Sum\", \"value\": 1, \"source\": \"Product\"}, {\"target\": \"Product_4\", \"value\": 1, \"source\": \"Conc_2_floor1_happy\"}, {\"target\": \"Product_4\", \"value\": 1, \"source\": \"Conc_2_floor1_happy\"}, {\"target\": \"Product_5\", \"value\": 1, \"source\": \"Conc_2_floor1_happy\"}, {\"target\": \"Product_5\", \"value\": 1, \"source\": \"Conc_2_floor1_happy\"}, {\"target\": \"Product_6\", \"value\": 1, \"source\": \"Conc_2_floor1_happy\"}, {\"target\": \"Product_6\", \"value\": 1, \"source\": \"Conc_2_floor1_happy\"}, {\"target\": \"Product_7\", \"value\": 1, \"source\": \"Conc_2_floor1_happy\"}, {\"target\": \"Product_7\", \"value\": 1, \"source\": \"Conc_2_floor1_happy\"}, {\"target\": \"Product_8\", \"value\": 1, \"source\": \"Conc_2_floor1_happy\"}, {\"target\": \"Product_8\", \"value\": 1, \"source\": \"Conc_2_floor1_happy\"}, {\"target\": \"Product_9\", \"value\": 1, \"source\": \"Conc_2_floor1_happy\"}, {\"target\": \"Product_9\", \"value\": 1, \"source\": \"Conc_2_floor1_happy\"}, {\"target\": \"Product_10\", \"value\": 1, \"source\": \"Conc_2_floor1_happy\"}, {\"target\": \"Product_10\", \"value\": 1, \"source\": \"Conc_2_floor1_happy\"}, {\"target\": \"Product_11\", \"value\": 1, \"source\": \"Conc_2_floor1_happy\"}, {\"target\": \"Product_11\", \"value\": 1, \"source\": \"Conc_2_floor1_happy\"}, {\"target\": \"Product_12\", \"value\": 1, \"source\": \"Conc_2_floor1_happy\"}, {\"target\": \"Product_12\", \"value\": 1, \"source\": \"Conc_2_floor1_happy\"}, {\"target\": \"Product_13\", \"value\": 1, \"source\": \"Conc_2_floor1_happy\"}, {\"target\": \"Product_13\", \"value\": 1, \"source\": \"Conc_2_floor1_happy\"}, {\"target\": \"Sum_1\", \"value\": 1, \"source\": \"Product_13\"}, {\"target\": \"Sum_1\", \"value\": 1, \"source\": \"Product_12\"}, {\"target\": \"Sum_1\", \"value\": 1, \"source\": \"Product_11\"}, {\"target\": \"Sum_1\", \"value\": 1, \"source\": \"Product_10\"}, {\"target\": \"Sum_1\", \"value\": 1, \"source\": \"Product_9\"}, {\"target\": \"Sum_1\", \"value\": 1, \"source\": \"Product_8\"}, {\"target\": \"Sum_1\", \"value\": 1, \"source\": \"Product_7\"}, {\"target\": \"Sum_1\", \"value\": 1, \"source\": \"Product_6\"}, {\"target\": \"Sum_1\", \"value\": 1, \"source\": \"Product_5\"}, {\"target\": \"Sum_1\", \"value\": 1, \"source\": \"Product_4\"}, {\"target\": \"Product_14\", \"value\": 1, \"source\": \"Sum_1\"}, {\"target\": \"Product_14\", \"value\": 1, \"source\": \"Sum\"}, {\"target\": \"Sum_2\", \"value\": 1, \"source\": \"Product_13\"}, {\"target\": \"Sum_2\", \"value\": 1, \"source\": \"Product_12\"}, {\"target\": \"Sum_2\", \"value\": 1, \"source\": \"Product_11\"}, {\"target\": \"Sum_2\", \"value\": 1, \"source\": \"Product_10\"}, {\"target\": \"Sum_2\", \"value\": 1, \"source\": \"Product_9\"}, {\"target\": \"Sum_2\", \"value\": 1, \"source\": \"Product_8\"}, {\"target\": \"Sum_2\", \"value\": 1, \"source\": \"Product_7\"}, {\"target\": \"Sum_2\", \"value\": 1, \"source\": \"Product_6\"}, {\"target\": \"Sum_2\", \"value\": 1, \"source\": \"Product_5\"}, {\"target\": \"Sum_2\", \"value\": 1, \"source\": \"Product_4\"}, {\"target\": \"Product_15\", \"value\": 1, \"source\": \"Sum_2\"}, {\"target\": \"Product_15\", \"value\": 1, \"source\": \"Sum\"}, {\"target\": \"Sum_3\", \"value\": 1, \"source\": \"Product_3\"}, {\"target\": \"Sum_3\", \"value\": 1, \"source\": \"Product_2\"}, {\"target\": \"Sum_3\", \"value\": 1, \"source\": \"Product_1\"}, {\"target\": \"Sum_3\", \"value\": 1, \"source\": \"Product\"}, {\"target\": \"Product_16\", \"value\": 1, \"source\": \"Sum_1\"}, {\"target\": \"Product_16\", \"value\": 1, \"source\": \"Sum_3\"}, {\"target\": \"Product_17\", \"value\": 1, \"source\": \"Sum_2\"}, {\"target\": \"Product_17\", \"value\": 1, \"source\": \"Sum_3\"}, {\"target\": \"Sum_4\", \"value\": 1, \"source\": \"Product_17\"}, {\"target\": \"Sum_4\", \"value\": 1, \"source\": \"Product_16\"}, {\"target\": \"Sum_4\", \"value\": 1, \"source\": \"Product_15\"}, {\"target\": \"Sum_4\", \"value\": 1, \"source\": \"Product_14\"}, {\"target\": \"Product_18\", \"value\": 1, \"source\": \"Sum_4\"}, {\"target\": \"Sum_10\", \"value\": 1, \"source\": \"Product_18\"}, {\"target\": \"Sum_10\", \"value\": 1, \"source\": \"Product_37\"}], \"nodes\": [{\"type\": 2, \"tooltip\": \"Product_43\", \"id\": \"Product_43\", \"name\": \"Product_43\"}, {\"type\": 1, \"tooltip\": \"ContVars\", \"id\": \"ContVars_1\", \"name\": \"ContVars[5]\"}, {\"type\": 0, \"tooltip\": \"IVs\", \"id\": \"IVs_2\", \"name\": \"IVs[5]\"}, {\"type\": 2, \"tooltip\": \"Product_42\", \"id\": \"Product_42\", \"name\": \"Product_42\"}, {\"type\": 1, \"tooltip\": \"ContVars\", \"id\": \"ContVars_3\", \"name\": \"ContVars[4]\"}, {\"type\": 0, \"tooltip\": \"IVs\", \"id\": \"IVs_4\", \"name\": \"IVs[4]\"}, {\"type\": 2, \"tooltip\": \"Product_41\", \"id\": \"Product_41\", \"name\": \"Product_41\"}, {\"type\": 1, \"tooltip\": \"ContVars\", \"id\": \"ContVars_5\", \"name\": \"ContVars[3]\"}, {\"type\": 0, \"tooltip\": \"IVs\", \"id\": \"IVs_6\", \"name\": \"IVs[3]\"}, {\"type\": 2, \"tooltip\": \"Product_40\", \"id\": \"Product_40\", \"name\": \"Product_40\"}, {\"type\": 1, \"tooltip\": \"ContVars\", \"id\": \"ContVars_7\", \"name\": \"ContVars[2]\"}, {\"type\": 0, \"tooltip\": \"IVs\", \"id\": \"IVs_8\", \"name\": \"IVs[2]\"}, {\"type\": 2, \"tooltip\": \"Product_39\", \"id\": \"Product_39\", \"name\": \"Product_39\"}, {\"type\": 1, \"tooltip\": \"ContVars\", \"id\": \"ContVars_9\", \"name\": \"ContVars[1]\"}, {\"type\": 0, \"tooltip\": \"IVs\", \"id\": \"IVs_10\", \"name\": \"IVs[1]\"}, {\"type\": 2, \"tooltip\": \"Product_38\", \"id\": \"Product_38\", \"name\": \"Product_38\"}, {\"type\": 1, \"tooltip\": \"ContVars\", \"id\": \"ContVars_11\", \"name\": \"ContVars[0]\"}, {\"type\": 0, \"tooltip\": \"IVs\", \"id\": \"IVs_12\", \"name\": \"IVs[0]\"}, {\"type\": 3, \"tooltip\": \"Conc_2_floor1_happy\", \"id\": \"Conc_2_floor1_happy\", \"name\": \"Conc_2_floor1_happy\"}, {\"type\": 0, \"tooltip\": \"View_2_floor1_happy\", \"id\": \"View_2_floor1_happy_13\", \"name\": \"View_2_floor1_happy\"}, {\"type\": 2, \"tooltip\": \"Product_19\", \"id\": \"Product_19\", \"name\": \"Product_19\"}, {\"type\": 2, \"tooltip\": \"Product_20\", \"id\": \"Product_20\", \"name\": \"Product_20\"}, {\"type\": 2, \"tooltip\": \"Product_21\", \"id\": \"Product_21\", \"name\": \"Product_21\"}, {\"type\": 2, \"tooltip\": \"Product_22\", \"id\": \"Product_22\", \"name\": \"Product_22\"}, {\"type\": 5, \"tooltip\": \"Sum_5\", \"id\": \"Sum_5\", \"name\": \"Sum_5\"}, {\"type\": 2, \"tooltip\": \"Product_23\", \"id\": \"Product_23\", \"name\": \"Product_23\"}, {\"type\": 2, \"tooltip\": \"Product_24\", \"id\": \"Product_24\", \"name\": \"Product_24\"}, {\"type\": 2, \"tooltip\": \"Product_25\", \"id\": \"Product_25\", \"name\": \"Product_25\"}, {\"type\": 2, \"tooltip\": \"Product_26\", \"id\": \"Product_26\", \"name\": \"Product_26\"}, {\"type\": 2, \"tooltip\": \"Product_27\", \"id\": \"Product_27\", \"name\": \"Product_27\"}, {\"type\": 2, \"tooltip\": \"Product_28\", \"id\": \"Product_28\", \"name\": \"Product_28\"}, {\"type\": 2, \"tooltip\": \"Product_29\", \"id\": \"Product_29\", \"name\": \"Product_29\"}, {\"type\": 2, \"tooltip\": \"Product_30\", \"id\": \"Product_30\", \"name\": \"Product_30\"}, {\"type\": 2, \"tooltip\": \"Product_31\", \"id\": \"Product_31\", \"name\": \"Product_31\"}, {\"type\": 2, \"tooltip\": \"Product_32\", \"id\": \"Product_32\", \"name\": \"Product_32\"}, {\"type\": 5, \"tooltip\": \"Sum_6\", \"id\": \"Sum_6\", \"name\": \"Sum_6\"}, {\"type\": 2, \"tooltip\": \"Product_33\", \"id\": \"Product_33\", \"name\": \"Product_33\"}, {\"type\": 5, \"tooltip\": \"Sum_7\", \"id\": \"Sum_7\", \"name\": \"Sum_7\"}, {\"type\": 2, \"tooltip\": \"Product_34\", \"id\": \"Product_34\", \"name\": \"Product_34\"}, {\"type\": 5, \"tooltip\": \"Sum_8\", \"id\": \"Sum_8\", \"name\": \"Sum_8\"}, {\"type\": 2, \"tooltip\": \"Product_35\", \"id\": \"Product_35\", \"name\": \"Product_35\"}, {\"type\": 2, \"tooltip\": \"Product_36\", \"id\": \"Product_36\", \"name\": \"Product_36\"}, {\"type\": 5, \"tooltip\": \"Sum_9\", \"id\": \"Sum_9\", \"name\": \"Sum_9\"}, {\"type\": 2, \"tooltip\": \"Product_37\", \"id\": \"Product_37\", \"name\": \"Product_37\"}, {\"type\": 2, \"tooltip\": \"Product\", \"id\": \"Product\", \"name\": \"Product\"}, {\"type\": 2, \"tooltip\": \"Product_1\", \"id\": \"Product_1\", \"name\": \"Product_1\"}, {\"type\": 2, \"tooltip\": \"Product_2\", \"id\": \"Product_2\", \"name\": \"Product_2\"}, {\"type\": 2, \"tooltip\": \"Product_3\", \"id\": \"Product_3\", \"name\": \"Product_3\"}, {\"type\": 5, \"tooltip\": \"Sum\", \"id\": \"Sum\", \"name\": \"Sum\"}, {\"type\": 2, \"tooltip\": \"Product_4\", \"id\": \"Product_4\", \"name\": \"Product_4\"}, {\"type\": 2, \"tooltip\": \"Product_5\", \"id\": \"Product_5\", \"name\": \"Product_5\"}, {\"type\": 2, \"tooltip\": \"Product_6\", \"id\": \"Product_6\", \"name\": \"Product_6\"}, {\"type\": 2, \"tooltip\": \"Product_7\", \"id\": \"Product_7\", \"name\": \"Product_7\"}, {\"type\": 2, \"tooltip\": \"Product_8\", \"id\": \"Product_8\", \"name\": \"Product_8\"}, {\"type\": 2, \"tooltip\": \"Product_9\", \"id\": \"Product_9\", \"name\": \"Product_9\"}, {\"type\": 2, \"tooltip\": \"Product_10\", \"id\": \"Product_10\", \"name\": \"Product_10\"}, {\"type\": 2, \"tooltip\": \"Product_11\", \"id\": \"Product_11\", \"name\": \"Product_11\"}, {\"type\": 2, \"tooltip\": \"Product_12\", \"id\": \"Product_12\", \"name\": \"Product_12\"}, {\"type\": 2, \"tooltip\": \"Product_13\", \"id\": \"Product_13\", \"name\": \"Product_13\"}, {\"type\": 5, \"tooltip\": \"Sum_1\", \"id\": \"Sum_1\", \"name\": \"Sum_1\"}, {\"type\": 2, \"tooltip\": \"Product_14\", \"id\": \"Product_14\", \"name\": \"Product_14\"}, {\"type\": 5, \"tooltip\": \"Sum_2\", \"id\": \"Sum_2\", \"name\": \"Sum_2\"}, {\"type\": 2, \"tooltip\": \"Product_15\", \"id\": \"Product_15\", \"name\": \"Product_15\"}, {\"type\": 5, \"tooltip\": \"Sum_3\", \"id\": \"Sum_3\", \"name\": \"Sum_3\"}, {\"type\": 2, \"tooltip\": \"Product_16\", \"id\": \"Product_16\", \"name\": \"Product_16\"}, {\"type\": 2, \"tooltip\": \"Product_17\", \"id\": \"Product_17\", \"name\": \"Product_17\"}, {\"type\": 5, \"tooltip\": \"Sum_4\", \"id\": \"Sum_4\", \"name\": \"Sum_4\"}, {\"type\": 2, \"tooltip\": \"Product_18\", \"id\": \"Product_18\", \"name\": \"Product_18\"}, {\"type\": 5, \"tooltip\": \"Sum_10\", \"id\": \"Sum_10\", \"name\": \"Sum_10\"}]};\n",
       "\n",
       "   var color = d3.scaleOrdinal(d3.schemeCategory10);\n",
       "\n",
       "   var zoom = d3.zoom()\n",
       "                .scaleExtent([0.1, 10])\n",
       "                .on(\"zoom\", zoomed);\n",
       "\n",
       "   var svg = d3.select(\"#Sc8927a1c11fb43e082b0e8836166a7d6\").\n",
       "                call(zoom);\n",
       "\n",
       "   var width = svg.attr(\"width\");\n",
       "   var height = svg.attr(\"height\");\n",
       "\n",
       "   var simulation = d3.forceSimulation(graph.nodes)\n",
       "                      .on(\"tick\", ticked)\n",
       "                      .force(\"link\", d3.forceLink(graph.links)\n",
       "                                       .distance(80)\n",
       "                                       .id(function(d) { return d.id; }))\n",
       "                      .force(\"charge\", d3.forceManyBody().\n",
       "                                          strength(-1000))\n",
       "                      .force(\"center\", d3.forceCenter(width / 2, height / 2));\n",
       "\n",
       "   /* Contents */\n",
       "   var container = svg.append(\"g\").\n",
       "                       attr(\"class\", \"container\");\n",
       "\n",
       "   var link = container.append(\"g\")\n",
       "                       .selectAll(\"link\")\n",
       "                       .data(graph.links)\n",
       "                       .enter().append(\"line\")\n",
       "                       .attr(\"stroke\", \"#444\")\n",
       "                       .attr(\"stroke-opacity\", \"0.6\")\n",
       "                       .attr(\"stroke-width\",\n",
       "                             function(d) {\n",
       "                               return d.value;\n",
       "                               /*return Math.sqrt(d.value);*/\n",
       "                             });\n",
       "\n",
       "   var link_value = container.append(\"g\")\n",
       "                             .selectAll(\"linkvalue\")\n",
       "                             .data(graph.links)\n",
       "                             .enter().append(\"text\")\n",
       "                             .attr(\"alignment-baseline\", \"middle\")\n",
       "                             .style(\"text-anchor\", \"middle\")\n",
       "                             .text(function(d) { return d.value; });\n",
       "\n",
       "   var node = container.append(\"g\")\n",
       "                       .selectAll(\"node\")\n",
       "                       .data(graph.nodes)\n",
       "                       .enter().append(\"g\")\n",
       "                       .call(d3.drag()\n",
       "                               .on(\"start\", dragstarted)\n",
       "                               .on(\"drag\", dragged)\n",
       "                               .on(\"end\", dragended));\n",
       "\n",
       "   /* Node appearance */\n",
       "   node.append(\"rect\")\n",
       "       .attr(\"height\", 0)\n",
       "       .attr(\"width\", 0)\n",
       "       .attr(\"fill\", function(d) { return color(d.type); })\n",
       "       .attr(\"stroke\", \"#000\")\n",
       "       .attr(\"stroke-width\", \"1px\");\n",
       "\n",
       "   node.append(\"text\")\n",
       "       .attr(\"alignment-baseline\", \"middle\")\n",
       "       .style(\"text-anchor\", \"middle\")\n",
       "       .text(function(d) { return d.name; });\n",
       "\n",
       "   /* Adjust rect width to text */\n",
       "   var margin=10;\n",
       "   node.selectAll('rect')\n",
       "       .attr(\"x\", function(d) {return d3.select(this).attr(\"x\") - (this.parentNode.getBBox().width + margin)/2.0;})\n",
       "       .attr(\"y\", function(d) {return d3.select(this).attr(\"y\") - (this.parentNode.getBBox().height + margin)/2.0;})\n",
       "       .attr(\"width\", function(d) {return this.parentNode.getBBox().width + margin;})\n",
       "       .attr(\"height\", function(d) {return this.parentNode.getBBox().height + margin;});\n",
       "\n",
       "   /* Tooltips */\n",
       "   node.append(\"title\")\n",
       "       .text(function(d) { return d.tooltip; });\n",
       "\n",
       "   /* Functions */\n",
       "   function zoomed() {\n",
       "     container.attr(\"transform\", d3.event.transform);\n",
       "   }\n",
       "\n",
       "   function ticked() {\n",
       "     link\n",
       "       .attr(\"x1\", function(d) { return d.source.x; })\n",
       "       .attr(\"y1\", function(d) { return d.source.y; })\n",
       "       .attr(\"x2\", function(d) { return d.target.x; })\n",
       "       .attr(\"y2\", function(d) { return d.target.y; });\n",
       "\n",
       "     link_value\n",
       "       .attr(\"x\", function(d) { return (d.source.x+d.target.x)/2; })\n",
       "       .attr(\"y\", function(d) { return (d.source.y+d.target.y)/2; })\n",
       "\n",
       "     node.attr(\"transform\",\n",
       "               function(d) { return \"translate(\" + d.x + \",\" + d.y + \")\"; });\n",
       "   }\n",
       "\n",
       "   function dragstarted(d) {\n",
       "     if (!d3.event.active) simulation.alphaTarget(0.3).restart();\n",
       "     d.fx = d.x;\n",
       "     d.fy = d.y;\n",
       "   }\n",
       "\n",
       "   function dragged(d) {\n",
       "     d.fx = d3.event.x;\n",
       "     d.fy = d3.event.y;\n",
       "   }\n",
       "\n",
       "   function dragended(d) {\n",
       "     if (!d3.event.active) simulation.alphaTarget(0);\n",
       "     d.fx = null;\n",
       "     d.fy = null;\n",
       "   }\n",
       "\n",
       " });\n",
       "</script>\n"
      ],
      "text/plain": [
       "<IPython.core.display.HTML object>"
      ]
     },
     "metadata": {},
     "output_type": "display_data"
    }
   ],
   "source": [
    "spn.display_spn_graph(ispn._root, sess)"
   ]
  },
  {
   "cell_type": "code",
   "execution_count": 18,
   "metadata": {},
   "outputs": [
    {
     "data": {
      "text/plain": [
       "array([-13.05547905], dtype=float32)"
      ]
     },
     "execution_count": 18,
     "metadata": {},
     "output_type": "execute_result"
    }
   ],
   "source": [
    "ispn._expanded = True\n",
    "ispn.evaluate(sess, {159:1, 160:1, 162:1}, sample_lh={159:(-4,-3), 160:(-3,-4), 162:(-2,-4)})"
   ]
  },
  {
   "cell_type": "code",
   "execution_count": 20,
   "metadata": {},
   "outputs": [
    {
     "data": {
      "text/plain": [
       "{162: [array([-13.77962875], dtype=float32),\n",
       "  array([-111.05548096], dtype=float32)]}"
      ]
     },
     "execution_count": 20,
     "metadata": {},
     "output_type": "execute_result"
    }
   ],
   "source": [
    "ispn.marginal_inference(sess, [162], {159:1, 160:1, 162:-1}, query_lh={159:(-5,-3), 160:(-3,-4), 162:(-2,-102)})"
   ]
  },
  {
   "cell_type": "code",
   "execution_count": null,
   "metadata": {
    "collapsed": true
   },
   "outputs": [],
   "source": []
  }
 ],
 "metadata": {
  "kernelspec": {
   "display_name": "py3",
   "language": "python",
   "name": "py3"
  },
  "language_info": {
   "codemirror_mode": {
    "name": "ipython",
    "version": 3
   },
   "file_extension": ".py",
   "mimetype": "text/x-python",
   "name": "python",
   "nbconvert_exporter": "python",
   "pygments_lexer": "ipython3",
   "version": "3.5.2"
  }
 },
 "nbformat": 4,
 "nbformat_minor": 2
}
