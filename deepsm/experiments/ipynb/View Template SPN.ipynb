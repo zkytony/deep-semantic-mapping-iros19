{
 "cells": [
  {
   "cell_type": "code",
   "execution_count": 1,
   "metadata": {
    "collapsed": true
   },
   "outputs": [],
   "source": [
    "%load_ext autoreload\n",
    "%autoreload 2"
   ]
  },
  {
   "cell_type": "code",
   "execution_count": 2,
   "metadata": {},
   "outputs": [],
   "source": [
    "import os\n",
    "import tensorflow as tf\n",
    "\n",
    "import numpy as np\n",
    "import libspn as spn\n",
    "\n",
    "from deepsm.graphspn.spn_model import SpnModel, mod_compute_graph_up\n",
    "from deepsm.graphspn.tbm.spn_template import TemplateSpn, NodeTemplateSpn, EdgeRelationTemplateSpn\n",
    "from deepsm.graphspn.tbm.spn_instance import NodeTemplateInstanceSpn\n",
    "from deepsm.graphspn.tbm.template import ThreeRelTemplate, SingleRelTemplate, SingleTemplate, RelTemplate\n",
    "from deepsm.graphspn.tbm.graph_builder import build_graph\n",
    "from deepsm.util import CategoryManager"
   ]
  },
  {
   "cell_type": "markdown",
   "metadata": {},
   "source": [
    "# Load a trained view template SPN"
   ]
  },
  {
   "cell_type": "code",
   "execution_count": 61,
   "metadata": {
    "collapsed": true
   },
   "outputs": [],
   "source": [
    "spn_path = \"/home/zkytony/Documents/thesis/experiments/deep-semantic-mapping/deepsm/experiments/results/graphspn/EdgeRelationTemplateExperiment/models/RelTemplate_2_Stockholm456.spn\""
   ]
  },
  {
   "cell_type": "code",
   "execution_count": 62,
   "metadata": {
    "collapsed": true
   },
   "outputs": [],
   "source": [
    "sess = tf.Session()"
   ]
  },
  {
   "cell_type": "code",
   "execution_count": 63,
   "metadata": {},
   "outputs": [
    {
     "name": "stderr",
     "output_type": "stream",
     "text": [
      "[INFO] [spn.JSONLoader:load] Loading SPN graph from file '/home/zkytony/Documents/thesis/experiments/deep-semantic-mapping/deepsm/experiments/results/graphspn/EdgeRelationTemplateExperiment/models/RelTemplate_2_Stockholm456.spn'\n"
     ]
    },
    {
     "name": "stdout",
     "output_type": "stream",
     "text": [
      "Generating SPN structure...\n",
      "[Using seed 100]\n",
      "Node_22 (Sum)\n",
      "    Input(Products1/Product1_10, None) (Product)\n",
      "    Input(Products1/Product2_10, None) (Product)\n",
      "    Input(Products1/Product3_9, None) (Product)\n",
      "    Input(Products1/Product4_9, None) (Product)\n",
      "    Input(Products1/Product5_9, None) (Product)\n",
      "Products1/Product1_10 (Product)\n",
      "    Input(Conc_EdgeRelationTemplateSpn_0_1_21, [0]) (Concat)\n",
      "Products1/Product2_10 (Product)\n",
      "    Input(Conc_EdgeRelationTemplateSpn_0_1_21, [1]) (Concat)\n",
      "Products1/Product3_9 (Product)\n",
      "    Input(Conc_EdgeRelationTemplateSpn_0_1_21, [2]) (Concat)\n",
      "Products1/Product4_9 (Product)\n",
      "    Input(Conc_EdgeRelationTemplateSpn_0_1_21, [3]) (Concat)\n",
      "Products1/Product5_9 (Product)\n",
      "    Input(Conc_EdgeRelationTemplateSpn_0_1_21, [4]) (Concat)\n",
      "Conc_EdgeRelationTemplateSpn_0_1_21 (Concat)\n",
      "    Input(View_EdgeRelationTemplateSpn_0_1_21, None) (IVs)\n",
      "Conc_EdgeRelationTemplateSpn_0_1_21\n",
      "View_EdgeRelationTemplateSpn_0_1_21\n"
     ]
    }
   ],
   "source": [
    "template_spn = EdgeRelationTemplateSpn(RelTemplate, seed=100)\n",
    "template_spn.load(spn_path, sess)\n",
    "SpnModel.print_structure(template_spn._root, sess)\n",
    "print(template_spn._conc_inputs)\n",
    "print(template_spn._view_dist_input)"
   ]
  },
  {
   "cell_type": "code",
   "execution_count": 64,
   "metadata": {},
   "outputs": [
    {
     "name": "stdout",
     "output_type": "stream",
     "text": [
      "Conc_EdgeRelationTemplateSpn_0_1_21\n",
      "View_EdgeRelationTemplateSpn_0_1_21\n"
     ]
    }
   ],
   "source": [
    "print(template_spn._conc_inputs)\n",
    "print(template_spn._view_dist_input)"
   ]
  },
  {
   "cell_type": "code",
   "execution_count": 65,
   "metadata": {},
   "outputs": [
    {
     "data": {
      "text/html": [
       "<svg id=\"Sab8845b90df84db3a6231830adac6356\" width=\"950\" height=\"800\"></svg>\n",
       "<script>\n",
       " require.config({\n",
       "   paths: {\n",
       "     d3: 'https://d3js.org/d3.v4.min'\n",
       "   }\n",
       " });\n",
       " require(['d3'], function(d3){\n",
       "\n",
       "   var graph = {\"nodes\": [{\"id\": \"Conc_EdgeRelationTemplateSpn_0_1_21\", \"type\": 1, \"tooltip\": \"Conc_EdgeRelationTemplateSpn_0_1_21\", \"name\": \"Conc_EdgeRelationTemplateSpn_0_1_21\"}, {\"id\": \"View_EdgeRelationTemplateSpn_0_1_21_1\", \"type\": 0, \"tooltip\": \"View_EdgeRelationTemplateSpn_0_1_21\", \"name\": \"View_EdgeRelationTemplateSpn_0_1_21\"}, {\"id\": \"Products1/Product5_9\", \"type\": 2, \"tooltip\": \"Products1/Product5_9\", \"name\": \"Products1/Product5_9\"}, {\"id\": \"Products1/Product4_9\", \"type\": 2, \"tooltip\": \"Products1/Product4_9\", \"name\": \"Products1/Product4_9\"}, {\"id\": \"Products1/Product3_9\", \"type\": 2, \"tooltip\": \"Products1/Product3_9\", \"name\": \"Products1/Product3_9\"}, {\"id\": \"Products1/Product2_10\", \"type\": 2, \"tooltip\": \"Products1/Product2_10\", \"name\": \"Products1/Product2_10\"}, {\"id\": \"Products1/Product1_10\", \"type\": 2, \"tooltip\": \"Products1/Product1_10\", \"name\": \"Products1/Product1_10\"}, {\"id\": \"Node_22\", \"type\": 4, \"tooltip\": \"Node_22\", \"name\": \"Node_22\"}, {\"id\": \"Weights/Node_Weights_9_2\", \"type\": 3, \"tooltip\": \"Weights/Node_Weights_9\", \"name\": \"Weights/Node_Weights_9\"}], \"links\": [{\"target\": \"Conc_EdgeRelationTemplateSpn_0_1_21\", \"value\": 5, \"source\": \"View_EdgeRelationTemplateSpn_0_1_21_1\"}, {\"target\": \"Products1/Product5_9\", \"value\": 1, \"source\": \"Conc_EdgeRelationTemplateSpn_0_1_21\"}, {\"target\": \"Products1/Product4_9\", \"value\": 1, \"source\": \"Conc_EdgeRelationTemplateSpn_0_1_21\"}, {\"target\": \"Products1/Product3_9\", \"value\": 1, \"source\": \"Conc_EdgeRelationTemplateSpn_0_1_21\"}, {\"target\": \"Products1/Product2_10\", \"value\": 1, \"source\": \"Conc_EdgeRelationTemplateSpn_0_1_21\"}, {\"target\": \"Products1/Product1_10\", \"value\": 1, \"source\": \"Conc_EdgeRelationTemplateSpn_0_1_21\"}, {\"target\": \"Node_22\", \"value\": 5, \"source\": \"Weights/Node_Weights_9_2\"}, {\"target\": \"Node_22\", \"value\": 1, \"source\": \"Products1/Product1_10\"}, {\"target\": \"Node_22\", \"value\": 1, \"source\": \"Products1/Product2_10\"}, {\"target\": \"Node_22\", \"value\": 1, \"source\": \"Products1/Product3_9\"}, {\"target\": \"Node_22\", \"value\": 1, \"source\": \"Products1/Product4_9\"}, {\"target\": \"Node_22\", \"value\": 1, \"source\": \"Products1/Product5_9\"}]};\n",
       "\n",
       "   var color = d3.scaleOrdinal(d3.schemeCategory10);\n",
       "\n",
       "   var zoom = d3.zoom()\n",
       "                .scaleExtent([0.1, 10])\n",
       "                .on(\"zoom\", zoomed);\n",
       "\n",
       "   var svg = d3.select(\"#Sab8845b90df84db3a6231830adac6356\").\n",
       "                call(zoom);\n",
       "\n",
       "   var width = svg.attr(\"width\");\n",
       "   var height = svg.attr(\"height\");\n",
       "\n",
       "   var simulation = d3.forceSimulation(graph.nodes)\n",
       "                      .on(\"tick\", ticked)\n",
       "                      .force(\"link\", d3.forceLink(graph.links)\n",
       "                                       .distance(80)\n",
       "                                       .id(function(d) { return d.id; }))\n",
       "                      .force(\"charge\", d3.forceManyBody().\n",
       "                                          strength(-1000))\n",
       "                      .force(\"center\", d3.forceCenter(width / 2, height / 2));\n",
       "\n",
       "   /* Contents */\n",
       "   var container = svg.append(\"g\").\n",
       "                       attr(\"class\", \"container\");\n",
       "\n",
       "   var link = container.append(\"g\")\n",
       "                       .selectAll(\"link\")\n",
       "                       .data(graph.links)\n",
       "                       .enter().append(\"line\")\n",
       "                       .attr(\"stroke\", \"#444\")\n",
       "                       .attr(\"stroke-opacity\", \"0.6\")\n",
       "                       .attr(\"stroke-width\",\n",
       "                             function(d) {\n",
       "                               return d.value;\n",
       "                               /*return Math.sqrt(d.value);*/\n",
       "                             });\n",
       "\n",
       "   var link_value = container.append(\"g\")\n",
       "                             .selectAll(\"linkvalue\")\n",
       "                             .data(graph.links)\n",
       "                             .enter().append(\"text\")\n",
       "                             .attr(\"alignment-baseline\", \"middle\")\n",
       "                             .style(\"text-anchor\", \"middle\")\n",
       "                             .text(function(d) { return d.value; });\n",
       "\n",
       "   var node = container.append(\"g\")\n",
       "                       .selectAll(\"node\")\n",
       "                       .data(graph.nodes)\n",
       "                       .enter().append(\"g\")\n",
       "                       .call(d3.drag()\n",
       "                               .on(\"start\", dragstarted)\n",
       "                               .on(\"drag\", dragged)\n",
       "                               .on(\"end\", dragended));\n",
       "\n",
       "   /* Node appearance */\n",
       "   node.append(\"rect\")\n",
       "       .attr(\"height\", 0)\n",
       "       .attr(\"width\", 0)\n",
       "       .attr(\"fill\", function(d) { return color(d.type); })\n",
       "       .attr(\"stroke\", \"#000\")\n",
       "       .attr(\"stroke-width\", \"1px\");\n",
       "\n",
       "   node.append(\"text\")\n",
       "       .attr(\"alignment-baseline\", \"middle\")\n",
       "       .style(\"text-anchor\", \"middle\")\n",
       "       .text(function(d) { return d.name; });\n",
       "\n",
       "   /* Adjust rect width to text */\n",
       "   var margin=10;\n",
       "   node.selectAll('rect')\n",
       "       .attr(\"x\", function(d) {return d3.select(this).attr(\"x\") - (this.parentNode.getBBox().width + margin)/2.0;})\n",
       "       .attr(\"y\", function(d) {return d3.select(this).attr(\"y\") - (this.parentNode.getBBox().height + margin)/2.0;})\n",
       "       .attr(\"width\", function(d) {return this.parentNode.getBBox().width + margin;})\n",
       "       .attr(\"height\", function(d) {return this.parentNode.getBBox().height + margin;});\n",
       "\n",
       "   /* Tooltips */\n",
       "   node.append(\"title\")\n",
       "       .text(function(d) { return d.tooltip; });\n",
       "\n",
       "   /* Functions */\n",
       "   function zoomed() {\n",
       "     container.attr(\"transform\", d3.event.transform);\n",
       "   }\n",
       "\n",
       "   function ticked() {\n",
       "     link\n",
       "       .attr(\"x1\", function(d) { return d.source.x; })\n",
       "       .attr(\"y1\", function(d) { return d.source.y; })\n",
       "       .attr(\"x2\", function(d) { return d.target.x; })\n",
       "       .attr(\"y2\", function(d) { return d.target.y; });\n",
       "\n",
       "     link_value\n",
       "       .attr(\"x\", function(d) { return (d.source.x+d.target.x)/2; })\n",
       "       .attr(\"y\", function(d) { return (d.source.y+d.target.y)/2; })\n",
       "\n",
       "     node.attr(\"transform\",\n",
       "               function(d) { return \"translate(\" + d.x + \",\" + d.y + \")\"; });\n",
       "   }\n",
       "\n",
       "   function dragstarted(d) {\n",
       "     if (!d3.event.active) simulation.alphaTarget(0.3).restart();\n",
       "     d.fx = d.x;\n",
       "     d.fy = d.y;\n",
       "   }\n",
       "\n",
       "   function dragged(d) {\n",
       "     d.fx = d3.event.x;\n",
       "     d.fy = d3.event.y;\n",
       "   }\n",
       "\n",
       "   function dragended(d) {\n",
       "     if (!d3.event.active) simulation.alphaTarget(0);\n",
       "     d.fx = null;\n",
       "     d.fy = null;\n",
       "   }\n",
       "\n",
       " });\n",
       "</script>\n"
      ],
      "text/plain": [
       "<IPython.core.display.HTML object>"
      ]
     },
     "metadata": {},
     "output_type": "display_data"
    }
   ],
   "source": [
    "spn.display_spn_graph(template_spn._root, skip_params=False)"
   ]
  },
  {
   "cell_type": "code",
   "execution_count": 66,
   "metadata": {},
   "outputs": [
    {
     "data": {
      "text/plain": [
       "True"
      ]
     },
     "execution_count": 66,
     "metadata": {},
     "output_type": "execute_result"
    }
   ],
   "source": [
    "template_spn._root.is_valid()"
   ]
  },
  {
   "cell_type": "code",
   "execution_count": 67,
   "metadata": {},
   "outputs": [
    {
     "data": {
      "text/plain": [
       "deepsm.graphspn.tbm.template.RelTemplate"
      ]
     },
     "execution_count": 67,
     "metadata": {},
     "output_type": "execute_result"
    }
   ],
   "source": [
    "template_spn.template"
   ]
  },
  {
   "cell_type": "code",
   "execution_count": 68,
   "metadata": {},
   "outputs": [
    {
     "name": "stdout",
     "output_type": "stream",
     "text": [
      "Node_22 (Sum)\n",
      "    Input(Products1/Product1_10, None) (Product)\n",
      "    Input(Products1/Product2_10, None) (Product)\n",
      "    Input(Products1/Product3_9, None) (Product)\n",
      "    Input(Products1/Product4_9, None) (Product)\n",
      "    Input(Products1/Product5_9, None) (Product)\n",
      "Products1/Product1_10 (Product)\n",
      "    Input(Conc_EdgeRelationTemplateSpn_0_1_21, [0]) (Concat)\n",
      "Products1/Product2_10 (Product)\n",
      "    Input(Conc_EdgeRelationTemplateSpn_0_1_21, [1]) (Concat)\n",
      "Products1/Product3_9 (Product)\n",
      "    Input(Conc_EdgeRelationTemplateSpn_0_1_21, [2]) (Concat)\n",
      "Products1/Product4_9 (Product)\n",
      "    Input(Conc_EdgeRelationTemplateSpn_0_1_21, [3]) (Concat)\n",
      "Products1/Product5_9 (Product)\n",
      "    Input(Conc_EdgeRelationTemplateSpn_0_1_21, [4]) (Concat)\n",
      "Conc_EdgeRelationTemplateSpn_0_1_21 (Concat)\n",
      "    Input(View_EdgeRelationTemplateSpn_0_1_21, None) (IVs)\n"
     ]
    }
   ],
   "source": [
    "SpnModel.print_structure(template_spn._root, sess)"
   ]
  },
  {
   "cell_type": "code",
   "execution_count": 69,
   "metadata": {},
   "outputs": [
    {
     "name": "stdout",
     "output_type": "stream",
     "text": [
      "Node_22 (Sum)\n",
      "[ 0.0035598   0.34087345  0.29326344  0.24100113  0.12130217] [(5,)]\n"
     ]
    }
   ],
   "source": [
    "SpnModel.print_weights(template_spn._root, sess)"
   ]
  },
  {
   "cell_type": "code",
   "execution_count": 70,
   "metadata": {},
   "outputs": [
    {
     "name": "stdout",
     "output_type": "stream",
     "text": [
      "()\n",
      "0\n",
      "Conc_EdgeRelationTemplateSpn_0_1_21\n",
      "View_EdgeRelationTemplateSpn_0_1_21\n"
     ]
    }
   ],
   "source": [
    "template_spn._conc_inputs.set_inputs()\n",
    "print(template_spn._conc_inputs.inputs)\n",
    "print(template_spn._num_nodes)\n",
    "print(template_spn._conc_inputs)\n",
    "print(template_spn._view_dist_input)"
   ]
  },
  {
   "cell_type": "code",
   "execution_count": 71,
   "metadata": {
    "scrolled": false
   },
   "outputs": [],
   "source": [
    "catg_inputs = spn.IVs(num_vars=6, num_vals=CategoryManager.NUM_CATEGORIES, name=\"Catg\")\n",
    "view_inputs = spn.IVs(num_vars=2, num_vals=5, name=\"View\")\n",
    "conc = spn.Concat(catg_inputs, view_inputs)\n",
    "copied_tspn_root = mod_compute_graph_up(template_spn._root,\n",
    "                                        TemplateSpn.dup_fun_up,\n",
    "                                        tmpl_num_vars=[0, 1],\n",
    "                                        tmpl_num_vals=[CategoryManager.NUM_CATEGORIES, 5],\n",
    "                                        graph_num_vars=[catg_inputs.num_vars, view_inputs.num_vars],\n",
    "                                        conc=conc,\n",
    "                                        labels=[[],[0]])"
   ]
  },
  {
   "cell_type": "code",
   "execution_count": 72,
   "metadata": {},
   "outputs": [
    {
     "name": "stdout",
     "output_type": "stream",
     "text": [
      "Sum (Sum)\n",
      "[ 0.0035598   0.34087345  0.29326344  0.24100113  0.12130217] [(5,)]\n"
     ]
    }
   ],
   "source": [
    "SpnModel.print_weights(copied_tspn_root, sess)"
   ]
  },
  {
   "cell_type": "code",
   "execution_count": 73,
   "metadata": {
    "scrolled": false
   },
   "outputs": [
    {
     "name": "stdout",
     "output_type": "stream",
     "text": [
      "Sum (Sum)\n",
      "    Input(Product_4, None) (Product)\n",
      "    Input(Product_3, None) (Product)\n",
      "    Input(Product_2, None) (Product)\n",
      "    Input(Product_1, None) (Product)\n",
      "    Input(Product, None) (Product)\n",
      "Product_4 (Product)\n",
      "    Input(Concat_1, [12]) (Concat)\n",
      "Product_3 (Product)\n",
      "    Input(Concat_1, [13]) (Concat)\n",
      "Product_2 (Product)\n",
      "    Input(Concat_1, [14]) (Concat)\n",
      "Product_1 (Product)\n",
      "    Input(Concat_1, [15]) (Concat)\n",
      "Product (Product)\n",
      "    Input(Concat_1, [16]) (Concat)\n",
      "Concat_1 (Concat)\n",
      "    Input(Catg_1, None) (IVs)\n",
      "    Input(View_1, None) (IVs)\n"
     ]
    }
   ],
   "source": [
    "SpnModel.print_structure(copied_tspn_root, sess)"
   ]
  },
  {
   "cell_type": "code",
   "execution_count": 74,
   "metadata": {
    "scrolled": true
   },
   "outputs": [
    {
     "data": {
      "text/plain": [
       "True"
      ]
     },
     "execution_count": 74,
     "metadata": {},
     "output_type": "execute_result"
    }
   ],
   "source": [
    "copied_tspn_root.is_valid()"
   ]
  },
  {
   "cell_type": "code",
   "execution_count": null,
   "metadata": {
    "collapsed": true
   },
   "outputs": [],
   "source": []
  },
  {
   "cell_type": "code",
   "execution_count": null,
   "metadata": {
    "collapsed": true
   },
   "outputs": [],
   "source": []
  }
 ],
 "metadata": {
  "kernelspec": {
   "display_name": "py3",
   "language": "python",
   "name": "py3"
  },
  "language_info": {
   "codemirror_mode": {
    "name": "ipython",
    "version": 3
   },
   "file_extension": ".py",
   "mimetype": "text/x-python",
   "name": "python",
   "nbconvert_exporter": "python",
   "pygments_lexer": "ipython3",
   "version": "3.5.2"
  }
 },
 "nbformat": 4,
 "nbformat_minor": 2
}
