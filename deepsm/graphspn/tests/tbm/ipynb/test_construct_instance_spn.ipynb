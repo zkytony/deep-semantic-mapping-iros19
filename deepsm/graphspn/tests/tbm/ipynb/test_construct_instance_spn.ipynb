{
 "cells": [
  {
   "cell_type": "code",
   "execution_count": 1,
   "metadata": {},
   "outputs": [
    {
     "name": "stderr",
     "output_type": "stream",
     "text": [
      "/home/zkytony/.local/lib/python3.5/site-packages/matplotlib/__init__.py:1357: UserWarning:  This call to matplotlib.use() has no effect\n",
      "because the backend has already been chosen;\n",
      "matplotlib.use() must be called *before* pylab, matplotlib.pyplot,\n",
      "or matplotlib.backends is imported for the first time.\n",
      "\n",
      "  warnings.warn(_use_error_msg)\n"
     ]
    }
   ],
   "source": [
    "import sys\n",
    "import tensorflow as tf\n",
    "import libspn as spn\n",
    "import numpy as np\n",
    "from numpy import float32\n",
    "import random\n",
    "\n",
    "from spn_topo.spn_model import SpnModel, mod_compute_graph_up\n",
    "from spn_topo.tbm.dataset import TopoMapDataset\n",
    "from spn_topo.tbm.template import EdgeTemplate, NodeTemplate, SingleEdgeTemplate, PairEdgeTemplate, SingletonTemplate, PairTemplate, ThreeNodeTemplate\n",
    "from spn_topo.tbm.spn_template import NodeTemplateSpn, InstanceSpn\n",
    "from spn_topo.util import CategoryManager\n",
    "from spn_topo.tests.tbm.test_instance_spn import InstanceSpnExperiment"
   ]
  },
  {
   "cell_type": "markdown",
   "metadata": {},
   "source": [
    "# Initialize template SPN structures"
   ]
  },
  {
   "cell_type": "code",
   "execution_count": 2,
   "metadata": {},
   "outputs": [
    {
     "name": "stdout",
     "output_type": "stream",
     "text": [
      "Generating SPN structure...\n",
      "Generating weight initialization Ops...\n",
      "Initializing learning Ops...\n",
      "Generating SPN structure...\n",
      "Generating weight initialization Ops...\n",
      "Initializing learning Ops...\n",
      "Generating SPN structure...\n",
      "Generating weight initialization Ops...\n",
      "Initializing learning Ops...\n",
      "True\n"
     ]
    }
   ],
   "source": [
    "three_node_spn = NodeTemplateSpn(ThreeNodeTemplate)\n",
    "pair_node_spn = NodeTemplateSpn(PairTemplate)\n",
    "single_node_spn = NodeTemplateSpn(SingletonTemplate)\n",
    "print(three_node_spn.root.is_valid())"
   ]
  },
  {
   "cell_type": "markdown",
   "metadata": {},
   "source": [
    "# Get a topo map instance"
   ]
  },
  {
   "cell_type": "code",
   "execution_count": 3,
   "metadata": {
    "collapsed": true
   },
   "outputs": [],
   "source": [
    "dataset = TopoMapDataset(\"/home/zkytony/Documents/thesis/experiments/spn_topo/experiments/data/topo_map\")\n",
    "dataset.load(\"Stockholm\", skip_unknown=CategoryManager.SKIP_UNKNOWN)\n",
    "topo_map = dataset.get_topo_maps(db_name=\"Stockholm\", seq_id='floor4_cloudy_c')['floor4_cloudy_c']"
   ]
  },
  {
   "cell_type": "markdown",
   "metadata": {},
   "source": [
    "# InstanceSpn"
   ]
  },
  {
   "cell_type": "code",
   "execution_count": 4,
   "metadata": {
    "collapsed": true
   },
   "outputs": [],
   "source": [
    "spns = [three_node_spn, pair_node_spn, single_node_spn]\n",
    "topo_map_db_root = \"/home/zkytony/Documents/thesis/experiments/spn_topo/experiments/data/topo_map\"\n",
    "results_dir = \"/home/zkytony/Documents/thesis/experiments/spn_topo/experiments/results\"\n",
    "name = \"Quick_Tests\"\n",
    "exp = InstanceSpnExperiment(topo_map_db_root, *spns,\n",
    "                                root_dir=results_dir, name=name)"
   ]
  },
  {
   "cell_type": "code",
   "execution_count": 5,
   "metadata": {},
   "outputs": [
    {
     "name": "stderr",
     "output_type": "stream",
     "text": [
      "[INFO] [spn.JSONLoader:load] Loading SPN graph from file '/home/zkytony/Documents/thesis/experiments/spn_topo/experiments/results/Quick_Tests/models/ThreeNodeTemplate_0.spn'\n",
      "[INFO] [spn.JSONLoader:load] Loading SPN graph from file '/home/zkytony/Documents/thesis/experiments/spn_topo/experiments/results/Quick_Tests/models/PairTemplate_0.spn'\n",
      "[INFO] [spn.JSONLoader:load] Loading SPN graph from file '/home/zkytony/Documents/thesis/experiments/spn_topo/experiments/results/Quick_Tests/models/SingletonTemplate_0.spn'\n"
     ]
    },
    {
     "name": "stdout",
     "output_type": "stream",
     "text": [
      "Will duplicate ThreeNodeTemplate 31 times.\n",
      "Duplicating... 1\n",
      "Duplicating... 2\n",
      "Duplicating... 3\n",
      "Duplicating... 4\n",
      "Duplicating... 5\n",
      "Duplicating... 6\n",
      "Duplicating... 7\n",
      "Duplicating... 8\n",
      "Duplicating... 9\n",
      "Duplicating... 10\n",
      "Duplicating... 11\n",
      "Duplicating... 12\n",
      "Duplicating... 13\n",
      "Duplicating... 14\n",
      "Duplicating... 15\n",
      "Duplicating... 16\n",
      "Duplicating... 17\n",
      "Duplicating... 18\n",
      "Duplicating... 19\n",
      "Duplicating... 20\n",
      "Duplicating... 21\n",
      "Duplicating... 22\n",
      "Duplicating... 23\n",
      "Duplicating... 24\n",
      "Duplicating... 25\n",
      "Duplicating... 26\n",
      "Duplicating... 27\n",
      "Duplicating... 28\n",
      "Duplicating... 29\n",
      "Duplicating... 30\n",
      "Duplicating... 31\n",
      "Will duplicate PairTemplate 6 times.\n",
      "Duplicating... 1\n",
      "Duplicating... 2\n",
      "Duplicating... 3\n",
      "Duplicating... 4\n",
      "Duplicating... 5\n",
      "Duplicating... 6\n",
      "Will duplicate SingletonTemplate 19 times.\n",
      "Duplicating... 1\n",
      "Duplicating... 2\n",
      "Duplicating... 3\n",
      "Duplicating... 4\n",
      "Duplicating... 5\n",
      "Duplicating... 6\n",
      "Duplicating... 7\n",
      "Duplicating... 8\n",
      "Duplicating... 9\n",
      "Duplicating... 10\n",
      "Duplicating... 11\n",
      "Duplicating... 12\n",
      "Duplicating... 13\n",
      "Duplicating... 14\n",
      "Duplicating... 15\n",
      "Duplicating... 16\n",
      "Duplicating... 17\n",
      "Duplicating... 18\n",
      "Duplicating... 19\n"
     ]
    }
   ],
   "source": [
    "spns_tmpls = [(spns[i], spns[i].template) for i in range(len(spns))]\n",
    "spn_paths = {model.template.__name__:exp.model_save_path(model) for model in spns}\n",
    "with tf.Session() as sess:\n",
    "    ispn = InstanceSpn(topo_map, sess, *spns_tmpls, num_partitions=2, spn_paths=spn_paths, seq_id='floor4_cloudy_c')"
   ]
  },
  {
   "cell_type": "code",
   "execution_count": 6,
   "metadata": {},
   "outputs": [
    {
     "name": "stdout",
     "output_type": "stream",
     "text": [
      "HI\n"
     ]
    }
   ],
   "source": [
    "print(\"HI\")"
   ]
  },
  {
   "cell_type": "code",
   "execution_count": null,
   "metadata": {
    "collapsed": true
   },
   "outputs": [],
   "source": []
  }
 ],
 "metadata": {
  "kernelspec": {
   "display_name": "Python 3",
   "language": "python",
   "name": "python3"
  },
  "language_info": {
   "codemirror_mode": {
    "name": "ipython",
    "version": 3
   },
   "file_extension": ".py",
   "mimetype": "text/x-python",
   "name": "python",
   "nbconvert_exporter": "python",
   "pygments_lexer": "ipython3",
   "version": "3.5.2"
  }
 },
 "nbformat": 4,
 "nbformat_minor": 2
}
