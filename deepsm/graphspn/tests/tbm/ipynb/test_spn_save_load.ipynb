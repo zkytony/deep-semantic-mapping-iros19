{
 "cells": [
  {
   "cell_type": "code",
   "execution_count": 35,
   "metadata": {
    "collapsed": true
   },
   "outputs": [],
   "source": [
    "# Tests SpnMode.copyweights method\n",
    "\n",
    "import os\n",
    "import sys\n",
    "import tensorflow as tf\n",
    "\n",
    "import numpy as np\n",
    "import libspn as spn\n",
    "\n",
    "from spn_topo.spn_model import SpnModel\n",
    "from spn_topo.tbm.spn_template import TemplateSpn, NodeTemplateSpn, EdgeTemplateSpn, InstanceSpn\n",
    "from spn_topo.tbm.template import EdgeTemplate, NodeTemplate, SingleEdgeTemplate, PairEdgeTemplate, SingletonTemplate, PairTemplate, ThreeNodeTemplate"
   ]
  },
  {
   "cell_type": "code",
   "execution_count": 37,
   "metadata": {
    "scrolled": false
   },
   "outputs": [
    {
     "name": "stderr",
     "output_type": "stream",
     "text": [
      "[INFO] [spn.JSONLoader:load] Loading SPN graph from file 'three_node_spn.spn'\n"
     ]
    },
    {
     "name": "stdout",
     "output_type": "stream",
     "text": [
      "...ThreeNode...\n"
     ]
    }
   ],
   "source": [
    "print(\"...ThreeNode...\")\n",
    "sess = tf.Session()\n",
    "\n",
    "path = \"three_node_spn.spn\"\n",
    "\n",
    "loader = spn.JSONLoader(path)\n",
    "root = loader.load(load_param_vals=True, sess=sess)\n",
    "\n",
    "sample = np.array([3, 1, 3], dtype=int)\n",
    "# spn1_1 = NodeTemplateSpn(ThreeNodeTemplate, seed=seed)\n",
    "# spn1_1.load(path, sess)\n",
    "\n",
    "# # seed = 100\n",
    "\n",
    "# spn1 = NodeTemplateSpn(ThreeNodeTemplate)\n",
    "# sess.run(spn1._initialize_weights)\n",
    "# val1 = spn1.evaluate(sess, sample)[0]\n",
    "# print(val1)"
   ]
  },
  {
   "cell_type": "code",
   "execution_count": 38,
   "metadata": {},
   "outputs": [
    {
     "data": {
      "text/plain": [
       "Node_6_4"
      ]
     },
     "execution_count": 38,
     "metadata": {},
     "output_type": "execute_result"
    }
   ],
   "source": [
    "root"
   ]
  },
  {
   "cell_type": "code",
   "execution_count": 40,
   "metadata": {
    "collapsed": true
   },
   "outputs": [],
   "source": [
    "conc = loader.find_node('Conc')"
   ]
  },
  {
   "cell_type": "code",
   "execution_count": 41,
   "metadata": {},
   "outputs": [],
   "source": [
    "conc"
   ]
  },
  {
   "cell_type": "code",
   "execution_count": null,
   "metadata": {
    "collapsed": true
   },
   "outputs": [],
   "source": []
  }
 ],
 "metadata": {
  "kernelspec": {
   "display_name": "Python 3",
   "language": "python",
   "name": "python3"
  },
  "language_info": {
   "codemirror_mode": {
    "name": "ipython",
    "version": 3
   },
   "file_extension": ".py",
   "mimetype": "text/x-python",
   "name": "python",
   "nbconvert_exporter": "python",
   "pygments_lexer": "ipython3",
   "version": "3.5.2"
  }
 },
 "nbformat": 4,
 "nbformat_minor": 2
}
