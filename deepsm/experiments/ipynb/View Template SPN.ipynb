{
 "cells": [
  {
   "cell_type": "code",
   "execution_count": 1,
   "metadata": {
    "collapsed": true
   },
   "outputs": [],
   "source": [
    "%load_ext autoreload\n",
    "%autoreload 2"
   ]
  },
  {
   "cell_type": "code",
   "execution_count": 33,
   "metadata": {
    "collapsed": true
   },
   "outputs": [],
   "source": [
    "import os\n",
    "import tensorflow as tf\n",
    "\n",
    "import numpy as np\n",
    "import libspn as spn\n",
    "\n",
    "from deepsm.graphspn.spn_model import SpnModel, mod_compute_graph_up\n",
    "from deepsm.graphspn.tbm.spn_template import TemplateSpn, NodeTemplateSpn, EdgeRelationTemplateSpn\n",
    "from deepsm.graphspn.tbm.spn_instance import NodeTemplateInstanceSpn\n",
    "from deepsm.graphspn.tbm.template import ThreeRelTemplate, SingleRelTemplate\n",
    "from deepsm.graphspn.tbm.graph_builder import build_graph\n",
    "from deepsm.util import CategoryManager"
   ]
  },
  {
   "cell_type": "markdown",
   "metadata": {},
   "source": [
    "# Load a trained view template SPN"
   ]
  },
  {
   "cell_type": "code",
   "execution_count": 87,
   "metadata": {
    "collapsed": true
   },
   "outputs": [],
   "source": [
    "spn_path = \"/home/zkytony/Documents/thesis/experiments/deep-semantic-mapping/deepsm/experiments/results/graphspn/EdgeRelationTemplateExperiment/models/ThreeRelTemplate_2_Stockholm456.spn\""
   ]
  },
  {
   "cell_type": "code",
   "execution_count": 88,
   "metadata": {
    "collapsed": true
   },
   "outputs": [],
   "source": [
    "sess = tf.Session()"
   ]
  },
  {
   "cell_type": "code",
   "execution_count": 89,
   "metadata": {},
   "outputs": [
    {
     "name": "stderr",
     "output_type": "stream",
     "text": [
      "[INFO] [spn.JSONLoader:load] Loading SPN graph from file '/home/zkytony/Documents/thesis/experiments/deep-semantic-mapping/deepsm/experiments/results/graphspn/EdgeRelationTemplateExperiment/models/ThreeRelTemplate_2_Stockholm456.spn'\n"
     ]
    },
    {
     "name": "stdout",
     "output_type": "stream",
     "text": [
      "Generating SPN structure...\n",
      "[Using seed 100]\n"
     ]
    }
   ],
   "source": [
    "template_spn = EdgeRelationTemplateSpn(ThreeRelTemplate, seed=100)\n",
    "template_spn.load(spn_path, sess)"
   ]
  },
  {
   "cell_type": "code",
   "execution_count": 90,
   "metadata": {},
   "outputs": [
    {
     "data": {
      "text/html": [
       "<svg id=\"S76a47ee795814d889dbf0f7ed6488216\" width=\"950\" height=\"800\"></svg>\n",
       "<script>\n",
       " require.config({\n",
       "   paths: {\n",
       "     d3: 'https://d3js.org/d3.v4.min'\n",
       "   }\n",
       " });\n",
       " require(['d3'], function(d3){\n",
       "\n",
       "   var graph = {\"links\": [{\"source\": \"Catg_EdgeRelationTemplateSpn_3_1_5_1\", \"target\": \"Conc_EdgeRelationTemplateSpn_3_1_5\", \"value\": 6}, {\"source\": \"View_EdgeRelationTemplateSpn_3_1_5_2\", \"target\": \"Conc_EdgeRelationTemplateSpn_3_1_5\", \"value\": 5}, {\"source\": \"Conc_EdgeRelationTemplateSpn_3_1_5\", \"target\": \"Products3/Product4_2\", \"value\": 1}, {\"source\": \"Conc_EdgeRelationTemplateSpn_3_1_5\", \"target\": \"Products3/Product4_2\", \"value\": 1}, {\"source\": \"Conc_EdgeRelationTemplateSpn_3_1_5\", \"target\": \"Products3/Product3_2\", \"value\": 1}, {\"source\": \"Conc_EdgeRelationTemplateSpn_3_1_5\", \"target\": \"Products3/Product3_2\", \"value\": 1}, {\"source\": \"Conc_EdgeRelationTemplateSpn_3_1_5\", \"target\": \"Products3/Product2_2\", \"value\": 1}, {\"source\": \"Conc_EdgeRelationTemplateSpn_3_1_5\", \"target\": \"Products3/Product2_2\", \"value\": 1}, {\"source\": \"Conc_EdgeRelationTemplateSpn_3_1_5\", \"target\": \"Products3/Product1_2\", \"value\": 1}, {\"source\": \"Conc_EdgeRelationTemplateSpn_3_1_5\", \"target\": \"Products3/Product1_2\", \"value\": 1}, {\"source\": \"Weights/Sums1.2/Sum2_Weights_1_3\", \"target\": \"Sums1.2/Sum2_2\", \"value\": 4}, {\"source\": \"Products3/Product1_2\", \"target\": \"Sums1.2/Sum2_2\", \"value\": 1}, {\"source\": \"Products3/Product2_2\", \"target\": \"Sums1.2/Sum2_2\", \"value\": 1}, {\"source\": \"Products3/Product3_2\", \"target\": \"Sums1.2/Sum2_2\", \"value\": 1}, {\"source\": \"Products3/Product4_2\", \"target\": \"Sums1.2/Sum2_2\", \"value\": 1}, {\"source\": \"Conc_EdgeRelationTemplateSpn_3_1_5\", \"target\": \"Products2/Product10_2\", \"value\": 1}, {\"source\": \"Conc_EdgeRelationTemplateSpn_3_1_5\", \"target\": \"Products2/Product10_2\", \"value\": 1}, {\"source\": \"Conc_EdgeRelationTemplateSpn_3_1_5\", \"target\": \"Products2/Product9_2\", \"value\": 1}, {\"source\": \"Conc_EdgeRelationTemplateSpn_3_1_5\", \"target\": \"Products2/Product9_2\", \"value\": 1}, {\"source\": \"Conc_EdgeRelationTemplateSpn_3_1_5\", \"target\": \"Products2/Product8_2\", \"value\": 1}, {\"source\": \"Conc_EdgeRelationTemplateSpn_3_1_5\", \"target\": \"Products2/Product8_2\", \"value\": 1}, {\"source\": \"Conc_EdgeRelationTemplateSpn_3_1_5\", \"target\": \"Products2/Product7_2\", \"value\": 1}, {\"source\": \"Conc_EdgeRelationTemplateSpn_3_1_5\", \"target\": \"Products2/Product7_2\", \"value\": 1}, {\"source\": \"Conc_EdgeRelationTemplateSpn_3_1_5\", \"target\": \"Products2/Product6_2\", \"value\": 1}, {\"source\": \"Conc_EdgeRelationTemplateSpn_3_1_5\", \"target\": \"Products2/Product6_2\", \"value\": 1}, {\"source\": \"Conc_EdgeRelationTemplateSpn_3_1_5\", \"target\": \"Products2/Product5_2\", \"value\": 1}, {\"source\": \"Conc_EdgeRelationTemplateSpn_3_1_5\", \"target\": \"Products2/Product5_2\", \"value\": 1}, {\"source\": \"Conc_EdgeRelationTemplateSpn_3_1_5\", \"target\": \"Products2/Product4_2\", \"value\": 1}, {\"source\": \"Conc_EdgeRelationTemplateSpn_3_1_5\", \"target\": \"Products2/Product4_2\", \"value\": 1}, {\"source\": \"Conc_EdgeRelationTemplateSpn_3_1_5\", \"target\": \"Products2/Product3_2\", \"value\": 1}, {\"source\": \"Conc_EdgeRelationTemplateSpn_3_1_5\", \"target\": \"Products2/Product3_2\", \"value\": 1}, {\"source\": \"Conc_EdgeRelationTemplateSpn_3_1_5\", \"target\": \"Products2/Product2_2\", \"value\": 1}, {\"source\": \"Conc_EdgeRelationTemplateSpn_3_1_5\", \"target\": \"Products2/Product2_2\", \"value\": 1}, {\"source\": \"Conc_EdgeRelationTemplateSpn_3_1_5\", \"target\": \"Products2/Product1_2\", \"value\": 1}, {\"source\": \"Conc_EdgeRelationTemplateSpn_3_1_5\", \"target\": \"Products2/Product1_2\", \"value\": 1}, {\"source\": \"Weights/Sums1.1/Sum2_Weights_1_4\", \"target\": \"Sums1.1/Sum2_2\", \"value\": 10}, {\"source\": \"Products2/Product1_2\", \"target\": \"Sums1.1/Sum2_2\", \"value\": 1}, {\"source\": \"Products2/Product2_2\", \"target\": \"Sums1.1/Sum2_2\", \"value\": 1}, {\"source\": \"Products2/Product3_2\", \"target\": \"Sums1.1/Sum2_2\", \"value\": 1}, {\"source\": \"Products2/Product4_2\", \"target\": \"Sums1.1/Sum2_2\", \"value\": 1}, {\"source\": \"Products2/Product5_2\", \"target\": \"Sums1.1/Sum2_2\", \"value\": 1}, {\"source\": \"Products2/Product6_2\", \"target\": \"Sums1.1/Sum2_2\", \"value\": 1}, {\"source\": \"Products2/Product7_2\", \"target\": \"Sums1.1/Sum2_2\", \"value\": 1}, {\"source\": \"Products2/Product8_2\", \"target\": \"Sums1.1/Sum2_2\", \"value\": 1}, {\"source\": \"Products2/Product9_2\", \"target\": \"Sums1.1/Sum2_2\", \"value\": 1}, {\"source\": \"Products2/Product10_2\", \"target\": \"Sums1.1/Sum2_2\", \"value\": 1}, {\"source\": \"Sums1.1/Sum2_2\", \"target\": \"Products1/Product4_4\", \"value\": 1}, {\"source\": \"Sums1.2/Sum2_2\", \"target\": \"Products1/Product4_4\", \"value\": 1}, {\"source\": \"Weights/Sums1.1/Sum1_Weights_1_5\", \"target\": \"Sums1.1/Sum1_2\", \"value\": 10}, {\"source\": \"Products2/Product1_2\", \"target\": \"Sums1.1/Sum1_2\", \"value\": 1}, {\"source\": \"Products2/Product2_2\", \"target\": \"Sums1.1/Sum1_2\", \"value\": 1}, {\"source\": \"Products2/Product3_2\", \"target\": \"Sums1.1/Sum1_2\", \"value\": 1}, {\"source\": \"Products2/Product4_2\", \"target\": \"Sums1.1/Sum1_2\", \"value\": 1}, {\"source\": \"Products2/Product5_2\", \"target\": \"Sums1.1/Sum1_2\", \"value\": 1}, {\"source\": \"Products2/Product6_2\", \"target\": \"Sums1.1/Sum1_2\", \"value\": 1}, {\"source\": \"Products2/Product7_2\", \"target\": \"Sums1.1/Sum1_2\", \"value\": 1}, {\"source\": \"Products2/Product8_2\", \"target\": \"Sums1.1/Sum1_2\", \"value\": 1}, {\"source\": \"Products2/Product9_2\", \"target\": \"Sums1.1/Sum1_2\", \"value\": 1}, {\"source\": \"Products2/Product10_2\", \"target\": \"Sums1.1/Sum1_2\", \"value\": 1}, {\"source\": \"Sums1.1/Sum1_2\", \"target\": \"Products1/Product3_4\", \"value\": 1}, {\"source\": \"Sums1.2/Sum2_2\", \"target\": \"Products1/Product3_4\", \"value\": 1}, {\"source\": \"Weights/Sums1.2/Sum1_Weights_1_6\", \"target\": \"Sums1.2/Sum1_2\", \"value\": 4}, {\"source\": \"Products3/Product1_2\", \"target\": \"Sums1.2/Sum1_2\", \"value\": 1}, {\"source\": \"Products3/Product2_2\", \"target\": \"Sums1.2/Sum1_2\", \"value\": 1}, {\"source\": \"Products3/Product3_2\", \"target\": \"Sums1.2/Sum1_2\", \"value\": 1}, {\"source\": \"Products3/Product4_2\", \"target\": \"Sums1.2/Sum1_2\", \"value\": 1}, {\"source\": \"Sums1.1/Sum2_2\", \"target\": \"Products1/Product2_4\", \"value\": 1}, {\"source\": \"Sums1.2/Sum1_2\", \"target\": \"Products1/Product2_4\", \"value\": 1}, {\"source\": \"Sums1.1/Sum1_2\", \"target\": \"Products1/Product1_4\", \"value\": 1}, {\"source\": \"Sums1.2/Sum1_2\", \"target\": \"Products1/Product1_4\", \"value\": 1}, {\"source\": \"Weights/Node_Weights_3_7\", \"target\": \"Node_8\", \"value\": 4}, {\"source\": \"Products1/Product1_4\", \"target\": \"Node_8\", \"value\": 1}, {\"source\": \"Products1/Product2_4\", \"target\": \"Node_8\", \"value\": 1}, {\"source\": \"Products1/Product3_4\", \"target\": \"Node_8\", \"value\": 1}, {\"source\": \"Products1/Product4_4\", \"target\": \"Node_8\", \"value\": 1}], \"nodes\": [{\"id\": \"Conc_EdgeRelationTemplateSpn_3_1_5\", \"name\": \"Conc_EdgeRelationTemplateSpn_3_1_5\", \"tooltip\": \"Conc_EdgeRelationTemplateSpn_3_1_5\", \"type\": 1}, {\"id\": \"Catg_EdgeRelationTemplateSpn_3_1_5_1\", \"name\": \"Catg_EdgeRelationTemplateSpn_3_1_5\", \"tooltip\": \"Catg_EdgeRelationTemplateSpn_3_1_5\", \"type\": 0}, {\"id\": \"View_EdgeRelationTemplateSpn_3_1_5_2\", \"name\": \"View_EdgeRelationTemplateSpn_3_1_5\", \"tooltip\": \"View_EdgeRelationTemplateSpn_3_1_5\", \"type\": 0}, {\"id\": \"Products3/Product4_2\", \"name\": \"Products3/Product4_2\", \"tooltip\": \"Products3/Product4_2\", \"type\": 2}, {\"id\": \"Products3/Product3_2\", \"name\": \"Products3/Product3_2\", \"tooltip\": \"Products3/Product3_2\", \"type\": 2}, {\"id\": \"Products3/Product2_2\", \"name\": \"Products3/Product2_2\", \"tooltip\": \"Products3/Product2_2\", \"type\": 2}, {\"id\": \"Products3/Product1_2\", \"name\": \"Products3/Product1_2\", \"tooltip\": \"Products3/Product1_2\", \"type\": 2}, {\"id\": \"Sums1.2/Sum2_2\", \"name\": \"Sums1.2/Sum2_2\", \"tooltip\": \"Sums1.2/Sum2_2\", \"type\": 4}, {\"id\": \"Weights/Sums1.2/Sum2_Weights_1_3\", \"name\": \"Weights/Sums1.2/Sum2_Weights_1\", \"tooltip\": \"Weights/Sums1.2/Sum2_Weights_1\", \"type\": 3}, {\"id\": \"Products2/Product10_2\", \"name\": \"Products2/Product10_2\", \"tooltip\": \"Products2/Product10_2\", \"type\": 2}, {\"id\": \"Products2/Product9_2\", \"name\": \"Products2/Product9_2\", \"tooltip\": \"Products2/Product9_2\", \"type\": 2}, {\"id\": \"Products2/Product8_2\", \"name\": \"Products2/Product8_2\", \"tooltip\": \"Products2/Product8_2\", \"type\": 2}, {\"id\": \"Products2/Product7_2\", \"name\": \"Products2/Product7_2\", \"tooltip\": \"Products2/Product7_2\", \"type\": 2}, {\"id\": \"Products2/Product6_2\", \"name\": \"Products2/Product6_2\", \"tooltip\": \"Products2/Product6_2\", \"type\": 2}, {\"id\": \"Products2/Product5_2\", \"name\": \"Products2/Product5_2\", \"tooltip\": \"Products2/Product5_2\", \"type\": 2}, {\"id\": \"Products2/Product4_2\", \"name\": \"Products2/Product4_2\", \"tooltip\": \"Products2/Product4_2\", \"type\": 2}, {\"id\": \"Products2/Product3_2\", \"name\": \"Products2/Product3_2\", \"tooltip\": \"Products2/Product3_2\", \"type\": 2}, {\"id\": \"Products2/Product2_2\", \"name\": \"Products2/Product2_2\", \"tooltip\": \"Products2/Product2_2\", \"type\": 2}, {\"id\": \"Products2/Product1_2\", \"name\": \"Products2/Product1_2\", \"tooltip\": \"Products2/Product1_2\", \"type\": 2}, {\"id\": \"Sums1.1/Sum2_2\", \"name\": \"Sums1.1/Sum2_2\", \"tooltip\": \"Sums1.1/Sum2_2\", \"type\": 4}, {\"id\": \"Weights/Sums1.1/Sum2_Weights_1_4\", \"name\": \"Weights/Sums1.1/Sum2_Weights_1\", \"tooltip\": \"Weights/Sums1.1/Sum2_Weights_1\", \"type\": 3}, {\"id\": \"Products1/Product4_4\", \"name\": \"Products1/Product4_4\", \"tooltip\": \"Products1/Product4_4\", \"type\": 2}, {\"id\": \"Sums1.1/Sum1_2\", \"name\": \"Sums1.1/Sum1_2\", \"tooltip\": \"Sums1.1/Sum1_2\", \"type\": 4}, {\"id\": \"Weights/Sums1.1/Sum1_Weights_1_5\", \"name\": \"Weights/Sums1.1/Sum1_Weights_1\", \"tooltip\": \"Weights/Sums1.1/Sum1_Weights_1\", \"type\": 3}, {\"id\": \"Products1/Product3_4\", \"name\": \"Products1/Product3_4\", \"tooltip\": \"Products1/Product3_4\", \"type\": 2}, {\"id\": \"Sums1.2/Sum1_2\", \"name\": \"Sums1.2/Sum1_2\", \"tooltip\": \"Sums1.2/Sum1_2\", \"type\": 4}, {\"id\": \"Weights/Sums1.2/Sum1_Weights_1_6\", \"name\": \"Weights/Sums1.2/Sum1_Weights_1\", \"tooltip\": \"Weights/Sums1.2/Sum1_Weights_1\", \"type\": 3}, {\"id\": \"Products1/Product2_4\", \"name\": \"Products1/Product2_4\", \"tooltip\": \"Products1/Product2_4\", \"type\": 2}, {\"id\": \"Products1/Product1_4\", \"name\": \"Products1/Product1_4\", \"tooltip\": \"Products1/Product1_4\", \"type\": 2}, {\"id\": \"Node_8\", \"name\": \"Node_8\", \"tooltip\": \"Node_8\", \"type\": 4}, {\"id\": \"Weights/Node_Weights_3_7\", \"name\": \"Weights/Node_Weights_3\", \"tooltip\": \"Weights/Node_Weights_3\", \"type\": 3}]};\n",
       "\n",
       "   var color = d3.scaleOrdinal(d3.schemeCategory10);\n",
       "\n",
       "   var zoom = d3.zoom()\n",
       "                .scaleExtent([0.1, 10])\n",
       "                .on(\"zoom\", zoomed);\n",
       "\n",
       "   var svg = d3.select(\"#S76a47ee795814d889dbf0f7ed6488216\").\n",
       "                call(zoom);\n",
       "\n",
       "   var width = svg.attr(\"width\");\n",
       "   var height = svg.attr(\"height\");\n",
       "\n",
       "   var simulation = d3.forceSimulation(graph.nodes)\n",
       "                      .on(\"tick\", ticked)\n",
       "                      .force(\"link\", d3.forceLink(graph.links)\n",
       "                                       .distance(80)\n",
       "                                       .id(function(d) { return d.id; }))\n",
       "                      .force(\"charge\", d3.forceManyBody().\n",
       "                                          strength(-1000))\n",
       "                      .force(\"center\", d3.forceCenter(width / 2, height / 2));\n",
       "\n",
       "   /* Contents */\n",
       "   var container = svg.append(\"g\").\n",
       "                       attr(\"class\", \"container\");\n",
       "\n",
       "   var link = container.append(\"g\")\n",
       "                       .selectAll(\"link\")\n",
       "                       .data(graph.links)\n",
       "                       .enter().append(\"line\")\n",
       "                       .attr(\"stroke\", \"#444\")\n",
       "                       .attr(\"stroke-opacity\", \"0.6\")\n",
       "                       .attr(\"stroke-width\",\n",
       "                             function(d) {\n",
       "                               return d.value;\n",
       "                               /*return Math.sqrt(d.value);*/\n",
       "                             });\n",
       "\n",
       "   var link_value = container.append(\"g\")\n",
       "                             .selectAll(\"linkvalue\")\n",
       "                             .data(graph.links)\n",
       "                             .enter().append(\"text\")\n",
       "                             .attr(\"alignment-baseline\", \"middle\")\n",
       "                             .style(\"text-anchor\", \"middle\")\n",
       "                             .text(function(d) { return d.value; });\n",
       "\n",
       "   var node = container.append(\"g\")\n",
       "                       .selectAll(\"node\")\n",
       "                       .data(graph.nodes)\n",
       "                       .enter().append(\"g\")\n",
       "                       .call(d3.drag()\n",
       "                               .on(\"start\", dragstarted)\n",
       "                               .on(\"drag\", dragged)\n",
       "                               .on(\"end\", dragended));\n",
       "\n",
       "   /* Node appearance */\n",
       "   node.append(\"rect\")\n",
       "       .attr(\"height\", 0)\n",
       "       .attr(\"width\", 0)\n",
       "       .attr(\"fill\", function(d) { return color(d.type); })\n",
       "       .attr(\"stroke\", \"#000\")\n",
       "       .attr(\"stroke-width\", \"1px\");\n",
       "\n",
       "   node.append(\"text\")\n",
       "       .attr(\"alignment-baseline\", \"middle\")\n",
       "       .style(\"text-anchor\", \"middle\")\n",
       "       .text(function(d) { return d.name; });\n",
       "\n",
       "   /* Adjust rect width to text */\n",
       "   var margin=10;\n",
       "   node.selectAll('rect')\n",
       "       .attr(\"x\", function(d) {return d3.select(this).attr(\"x\") - (this.parentNode.getBBox().width + margin)/2.0;})\n",
       "       .attr(\"y\", function(d) {return d3.select(this).attr(\"y\") - (this.parentNode.getBBox().height + margin)/2.0;})\n",
       "       .attr(\"width\", function(d) {return this.parentNode.getBBox().width + margin;})\n",
       "       .attr(\"height\", function(d) {return this.parentNode.getBBox().height + margin;});\n",
       "\n",
       "   /* Tooltips */\n",
       "   node.append(\"title\")\n",
       "       .text(function(d) { return d.tooltip; });\n",
       "\n",
       "   /* Functions */\n",
       "   function zoomed() {\n",
       "     container.attr(\"transform\", d3.event.transform);\n",
       "   }\n",
       "\n",
       "   function ticked() {\n",
       "     link\n",
       "       .attr(\"x1\", function(d) { return d.source.x; })\n",
       "       .attr(\"y1\", function(d) { return d.source.y; })\n",
       "       .attr(\"x2\", function(d) { return d.target.x; })\n",
       "       .attr(\"y2\", function(d) { return d.target.y; });\n",
       "\n",
       "     link_value\n",
       "       .attr(\"x\", function(d) { return (d.source.x+d.target.x)/2; })\n",
       "       .attr(\"y\", function(d) { return (d.source.y+d.target.y)/2; })\n",
       "\n",
       "     node.attr(\"transform\",\n",
       "               function(d) { return \"translate(\" + d.x + \",\" + d.y + \")\"; });\n",
       "   }\n",
       "\n",
       "   function dragstarted(d) {\n",
       "     if (!d3.event.active) simulation.alphaTarget(0.3).restart();\n",
       "     d.fx = d.x;\n",
       "     d.fy = d.y;\n",
       "   }\n",
       "\n",
       "   function dragged(d) {\n",
       "     d.fx = d3.event.x;\n",
       "     d.fy = d3.event.y;\n",
       "   }\n",
       "\n",
       "   function dragended(d) {\n",
       "     if (!d3.event.active) simulation.alphaTarget(0);\n",
       "     d.fx = null;\n",
       "     d.fy = null;\n",
       "   }\n",
       "\n",
       " });\n",
       "</script>\n"
      ],
      "text/plain": [
       "<IPython.core.display.HTML object>"
      ]
     },
     "metadata": {},
     "output_type": "display_data"
    }
   ],
   "source": [
    "spn.display_spn_graph(template_spn._root, skip_params=False)"
   ]
  },
  {
   "cell_type": "code",
   "execution_count": 91,
   "metadata": {},
   "outputs": [
    {
     "data": {
      "text/plain": [
       "True"
      ]
     },
     "execution_count": 91,
     "metadata": {},
     "output_type": "execute_result"
    }
   ],
   "source": [
    "template_spn._root.is_valid()"
   ]
  },
  {
   "cell_type": "code",
   "execution_count": 92,
   "metadata": {},
   "outputs": [
    {
     "data": {
      "text/plain": [
       "deepsm.graphspn.tbm.template.ThreeRelTemplate"
      ]
     },
     "execution_count": 92,
     "metadata": {},
     "output_type": "execute_result"
    }
   ],
   "source": [
    "template_spn.template"
   ]
  },
  {
   "cell_type": "code",
   "execution_count": 93,
   "metadata": {},
   "outputs": [
    {
     "name": "stdout",
     "output_type": "stream",
     "text": [
      "Node_8 (Sum)\n",
      "    Input(Products1/Product1_4, None) (Product)\n",
      "    Input(Products1/Product2_4, None) (Product)\n",
      "    Input(Products1/Product3_4, None) (Product)\n",
      "    Input(Products1/Product4_4, None) (Product)\n",
      "Products1/Product1_4 (Product)\n",
      "    Input(Sums1.1/Sum1_2, [0]) (Sum)\n",
      "    Input(Sums1.2/Sum1_2, [0]) (Sum)\n",
      "Products1/Product2_4 (Product)\n",
      "    Input(Sums1.1/Sum2_2, [0]) (Sum)\n",
      "    Input(Sums1.2/Sum1_2, [0]) (Sum)\n",
      "Products1/Product3_4 (Product)\n",
      "    Input(Sums1.1/Sum1_2, [0]) (Sum)\n",
      "    Input(Sums1.2/Sum2_2, [0]) (Sum)\n",
      "Products1/Product4_4 (Product)\n",
      "    Input(Sums1.1/Sum2_2, [0]) (Sum)\n",
      "    Input(Sums1.2/Sum2_2, [0]) (Sum)\n",
      "Sums1.1/Sum1_2 (Sum)\n",
      "    Input(Products2/Product1_2, None) (Product)\n",
      "    Input(Products2/Product2_2, None) (Product)\n",
      "    Input(Products2/Product3_2, None) (Product)\n",
      "    Input(Products2/Product4_2, None) (Product)\n",
      "    Input(Products2/Product5_2, None) (Product)\n",
      "    Input(Products2/Product6_2, None) (Product)\n",
      "    Input(Products2/Product7_2, None) (Product)\n",
      "    Input(Products2/Product8_2, None) (Product)\n",
      "    Input(Products2/Product9_2, None) (Product)\n",
      "    Input(Products2/Product10_2, None) (Product)\n",
      "Sums1.2/Sum1_2 (Sum)\n",
      "    Input(Products3/Product1_2, None) (Product)\n",
      "    Input(Products3/Product2_2, None) (Product)\n",
      "    Input(Products3/Product3_2, None) (Product)\n",
      "    Input(Products3/Product4_2, None) (Product)\n",
      "Sums1.1/Sum2_2 (Sum)\n",
      "    Input(Products2/Product1_2, None) (Product)\n",
      "    Input(Products2/Product2_2, None) (Product)\n",
      "    Input(Products2/Product3_2, None) (Product)\n",
      "    Input(Products2/Product4_2, None) (Product)\n",
      "    Input(Products2/Product5_2, None) (Product)\n",
      "    Input(Products2/Product6_2, None) (Product)\n",
      "    Input(Products2/Product7_2, None) (Product)\n",
      "    Input(Products2/Product8_2, None) (Product)\n",
      "    Input(Products2/Product9_2, None) (Product)\n",
      "    Input(Products2/Product10_2, None) (Product)\n",
      "Sums1.2/Sum2_2 (Sum)\n",
      "    Input(Products3/Product1_2, None) (Product)\n",
      "    Input(Products3/Product2_2, None) (Product)\n",
      "    Input(Products3/Product3_2, None) (Product)\n",
      "    Input(Products3/Product4_2, None) (Product)\n",
      "Products2/Product1_2 (Product)\n",
      "    Input(Conc_EdgeRelationTemplateSpn_3_1_5, [6]) (Concat)\n",
      "    Input(Conc_EdgeRelationTemplateSpn_3_1_5, [2]) (Concat)\n",
      "Products2/Product2_2 (Product)\n",
      "    Input(Conc_EdgeRelationTemplateSpn_3_1_5, [7]) (Concat)\n",
      "    Input(Conc_EdgeRelationTemplateSpn_3_1_5, [2]) (Concat)\n",
      "Products2/Product3_2 (Product)\n",
      "    Input(Conc_EdgeRelationTemplateSpn_3_1_5, [8]) (Concat)\n",
      "    Input(Conc_EdgeRelationTemplateSpn_3_1_5, [2]) (Concat)\n",
      "Products2/Product4_2 (Product)\n",
      "    Input(Conc_EdgeRelationTemplateSpn_3_1_5, [9]) (Concat)\n",
      "    Input(Conc_EdgeRelationTemplateSpn_3_1_5, [2]) (Concat)\n",
      "Products2/Product5_2 (Product)\n",
      "    Input(Conc_EdgeRelationTemplateSpn_3_1_5, [10]) (Concat)\n",
      "    Input(Conc_EdgeRelationTemplateSpn_3_1_5, [2]) (Concat)\n",
      "Products2/Product6_2 (Product)\n",
      "    Input(Conc_EdgeRelationTemplateSpn_3_1_5, [6]) (Concat)\n",
      "    Input(Conc_EdgeRelationTemplateSpn_3_1_5, [3]) (Concat)\n",
      "Products2/Product7_2 (Product)\n",
      "    Input(Conc_EdgeRelationTemplateSpn_3_1_5, [7]) (Concat)\n",
      "    Input(Conc_EdgeRelationTemplateSpn_3_1_5, [3]) (Concat)\n",
      "Products2/Product8_2 (Product)\n",
      "    Input(Conc_EdgeRelationTemplateSpn_3_1_5, [8]) (Concat)\n",
      "    Input(Conc_EdgeRelationTemplateSpn_3_1_5, [3]) (Concat)\n",
      "Products2/Product9_2 (Product)\n",
      "    Input(Conc_EdgeRelationTemplateSpn_3_1_5, [9]) (Concat)\n",
      "    Input(Conc_EdgeRelationTemplateSpn_3_1_5, [3]) (Concat)\n",
      "Products2/Product10_2 (Product)\n",
      "    Input(Conc_EdgeRelationTemplateSpn_3_1_5, [10]) (Concat)\n",
      "    Input(Conc_EdgeRelationTemplateSpn_3_1_5, [3]) (Concat)\n",
      "Products3/Product1_2 (Product)\n",
      "    Input(Conc_EdgeRelationTemplateSpn_3_1_5, [4]) (Concat)\n",
      "    Input(Conc_EdgeRelationTemplateSpn_3_1_5, [0]) (Concat)\n",
      "Products3/Product2_2 (Product)\n",
      "    Input(Conc_EdgeRelationTemplateSpn_3_1_5, [5]) (Concat)\n",
      "    Input(Conc_EdgeRelationTemplateSpn_3_1_5, [0]) (Concat)\n",
      "Products3/Product3_2 (Product)\n",
      "    Input(Conc_EdgeRelationTemplateSpn_3_1_5, [4]) (Concat)\n",
      "    Input(Conc_EdgeRelationTemplateSpn_3_1_5, [1]) (Concat)\n",
      "Products3/Product4_2 (Product)\n",
      "    Input(Conc_EdgeRelationTemplateSpn_3_1_5, [5]) (Concat)\n",
      "    Input(Conc_EdgeRelationTemplateSpn_3_1_5, [1]) (Concat)\n",
      "Conc_EdgeRelationTemplateSpn_3_1_5 (Concat)\n",
      "    Input(Catg_EdgeRelationTemplateSpn_3_1_5, None) (IVs)\n",
      "    Input(View_EdgeRelationTemplateSpn_3_1_5, None) (IVs)\n"
     ]
    }
   ],
   "source": [
    "SpnModel.print_structure(template_spn._root, sess)"
   ]
  },
  {
   "cell_type": "code",
   "execution_count": 94,
   "metadata": {},
   "outputs": [
    {
     "name": "stdout",
     "output_type": "stream",
     "text": [
      "Node_8 (Sum)\n",
      "[ 0.03512972  0.89461088  0.03512972  0.03512972] [(4,)]\n",
      "Sums1.1/Sum1_2 (Sum)\n",
      "[ 0.09999999  0.09999999  0.09999999  0.09999999  0.09999999  0.09999999\n",
      "  0.09999999  0.09999999  0.09999999  0.09999999] [(10,)]\n",
      "Sums1.2/Sum1_2 (Sum)\n",
      "[ 0.18291855  0.03512972  0.03512972  0.746822  ] [(4,)]\n",
      "Sums1.1/Sum2_2 (Sum)\n",
      "[ 0.02901416  0.08528343  0.06450708  0.04892483  0.03940234  0.02901416\n",
      "  0.27400187  0.18397105  0.140687    0.10519409] [(10,)]\n",
      "Sums1.2/Sum2_2 (Sum)\n",
      "[ 0.25  0.25  0.25  0.25] [(4,)]\n"
     ]
    }
   ],
   "source": [
    "SpnModel.print_weights(template_spn._root, sess)"
   ]
  },
  {
   "cell_type": "code",
   "execution_count": 98,
   "metadata": {
    "scrolled": false
   },
   "outputs": [],
   "source": [
    "catg_inputs = spn.IVs(num_vars=3, num_vals=CategoryManager.NUM_CATEGORIES, name=\"Catg\")\n",
    "view_inputs = spn.IVs(num_vars=1, num_vals=5, name=\"View\")\n",
    "conc = spn.Concat(catg_inputs, view_inputs)\n",
    "template_spn._conc_inputs.set_inputs()\n",
    "copied_tspn_root = mod_compute_graph_up(template_spn._root,\n",
    "                                        TemplateSpn._dup_fun_up,\n",
    "                                        tmpl_num_vars=[3, 1],\n",
    "                                        tmpl_num_vals=[CategoryManager.NUM_CATEGORIES, 5],\n",
    "                                        graph_num_vars=[catg_inputs.num_vars, view_inputs.num_vars],\n",
    "                                        conc=conc,\n",
    "                                        labels=[[0,1,2],[0]])"
   ]
  },
  {
   "cell_type": "code",
   "execution_count": 99,
   "metadata": {},
   "outputs": [
    {
     "name": "stdout",
     "output_type": "stream",
     "text": [
      "Sum_33 (Sum)\n",
      "[ 0.03512972  0.89461088  0.03512972  0.03512972] [(4,)]\n",
      "Sum_31 (Sum)\n",
      "[ 0.09999999  0.09999999  0.09999999  0.09999999  0.09999999  0.09999999\n",
      "  0.09999999  0.09999999  0.09999999  0.09999999] [(10,)]\n",
      "Sum_32 (Sum)\n",
      "[ 0.18291855  0.03512972  0.03512972  0.746822  ] [(4,)]\n",
      "Sum_30 (Sum)\n",
      "[ 0.02901416  0.08528343  0.06450708  0.04892483  0.03940234  0.02901416\n",
      "  0.27400187  0.18397105  0.140687    0.10519409] [(10,)]\n",
      "Sum_29 (Sum)\n",
      "[ 0.25  0.25  0.25  0.25] [(4,)]\n"
     ]
    }
   ],
   "source": [
    "SpnModel.print_weights(copied_tspn_root, sess)"
   ]
  },
  {
   "cell_type": "code",
   "execution_count": 100,
   "metadata": {
    "scrolled": false
   },
   "outputs": [
    {
     "name": "stdout",
     "output_type": "stream",
     "text": [
      "Sum_33 (Sum)\n",
      "    Input(Product_326, None) (Product)\n",
      "    Input(Product_325, None) (Product)\n",
      "    Input(Product_324, None) (Product)\n",
      "    Input(Product_323, None) (Product)\n",
      "Product_326 (Product)\n",
      "    Input(Sum_31, None) (Sum)\n",
      "    Input(Sum_32, None) (Sum)\n",
      "Product_325 (Product)\n",
      "    Input(Sum_30, None) (Sum)\n",
      "    Input(Sum_32, None) (Sum)\n",
      "Product_324 (Product)\n",
      "    Input(Sum_31, None) (Sum)\n",
      "    Input(Sum_29, None) (Sum)\n",
      "Product_323 (Product)\n",
      "    Input(Sum_30, None) (Sum)\n",
      "    Input(Sum_29, None) (Sum)\n",
      "Sum_31 (Sum)\n",
      "    Input(Product_322, None) (Product)\n",
      "    Input(Product_321, None) (Product)\n",
      "    Input(Product_320, None) (Product)\n",
      "    Input(Product_319, None) (Product)\n",
      "    Input(Product_318, None) (Product)\n",
      "    Input(Product_317, None) (Product)\n",
      "    Input(Product_316, None) (Product)\n",
      "    Input(Product_315, None) (Product)\n",
      "    Input(Product_314, None) (Product)\n",
      "    Input(Product_313, None) (Product)\n",
      "Sum_32 (Sum)\n",
      "    Input(Product_312, None) (Product)\n",
      "    Input(Product_311, None) (Product)\n",
      "    Input(Product_310, None) (Product)\n",
      "    Input(Product_309, None) (Product)\n",
      "Sum_30 (Sum)\n",
      "    Input(Product_322, None) (Product)\n",
      "    Input(Product_321, None) (Product)\n",
      "    Input(Product_320, None) (Product)\n",
      "    Input(Product_319, None) (Product)\n",
      "    Input(Product_318, None) (Product)\n",
      "    Input(Product_317, None) (Product)\n",
      "    Input(Product_316, None) (Product)\n",
      "    Input(Product_315, None) (Product)\n",
      "    Input(Product_314, None) (Product)\n",
      "    Input(Product_313, None) (Product)\n",
      "Sum_29 (Sum)\n",
      "    Input(Product_312, None) (Product)\n",
      "    Input(Product_311, None) (Product)\n",
      "    Input(Product_310, None) (Product)\n",
      "    Input(Product_309, None) (Product)\n",
      "Product_322 (Product)\n",
      "    Input(Concat_44, [6]) (Concat)\n",
      "    Input(Concat_44, [2]) (Concat)\n",
      "Product_321 (Product)\n",
      "    Input(Concat_44, [7]) (Concat)\n",
      "    Input(Concat_44, [2]) (Concat)\n",
      "Product_320 (Product)\n",
      "    Input(Concat_44, [8]) (Concat)\n",
      "    Input(Concat_44, [2]) (Concat)\n",
      "Product_319 (Product)\n",
      "    Input(Concat_44, [9]) (Concat)\n",
      "    Input(Concat_44, [2]) (Concat)\n",
      "Product_318 (Product)\n",
      "    Input(Concat_44, [10]) (Concat)\n",
      "    Input(Concat_44, [2]) (Concat)\n",
      "Product_317 (Product)\n",
      "    Input(Concat_44, [6]) (Concat)\n",
      "    Input(Concat_44, [3]) (Concat)\n",
      "Product_316 (Product)\n",
      "    Input(Concat_44, [7]) (Concat)\n",
      "    Input(Concat_44, [3]) (Concat)\n",
      "Product_315 (Product)\n",
      "    Input(Concat_44, [8]) (Concat)\n",
      "    Input(Concat_44, [3]) (Concat)\n",
      "Product_314 (Product)\n",
      "    Input(Concat_44, [9]) (Concat)\n",
      "    Input(Concat_44, [3]) (Concat)\n",
      "Product_313 (Product)\n",
      "    Input(Concat_44, [10]) (Concat)\n",
      "    Input(Concat_44, [3]) (Concat)\n",
      "Product_312 (Product)\n",
      "    Input(Concat_44, [4]) (Concat)\n",
      "    Input(Concat_44, [0]) (Concat)\n",
      "Product_311 (Product)\n",
      "    Input(Concat_44, [5]) (Concat)\n",
      "    Input(Concat_44, [0]) (Concat)\n",
      "Product_310 (Product)\n",
      "    Input(Concat_44, [4]) (Concat)\n",
      "    Input(Concat_44, [1]) (Concat)\n",
      "Product_309 (Product)\n",
      "    Input(Concat_44, [5]) (Concat)\n",
      "    Input(Concat_44, [1]) (Concat)\n",
      "Concat_44 (Concat)\n",
      "    Input(Catg_44, None) (IVs)\n",
      "    Input(View_44, None) (IVs)\n"
     ]
    }
   ],
   "source": [
    "SpnModel.print_structure(copied_tspn_root, sess)"
   ]
  },
  {
   "cell_type": "code",
   "execution_count": 101,
   "metadata": {
    "scrolled": true
   },
   "outputs": [
    {
     "data": {
      "text/plain": [
       "True"
      ]
     },
     "execution_count": 101,
     "metadata": {},
     "output_type": "execute_result"
    }
   ],
   "source": [
    "copied_tspn_root.is_valid()"
   ]
  },
  {
   "cell_type": "code",
   "execution_count": null,
   "metadata": {
    "collapsed": true
   },
   "outputs": [],
   "source": []
  }
 ],
 "metadata": {
  "kernelspec": {
   "display_name": "py3",
   "language": "python",
   "name": "py3"
  },
  "language_info": {
   "codemirror_mode": {
    "name": "ipython",
    "version": 3
   },
   "file_extension": ".py",
   "mimetype": "text/x-python",
   "name": "python",
   "nbconvert_exporter": "python",
   "pygments_lexer": "ipython3",
   "version": "3.5.2"
  }
 },
 "nbformat": 4,
 "nbformat_minor": 2
}
