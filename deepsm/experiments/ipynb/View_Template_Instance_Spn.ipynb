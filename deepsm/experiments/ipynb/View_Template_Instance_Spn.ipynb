{
 "cells": [
  {
   "cell_type": "code",
   "execution_count": 1,
   "metadata": {
    "collapsed": true
   },
   "outputs": [],
   "source": [
    "%load_ext autoreload\n",
    "%autoreload 2"
   ]
  },
  {
   "cell_type": "code",
   "execution_count": 2,
   "metadata": {
    "collapsed": true
   },
   "outputs": [],
   "source": [
    "import os\n",
    "import tensorflow as tf\n",
    "\n",
    "import numpy as np\n",
    "import libspn as spn\n",
    "\n",
    "from deepsm.graphspn.spn_model import SpnModel, mod_compute_graph_up\n",
    "from deepsm.graphspn.tbm.spn_template import TemplateSpn, NodeTemplateSpn, EdgeRelationTemplateSpn\n",
    "from deepsm.graphspn.tbm.spn_instance import NodeTemplateInstanceSpn, EdgeRelationTemplateInstanceSpn\n",
    "from deepsm.graphspn.tbm.template import ThreeRelTemplate, SingleRelTemplate, SingleTemplate, RelTemplate\n",
    "from deepsm.graphspn.tbm.graph_builder import build_graph\n",
    "from deepsm.util import CategoryManager"
   ]
  },
  {
   "cell_type": "markdown",
   "metadata": {},
   "source": [
    "# Load Template SPNs"
   ]
  },
  {
   "cell_type": "code",
   "execution_count": 3,
   "metadata": {
    "collapsed": true
   },
   "outputs": [],
   "source": [
    "spn31_path = \"/home/zkytony/Documents/thesis/experiments/deep-semantic-mapping/deepsm/experiments/results/graphspn/EdgeRelationTemplateExperiment/models/ThreeRelTemplate_4_Freiburg-Saarbrucken.spn\"\n",
    "spn11_path = \"/home/zkytony/Documents/thesis/experiments/deep-semantic-mapping/deepsm/experiments/results/graphspn/EdgeRelationTemplateExperiment/models/SingleRelTemplate_4_Freiburg-Saarbrucken.spn\"\n",
    "spn10_path = \"/home/zkytony/Documents/thesis/experiments/deep-semantic-mapping/deepsm/experiments/results/graphspn/EdgeRelationTemplateExperiment/models/SingleTemplate_4_Freiburg-Saarbrucken.spn\"\n",
    "spn01_path = \"/home/zkytony/Documents/thesis/experiments/deep-semantic-mapping/deepsm/experiments/results/graphspn/EdgeRelationTemplateExperiment/models/RelTemplate_4_Freiburg-Saarbrucken.spn\""
   ]
  },
  {
   "cell_type": "code",
   "execution_count": 4,
   "metadata": {},
   "outputs": [
    {
     "name": "stdout",
     "output_type": "stream",
     "text": [
      "Generating SPN structure...\n",
      "[Using seed 100]\n",
      "Generating SPN structure...\n",
      "[Using seed 100]\n",
      "Conc_EdgeRelationTemplateSpn_1_1\n",
      "Generating SPN structure...\n",
      "[Using seed 100]\n",
      "HEY\n",
      "Generating SPN structure...\n",
      "[Using seed 100]\n"
     ]
    }
   ],
   "source": [
    "tspn31 = EdgeRelationTemplateSpn(ThreeRelTemplate, seed=100)\n",
    "tspn11 = EdgeRelationTemplateSpn(SingleRelTemplate, seed=100)\n",
    "print(tspn11._conc_inputs)\n",
    "tspn10 = EdgeRelationTemplateSpn(SingleTemplate, seed=100)\n",
    "tspn01 = EdgeRelationTemplateSpn(RelTemplate, seed=100)"
   ]
  },
  {
   "cell_type": "code",
   "execution_count": 5,
   "metadata": {},
   "outputs": [
    {
     "data": {
      "text/plain": [
       "(Input(View_EdgeRelationTemplateSpn_0_1, None),)"
      ]
     },
     "execution_count": 5,
     "metadata": {},
     "output_type": "execute_result"
    }
   ],
   "source": [
    "tspn01._conc_inputs.inputs"
   ]
  },
  {
   "cell_type": "code",
   "execution_count": 6,
   "metadata": {
    "collapsed": true
   },
   "outputs": [],
   "source": [
    "sess = tf.Session()"
   ]
  },
  {
   "cell_type": "code",
   "execution_count": 7,
   "metadata": {},
   "outputs": [
    {
     "name": "stderr",
     "output_type": "stream",
     "text": [
      "[INFO] [spn.JSONLoader:load] Loading SPN graph from file '/home/zkytony/Documents/thesis/experiments/deep-semantic-mapping/deepsm/experiments/results/graphspn/EdgeRelationTemplateExperiment/models/ThreeRelTemplate_4_Freiburg-Saarbrucken.spn'\n",
      "[INFO] [spn.JSONLoader:load] Loading SPN graph from file '/home/zkytony/Documents/thesis/experiments/deep-semantic-mapping/deepsm/experiments/results/graphspn/EdgeRelationTemplateExperiment/models/SingleRelTemplate_4_Freiburg-Saarbrucken.spn'\n",
      "[INFO] [spn.JSONLoader:load] Loading SPN graph from file '/home/zkytony/Documents/thesis/experiments/deep-semantic-mapping/deepsm/experiments/results/graphspn/EdgeRelationTemplateExperiment/models/SingleTemplate_4_Freiburg-Saarbrucken.spn'\n",
      "[INFO] [spn.JSONLoader:load] Loading SPN graph from file '/home/zkytony/Documents/thesis/experiments/deep-semantic-mapping/deepsm/experiments/results/graphspn/EdgeRelationTemplateExperiment/models/RelTemplate_4_Freiburg-Saarbrucken.spn'\n"
     ]
    },
    {
     "name": "stdout",
     "output_type": "stream",
     "text": [
      "None\n"
     ]
    }
   ],
   "source": [
    "tspn31.load(spn31_path, sess)\n",
    "tspn11.load(spn11_path, sess)\n",
    "print(tspn11._conc_inputs)\n",
    "tspn10.load(spn10_path, sess)\n",
    "tspn01.load(spn01_path, sess)"
   ]
  },
  {
   "cell_type": "code",
   "execution_count": 8,
   "metadata": {
    "collapsed": true
   },
   "outputs": [],
   "source": [
    "tspn31._conc_inputs"
   ]
  },
  {
   "cell_type": "code",
   "execution_count": 9,
   "metadata": {
    "collapsed": true
   },
   "outputs": [],
   "source": [
    "spns = [(tspn, tspn.template) for tspn in [tspn31, tspn11, tspn10, tspn01]]"
   ]
  },
  {
   "cell_type": "code",
   "execution_count": 10,
   "metadata": {},
   "outputs": [
    {
     "name": "stdout",
     "output_type": "stream",
     "text": [
      "None\n",
      "None\n",
      "None\n",
      "Conc_EdgeRelationTemplateSpn_0_1_1\n"
     ]
    }
   ],
   "source": [
    "print(tspn31._conc_inputs)\n",
    "print(tspn11._conc_inputs)\n",
    "print(tspn10._conc_inputs)\n",
    "print(tspn01._conc_inputs)"
   ]
  },
  {
   "cell_type": "markdown",
   "metadata": {},
   "source": [
    "# Load a topo map"
   ]
  },
  {
   "cell_type": "code",
   "execution_count": 11,
   "metadata": {
    "collapsed": true
   },
   "outputs": [],
   "source": [
    "graph_file = \"/home/zkytony/Documents/thesis/experiments/deep-semantic-mapping/deepsm/experiments/analysis/stockholm_floor7_cloudy_b/subgraph.ug\""
   ]
  },
  {
   "cell_type": "code",
   "execution_count": 12,
   "metadata": {},
   "outputs": [
    {
     "name": "stdout",
     "output_type": "stream",
     "text": [
      "6\n",
      "4\n"
     ]
    }
   ],
   "source": [
    "topo_map, likelihoods = build_graph(graph_file)\n",
    "print(len(topo_map.nodes))\n",
    "print(CategoryManager.NUM_CATEGORIES)"
   ]
  },
  {
   "cell_type": "markdown",
   "metadata": {},
   "source": [
    "# Construct instance spn with view template"
   ]
  },
  {
   "cell_type": "code",
   "execution_count": 13,
   "metadata": {
    "collapsed": true
   },
   "outputs": [],
   "source": [
    "visualize_partitions_dirpath = \"./tmp\"\n",
    "os.makedirs(visualize_partitions_dirpath, exist_ok=True)"
   ]
  },
  {
   "cell_type": "markdown",
   "metadata": {},
   "source": [
    "### Remove inputs for template SPNs"
   ]
  },
  {
   "cell_type": "code",
   "execution_count": 14,
   "metadata": {},
   "outputs": [
    {
     "name": "stdout",
     "output_type": "stream",
     "text": [
      "Node_1_1 (Sum)\n",
      "    Input(Products1_1/Product1_1, None) (Product)\n",
      "    Input(Products1_1/Product2_1, None) (Product)\n",
      "    Input(Products1_1/Product3_1, None) (Product)\n",
      "    Input(Products1_1/Product4_1, None) (Product)\n",
      "    Input(Products1_1/Product5_1, None) (Product)\n",
      "Products1_1/Product1_1 (Product)\n",
      "    Input(Node_7, [0]) (Sum)\n",
      "    Input(View_EdgeRelationTemplateSpn_3_1_1, [0]) (IVs)\n",
      "Products1_1/Product2_1 (Product)\n",
      "    Input(Node_7, [0]) (Sum)\n",
      "    Input(View_EdgeRelationTemplateSpn_3_1_1, [1]) (IVs)\n",
      "Products1_1/Product3_1 (Product)\n",
      "    Input(Node_7, [0]) (Sum)\n",
      "    Input(View_EdgeRelationTemplateSpn_3_1_1, [2]) (IVs)\n",
      "Products1_1/Product4_1 (Product)\n",
      "    Input(Node_7, [0]) (Sum)\n",
      "    Input(View_EdgeRelationTemplateSpn_3_1_1, [3]) (IVs)\n",
      "Products1_1/Product5_1 (Product)\n",
      "    Input(Node_7, [0]) (Sum)\n",
      "    Input(View_EdgeRelationTemplateSpn_3_1_1, [4]) (IVs)\n",
      "Node_7 (Sum)\n",
      "    Input(Products1/Product1_1, None) (Product)\n",
      "    Input(Products1/Product2_1, None) (Product)\n",
      "    Input(Products1/Product3_1, None) (Product)\n",
      "    Input(Products1/Product4_1, None) (Product)\n",
      "    Input(Products1/Product5_1, None) (Product)\n",
      "    Input(Products1/Product6_1, None) (Product)\n",
      "    Input(Products1/Product7_1, None) (Product)\n",
      "    Input(Products1/Product8_1, None) (Product)\n",
      "    Input(Products1/Product9, None) (Product)\n",
      "    Input(Products1/Product10, None) (Product)\n",
      "    Input(Products1/Product11, None) (Product)\n",
      "    Input(Products1/Product12, None) (Product)\n",
      "    Input(Products1/Product13, None) (Product)\n",
      "    Input(Products1/Product14, None) (Product)\n",
      "    Input(Products1/Product15, None) (Product)\n",
      "    Input(Products1/Product16, None) (Product)\n",
      "    Input(Products1/Product17, None) (Product)\n",
      "    Input(Products1/Product18, None) (Product)\n",
      "    Input(Products1/Product19, None) (Product)\n",
      "    Input(Products1/Product20, None) (Product)\n",
      "    Input(Products1/Product21, None) (Product)\n",
      "    Input(Products1/Product22, None) (Product)\n",
      "    Input(Products1/Product23, None) (Product)\n",
      "    Input(Products1/Product24, None) (Product)\n",
      "    Input(Products1/Product25, None) (Product)\n",
      "    Input(Products1/Product26, None) (Product)\n",
      "    Input(Products1/Product27, None) (Product)\n",
      "    Input(Products1/Product28, None) (Product)\n",
      "    Input(Products1/Product29, None) (Product)\n",
      "    Input(Products1/Product30, None) (Product)\n",
      "    Input(Products1/Product31, None) (Product)\n",
      "    Input(Products1/Product32, None) (Product)\n",
      "    Input(Products1/Product33, None) (Product)\n",
      "    Input(Products1/Product34, None) (Product)\n",
      "    Input(Products1/Product35, None) (Product)\n",
      "    Input(Products1/Product36, None) (Product)\n",
      "    Input(Products1/Product37, None) (Product)\n",
      "    Input(Products1/Product38, None) (Product)\n",
      "    Input(Products1/Product39, None) (Product)\n",
      "    Input(Products1/Product40, None) (Product)\n",
      "    Input(Products1/Product41, None) (Product)\n",
      "    Input(Products1/Product42, None) (Product)\n",
      "    Input(Products1/Product43, None) (Product)\n",
      "    Input(Products1/Product44, None) (Product)\n",
      "    Input(Products1/Product45, None) (Product)\n",
      "    Input(Products1/Product46, None) (Product)\n",
      "    Input(Products1/Product47, None) (Product)\n",
      "    Input(Products1/Product48, None) (Product)\n",
      "    Input(Products1/Product49, None) (Product)\n",
      "    Input(Products1/Product50, None) (Product)\n",
      "    Input(Products1/Product51, None) (Product)\n",
      "    Input(Products1/Product52, None) (Product)\n",
      "    Input(Products1/Product53, None) (Product)\n",
      "    Input(Products1/Product54, None) (Product)\n",
      "    Input(Products1/Product55, None) (Product)\n",
      "    Input(Products1/Product56, None) (Product)\n",
      "    Input(Products1/Product57, None) (Product)\n",
      "    Input(Products1/Product58, None) (Product)\n",
      "    Input(Products1/Product59, None) (Product)\n",
      "    Input(Products1/Product60, None) (Product)\n",
      "    Input(Products1/Product61, None) (Product)\n",
      "    Input(Products1/Product62, None) (Product)\n",
      "    Input(Products1/Product63, None) (Product)\n",
      "    Input(Products1/Product64, None) (Product)\n",
      "Products1/Product1_1 (Product)\n",
      "    Input(Catg_EdgeRelationTemplateSpn_3_1_1, [8]) (IVs)\n",
      "    Input(Catg_EdgeRelationTemplateSpn_3_1_1, [0]) (IVs)\n",
      "    Input(Catg_EdgeRelationTemplateSpn_3_1_1, [4]) (IVs)\n",
      "Products1/Product2_1 (Product)\n",
      "    Input(Catg_EdgeRelationTemplateSpn_3_1_1, [9]) (IVs)\n",
      "    Input(Catg_EdgeRelationTemplateSpn_3_1_1, [0]) (IVs)\n",
      "    Input(Catg_EdgeRelationTemplateSpn_3_1_1, [4]) (IVs)\n",
      "Products1/Product3_1 (Product)\n",
      "    Input(Catg_EdgeRelationTemplateSpn_3_1_1, [10]) (IVs)\n",
      "    Input(Catg_EdgeRelationTemplateSpn_3_1_1, [0]) (IVs)\n",
      "    Input(Catg_EdgeRelationTemplateSpn_3_1_1, [4]) (IVs)\n",
      "Products1/Product4_1 (Product)\n",
      "    Input(Catg_EdgeRelationTemplateSpn_3_1_1, [11]) (IVs)\n",
      "    Input(Catg_EdgeRelationTemplateSpn_3_1_1, [0]) (IVs)\n",
      "    Input(Catg_EdgeRelationTemplateSpn_3_1_1, [4]) (IVs)\n",
      "Products1/Product5_1 (Product)\n",
      "    Input(Catg_EdgeRelationTemplateSpn_3_1_1, [8]) (IVs)\n",
      "    Input(Catg_EdgeRelationTemplateSpn_3_1_1, [1]) (IVs)\n",
      "    Input(Catg_EdgeRelationTemplateSpn_3_1_1, [4]) (IVs)\n",
      "Products1/Product6_1 (Product)\n",
      "    Input(Catg_EdgeRelationTemplateSpn_3_1_1, [9]) (IVs)\n",
      "    Input(Catg_EdgeRelationTemplateSpn_3_1_1, [1]) (IVs)\n",
      "    Input(Catg_EdgeRelationTemplateSpn_3_1_1, [4]) (IVs)\n",
      "Products1/Product7_1 (Product)\n",
      "    Input(Catg_EdgeRelationTemplateSpn_3_1_1, [10]) (IVs)\n",
      "    Input(Catg_EdgeRelationTemplateSpn_3_1_1, [1]) (IVs)\n",
      "    Input(Catg_EdgeRelationTemplateSpn_3_1_1, [4]) (IVs)\n",
      "Products1/Product8_1 (Product)\n",
      "    Input(Catg_EdgeRelationTemplateSpn_3_1_1, [11]) (IVs)\n",
      "    Input(Catg_EdgeRelationTemplateSpn_3_1_1, [1]) (IVs)\n",
      "    Input(Catg_EdgeRelationTemplateSpn_3_1_1, [4]) (IVs)\n",
      "Products1/Product9 (Product)\n",
      "    Input(Catg_EdgeRelationTemplateSpn_3_1_1, [8]) (IVs)\n",
      "    Input(Catg_EdgeRelationTemplateSpn_3_1_1, [2]) (IVs)\n",
      "    Input(Catg_EdgeRelationTemplateSpn_3_1_1, [4]) (IVs)\n",
      "Products1/Product10 (Product)\n",
      "    Input(Catg_EdgeRelationTemplateSpn_3_1_1, [9]) (IVs)\n",
      "    Input(Catg_EdgeRelationTemplateSpn_3_1_1, [2]) (IVs)\n",
      "    Input(Catg_EdgeRelationTemplateSpn_3_1_1, [4]) (IVs)\n",
      "Products1/Product11 (Product)\n",
      "    Input(Catg_EdgeRelationTemplateSpn_3_1_1, [10]) (IVs)\n",
      "    Input(Catg_EdgeRelationTemplateSpn_3_1_1, [2]) (IVs)\n",
      "    Input(Catg_EdgeRelationTemplateSpn_3_1_1, [4]) (IVs)\n",
      "Products1/Product12 (Product)\n",
      "    Input(Catg_EdgeRelationTemplateSpn_3_1_1, [11]) (IVs)\n",
      "    Input(Catg_EdgeRelationTemplateSpn_3_1_1, [2]) (IVs)\n",
      "    Input(Catg_EdgeRelationTemplateSpn_3_1_1, [4]) (IVs)\n",
      "Products1/Product13 (Product)\n",
      "    Input(Catg_EdgeRelationTemplateSpn_3_1_1, [8]) (IVs)\n",
      "    Input(Catg_EdgeRelationTemplateSpn_3_1_1, [3]) (IVs)\n",
      "    Input(Catg_EdgeRelationTemplateSpn_3_1_1, [4]) (IVs)\n",
      "Products1/Product14 (Product)\n",
      "    Input(Catg_EdgeRelationTemplateSpn_3_1_1, [9]) (IVs)\n",
      "    Input(Catg_EdgeRelationTemplateSpn_3_1_1, [3]) (IVs)\n",
      "    Input(Catg_EdgeRelationTemplateSpn_3_1_1, [4]) (IVs)\n",
      "Products1/Product15 (Product)\n",
      "    Input(Catg_EdgeRelationTemplateSpn_3_1_1, [10]) (IVs)\n",
      "    Input(Catg_EdgeRelationTemplateSpn_3_1_1, [3]) (IVs)\n",
      "    Input(Catg_EdgeRelationTemplateSpn_3_1_1, [4]) (IVs)\n",
      "Products1/Product16 (Product)\n",
      "    Input(Catg_EdgeRelationTemplateSpn_3_1_1, [11]) (IVs)\n",
      "    Input(Catg_EdgeRelationTemplateSpn_3_1_1, [3]) (IVs)\n",
      "    Input(Catg_EdgeRelationTemplateSpn_3_1_1, [4]) (IVs)\n",
      "Products1/Product17 (Product)\n",
      "    Input(Catg_EdgeRelationTemplateSpn_3_1_1, [8]) (IVs)\n",
      "    Input(Catg_EdgeRelationTemplateSpn_3_1_1, [0]) (IVs)\n",
      "    Input(Catg_EdgeRelationTemplateSpn_3_1_1, [5]) (IVs)\n",
      "Products1/Product18 (Product)\n",
      "    Input(Catg_EdgeRelationTemplateSpn_3_1_1, [9]) (IVs)\n",
      "    Input(Catg_EdgeRelationTemplateSpn_3_1_1, [0]) (IVs)\n",
      "    Input(Catg_EdgeRelationTemplateSpn_3_1_1, [5]) (IVs)\n",
      "Products1/Product19 (Product)\n",
      "    Input(Catg_EdgeRelationTemplateSpn_3_1_1, [10]) (IVs)\n",
      "    Input(Catg_EdgeRelationTemplateSpn_3_1_1, [0]) (IVs)\n",
      "    Input(Catg_EdgeRelationTemplateSpn_3_1_1, [5]) (IVs)\n",
      "Products1/Product20 (Product)\n",
      "    Input(Catg_EdgeRelationTemplateSpn_3_1_1, [11]) (IVs)\n",
      "    Input(Catg_EdgeRelationTemplateSpn_3_1_1, [0]) (IVs)\n",
      "    Input(Catg_EdgeRelationTemplateSpn_3_1_1, [5]) (IVs)\n",
      "Products1/Product21 (Product)\n",
      "    Input(Catg_EdgeRelationTemplateSpn_3_1_1, [8]) (IVs)\n",
      "    Input(Catg_EdgeRelationTemplateSpn_3_1_1, [1]) (IVs)\n",
      "    Input(Catg_EdgeRelationTemplateSpn_3_1_1, [5]) (IVs)\n",
      "Products1/Product22 (Product)\n",
      "    Input(Catg_EdgeRelationTemplateSpn_3_1_1, [9]) (IVs)\n",
      "    Input(Catg_EdgeRelationTemplateSpn_3_1_1, [1]) (IVs)\n",
      "    Input(Catg_EdgeRelationTemplateSpn_3_1_1, [5]) (IVs)\n",
      "Products1/Product23 (Product)\n",
      "    Input(Catg_EdgeRelationTemplateSpn_3_1_1, [10]) (IVs)\n",
      "    Input(Catg_EdgeRelationTemplateSpn_3_1_1, [1]) (IVs)\n",
      "    Input(Catg_EdgeRelationTemplateSpn_3_1_1, [5]) (IVs)\n",
      "Products1/Product24 (Product)\n",
      "    Input(Catg_EdgeRelationTemplateSpn_3_1_1, [11]) (IVs)\n",
      "    Input(Catg_EdgeRelationTemplateSpn_3_1_1, [1]) (IVs)\n",
      "    Input(Catg_EdgeRelationTemplateSpn_3_1_1, [5]) (IVs)\n",
      "Products1/Product25 (Product)\n",
      "    Input(Catg_EdgeRelationTemplateSpn_3_1_1, [8]) (IVs)\n",
      "    Input(Catg_EdgeRelationTemplateSpn_3_1_1, [2]) (IVs)\n",
      "    Input(Catg_EdgeRelationTemplateSpn_3_1_1, [5]) (IVs)\n",
      "Products1/Product26 (Product)\n",
      "    Input(Catg_EdgeRelationTemplateSpn_3_1_1, [9]) (IVs)\n",
      "    Input(Catg_EdgeRelationTemplateSpn_3_1_1, [2]) (IVs)\n",
      "    Input(Catg_EdgeRelationTemplateSpn_3_1_1, [5]) (IVs)\n",
      "Products1/Product27 (Product)\n",
      "    Input(Catg_EdgeRelationTemplateSpn_3_1_1, [10]) (IVs)\n",
      "    Input(Catg_EdgeRelationTemplateSpn_3_1_1, [2]) (IVs)\n",
      "    Input(Catg_EdgeRelationTemplateSpn_3_1_1, [5]) (IVs)\n",
      "Products1/Product28 (Product)\n",
      "    Input(Catg_EdgeRelationTemplateSpn_3_1_1, [11]) (IVs)\n",
      "    Input(Catg_EdgeRelationTemplateSpn_3_1_1, [2]) (IVs)\n",
      "    Input(Catg_EdgeRelationTemplateSpn_3_1_1, [5]) (IVs)\n",
      "Products1/Product29 (Product)\n",
      "    Input(Catg_EdgeRelationTemplateSpn_3_1_1, [8]) (IVs)\n",
      "    Input(Catg_EdgeRelationTemplateSpn_3_1_1, [3]) (IVs)\n",
      "    Input(Catg_EdgeRelationTemplateSpn_3_1_1, [5]) (IVs)\n",
      "Products1/Product30 (Product)\n",
      "    Input(Catg_EdgeRelationTemplateSpn_3_1_1, [9]) (IVs)\n",
      "    Input(Catg_EdgeRelationTemplateSpn_3_1_1, [3]) (IVs)\n",
      "    Input(Catg_EdgeRelationTemplateSpn_3_1_1, [5]) (IVs)\n",
      "Products1/Product31 (Product)\n",
      "    Input(Catg_EdgeRelationTemplateSpn_3_1_1, [10]) (IVs)\n",
      "    Input(Catg_EdgeRelationTemplateSpn_3_1_1, [3]) (IVs)\n",
      "    Input(Catg_EdgeRelationTemplateSpn_3_1_1, [5]) (IVs)\n",
      "Products1/Product32 (Product)\n",
      "    Input(Catg_EdgeRelationTemplateSpn_3_1_1, [11]) (IVs)\n",
      "    Input(Catg_EdgeRelationTemplateSpn_3_1_1, [3]) (IVs)\n",
      "    Input(Catg_EdgeRelationTemplateSpn_3_1_1, [5]) (IVs)\n",
      "Products1/Product33 (Product)\n",
      "    Input(Catg_EdgeRelationTemplateSpn_3_1_1, [8]) (IVs)\n",
      "    Input(Catg_EdgeRelationTemplateSpn_3_1_1, [0]) (IVs)\n",
      "    Input(Catg_EdgeRelationTemplateSpn_3_1_1, [6]) (IVs)\n",
      "Products1/Product34 (Product)\n",
      "    Input(Catg_EdgeRelationTemplateSpn_3_1_1, [9]) (IVs)\n",
      "    Input(Catg_EdgeRelationTemplateSpn_3_1_1, [0]) (IVs)\n",
      "    Input(Catg_EdgeRelationTemplateSpn_3_1_1, [6]) (IVs)\n",
      "Products1/Product35 (Product)\n",
      "    Input(Catg_EdgeRelationTemplateSpn_3_1_1, [10]) (IVs)\n",
      "    Input(Catg_EdgeRelationTemplateSpn_3_1_1, [0]) (IVs)\n",
      "    Input(Catg_EdgeRelationTemplateSpn_3_1_1, [6]) (IVs)\n",
      "Products1/Product36 (Product)\n",
      "    Input(Catg_EdgeRelationTemplateSpn_3_1_1, [11]) (IVs)\n",
      "    Input(Catg_EdgeRelationTemplateSpn_3_1_1, [0]) (IVs)\n",
      "    Input(Catg_EdgeRelationTemplateSpn_3_1_1, [6]) (IVs)\n",
      "Products1/Product37 (Product)\n",
      "    Input(Catg_EdgeRelationTemplateSpn_3_1_1, [8]) (IVs)\n",
      "    Input(Catg_EdgeRelationTemplateSpn_3_1_1, [1]) (IVs)\n",
      "    Input(Catg_EdgeRelationTemplateSpn_3_1_1, [6]) (IVs)\n",
      "Products1/Product38 (Product)\n",
      "    Input(Catg_EdgeRelationTemplateSpn_3_1_1, [9]) (IVs)\n",
      "    Input(Catg_EdgeRelationTemplateSpn_3_1_1, [1]) (IVs)\n",
      "    Input(Catg_EdgeRelationTemplateSpn_3_1_1, [6]) (IVs)\n",
      "Products1/Product39 (Product)\n",
      "    Input(Catg_EdgeRelationTemplateSpn_3_1_1, [10]) (IVs)\n",
      "    Input(Catg_EdgeRelationTemplateSpn_3_1_1, [1]) (IVs)\n",
      "    Input(Catg_EdgeRelationTemplateSpn_3_1_1, [6]) (IVs)\n",
      "Products1/Product40 (Product)\n",
      "    Input(Catg_EdgeRelationTemplateSpn_3_1_1, [11]) (IVs)\n",
      "    Input(Catg_EdgeRelationTemplateSpn_3_1_1, [1]) (IVs)\n",
      "    Input(Catg_EdgeRelationTemplateSpn_3_1_1, [6]) (IVs)\n",
      "Products1/Product41 (Product)\n",
      "    Input(Catg_EdgeRelationTemplateSpn_3_1_1, [8]) (IVs)\n",
      "    Input(Catg_EdgeRelationTemplateSpn_3_1_1, [2]) (IVs)\n",
      "    Input(Catg_EdgeRelationTemplateSpn_3_1_1, [6]) (IVs)\n",
      "Products1/Product42 (Product)\n",
      "    Input(Catg_EdgeRelationTemplateSpn_3_1_1, [9]) (IVs)\n",
      "    Input(Catg_EdgeRelationTemplateSpn_3_1_1, [2]) (IVs)\n",
      "    Input(Catg_EdgeRelationTemplateSpn_3_1_1, [6]) (IVs)\n",
      "Products1/Product43 (Product)\n",
      "    Input(Catg_EdgeRelationTemplateSpn_3_1_1, [10]) (IVs)\n",
      "    Input(Catg_EdgeRelationTemplateSpn_3_1_1, [2]) (IVs)\n",
      "    Input(Catg_EdgeRelationTemplateSpn_3_1_1, [6]) (IVs)\n",
      "Products1/Product44 (Product)\n",
      "    Input(Catg_EdgeRelationTemplateSpn_3_1_1, [11]) (IVs)\n",
      "    Input(Catg_EdgeRelationTemplateSpn_3_1_1, [2]) (IVs)\n",
      "    Input(Catg_EdgeRelationTemplateSpn_3_1_1, [6]) (IVs)\n",
      "Products1/Product45 (Product)\n",
      "    Input(Catg_EdgeRelationTemplateSpn_3_1_1, [8]) (IVs)\n",
      "    Input(Catg_EdgeRelationTemplateSpn_3_1_1, [3]) (IVs)\n",
      "    Input(Catg_EdgeRelationTemplateSpn_3_1_1, [6]) (IVs)\n",
      "Products1/Product46 (Product)\n",
      "    Input(Catg_EdgeRelationTemplateSpn_3_1_1, [9]) (IVs)\n",
      "    Input(Catg_EdgeRelationTemplateSpn_3_1_1, [3]) (IVs)\n",
      "    Input(Catg_EdgeRelationTemplateSpn_3_1_1, [6]) (IVs)\n",
      "Products1/Product47 (Product)\n",
      "    Input(Catg_EdgeRelationTemplateSpn_3_1_1, [10]) (IVs)\n",
      "    Input(Catg_EdgeRelationTemplateSpn_3_1_1, [3]) (IVs)\n",
      "    Input(Catg_EdgeRelationTemplateSpn_3_1_1, [6]) (IVs)\n",
      "Products1/Product48 (Product)\n",
      "    Input(Catg_EdgeRelationTemplateSpn_3_1_1, [11]) (IVs)\n",
      "    Input(Catg_EdgeRelationTemplateSpn_3_1_1, [3]) (IVs)\n",
      "    Input(Catg_EdgeRelationTemplateSpn_3_1_1, [6]) (IVs)\n",
      "Products1/Product49 (Product)\n",
      "    Input(Catg_EdgeRelationTemplateSpn_3_1_1, [8]) (IVs)\n",
      "    Input(Catg_EdgeRelationTemplateSpn_3_1_1, [0]) (IVs)\n",
      "    Input(Catg_EdgeRelationTemplateSpn_3_1_1, [7]) (IVs)\n",
      "Products1/Product50 (Product)\n",
      "    Input(Catg_EdgeRelationTemplateSpn_3_1_1, [9]) (IVs)\n",
      "    Input(Catg_EdgeRelationTemplateSpn_3_1_1, [0]) (IVs)\n",
      "    Input(Catg_EdgeRelationTemplateSpn_3_1_1, [7]) (IVs)\n",
      "Products1/Product51 (Product)\n",
      "    Input(Catg_EdgeRelationTemplateSpn_3_1_1, [10]) (IVs)\n",
      "    Input(Catg_EdgeRelationTemplateSpn_3_1_1, [0]) (IVs)\n",
      "    Input(Catg_EdgeRelationTemplateSpn_3_1_1, [7]) (IVs)\n",
      "Products1/Product52 (Product)\n",
      "    Input(Catg_EdgeRelationTemplateSpn_3_1_1, [11]) (IVs)\n",
      "    Input(Catg_EdgeRelationTemplateSpn_3_1_1, [0]) (IVs)\n",
      "    Input(Catg_EdgeRelationTemplateSpn_3_1_1, [7]) (IVs)\n",
      "Products1/Product53 (Product)\n",
      "    Input(Catg_EdgeRelationTemplateSpn_3_1_1, [8]) (IVs)\n",
      "    Input(Catg_EdgeRelationTemplateSpn_3_1_1, [1]) (IVs)\n",
      "    Input(Catg_EdgeRelationTemplateSpn_3_1_1, [7]) (IVs)\n",
      "Products1/Product54 (Product)\n",
      "    Input(Catg_EdgeRelationTemplateSpn_3_1_1, [9]) (IVs)\n",
      "    Input(Catg_EdgeRelationTemplateSpn_3_1_1, [1]) (IVs)\n",
      "    Input(Catg_EdgeRelationTemplateSpn_3_1_1, [7]) (IVs)\n",
      "Products1/Product55 (Product)\n",
      "    Input(Catg_EdgeRelationTemplateSpn_3_1_1, [10]) (IVs)\n",
      "    Input(Catg_EdgeRelationTemplateSpn_3_1_1, [1]) (IVs)\n",
      "    Input(Catg_EdgeRelationTemplateSpn_3_1_1, [7]) (IVs)\n",
      "Products1/Product56 (Product)\n",
      "    Input(Catg_EdgeRelationTemplateSpn_3_1_1, [11]) (IVs)\n",
      "    Input(Catg_EdgeRelationTemplateSpn_3_1_1, [1]) (IVs)\n",
      "    Input(Catg_EdgeRelationTemplateSpn_3_1_1, [7]) (IVs)\n",
      "Products1/Product57 (Product)\n",
      "    Input(Catg_EdgeRelationTemplateSpn_3_1_1, [8]) (IVs)\n",
      "    Input(Catg_EdgeRelationTemplateSpn_3_1_1, [2]) (IVs)\n",
      "    Input(Catg_EdgeRelationTemplateSpn_3_1_1, [7]) (IVs)\n",
      "Products1/Product58 (Product)\n",
      "    Input(Catg_EdgeRelationTemplateSpn_3_1_1, [9]) (IVs)\n",
      "    Input(Catg_EdgeRelationTemplateSpn_3_1_1, [2]) (IVs)\n",
      "    Input(Catg_EdgeRelationTemplateSpn_3_1_1, [7]) (IVs)\n",
      "Products1/Product59 (Product)\n",
      "    Input(Catg_EdgeRelationTemplateSpn_3_1_1, [10]) (IVs)\n",
      "    Input(Catg_EdgeRelationTemplateSpn_3_1_1, [2]) (IVs)\n",
      "    Input(Catg_EdgeRelationTemplateSpn_3_1_1, [7]) (IVs)\n",
      "Products1/Product60 (Product)\n",
      "    Input(Catg_EdgeRelationTemplateSpn_3_1_1, [11]) (IVs)\n",
      "    Input(Catg_EdgeRelationTemplateSpn_3_1_1, [2]) (IVs)\n",
      "    Input(Catg_EdgeRelationTemplateSpn_3_1_1, [7]) (IVs)\n",
      "Products1/Product61 (Product)\n",
      "    Input(Catg_EdgeRelationTemplateSpn_3_1_1, [8]) (IVs)\n",
      "    Input(Catg_EdgeRelationTemplateSpn_3_1_1, [3]) (IVs)\n",
      "    Input(Catg_EdgeRelationTemplateSpn_3_1_1, [7]) (IVs)\n",
      "Products1/Product62 (Product)\n",
      "    Input(Catg_EdgeRelationTemplateSpn_3_1_1, [9]) (IVs)\n",
      "    Input(Catg_EdgeRelationTemplateSpn_3_1_1, [3]) (IVs)\n",
      "    Input(Catg_EdgeRelationTemplateSpn_3_1_1, [7]) (IVs)\n",
      "Products1/Product63 (Product)\n",
      "    Input(Catg_EdgeRelationTemplateSpn_3_1_1, [10]) (IVs)\n",
      "    Input(Catg_EdgeRelationTemplateSpn_3_1_1, [3]) (IVs)\n",
      "    Input(Catg_EdgeRelationTemplateSpn_3_1_1, [7]) (IVs)\n",
      "Products1/Product64 (Product)\n",
      "    Input(Catg_EdgeRelationTemplateSpn_3_1_1, [11]) (IVs)\n",
      "    Input(Catg_EdgeRelationTemplateSpn_3_1_1, [3]) (IVs)\n",
      "    Input(Catg_EdgeRelationTemplateSpn_3_1_1, [7]) (IVs)\n"
     ]
    },
    {
     "data": {
      "text/html": [
       "<svg id=\"S0199102082f94fdf8e738e6a8ea274cd\" width=\"950\" height=\"800\"></svg>\n",
       "<script>\n",
       " require.config({\n",
       "   paths: {\n",
       "     d3: 'https://d3js.org/d3.v4.min'\n",
       "   }\n",
       " });\n",
       " require(['d3'], function(d3){\n",
       "\n",
       "   var graph = {\"nodes\": [{\"type\": 1, \"id\": \"Products1/Product64\", \"tooltip\": \"Products1/Product64\", \"name\": \"Products1/Product64\"}, {\"type\": 0, \"id\": \"Catg_EdgeRelationTemplateSpn_3_1_1_1\", \"tooltip\": \"Catg_EdgeRelationTemplateSpn_3_1_1\", \"name\": \"Catg_EdgeRelationTemplateSpn_3_1_1[11]\"}, {\"type\": 0, \"id\": \"Catg_EdgeRelationTemplateSpn_3_1_1_2\", \"tooltip\": \"Catg_EdgeRelationTemplateSpn_3_1_1\", \"name\": \"Catg_EdgeRelationTemplateSpn_3_1_1[3]\"}, {\"type\": 0, \"id\": \"Catg_EdgeRelationTemplateSpn_3_1_1_3\", \"tooltip\": \"Catg_EdgeRelationTemplateSpn_3_1_1\", \"name\": \"Catg_EdgeRelationTemplateSpn_3_1_1[7]\"}, {\"type\": 1, \"id\": \"Products1/Product63\", \"tooltip\": \"Products1/Product63\", \"name\": \"Products1/Product63\"}, {\"type\": 0, \"id\": \"Catg_EdgeRelationTemplateSpn_3_1_1_4\", \"tooltip\": \"Catg_EdgeRelationTemplateSpn_3_1_1\", \"name\": \"Catg_EdgeRelationTemplateSpn_3_1_1[10]\"}, {\"type\": 0, \"id\": \"Catg_EdgeRelationTemplateSpn_3_1_1_5\", \"tooltip\": \"Catg_EdgeRelationTemplateSpn_3_1_1\", \"name\": \"Catg_EdgeRelationTemplateSpn_3_1_1[3]\"}, {\"type\": 0, \"id\": \"Catg_EdgeRelationTemplateSpn_3_1_1_6\", \"tooltip\": \"Catg_EdgeRelationTemplateSpn_3_1_1\", \"name\": \"Catg_EdgeRelationTemplateSpn_3_1_1[7]\"}, {\"type\": 1, \"id\": \"Products1/Product62\", \"tooltip\": \"Products1/Product62\", \"name\": \"Products1/Product62\"}, {\"type\": 0, \"id\": \"Catg_EdgeRelationTemplateSpn_3_1_1_7\", \"tooltip\": \"Catg_EdgeRelationTemplateSpn_3_1_1\", \"name\": \"Catg_EdgeRelationTemplateSpn_3_1_1[9]\"}, {\"type\": 0, \"id\": \"Catg_EdgeRelationTemplateSpn_3_1_1_8\", \"tooltip\": \"Catg_EdgeRelationTemplateSpn_3_1_1\", \"name\": \"Catg_EdgeRelationTemplateSpn_3_1_1[3]\"}, {\"type\": 0, \"id\": \"Catg_EdgeRelationTemplateSpn_3_1_1_9\", \"tooltip\": \"Catg_EdgeRelationTemplateSpn_3_1_1\", \"name\": \"Catg_EdgeRelationTemplateSpn_3_1_1[7]\"}, {\"type\": 1, \"id\": \"Products1/Product61\", \"tooltip\": \"Products1/Product61\", \"name\": \"Products1/Product61\"}, {\"type\": 0, \"id\": \"Catg_EdgeRelationTemplateSpn_3_1_1_10\", \"tooltip\": \"Catg_EdgeRelationTemplateSpn_3_1_1\", \"name\": \"Catg_EdgeRelationTemplateSpn_3_1_1[8]\"}, {\"type\": 0, \"id\": \"Catg_EdgeRelationTemplateSpn_3_1_1_11\", \"tooltip\": \"Catg_EdgeRelationTemplateSpn_3_1_1\", \"name\": \"Catg_EdgeRelationTemplateSpn_3_1_1[3]\"}, {\"type\": 0, \"id\": \"Catg_EdgeRelationTemplateSpn_3_1_1_12\", \"tooltip\": \"Catg_EdgeRelationTemplateSpn_3_1_1\", \"name\": \"Catg_EdgeRelationTemplateSpn_3_1_1[7]\"}, {\"type\": 1, \"id\": \"Products1/Product60\", \"tooltip\": \"Products1/Product60\", \"name\": \"Products1/Product60\"}, {\"type\": 0, \"id\": \"Catg_EdgeRelationTemplateSpn_3_1_1_13\", \"tooltip\": \"Catg_EdgeRelationTemplateSpn_3_1_1\", \"name\": \"Catg_EdgeRelationTemplateSpn_3_1_1[11]\"}, {\"type\": 0, \"id\": \"Catg_EdgeRelationTemplateSpn_3_1_1_14\", \"tooltip\": \"Catg_EdgeRelationTemplateSpn_3_1_1\", \"name\": \"Catg_EdgeRelationTemplateSpn_3_1_1[2]\"}, {\"type\": 0, \"id\": \"Catg_EdgeRelationTemplateSpn_3_1_1_15\", \"tooltip\": \"Catg_EdgeRelationTemplateSpn_3_1_1\", \"name\": \"Catg_EdgeRelationTemplateSpn_3_1_1[7]\"}, {\"type\": 1, \"id\": \"Products1/Product59\", \"tooltip\": \"Products1/Product59\", \"name\": \"Products1/Product59\"}, {\"type\": 0, \"id\": \"Catg_EdgeRelationTemplateSpn_3_1_1_16\", \"tooltip\": \"Catg_EdgeRelationTemplateSpn_3_1_1\", \"name\": \"Catg_EdgeRelationTemplateSpn_3_1_1[10]\"}, {\"type\": 0, \"id\": \"Catg_EdgeRelationTemplateSpn_3_1_1_17\", \"tooltip\": \"Catg_EdgeRelationTemplateSpn_3_1_1\", \"name\": \"Catg_EdgeRelationTemplateSpn_3_1_1[2]\"}, {\"type\": 0, \"id\": \"Catg_EdgeRelationTemplateSpn_3_1_1_18\", \"tooltip\": \"Catg_EdgeRelationTemplateSpn_3_1_1\", \"name\": \"Catg_EdgeRelationTemplateSpn_3_1_1[7]\"}, {\"type\": 1, \"id\": \"Products1/Product58\", \"tooltip\": \"Products1/Product58\", \"name\": \"Products1/Product58\"}, {\"type\": 0, \"id\": \"Catg_EdgeRelationTemplateSpn_3_1_1_19\", \"tooltip\": \"Catg_EdgeRelationTemplateSpn_3_1_1\", \"name\": \"Catg_EdgeRelationTemplateSpn_3_1_1[9]\"}, {\"type\": 0, \"id\": \"Catg_EdgeRelationTemplateSpn_3_1_1_20\", \"tooltip\": \"Catg_EdgeRelationTemplateSpn_3_1_1\", \"name\": \"Catg_EdgeRelationTemplateSpn_3_1_1[2]\"}, {\"type\": 0, \"id\": \"Catg_EdgeRelationTemplateSpn_3_1_1_21\", \"tooltip\": \"Catg_EdgeRelationTemplateSpn_3_1_1\", \"name\": \"Catg_EdgeRelationTemplateSpn_3_1_1[7]\"}, {\"type\": 1, \"id\": \"Products1/Product57\", \"tooltip\": \"Products1/Product57\", \"name\": \"Products1/Product57\"}, {\"type\": 0, \"id\": \"Catg_EdgeRelationTemplateSpn_3_1_1_22\", \"tooltip\": \"Catg_EdgeRelationTemplateSpn_3_1_1\", \"name\": \"Catg_EdgeRelationTemplateSpn_3_1_1[8]\"}, {\"type\": 0, \"id\": \"Catg_EdgeRelationTemplateSpn_3_1_1_23\", \"tooltip\": \"Catg_EdgeRelationTemplateSpn_3_1_1\", \"name\": \"Catg_EdgeRelationTemplateSpn_3_1_1[2]\"}, {\"type\": 0, \"id\": \"Catg_EdgeRelationTemplateSpn_3_1_1_24\", \"tooltip\": \"Catg_EdgeRelationTemplateSpn_3_1_1\", \"name\": \"Catg_EdgeRelationTemplateSpn_3_1_1[7]\"}, {\"type\": 1, \"id\": \"Products1/Product56\", \"tooltip\": \"Products1/Product56\", \"name\": \"Products1/Product56\"}, {\"type\": 0, \"id\": \"Catg_EdgeRelationTemplateSpn_3_1_1_25\", \"tooltip\": \"Catg_EdgeRelationTemplateSpn_3_1_1\", \"name\": \"Catg_EdgeRelationTemplateSpn_3_1_1[11]\"}, {\"type\": 0, \"id\": \"Catg_EdgeRelationTemplateSpn_3_1_1_26\", \"tooltip\": \"Catg_EdgeRelationTemplateSpn_3_1_1\", \"name\": \"Catg_EdgeRelationTemplateSpn_3_1_1[1]\"}, {\"type\": 0, \"id\": \"Catg_EdgeRelationTemplateSpn_3_1_1_27\", \"tooltip\": \"Catg_EdgeRelationTemplateSpn_3_1_1\", \"name\": \"Catg_EdgeRelationTemplateSpn_3_1_1[7]\"}, {\"type\": 1, \"id\": \"Products1/Product55\", \"tooltip\": \"Products1/Product55\", \"name\": \"Products1/Product55\"}, {\"type\": 0, \"id\": \"Catg_EdgeRelationTemplateSpn_3_1_1_28\", \"tooltip\": \"Catg_EdgeRelationTemplateSpn_3_1_1\", \"name\": \"Catg_EdgeRelationTemplateSpn_3_1_1[10]\"}, {\"type\": 0, \"id\": \"Catg_EdgeRelationTemplateSpn_3_1_1_29\", \"tooltip\": \"Catg_EdgeRelationTemplateSpn_3_1_1\", \"name\": \"Catg_EdgeRelationTemplateSpn_3_1_1[1]\"}, {\"type\": 0, \"id\": \"Catg_EdgeRelationTemplateSpn_3_1_1_30\", \"tooltip\": \"Catg_EdgeRelationTemplateSpn_3_1_1\", \"name\": \"Catg_EdgeRelationTemplateSpn_3_1_1[7]\"}, {\"type\": 1, \"id\": \"Products1/Product54\", \"tooltip\": \"Products1/Product54\", \"name\": \"Products1/Product54\"}, {\"type\": 0, \"id\": \"Catg_EdgeRelationTemplateSpn_3_1_1_31\", \"tooltip\": \"Catg_EdgeRelationTemplateSpn_3_1_1\", \"name\": \"Catg_EdgeRelationTemplateSpn_3_1_1[9]\"}, {\"type\": 0, \"id\": \"Catg_EdgeRelationTemplateSpn_3_1_1_32\", \"tooltip\": \"Catg_EdgeRelationTemplateSpn_3_1_1\", \"name\": \"Catg_EdgeRelationTemplateSpn_3_1_1[1]\"}, {\"type\": 0, \"id\": \"Catg_EdgeRelationTemplateSpn_3_1_1_33\", \"tooltip\": \"Catg_EdgeRelationTemplateSpn_3_1_1\", \"name\": \"Catg_EdgeRelationTemplateSpn_3_1_1[7]\"}, {\"type\": 1, \"id\": \"Products1/Product53\", \"tooltip\": \"Products1/Product53\", \"name\": \"Products1/Product53\"}, {\"type\": 0, \"id\": \"Catg_EdgeRelationTemplateSpn_3_1_1_34\", \"tooltip\": \"Catg_EdgeRelationTemplateSpn_3_1_1\", \"name\": \"Catg_EdgeRelationTemplateSpn_3_1_1[8]\"}, {\"type\": 0, \"id\": \"Catg_EdgeRelationTemplateSpn_3_1_1_35\", \"tooltip\": \"Catg_EdgeRelationTemplateSpn_3_1_1\", \"name\": \"Catg_EdgeRelationTemplateSpn_3_1_1[1]\"}, {\"type\": 0, \"id\": \"Catg_EdgeRelationTemplateSpn_3_1_1_36\", \"tooltip\": \"Catg_EdgeRelationTemplateSpn_3_1_1\", \"name\": \"Catg_EdgeRelationTemplateSpn_3_1_1[7]\"}, {\"type\": 1, \"id\": \"Products1/Product52\", \"tooltip\": \"Products1/Product52\", \"name\": \"Products1/Product52\"}, {\"type\": 0, \"id\": \"Catg_EdgeRelationTemplateSpn_3_1_1_37\", \"tooltip\": \"Catg_EdgeRelationTemplateSpn_3_1_1\", \"name\": \"Catg_EdgeRelationTemplateSpn_3_1_1[11]\"}, {\"type\": 0, \"id\": \"Catg_EdgeRelationTemplateSpn_3_1_1_38\", \"tooltip\": \"Catg_EdgeRelationTemplateSpn_3_1_1\", \"name\": \"Catg_EdgeRelationTemplateSpn_3_1_1[0]\"}, {\"type\": 0, \"id\": \"Catg_EdgeRelationTemplateSpn_3_1_1_39\", \"tooltip\": \"Catg_EdgeRelationTemplateSpn_3_1_1\", \"name\": \"Catg_EdgeRelationTemplateSpn_3_1_1[7]\"}, {\"type\": 1, \"id\": \"Products1/Product51\", \"tooltip\": \"Products1/Product51\", \"name\": \"Products1/Product51\"}, {\"type\": 0, \"id\": \"Catg_EdgeRelationTemplateSpn_3_1_1_40\", \"tooltip\": \"Catg_EdgeRelationTemplateSpn_3_1_1\", \"name\": \"Catg_EdgeRelationTemplateSpn_3_1_1[10]\"}, {\"type\": 0, \"id\": \"Catg_EdgeRelationTemplateSpn_3_1_1_41\", \"tooltip\": \"Catg_EdgeRelationTemplateSpn_3_1_1\", \"name\": \"Catg_EdgeRelationTemplateSpn_3_1_1[0]\"}, {\"type\": 0, \"id\": \"Catg_EdgeRelationTemplateSpn_3_1_1_42\", \"tooltip\": \"Catg_EdgeRelationTemplateSpn_3_1_1\", \"name\": \"Catg_EdgeRelationTemplateSpn_3_1_1[7]\"}, {\"type\": 1, \"id\": \"Products1/Product50\", \"tooltip\": \"Products1/Product50\", \"name\": \"Products1/Product50\"}, {\"type\": 0, \"id\": \"Catg_EdgeRelationTemplateSpn_3_1_1_43\", \"tooltip\": \"Catg_EdgeRelationTemplateSpn_3_1_1\", \"name\": \"Catg_EdgeRelationTemplateSpn_3_1_1[9]\"}, {\"type\": 0, \"id\": \"Catg_EdgeRelationTemplateSpn_3_1_1_44\", \"tooltip\": \"Catg_EdgeRelationTemplateSpn_3_1_1\", \"name\": \"Catg_EdgeRelationTemplateSpn_3_1_1[0]\"}, {\"type\": 0, \"id\": \"Catg_EdgeRelationTemplateSpn_3_1_1_45\", \"tooltip\": \"Catg_EdgeRelationTemplateSpn_3_1_1\", \"name\": \"Catg_EdgeRelationTemplateSpn_3_1_1[7]\"}, {\"type\": 1, \"id\": \"Products1/Product49\", \"tooltip\": \"Products1/Product49\", \"name\": \"Products1/Product49\"}, {\"type\": 0, \"id\": \"Catg_EdgeRelationTemplateSpn_3_1_1_46\", \"tooltip\": \"Catg_EdgeRelationTemplateSpn_3_1_1\", \"name\": \"Catg_EdgeRelationTemplateSpn_3_1_1[8]\"}, {\"type\": 0, \"id\": \"Catg_EdgeRelationTemplateSpn_3_1_1_47\", \"tooltip\": \"Catg_EdgeRelationTemplateSpn_3_1_1\", \"name\": \"Catg_EdgeRelationTemplateSpn_3_1_1[0]\"}, {\"type\": 0, \"id\": \"Catg_EdgeRelationTemplateSpn_3_1_1_48\", \"tooltip\": \"Catg_EdgeRelationTemplateSpn_3_1_1\", \"name\": \"Catg_EdgeRelationTemplateSpn_3_1_1[7]\"}, {\"type\": 1, \"id\": \"Products1/Product48\", \"tooltip\": \"Products1/Product48\", \"name\": \"Products1/Product48\"}, {\"type\": 0, \"id\": \"Catg_EdgeRelationTemplateSpn_3_1_1_49\", \"tooltip\": \"Catg_EdgeRelationTemplateSpn_3_1_1\", \"name\": \"Catg_EdgeRelationTemplateSpn_3_1_1[11]\"}, {\"type\": 0, \"id\": \"Catg_EdgeRelationTemplateSpn_3_1_1_50\", \"tooltip\": \"Catg_EdgeRelationTemplateSpn_3_1_1\", \"name\": \"Catg_EdgeRelationTemplateSpn_3_1_1[3]\"}, {\"type\": 0, \"id\": \"Catg_EdgeRelationTemplateSpn_3_1_1_51\", \"tooltip\": \"Catg_EdgeRelationTemplateSpn_3_1_1\", \"name\": \"Catg_EdgeRelationTemplateSpn_3_1_1[6]\"}, {\"type\": 1, \"id\": \"Products1/Product47\", \"tooltip\": \"Products1/Product47\", \"name\": \"Products1/Product47\"}, {\"type\": 0, \"id\": \"Catg_EdgeRelationTemplateSpn_3_1_1_52\", \"tooltip\": \"Catg_EdgeRelationTemplateSpn_3_1_1\", \"name\": \"Catg_EdgeRelationTemplateSpn_3_1_1[10]\"}, {\"type\": 0, \"id\": \"Catg_EdgeRelationTemplateSpn_3_1_1_53\", \"tooltip\": \"Catg_EdgeRelationTemplateSpn_3_1_1\", \"name\": \"Catg_EdgeRelationTemplateSpn_3_1_1[3]\"}, {\"type\": 0, \"id\": \"Catg_EdgeRelationTemplateSpn_3_1_1_54\", \"tooltip\": \"Catg_EdgeRelationTemplateSpn_3_1_1\", \"name\": \"Catg_EdgeRelationTemplateSpn_3_1_1[6]\"}, {\"type\": 1, \"id\": \"Products1/Product46\", \"tooltip\": \"Products1/Product46\", \"name\": \"Products1/Product46\"}, {\"type\": 0, \"id\": \"Catg_EdgeRelationTemplateSpn_3_1_1_55\", \"tooltip\": \"Catg_EdgeRelationTemplateSpn_3_1_1\", \"name\": \"Catg_EdgeRelationTemplateSpn_3_1_1[9]\"}, {\"type\": 0, \"id\": \"Catg_EdgeRelationTemplateSpn_3_1_1_56\", \"tooltip\": \"Catg_EdgeRelationTemplateSpn_3_1_1\", \"name\": \"Catg_EdgeRelationTemplateSpn_3_1_1[3]\"}, {\"type\": 0, \"id\": \"Catg_EdgeRelationTemplateSpn_3_1_1_57\", \"tooltip\": \"Catg_EdgeRelationTemplateSpn_3_1_1\", \"name\": \"Catg_EdgeRelationTemplateSpn_3_1_1[6]\"}, {\"type\": 1, \"id\": \"Products1/Product45\", \"tooltip\": \"Products1/Product45\", \"name\": \"Products1/Product45\"}, {\"type\": 0, \"id\": \"Catg_EdgeRelationTemplateSpn_3_1_1_58\", \"tooltip\": \"Catg_EdgeRelationTemplateSpn_3_1_1\", \"name\": \"Catg_EdgeRelationTemplateSpn_3_1_1[8]\"}, {\"type\": 0, \"id\": \"Catg_EdgeRelationTemplateSpn_3_1_1_59\", \"tooltip\": \"Catg_EdgeRelationTemplateSpn_3_1_1\", \"name\": \"Catg_EdgeRelationTemplateSpn_3_1_1[3]\"}, {\"type\": 0, \"id\": \"Catg_EdgeRelationTemplateSpn_3_1_1_60\", \"tooltip\": \"Catg_EdgeRelationTemplateSpn_3_1_1\", \"name\": \"Catg_EdgeRelationTemplateSpn_3_1_1[6]\"}, {\"type\": 1, \"id\": \"Products1/Product44\", \"tooltip\": \"Products1/Product44\", \"name\": \"Products1/Product44\"}, {\"type\": 0, \"id\": \"Catg_EdgeRelationTemplateSpn_3_1_1_61\", \"tooltip\": \"Catg_EdgeRelationTemplateSpn_3_1_1\", \"name\": \"Catg_EdgeRelationTemplateSpn_3_1_1[11]\"}, {\"type\": 0, \"id\": \"Catg_EdgeRelationTemplateSpn_3_1_1_62\", \"tooltip\": \"Catg_EdgeRelationTemplateSpn_3_1_1\", \"name\": \"Catg_EdgeRelationTemplateSpn_3_1_1[2]\"}, {\"type\": 0, \"id\": \"Catg_EdgeRelationTemplateSpn_3_1_1_63\", \"tooltip\": \"Catg_EdgeRelationTemplateSpn_3_1_1\", \"name\": \"Catg_EdgeRelationTemplateSpn_3_1_1[6]\"}, {\"type\": 1, \"id\": \"Products1/Product43\", \"tooltip\": \"Products1/Product43\", \"name\": \"Products1/Product43\"}, {\"type\": 0, \"id\": \"Catg_EdgeRelationTemplateSpn_3_1_1_64\", \"tooltip\": \"Catg_EdgeRelationTemplateSpn_3_1_1\", \"name\": \"Catg_EdgeRelationTemplateSpn_3_1_1[10]\"}, {\"type\": 0, \"id\": \"Catg_EdgeRelationTemplateSpn_3_1_1_65\", \"tooltip\": \"Catg_EdgeRelationTemplateSpn_3_1_1\", \"name\": \"Catg_EdgeRelationTemplateSpn_3_1_1[2]\"}, {\"type\": 0, \"id\": \"Catg_EdgeRelationTemplateSpn_3_1_1_66\", \"tooltip\": \"Catg_EdgeRelationTemplateSpn_3_1_1\", \"name\": \"Catg_EdgeRelationTemplateSpn_3_1_1[6]\"}, {\"type\": 1, \"id\": \"Products1/Product42\", \"tooltip\": \"Products1/Product42\", \"name\": \"Products1/Product42\"}, {\"type\": 0, \"id\": \"Catg_EdgeRelationTemplateSpn_3_1_1_67\", \"tooltip\": \"Catg_EdgeRelationTemplateSpn_3_1_1\", \"name\": \"Catg_EdgeRelationTemplateSpn_3_1_1[9]\"}, {\"type\": 0, \"id\": \"Catg_EdgeRelationTemplateSpn_3_1_1_68\", \"tooltip\": \"Catg_EdgeRelationTemplateSpn_3_1_1\", \"name\": \"Catg_EdgeRelationTemplateSpn_3_1_1[2]\"}, {\"type\": 0, \"id\": \"Catg_EdgeRelationTemplateSpn_3_1_1_69\", \"tooltip\": \"Catg_EdgeRelationTemplateSpn_3_1_1\", \"name\": \"Catg_EdgeRelationTemplateSpn_3_1_1[6]\"}, {\"type\": 1, \"id\": \"Products1/Product41\", \"tooltip\": \"Products1/Product41\", \"name\": \"Products1/Product41\"}, {\"type\": 0, \"id\": \"Catg_EdgeRelationTemplateSpn_3_1_1_70\", \"tooltip\": \"Catg_EdgeRelationTemplateSpn_3_1_1\", \"name\": \"Catg_EdgeRelationTemplateSpn_3_1_1[8]\"}, {\"type\": 0, \"id\": \"Catg_EdgeRelationTemplateSpn_3_1_1_71\", \"tooltip\": \"Catg_EdgeRelationTemplateSpn_3_1_1\", \"name\": \"Catg_EdgeRelationTemplateSpn_3_1_1[2]\"}, {\"type\": 0, \"id\": \"Catg_EdgeRelationTemplateSpn_3_1_1_72\", \"tooltip\": \"Catg_EdgeRelationTemplateSpn_3_1_1\", \"name\": \"Catg_EdgeRelationTemplateSpn_3_1_1[6]\"}, {\"type\": 1, \"id\": \"Products1/Product40\", \"tooltip\": \"Products1/Product40\", \"name\": \"Products1/Product40\"}, {\"type\": 0, \"id\": \"Catg_EdgeRelationTemplateSpn_3_1_1_73\", \"tooltip\": \"Catg_EdgeRelationTemplateSpn_3_1_1\", \"name\": \"Catg_EdgeRelationTemplateSpn_3_1_1[11]\"}, {\"type\": 0, \"id\": \"Catg_EdgeRelationTemplateSpn_3_1_1_74\", \"tooltip\": \"Catg_EdgeRelationTemplateSpn_3_1_1\", \"name\": \"Catg_EdgeRelationTemplateSpn_3_1_1[1]\"}, {\"type\": 0, \"id\": \"Catg_EdgeRelationTemplateSpn_3_1_1_75\", \"tooltip\": \"Catg_EdgeRelationTemplateSpn_3_1_1\", \"name\": \"Catg_EdgeRelationTemplateSpn_3_1_1[6]\"}, {\"type\": 1, \"id\": \"Products1/Product39\", \"tooltip\": \"Products1/Product39\", \"name\": \"Products1/Product39\"}, {\"type\": 0, \"id\": \"Catg_EdgeRelationTemplateSpn_3_1_1_76\", \"tooltip\": \"Catg_EdgeRelationTemplateSpn_3_1_1\", \"name\": \"Catg_EdgeRelationTemplateSpn_3_1_1[10]\"}, {\"type\": 0, \"id\": \"Catg_EdgeRelationTemplateSpn_3_1_1_77\", \"tooltip\": \"Catg_EdgeRelationTemplateSpn_3_1_1\", \"name\": \"Catg_EdgeRelationTemplateSpn_3_1_1[1]\"}, {\"type\": 0, \"id\": \"Catg_EdgeRelationTemplateSpn_3_1_1_78\", \"tooltip\": \"Catg_EdgeRelationTemplateSpn_3_1_1\", \"name\": \"Catg_EdgeRelationTemplateSpn_3_1_1[6]\"}, {\"type\": 1, \"id\": \"Products1/Product38\", \"tooltip\": \"Products1/Product38\", \"name\": \"Products1/Product38\"}, {\"type\": 0, \"id\": \"Catg_EdgeRelationTemplateSpn_3_1_1_79\", \"tooltip\": \"Catg_EdgeRelationTemplateSpn_3_1_1\", \"name\": \"Catg_EdgeRelationTemplateSpn_3_1_1[9]\"}, {\"type\": 0, \"id\": \"Catg_EdgeRelationTemplateSpn_3_1_1_80\", \"tooltip\": \"Catg_EdgeRelationTemplateSpn_3_1_1\", \"name\": \"Catg_EdgeRelationTemplateSpn_3_1_1[1]\"}, {\"type\": 0, \"id\": \"Catg_EdgeRelationTemplateSpn_3_1_1_81\", \"tooltip\": \"Catg_EdgeRelationTemplateSpn_3_1_1\", \"name\": \"Catg_EdgeRelationTemplateSpn_3_1_1[6]\"}, {\"type\": 1, \"id\": \"Products1/Product37\", \"tooltip\": \"Products1/Product37\", \"name\": \"Products1/Product37\"}, {\"type\": 0, \"id\": \"Catg_EdgeRelationTemplateSpn_3_1_1_82\", \"tooltip\": \"Catg_EdgeRelationTemplateSpn_3_1_1\", \"name\": \"Catg_EdgeRelationTemplateSpn_3_1_1[8]\"}, {\"type\": 0, \"id\": \"Catg_EdgeRelationTemplateSpn_3_1_1_83\", \"tooltip\": \"Catg_EdgeRelationTemplateSpn_3_1_1\", \"name\": \"Catg_EdgeRelationTemplateSpn_3_1_1[1]\"}, {\"type\": 0, \"id\": \"Catg_EdgeRelationTemplateSpn_3_1_1_84\", \"tooltip\": \"Catg_EdgeRelationTemplateSpn_3_1_1\", \"name\": \"Catg_EdgeRelationTemplateSpn_3_1_1[6]\"}, {\"type\": 1, \"id\": \"Products1/Product36\", \"tooltip\": \"Products1/Product36\", \"name\": \"Products1/Product36\"}, {\"type\": 0, \"id\": \"Catg_EdgeRelationTemplateSpn_3_1_1_85\", \"tooltip\": \"Catg_EdgeRelationTemplateSpn_3_1_1\", \"name\": \"Catg_EdgeRelationTemplateSpn_3_1_1[11]\"}, {\"type\": 0, \"id\": \"Catg_EdgeRelationTemplateSpn_3_1_1_86\", \"tooltip\": \"Catg_EdgeRelationTemplateSpn_3_1_1\", \"name\": \"Catg_EdgeRelationTemplateSpn_3_1_1[0]\"}, {\"type\": 0, \"id\": \"Catg_EdgeRelationTemplateSpn_3_1_1_87\", \"tooltip\": \"Catg_EdgeRelationTemplateSpn_3_1_1\", \"name\": \"Catg_EdgeRelationTemplateSpn_3_1_1[6]\"}, {\"type\": 1, \"id\": \"Products1/Product35\", \"tooltip\": \"Products1/Product35\", \"name\": \"Products1/Product35\"}, {\"type\": 0, \"id\": \"Catg_EdgeRelationTemplateSpn_3_1_1_88\", \"tooltip\": \"Catg_EdgeRelationTemplateSpn_3_1_1\", \"name\": \"Catg_EdgeRelationTemplateSpn_3_1_1[10]\"}, {\"type\": 0, \"id\": \"Catg_EdgeRelationTemplateSpn_3_1_1_89\", \"tooltip\": \"Catg_EdgeRelationTemplateSpn_3_1_1\", \"name\": \"Catg_EdgeRelationTemplateSpn_3_1_1[0]\"}, {\"type\": 0, \"id\": \"Catg_EdgeRelationTemplateSpn_3_1_1_90\", \"tooltip\": \"Catg_EdgeRelationTemplateSpn_3_1_1\", \"name\": \"Catg_EdgeRelationTemplateSpn_3_1_1[6]\"}, {\"type\": 1, \"id\": \"Products1/Product34\", \"tooltip\": \"Products1/Product34\", \"name\": \"Products1/Product34\"}, {\"type\": 0, \"id\": \"Catg_EdgeRelationTemplateSpn_3_1_1_91\", \"tooltip\": \"Catg_EdgeRelationTemplateSpn_3_1_1\", \"name\": \"Catg_EdgeRelationTemplateSpn_3_1_1[9]\"}, {\"type\": 0, \"id\": \"Catg_EdgeRelationTemplateSpn_3_1_1_92\", \"tooltip\": \"Catg_EdgeRelationTemplateSpn_3_1_1\", \"name\": \"Catg_EdgeRelationTemplateSpn_3_1_1[0]\"}, {\"type\": 0, \"id\": \"Catg_EdgeRelationTemplateSpn_3_1_1_93\", \"tooltip\": \"Catg_EdgeRelationTemplateSpn_3_1_1\", \"name\": \"Catg_EdgeRelationTemplateSpn_3_1_1[6]\"}, {\"type\": 1, \"id\": \"Products1/Product33\", \"tooltip\": \"Products1/Product33\", \"name\": \"Products1/Product33\"}, {\"type\": 0, \"id\": \"Catg_EdgeRelationTemplateSpn_3_1_1_94\", \"tooltip\": \"Catg_EdgeRelationTemplateSpn_3_1_1\", \"name\": \"Catg_EdgeRelationTemplateSpn_3_1_1[8]\"}, {\"type\": 0, \"id\": \"Catg_EdgeRelationTemplateSpn_3_1_1_95\", \"tooltip\": \"Catg_EdgeRelationTemplateSpn_3_1_1\", \"name\": \"Catg_EdgeRelationTemplateSpn_3_1_1[0]\"}, {\"type\": 0, \"id\": \"Catg_EdgeRelationTemplateSpn_3_1_1_96\", \"tooltip\": \"Catg_EdgeRelationTemplateSpn_3_1_1\", \"name\": \"Catg_EdgeRelationTemplateSpn_3_1_1[6]\"}, {\"type\": 1, \"id\": \"Products1/Product32\", \"tooltip\": \"Products1/Product32\", \"name\": \"Products1/Product32\"}, {\"type\": 0, \"id\": \"Catg_EdgeRelationTemplateSpn_3_1_1_97\", \"tooltip\": \"Catg_EdgeRelationTemplateSpn_3_1_1\", \"name\": \"Catg_EdgeRelationTemplateSpn_3_1_1[11]\"}, {\"type\": 0, \"id\": \"Catg_EdgeRelationTemplateSpn_3_1_1_98\", \"tooltip\": \"Catg_EdgeRelationTemplateSpn_3_1_1\", \"name\": \"Catg_EdgeRelationTemplateSpn_3_1_1[3]\"}, {\"type\": 0, \"id\": \"Catg_EdgeRelationTemplateSpn_3_1_1_99\", \"tooltip\": \"Catg_EdgeRelationTemplateSpn_3_1_1\", \"name\": \"Catg_EdgeRelationTemplateSpn_3_1_1[5]\"}, {\"type\": 1, \"id\": \"Products1/Product31\", \"tooltip\": \"Products1/Product31\", \"name\": \"Products1/Product31\"}, {\"type\": 0, \"id\": \"Catg_EdgeRelationTemplateSpn_3_1_1_100\", \"tooltip\": \"Catg_EdgeRelationTemplateSpn_3_1_1\", \"name\": \"Catg_EdgeRelationTemplateSpn_3_1_1[10]\"}, {\"type\": 0, \"id\": \"Catg_EdgeRelationTemplateSpn_3_1_1_101\", \"tooltip\": \"Catg_EdgeRelationTemplateSpn_3_1_1\", \"name\": \"Catg_EdgeRelationTemplateSpn_3_1_1[3]\"}, {\"type\": 0, \"id\": \"Catg_EdgeRelationTemplateSpn_3_1_1_102\", \"tooltip\": \"Catg_EdgeRelationTemplateSpn_3_1_1\", \"name\": \"Catg_EdgeRelationTemplateSpn_3_1_1[5]\"}, {\"type\": 1, \"id\": \"Products1/Product30\", \"tooltip\": \"Products1/Product30\", \"name\": \"Products1/Product30\"}, {\"type\": 0, \"id\": \"Catg_EdgeRelationTemplateSpn_3_1_1_103\", \"tooltip\": \"Catg_EdgeRelationTemplateSpn_3_1_1\", \"name\": \"Catg_EdgeRelationTemplateSpn_3_1_1[9]\"}, {\"type\": 0, \"id\": \"Catg_EdgeRelationTemplateSpn_3_1_1_104\", \"tooltip\": \"Catg_EdgeRelationTemplateSpn_3_1_1\", \"name\": \"Catg_EdgeRelationTemplateSpn_3_1_1[3]\"}, {\"type\": 0, \"id\": \"Catg_EdgeRelationTemplateSpn_3_1_1_105\", \"tooltip\": \"Catg_EdgeRelationTemplateSpn_3_1_1\", \"name\": \"Catg_EdgeRelationTemplateSpn_3_1_1[5]\"}, {\"type\": 1, \"id\": \"Products1/Product29\", \"tooltip\": \"Products1/Product29\", \"name\": \"Products1/Product29\"}, {\"type\": 0, \"id\": \"Catg_EdgeRelationTemplateSpn_3_1_1_106\", \"tooltip\": \"Catg_EdgeRelationTemplateSpn_3_1_1\", \"name\": \"Catg_EdgeRelationTemplateSpn_3_1_1[8]\"}, {\"type\": 0, \"id\": \"Catg_EdgeRelationTemplateSpn_3_1_1_107\", \"tooltip\": \"Catg_EdgeRelationTemplateSpn_3_1_1\", \"name\": \"Catg_EdgeRelationTemplateSpn_3_1_1[3]\"}, {\"type\": 0, \"id\": \"Catg_EdgeRelationTemplateSpn_3_1_1_108\", \"tooltip\": \"Catg_EdgeRelationTemplateSpn_3_1_1\", \"name\": \"Catg_EdgeRelationTemplateSpn_3_1_1[5]\"}, {\"type\": 1, \"id\": \"Products1/Product28\", \"tooltip\": \"Products1/Product28\", \"name\": \"Products1/Product28\"}, {\"type\": 0, \"id\": \"Catg_EdgeRelationTemplateSpn_3_1_1_109\", \"tooltip\": \"Catg_EdgeRelationTemplateSpn_3_1_1\", \"name\": \"Catg_EdgeRelationTemplateSpn_3_1_1[11]\"}, {\"type\": 0, \"id\": \"Catg_EdgeRelationTemplateSpn_3_1_1_110\", \"tooltip\": \"Catg_EdgeRelationTemplateSpn_3_1_1\", \"name\": \"Catg_EdgeRelationTemplateSpn_3_1_1[2]\"}, {\"type\": 0, \"id\": \"Catg_EdgeRelationTemplateSpn_3_1_1_111\", \"tooltip\": \"Catg_EdgeRelationTemplateSpn_3_1_1\", \"name\": \"Catg_EdgeRelationTemplateSpn_3_1_1[5]\"}, {\"type\": 1, \"id\": \"Products1/Product27\", \"tooltip\": \"Products1/Product27\", \"name\": \"Products1/Product27\"}, {\"type\": 0, \"id\": \"Catg_EdgeRelationTemplateSpn_3_1_1_112\", \"tooltip\": \"Catg_EdgeRelationTemplateSpn_3_1_1\", \"name\": \"Catg_EdgeRelationTemplateSpn_3_1_1[10]\"}, {\"type\": 0, \"id\": \"Catg_EdgeRelationTemplateSpn_3_1_1_113\", \"tooltip\": \"Catg_EdgeRelationTemplateSpn_3_1_1\", \"name\": \"Catg_EdgeRelationTemplateSpn_3_1_1[2]\"}, {\"type\": 0, \"id\": \"Catg_EdgeRelationTemplateSpn_3_1_1_114\", \"tooltip\": \"Catg_EdgeRelationTemplateSpn_3_1_1\", \"name\": \"Catg_EdgeRelationTemplateSpn_3_1_1[5]\"}, {\"type\": 1, \"id\": \"Products1/Product26\", \"tooltip\": \"Products1/Product26\", \"name\": \"Products1/Product26\"}, {\"type\": 0, \"id\": \"Catg_EdgeRelationTemplateSpn_3_1_1_115\", \"tooltip\": \"Catg_EdgeRelationTemplateSpn_3_1_1\", \"name\": \"Catg_EdgeRelationTemplateSpn_3_1_1[9]\"}, {\"type\": 0, \"id\": \"Catg_EdgeRelationTemplateSpn_3_1_1_116\", \"tooltip\": \"Catg_EdgeRelationTemplateSpn_3_1_1\", \"name\": \"Catg_EdgeRelationTemplateSpn_3_1_1[2]\"}, {\"type\": 0, \"id\": \"Catg_EdgeRelationTemplateSpn_3_1_1_117\", \"tooltip\": \"Catg_EdgeRelationTemplateSpn_3_1_1\", \"name\": \"Catg_EdgeRelationTemplateSpn_3_1_1[5]\"}, {\"type\": 1, \"id\": \"Products1/Product25\", \"tooltip\": \"Products1/Product25\", \"name\": \"Products1/Product25\"}, {\"type\": 0, \"id\": \"Catg_EdgeRelationTemplateSpn_3_1_1_118\", \"tooltip\": \"Catg_EdgeRelationTemplateSpn_3_1_1\", \"name\": \"Catg_EdgeRelationTemplateSpn_3_1_1[8]\"}, {\"type\": 0, \"id\": \"Catg_EdgeRelationTemplateSpn_3_1_1_119\", \"tooltip\": \"Catg_EdgeRelationTemplateSpn_3_1_1\", \"name\": \"Catg_EdgeRelationTemplateSpn_3_1_1[2]\"}, {\"type\": 0, \"id\": \"Catg_EdgeRelationTemplateSpn_3_1_1_120\", \"tooltip\": \"Catg_EdgeRelationTemplateSpn_3_1_1\", \"name\": \"Catg_EdgeRelationTemplateSpn_3_1_1[5]\"}, {\"type\": 1, \"id\": \"Products1/Product24\", \"tooltip\": \"Products1/Product24\", \"name\": \"Products1/Product24\"}, {\"type\": 0, \"id\": \"Catg_EdgeRelationTemplateSpn_3_1_1_121\", \"tooltip\": \"Catg_EdgeRelationTemplateSpn_3_1_1\", \"name\": \"Catg_EdgeRelationTemplateSpn_3_1_1[11]\"}, {\"type\": 0, \"id\": \"Catg_EdgeRelationTemplateSpn_3_1_1_122\", \"tooltip\": \"Catg_EdgeRelationTemplateSpn_3_1_1\", \"name\": \"Catg_EdgeRelationTemplateSpn_3_1_1[1]\"}, {\"type\": 0, \"id\": \"Catg_EdgeRelationTemplateSpn_3_1_1_123\", \"tooltip\": \"Catg_EdgeRelationTemplateSpn_3_1_1\", \"name\": \"Catg_EdgeRelationTemplateSpn_3_1_1[5]\"}, {\"type\": 1, \"id\": \"Products1/Product23\", \"tooltip\": \"Products1/Product23\", \"name\": \"Products1/Product23\"}, {\"type\": 0, \"id\": \"Catg_EdgeRelationTemplateSpn_3_1_1_124\", \"tooltip\": \"Catg_EdgeRelationTemplateSpn_3_1_1\", \"name\": \"Catg_EdgeRelationTemplateSpn_3_1_1[10]\"}, {\"type\": 0, \"id\": \"Catg_EdgeRelationTemplateSpn_3_1_1_125\", \"tooltip\": \"Catg_EdgeRelationTemplateSpn_3_1_1\", \"name\": \"Catg_EdgeRelationTemplateSpn_3_1_1[1]\"}, {\"type\": 0, \"id\": \"Catg_EdgeRelationTemplateSpn_3_1_1_126\", \"tooltip\": \"Catg_EdgeRelationTemplateSpn_3_1_1\", \"name\": \"Catg_EdgeRelationTemplateSpn_3_1_1[5]\"}, {\"type\": 1, \"id\": \"Products1/Product22\", \"tooltip\": \"Products1/Product22\", \"name\": \"Products1/Product22\"}, {\"type\": 0, \"id\": \"Catg_EdgeRelationTemplateSpn_3_1_1_127\", \"tooltip\": \"Catg_EdgeRelationTemplateSpn_3_1_1\", \"name\": \"Catg_EdgeRelationTemplateSpn_3_1_1[9]\"}, {\"type\": 0, \"id\": \"Catg_EdgeRelationTemplateSpn_3_1_1_128\", \"tooltip\": \"Catg_EdgeRelationTemplateSpn_3_1_1\", \"name\": \"Catg_EdgeRelationTemplateSpn_3_1_1[1]\"}, {\"type\": 0, \"id\": \"Catg_EdgeRelationTemplateSpn_3_1_1_129\", \"tooltip\": \"Catg_EdgeRelationTemplateSpn_3_1_1\", \"name\": \"Catg_EdgeRelationTemplateSpn_3_1_1[5]\"}, {\"type\": 1, \"id\": \"Products1/Product21\", \"tooltip\": \"Products1/Product21\", \"name\": \"Products1/Product21\"}, {\"type\": 0, \"id\": \"Catg_EdgeRelationTemplateSpn_3_1_1_130\", \"tooltip\": \"Catg_EdgeRelationTemplateSpn_3_1_1\", \"name\": \"Catg_EdgeRelationTemplateSpn_3_1_1[8]\"}, {\"type\": 0, \"id\": \"Catg_EdgeRelationTemplateSpn_3_1_1_131\", \"tooltip\": \"Catg_EdgeRelationTemplateSpn_3_1_1\", \"name\": \"Catg_EdgeRelationTemplateSpn_3_1_1[1]\"}, {\"type\": 0, \"id\": \"Catg_EdgeRelationTemplateSpn_3_1_1_132\", \"tooltip\": \"Catg_EdgeRelationTemplateSpn_3_1_1\", \"name\": \"Catg_EdgeRelationTemplateSpn_3_1_1[5]\"}, {\"type\": 1, \"id\": \"Products1/Product20\", \"tooltip\": \"Products1/Product20\", \"name\": \"Products1/Product20\"}, {\"type\": 0, \"id\": \"Catg_EdgeRelationTemplateSpn_3_1_1_133\", \"tooltip\": \"Catg_EdgeRelationTemplateSpn_3_1_1\", \"name\": \"Catg_EdgeRelationTemplateSpn_3_1_1[11]\"}, {\"type\": 0, \"id\": \"Catg_EdgeRelationTemplateSpn_3_1_1_134\", \"tooltip\": \"Catg_EdgeRelationTemplateSpn_3_1_1\", \"name\": \"Catg_EdgeRelationTemplateSpn_3_1_1[0]\"}, {\"type\": 0, \"id\": \"Catg_EdgeRelationTemplateSpn_3_1_1_135\", \"tooltip\": \"Catg_EdgeRelationTemplateSpn_3_1_1\", \"name\": \"Catg_EdgeRelationTemplateSpn_3_1_1[5]\"}, {\"type\": 1, \"id\": \"Products1/Product19\", \"tooltip\": \"Products1/Product19\", \"name\": \"Products1/Product19\"}, {\"type\": 0, \"id\": \"Catg_EdgeRelationTemplateSpn_3_1_1_136\", \"tooltip\": \"Catg_EdgeRelationTemplateSpn_3_1_1\", \"name\": \"Catg_EdgeRelationTemplateSpn_3_1_1[10]\"}, {\"type\": 0, \"id\": \"Catg_EdgeRelationTemplateSpn_3_1_1_137\", \"tooltip\": \"Catg_EdgeRelationTemplateSpn_3_1_1\", \"name\": \"Catg_EdgeRelationTemplateSpn_3_1_1[0]\"}, {\"type\": 0, \"id\": \"Catg_EdgeRelationTemplateSpn_3_1_1_138\", \"tooltip\": \"Catg_EdgeRelationTemplateSpn_3_1_1\", \"name\": \"Catg_EdgeRelationTemplateSpn_3_1_1[5]\"}, {\"type\": 1, \"id\": \"Products1/Product18\", \"tooltip\": \"Products1/Product18\", \"name\": \"Products1/Product18\"}, {\"type\": 0, \"id\": \"Catg_EdgeRelationTemplateSpn_3_1_1_139\", \"tooltip\": \"Catg_EdgeRelationTemplateSpn_3_1_1\", \"name\": \"Catg_EdgeRelationTemplateSpn_3_1_1[9]\"}, {\"type\": 0, \"id\": \"Catg_EdgeRelationTemplateSpn_3_1_1_140\", \"tooltip\": \"Catg_EdgeRelationTemplateSpn_3_1_1\", \"name\": \"Catg_EdgeRelationTemplateSpn_3_1_1[0]\"}, {\"type\": 0, \"id\": \"Catg_EdgeRelationTemplateSpn_3_1_1_141\", \"tooltip\": \"Catg_EdgeRelationTemplateSpn_3_1_1\", \"name\": \"Catg_EdgeRelationTemplateSpn_3_1_1[5]\"}, {\"type\": 1, \"id\": \"Products1/Product17\", \"tooltip\": \"Products1/Product17\", \"name\": \"Products1/Product17\"}, {\"type\": 0, \"id\": \"Catg_EdgeRelationTemplateSpn_3_1_1_142\", \"tooltip\": \"Catg_EdgeRelationTemplateSpn_3_1_1\", \"name\": \"Catg_EdgeRelationTemplateSpn_3_1_1[8]\"}, {\"type\": 0, \"id\": \"Catg_EdgeRelationTemplateSpn_3_1_1_143\", \"tooltip\": \"Catg_EdgeRelationTemplateSpn_3_1_1\", \"name\": \"Catg_EdgeRelationTemplateSpn_3_1_1[0]\"}, {\"type\": 0, \"id\": \"Catg_EdgeRelationTemplateSpn_3_1_1_144\", \"tooltip\": \"Catg_EdgeRelationTemplateSpn_3_1_1\", \"name\": \"Catg_EdgeRelationTemplateSpn_3_1_1[5]\"}, {\"type\": 1, \"id\": \"Products1/Product16\", \"tooltip\": \"Products1/Product16\", \"name\": \"Products1/Product16\"}, {\"type\": 0, \"id\": \"Catg_EdgeRelationTemplateSpn_3_1_1_145\", \"tooltip\": \"Catg_EdgeRelationTemplateSpn_3_1_1\", \"name\": \"Catg_EdgeRelationTemplateSpn_3_1_1[11]\"}, {\"type\": 0, \"id\": \"Catg_EdgeRelationTemplateSpn_3_1_1_146\", \"tooltip\": \"Catg_EdgeRelationTemplateSpn_3_1_1\", \"name\": \"Catg_EdgeRelationTemplateSpn_3_1_1[3]\"}, {\"type\": 0, \"id\": \"Catg_EdgeRelationTemplateSpn_3_1_1_147\", \"tooltip\": \"Catg_EdgeRelationTemplateSpn_3_1_1\", \"name\": \"Catg_EdgeRelationTemplateSpn_3_1_1[4]\"}, {\"type\": 1, \"id\": \"Products1/Product15\", \"tooltip\": \"Products1/Product15\", \"name\": \"Products1/Product15\"}, {\"type\": 0, \"id\": \"Catg_EdgeRelationTemplateSpn_3_1_1_148\", \"tooltip\": \"Catg_EdgeRelationTemplateSpn_3_1_1\", \"name\": \"Catg_EdgeRelationTemplateSpn_3_1_1[10]\"}, {\"type\": 0, \"id\": \"Catg_EdgeRelationTemplateSpn_3_1_1_149\", \"tooltip\": \"Catg_EdgeRelationTemplateSpn_3_1_1\", \"name\": \"Catg_EdgeRelationTemplateSpn_3_1_1[3]\"}, {\"type\": 0, \"id\": \"Catg_EdgeRelationTemplateSpn_3_1_1_150\", \"tooltip\": \"Catg_EdgeRelationTemplateSpn_3_1_1\", \"name\": \"Catg_EdgeRelationTemplateSpn_3_1_1[4]\"}, {\"type\": 1, \"id\": \"Products1/Product14\", \"tooltip\": \"Products1/Product14\", \"name\": \"Products1/Product14\"}, {\"type\": 0, \"id\": \"Catg_EdgeRelationTemplateSpn_3_1_1_151\", \"tooltip\": \"Catg_EdgeRelationTemplateSpn_3_1_1\", \"name\": \"Catg_EdgeRelationTemplateSpn_3_1_1[9]\"}, {\"type\": 0, \"id\": \"Catg_EdgeRelationTemplateSpn_3_1_1_152\", \"tooltip\": \"Catg_EdgeRelationTemplateSpn_3_1_1\", \"name\": \"Catg_EdgeRelationTemplateSpn_3_1_1[3]\"}, {\"type\": 0, \"id\": \"Catg_EdgeRelationTemplateSpn_3_1_1_153\", \"tooltip\": \"Catg_EdgeRelationTemplateSpn_3_1_1\", \"name\": \"Catg_EdgeRelationTemplateSpn_3_1_1[4]\"}, {\"type\": 1, \"id\": \"Products1/Product13\", \"tooltip\": \"Products1/Product13\", \"name\": \"Products1/Product13\"}, {\"type\": 0, \"id\": \"Catg_EdgeRelationTemplateSpn_3_1_1_154\", \"tooltip\": \"Catg_EdgeRelationTemplateSpn_3_1_1\", \"name\": \"Catg_EdgeRelationTemplateSpn_3_1_1[8]\"}, {\"type\": 0, \"id\": \"Catg_EdgeRelationTemplateSpn_3_1_1_155\", \"tooltip\": \"Catg_EdgeRelationTemplateSpn_3_1_1\", \"name\": \"Catg_EdgeRelationTemplateSpn_3_1_1[3]\"}, {\"type\": 0, \"id\": \"Catg_EdgeRelationTemplateSpn_3_1_1_156\", \"tooltip\": \"Catg_EdgeRelationTemplateSpn_3_1_1\", \"name\": \"Catg_EdgeRelationTemplateSpn_3_1_1[4]\"}, {\"type\": 1, \"id\": \"Products1/Product12\", \"tooltip\": \"Products1/Product12\", \"name\": \"Products1/Product12\"}, {\"type\": 0, \"id\": \"Catg_EdgeRelationTemplateSpn_3_1_1_157\", \"tooltip\": \"Catg_EdgeRelationTemplateSpn_3_1_1\", \"name\": \"Catg_EdgeRelationTemplateSpn_3_1_1[11]\"}, {\"type\": 0, \"id\": \"Catg_EdgeRelationTemplateSpn_3_1_1_158\", \"tooltip\": \"Catg_EdgeRelationTemplateSpn_3_1_1\", \"name\": \"Catg_EdgeRelationTemplateSpn_3_1_1[2]\"}, {\"type\": 0, \"id\": \"Catg_EdgeRelationTemplateSpn_3_1_1_159\", \"tooltip\": \"Catg_EdgeRelationTemplateSpn_3_1_1\", \"name\": \"Catg_EdgeRelationTemplateSpn_3_1_1[4]\"}, {\"type\": 1, \"id\": \"Products1/Product11\", \"tooltip\": \"Products1/Product11\", \"name\": \"Products1/Product11\"}, {\"type\": 0, \"id\": \"Catg_EdgeRelationTemplateSpn_3_1_1_160\", \"tooltip\": \"Catg_EdgeRelationTemplateSpn_3_1_1\", \"name\": \"Catg_EdgeRelationTemplateSpn_3_1_1[10]\"}, {\"type\": 0, \"id\": \"Catg_EdgeRelationTemplateSpn_3_1_1_161\", \"tooltip\": \"Catg_EdgeRelationTemplateSpn_3_1_1\", \"name\": \"Catg_EdgeRelationTemplateSpn_3_1_1[2]\"}, {\"type\": 0, \"id\": \"Catg_EdgeRelationTemplateSpn_3_1_1_162\", \"tooltip\": \"Catg_EdgeRelationTemplateSpn_3_1_1\", \"name\": \"Catg_EdgeRelationTemplateSpn_3_1_1[4]\"}, {\"type\": 1, \"id\": \"Products1/Product10\", \"tooltip\": \"Products1/Product10\", \"name\": \"Products1/Product10\"}, {\"type\": 0, \"id\": \"Catg_EdgeRelationTemplateSpn_3_1_1_163\", \"tooltip\": \"Catg_EdgeRelationTemplateSpn_3_1_1\", \"name\": \"Catg_EdgeRelationTemplateSpn_3_1_1[9]\"}, {\"type\": 0, \"id\": \"Catg_EdgeRelationTemplateSpn_3_1_1_164\", \"tooltip\": \"Catg_EdgeRelationTemplateSpn_3_1_1\", \"name\": \"Catg_EdgeRelationTemplateSpn_3_1_1[2]\"}, {\"type\": 0, \"id\": \"Catg_EdgeRelationTemplateSpn_3_1_1_165\", \"tooltip\": \"Catg_EdgeRelationTemplateSpn_3_1_1\", \"name\": \"Catg_EdgeRelationTemplateSpn_3_1_1[4]\"}, {\"type\": 1, \"id\": \"Products1/Product9\", \"tooltip\": \"Products1/Product9\", \"name\": \"Products1/Product9\"}, {\"type\": 0, \"id\": \"Catg_EdgeRelationTemplateSpn_3_1_1_166\", \"tooltip\": \"Catg_EdgeRelationTemplateSpn_3_1_1\", \"name\": \"Catg_EdgeRelationTemplateSpn_3_1_1[8]\"}, {\"type\": 0, \"id\": \"Catg_EdgeRelationTemplateSpn_3_1_1_167\", \"tooltip\": \"Catg_EdgeRelationTemplateSpn_3_1_1\", \"name\": \"Catg_EdgeRelationTemplateSpn_3_1_1[2]\"}, {\"type\": 0, \"id\": \"Catg_EdgeRelationTemplateSpn_3_1_1_168\", \"tooltip\": \"Catg_EdgeRelationTemplateSpn_3_1_1\", \"name\": \"Catg_EdgeRelationTemplateSpn_3_1_1[4]\"}, {\"type\": 1, \"id\": \"Products1/Product8_1\", \"tooltip\": \"Products1/Product8_1\", \"name\": \"Products1/Product8_1\"}, {\"type\": 0, \"id\": \"Catg_EdgeRelationTemplateSpn_3_1_1_169\", \"tooltip\": \"Catg_EdgeRelationTemplateSpn_3_1_1\", \"name\": \"Catg_EdgeRelationTemplateSpn_3_1_1[11]\"}, {\"type\": 0, \"id\": \"Catg_EdgeRelationTemplateSpn_3_1_1_170\", \"tooltip\": \"Catg_EdgeRelationTemplateSpn_3_1_1\", \"name\": \"Catg_EdgeRelationTemplateSpn_3_1_1[1]\"}, {\"type\": 0, \"id\": \"Catg_EdgeRelationTemplateSpn_3_1_1_171\", \"tooltip\": \"Catg_EdgeRelationTemplateSpn_3_1_1\", \"name\": \"Catg_EdgeRelationTemplateSpn_3_1_1[4]\"}, {\"type\": 1, \"id\": \"Products1/Product7_1\", \"tooltip\": \"Products1/Product7_1\", \"name\": \"Products1/Product7_1\"}, {\"type\": 0, \"id\": \"Catg_EdgeRelationTemplateSpn_3_1_1_172\", \"tooltip\": \"Catg_EdgeRelationTemplateSpn_3_1_1\", \"name\": \"Catg_EdgeRelationTemplateSpn_3_1_1[10]\"}, {\"type\": 0, \"id\": \"Catg_EdgeRelationTemplateSpn_3_1_1_173\", \"tooltip\": \"Catg_EdgeRelationTemplateSpn_3_1_1\", \"name\": \"Catg_EdgeRelationTemplateSpn_3_1_1[1]\"}, {\"type\": 0, \"id\": \"Catg_EdgeRelationTemplateSpn_3_1_1_174\", \"tooltip\": \"Catg_EdgeRelationTemplateSpn_3_1_1\", \"name\": \"Catg_EdgeRelationTemplateSpn_3_1_1[4]\"}, {\"type\": 1, \"id\": \"Products1/Product6_1\", \"tooltip\": \"Products1/Product6_1\", \"name\": \"Products1/Product6_1\"}, {\"type\": 0, \"id\": \"Catg_EdgeRelationTemplateSpn_3_1_1_175\", \"tooltip\": \"Catg_EdgeRelationTemplateSpn_3_1_1\", \"name\": \"Catg_EdgeRelationTemplateSpn_3_1_1[9]\"}, {\"type\": 0, \"id\": \"Catg_EdgeRelationTemplateSpn_3_1_1_176\", \"tooltip\": \"Catg_EdgeRelationTemplateSpn_3_1_1\", \"name\": \"Catg_EdgeRelationTemplateSpn_3_1_1[1]\"}, {\"type\": 0, \"id\": \"Catg_EdgeRelationTemplateSpn_3_1_1_177\", \"tooltip\": \"Catg_EdgeRelationTemplateSpn_3_1_1\", \"name\": \"Catg_EdgeRelationTemplateSpn_3_1_1[4]\"}, {\"type\": 1, \"id\": \"Products1/Product5_1\", \"tooltip\": \"Products1/Product5_1\", \"name\": \"Products1/Product5_1\"}, {\"type\": 0, \"id\": \"Catg_EdgeRelationTemplateSpn_3_1_1_178\", \"tooltip\": \"Catg_EdgeRelationTemplateSpn_3_1_1\", \"name\": \"Catg_EdgeRelationTemplateSpn_3_1_1[8]\"}, {\"type\": 0, \"id\": \"Catg_EdgeRelationTemplateSpn_3_1_1_179\", \"tooltip\": \"Catg_EdgeRelationTemplateSpn_3_1_1\", \"name\": \"Catg_EdgeRelationTemplateSpn_3_1_1[1]\"}, {\"type\": 0, \"id\": \"Catg_EdgeRelationTemplateSpn_3_1_1_180\", \"tooltip\": \"Catg_EdgeRelationTemplateSpn_3_1_1\", \"name\": \"Catg_EdgeRelationTemplateSpn_3_1_1[4]\"}, {\"type\": 1, \"id\": \"Products1/Product4_1\", \"tooltip\": \"Products1/Product4_1\", \"name\": \"Products1/Product4_1\"}, {\"type\": 0, \"id\": \"Catg_EdgeRelationTemplateSpn_3_1_1_181\", \"tooltip\": \"Catg_EdgeRelationTemplateSpn_3_1_1\", \"name\": \"Catg_EdgeRelationTemplateSpn_3_1_1[11]\"}, {\"type\": 0, \"id\": \"Catg_EdgeRelationTemplateSpn_3_1_1_182\", \"tooltip\": \"Catg_EdgeRelationTemplateSpn_3_1_1\", \"name\": \"Catg_EdgeRelationTemplateSpn_3_1_1[0]\"}, {\"type\": 0, \"id\": \"Catg_EdgeRelationTemplateSpn_3_1_1_183\", \"tooltip\": \"Catg_EdgeRelationTemplateSpn_3_1_1\", \"name\": \"Catg_EdgeRelationTemplateSpn_3_1_1[4]\"}, {\"type\": 1, \"id\": \"Products1/Product3_1\", \"tooltip\": \"Products1/Product3_1\", \"name\": \"Products1/Product3_1\"}, {\"type\": 0, \"id\": \"Catg_EdgeRelationTemplateSpn_3_1_1_184\", \"tooltip\": \"Catg_EdgeRelationTemplateSpn_3_1_1\", \"name\": \"Catg_EdgeRelationTemplateSpn_3_1_1[10]\"}, {\"type\": 0, \"id\": \"Catg_EdgeRelationTemplateSpn_3_1_1_185\", \"tooltip\": \"Catg_EdgeRelationTemplateSpn_3_1_1\", \"name\": \"Catg_EdgeRelationTemplateSpn_3_1_1[0]\"}, {\"type\": 0, \"id\": \"Catg_EdgeRelationTemplateSpn_3_1_1_186\", \"tooltip\": \"Catg_EdgeRelationTemplateSpn_3_1_1\", \"name\": \"Catg_EdgeRelationTemplateSpn_3_1_1[4]\"}, {\"type\": 1, \"id\": \"Products1/Product2_1\", \"tooltip\": \"Products1/Product2_1\", \"name\": \"Products1/Product2_1\"}, {\"type\": 0, \"id\": \"Catg_EdgeRelationTemplateSpn_3_1_1_187\", \"tooltip\": \"Catg_EdgeRelationTemplateSpn_3_1_1\", \"name\": \"Catg_EdgeRelationTemplateSpn_3_1_1[9]\"}, {\"type\": 0, \"id\": \"Catg_EdgeRelationTemplateSpn_3_1_1_188\", \"tooltip\": \"Catg_EdgeRelationTemplateSpn_3_1_1\", \"name\": \"Catg_EdgeRelationTemplateSpn_3_1_1[0]\"}, {\"type\": 0, \"id\": \"Catg_EdgeRelationTemplateSpn_3_1_1_189\", \"tooltip\": \"Catg_EdgeRelationTemplateSpn_3_1_1\", \"name\": \"Catg_EdgeRelationTemplateSpn_3_1_1[4]\"}, {\"type\": 1, \"id\": \"Products1/Product1_1\", \"tooltip\": \"Products1/Product1_1\", \"name\": \"Products1/Product1_1\"}, {\"type\": 0, \"id\": \"Catg_EdgeRelationTemplateSpn_3_1_1_190\", \"tooltip\": \"Catg_EdgeRelationTemplateSpn_3_1_1\", \"name\": \"Catg_EdgeRelationTemplateSpn_3_1_1[8]\"}, {\"type\": 0, \"id\": \"Catg_EdgeRelationTemplateSpn_3_1_1_191\", \"tooltip\": \"Catg_EdgeRelationTemplateSpn_3_1_1\", \"name\": \"Catg_EdgeRelationTemplateSpn_3_1_1[0]\"}, {\"type\": 0, \"id\": \"Catg_EdgeRelationTemplateSpn_3_1_1_192\", \"tooltip\": \"Catg_EdgeRelationTemplateSpn_3_1_1\", \"name\": \"Catg_EdgeRelationTemplateSpn_3_1_1[4]\"}, {\"type\": 3, \"id\": \"Node_7\", \"tooltip\": \"Node_7\", \"name\": \"Node_7\"}, {\"type\": 1, \"id\": \"Products1_1/Product5_1\", \"tooltip\": \"Products1_1/Product5_1\", \"name\": \"Products1_1/Product5_1\"}, {\"type\": 0, \"id\": \"View_EdgeRelationTemplateSpn_3_1_1_193\", \"tooltip\": \"View_EdgeRelationTemplateSpn_3_1_1\", \"name\": \"View_EdgeRelationTemplateSpn_3_1_1[4]\"}, {\"type\": 1, \"id\": \"Products1_1/Product4_1\", \"tooltip\": \"Products1_1/Product4_1\", \"name\": \"Products1_1/Product4_1\"}, {\"type\": 0, \"id\": \"View_EdgeRelationTemplateSpn_3_1_1_194\", \"tooltip\": \"View_EdgeRelationTemplateSpn_3_1_1\", \"name\": \"View_EdgeRelationTemplateSpn_3_1_1[3]\"}, {\"type\": 1, \"id\": \"Products1_1/Product3_1\", \"tooltip\": \"Products1_1/Product3_1\", \"name\": \"Products1_1/Product3_1\"}, {\"type\": 0, \"id\": \"View_EdgeRelationTemplateSpn_3_1_1_195\", \"tooltip\": \"View_EdgeRelationTemplateSpn_3_1_1\", \"name\": \"View_EdgeRelationTemplateSpn_3_1_1[2]\"}, {\"type\": 1, \"id\": \"Products1_1/Product2_1\", \"tooltip\": \"Products1_1/Product2_1\", \"name\": \"Products1_1/Product2_1\"}, {\"type\": 0, \"id\": \"View_EdgeRelationTemplateSpn_3_1_1_196\", \"tooltip\": \"View_EdgeRelationTemplateSpn_3_1_1\", \"name\": \"View_EdgeRelationTemplateSpn_3_1_1[1]\"}, {\"type\": 1, \"id\": \"Products1_1/Product1_1\", \"tooltip\": \"Products1_1/Product1_1\", \"name\": \"Products1_1/Product1_1\"}, {\"type\": 0, \"id\": \"View_EdgeRelationTemplateSpn_3_1_1_197\", \"tooltip\": \"View_EdgeRelationTemplateSpn_3_1_1\", \"name\": \"View_EdgeRelationTemplateSpn_3_1_1[0]\"}, {\"type\": 3, \"id\": \"Node_1_1\", \"tooltip\": \"Node_1_1\", \"name\": \"Node_1_1\"}], \"links\": [{\"source\": \"Catg_EdgeRelationTemplateSpn_3_1_1_1\", \"value\": 1, \"target\": \"Products1/Product64\"}, {\"source\": \"Catg_EdgeRelationTemplateSpn_3_1_1_2\", \"value\": 1, \"target\": \"Products1/Product64\"}, {\"source\": \"Catg_EdgeRelationTemplateSpn_3_1_1_3\", \"value\": 1, \"target\": \"Products1/Product64\"}, {\"source\": \"Catg_EdgeRelationTemplateSpn_3_1_1_4\", \"value\": 1, \"target\": \"Products1/Product63\"}, {\"source\": \"Catg_EdgeRelationTemplateSpn_3_1_1_5\", \"value\": 1, \"target\": \"Products1/Product63\"}, {\"source\": \"Catg_EdgeRelationTemplateSpn_3_1_1_6\", \"value\": 1, \"target\": \"Products1/Product63\"}, {\"source\": \"Catg_EdgeRelationTemplateSpn_3_1_1_7\", \"value\": 1, \"target\": \"Products1/Product62\"}, {\"source\": \"Catg_EdgeRelationTemplateSpn_3_1_1_8\", \"value\": 1, \"target\": \"Products1/Product62\"}, {\"source\": \"Catg_EdgeRelationTemplateSpn_3_1_1_9\", \"value\": 1, \"target\": \"Products1/Product62\"}, {\"source\": \"Catg_EdgeRelationTemplateSpn_3_1_1_10\", \"value\": 1, \"target\": \"Products1/Product61\"}, {\"source\": \"Catg_EdgeRelationTemplateSpn_3_1_1_11\", \"value\": 1, \"target\": \"Products1/Product61\"}, {\"source\": \"Catg_EdgeRelationTemplateSpn_3_1_1_12\", \"value\": 1, \"target\": \"Products1/Product61\"}, {\"source\": \"Catg_EdgeRelationTemplateSpn_3_1_1_13\", \"value\": 1, \"target\": \"Products1/Product60\"}, {\"source\": \"Catg_EdgeRelationTemplateSpn_3_1_1_14\", \"value\": 1, \"target\": \"Products1/Product60\"}, {\"source\": \"Catg_EdgeRelationTemplateSpn_3_1_1_15\", \"value\": 1, \"target\": \"Products1/Product60\"}, {\"source\": \"Catg_EdgeRelationTemplateSpn_3_1_1_16\", \"value\": 1, \"target\": \"Products1/Product59\"}, {\"source\": \"Catg_EdgeRelationTemplateSpn_3_1_1_17\", \"value\": 1, \"target\": \"Products1/Product59\"}, {\"source\": \"Catg_EdgeRelationTemplateSpn_3_1_1_18\", \"value\": 1, \"target\": \"Products1/Product59\"}, {\"source\": \"Catg_EdgeRelationTemplateSpn_3_1_1_19\", \"value\": 1, \"target\": \"Products1/Product58\"}, {\"source\": \"Catg_EdgeRelationTemplateSpn_3_1_1_20\", \"value\": 1, \"target\": \"Products1/Product58\"}, {\"source\": \"Catg_EdgeRelationTemplateSpn_3_1_1_21\", \"value\": 1, \"target\": \"Products1/Product58\"}, {\"source\": \"Catg_EdgeRelationTemplateSpn_3_1_1_22\", \"value\": 1, \"target\": \"Products1/Product57\"}, {\"source\": \"Catg_EdgeRelationTemplateSpn_3_1_1_23\", \"value\": 1, \"target\": \"Products1/Product57\"}, {\"source\": \"Catg_EdgeRelationTemplateSpn_3_1_1_24\", \"value\": 1, \"target\": \"Products1/Product57\"}, {\"source\": \"Catg_EdgeRelationTemplateSpn_3_1_1_25\", \"value\": 1, \"target\": \"Products1/Product56\"}, {\"source\": \"Catg_EdgeRelationTemplateSpn_3_1_1_26\", \"value\": 1, \"target\": \"Products1/Product56\"}, {\"source\": \"Catg_EdgeRelationTemplateSpn_3_1_1_27\", \"value\": 1, \"target\": \"Products1/Product56\"}, {\"source\": \"Catg_EdgeRelationTemplateSpn_3_1_1_28\", \"value\": 1, \"target\": \"Products1/Product55\"}, {\"source\": \"Catg_EdgeRelationTemplateSpn_3_1_1_29\", \"value\": 1, \"target\": \"Products1/Product55\"}, {\"source\": \"Catg_EdgeRelationTemplateSpn_3_1_1_30\", \"value\": 1, \"target\": \"Products1/Product55\"}, {\"source\": \"Catg_EdgeRelationTemplateSpn_3_1_1_31\", \"value\": 1, \"target\": \"Products1/Product54\"}, {\"source\": \"Catg_EdgeRelationTemplateSpn_3_1_1_32\", \"value\": 1, \"target\": \"Products1/Product54\"}, {\"source\": \"Catg_EdgeRelationTemplateSpn_3_1_1_33\", \"value\": 1, \"target\": \"Products1/Product54\"}, {\"source\": \"Catg_EdgeRelationTemplateSpn_3_1_1_34\", \"value\": 1, \"target\": \"Products1/Product53\"}, {\"source\": \"Catg_EdgeRelationTemplateSpn_3_1_1_35\", \"value\": 1, \"target\": \"Products1/Product53\"}, {\"source\": \"Catg_EdgeRelationTemplateSpn_3_1_1_36\", \"value\": 1, \"target\": \"Products1/Product53\"}, {\"source\": \"Catg_EdgeRelationTemplateSpn_3_1_1_37\", \"value\": 1, \"target\": \"Products1/Product52\"}, {\"source\": \"Catg_EdgeRelationTemplateSpn_3_1_1_38\", \"value\": 1, \"target\": \"Products1/Product52\"}, {\"source\": \"Catg_EdgeRelationTemplateSpn_3_1_1_39\", \"value\": 1, \"target\": \"Products1/Product52\"}, {\"source\": \"Catg_EdgeRelationTemplateSpn_3_1_1_40\", \"value\": 1, \"target\": \"Products1/Product51\"}, {\"source\": \"Catg_EdgeRelationTemplateSpn_3_1_1_41\", \"value\": 1, \"target\": \"Products1/Product51\"}, {\"source\": \"Catg_EdgeRelationTemplateSpn_3_1_1_42\", \"value\": 1, \"target\": \"Products1/Product51\"}, {\"source\": \"Catg_EdgeRelationTemplateSpn_3_1_1_43\", \"value\": 1, \"target\": \"Products1/Product50\"}, {\"source\": \"Catg_EdgeRelationTemplateSpn_3_1_1_44\", \"value\": 1, \"target\": \"Products1/Product50\"}, {\"source\": \"Catg_EdgeRelationTemplateSpn_3_1_1_45\", \"value\": 1, \"target\": \"Products1/Product50\"}, {\"source\": \"Catg_EdgeRelationTemplateSpn_3_1_1_46\", \"value\": 1, \"target\": \"Products1/Product49\"}, {\"source\": \"Catg_EdgeRelationTemplateSpn_3_1_1_47\", \"value\": 1, \"target\": \"Products1/Product49\"}, {\"source\": \"Catg_EdgeRelationTemplateSpn_3_1_1_48\", \"value\": 1, \"target\": \"Products1/Product49\"}, {\"source\": \"Catg_EdgeRelationTemplateSpn_3_1_1_49\", \"value\": 1, \"target\": \"Products1/Product48\"}, {\"source\": \"Catg_EdgeRelationTemplateSpn_3_1_1_50\", \"value\": 1, \"target\": \"Products1/Product48\"}, {\"source\": \"Catg_EdgeRelationTemplateSpn_3_1_1_51\", \"value\": 1, \"target\": \"Products1/Product48\"}, {\"source\": \"Catg_EdgeRelationTemplateSpn_3_1_1_52\", \"value\": 1, \"target\": \"Products1/Product47\"}, {\"source\": \"Catg_EdgeRelationTemplateSpn_3_1_1_53\", \"value\": 1, \"target\": \"Products1/Product47\"}, {\"source\": \"Catg_EdgeRelationTemplateSpn_3_1_1_54\", \"value\": 1, \"target\": \"Products1/Product47\"}, {\"source\": \"Catg_EdgeRelationTemplateSpn_3_1_1_55\", \"value\": 1, \"target\": \"Products1/Product46\"}, {\"source\": \"Catg_EdgeRelationTemplateSpn_3_1_1_56\", \"value\": 1, \"target\": \"Products1/Product46\"}, {\"source\": \"Catg_EdgeRelationTemplateSpn_3_1_1_57\", \"value\": 1, \"target\": \"Products1/Product46\"}, {\"source\": \"Catg_EdgeRelationTemplateSpn_3_1_1_58\", \"value\": 1, \"target\": \"Products1/Product45\"}, {\"source\": \"Catg_EdgeRelationTemplateSpn_3_1_1_59\", \"value\": 1, \"target\": \"Products1/Product45\"}, {\"source\": \"Catg_EdgeRelationTemplateSpn_3_1_1_60\", \"value\": 1, \"target\": \"Products1/Product45\"}, {\"source\": \"Catg_EdgeRelationTemplateSpn_3_1_1_61\", \"value\": 1, \"target\": \"Products1/Product44\"}, {\"source\": \"Catg_EdgeRelationTemplateSpn_3_1_1_62\", \"value\": 1, \"target\": \"Products1/Product44\"}, {\"source\": \"Catg_EdgeRelationTemplateSpn_3_1_1_63\", \"value\": 1, \"target\": \"Products1/Product44\"}, {\"source\": \"Catg_EdgeRelationTemplateSpn_3_1_1_64\", \"value\": 1, \"target\": \"Products1/Product43\"}, {\"source\": \"Catg_EdgeRelationTemplateSpn_3_1_1_65\", \"value\": 1, \"target\": \"Products1/Product43\"}, {\"source\": \"Catg_EdgeRelationTemplateSpn_3_1_1_66\", \"value\": 1, \"target\": \"Products1/Product43\"}, {\"source\": \"Catg_EdgeRelationTemplateSpn_3_1_1_67\", \"value\": 1, \"target\": \"Products1/Product42\"}, {\"source\": \"Catg_EdgeRelationTemplateSpn_3_1_1_68\", \"value\": 1, \"target\": \"Products1/Product42\"}, {\"source\": \"Catg_EdgeRelationTemplateSpn_3_1_1_69\", \"value\": 1, \"target\": \"Products1/Product42\"}, {\"source\": \"Catg_EdgeRelationTemplateSpn_3_1_1_70\", \"value\": 1, \"target\": \"Products1/Product41\"}, {\"source\": \"Catg_EdgeRelationTemplateSpn_3_1_1_71\", \"value\": 1, \"target\": \"Products1/Product41\"}, {\"source\": \"Catg_EdgeRelationTemplateSpn_3_1_1_72\", \"value\": 1, \"target\": \"Products1/Product41\"}, {\"source\": \"Catg_EdgeRelationTemplateSpn_3_1_1_73\", \"value\": 1, \"target\": \"Products1/Product40\"}, {\"source\": \"Catg_EdgeRelationTemplateSpn_3_1_1_74\", \"value\": 1, \"target\": \"Products1/Product40\"}, {\"source\": \"Catg_EdgeRelationTemplateSpn_3_1_1_75\", \"value\": 1, \"target\": \"Products1/Product40\"}, {\"source\": \"Catg_EdgeRelationTemplateSpn_3_1_1_76\", \"value\": 1, \"target\": \"Products1/Product39\"}, {\"source\": \"Catg_EdgeRelationTemplateSpn_3_1_1_77\", \"value\": 1, \"target\": \"Products1/Product39\"}, {\"source\": \"Catg_EdgeRelationTemplateSpn_3_1_1_78\", \"value\": 1, \"target\": \"Products1/Product39\"}, {\"source\": \"Catg_EdgeRelationTemplateSpn_3_1_1_79\", \"value\": 1, \"target\": \"Products1/Product38\"}, {\"source\": \"Catg_EdgeRelationTemplateSpn_3_1_1_80\", \"value\": 1, \"target\": \"Products1/Product38\"}, {\"source\": \"Catg_EdgeRelationTemplateSpn_3_1_1_81\", \"value\": 1, \"target\": \"Products1/Product38\"}, {\"source\": \"Catg_EdgeRelationTemplateSpn_3_1_1_82\", \"value\": 1, \"target\": \"Products1/Product37\"}, {\"source\": \"Catg_EdgeRelationTemplateSpn_3_1_1_83\", \"value\": 1, \"target\": \"Products1/Product37\"}, {\"source\": \"Catg_EdgeRelationTemplateSpn_3_1_1_84\", \"value\": 1, \"target\": \"Products1/Product37\"}, {\"source\": \"Catg_EdgeRelationTemplateSpn_3_1_1_85\", \"value\": 1, \"target\": \"Products1/Product36\"}, {\"source\": \"Catg_EdgeRelationTemplateSpn_3_1_1_86\", \"value\": 1, \"target\": \"Products1/Product36\"}, {\"source\": \"Catg_EdgeRelationTemplateSpn_3_1_1_87\", \"value\": 1, \"target\": \"Products1/Product36\"}, {\"source\": \"Catg_EdgeRelationTemplateSpn_3_1_1_88\", \"value\": 1, \"target\": \"Products1/Product35\"}, {\"source\": \"Catg_EdgeRelationTemplateSpn_3_1_1_89\", \"value\": 1, \"target\": \"Products1/Product35\"}, {\"source\": \"Catg_EdgeRelationTemplateSpn_3_1_1_90\", \"value\": 1, \"target\": \"Products1/Product35\"}, {\"source\": \"Catg_EdgeRelationTemplateSpn_3_1_1_91\", \"value\": 1, \"target\": \"Products1/Product34\"}, {\"source\": \"Catg_EdgeRelationTemplateSpn_3_1_1_92\", \"value\": 1, \"target\": \"Products1/Product34\"}, {\"source\": \"Catg_EdgeRelationTemplateSpn_3_1_1_93\", \"value\": 1, \"target\": \"Products1/Product34\"}, {\"source\": \"Catg_EdgeRelationTemplateSpn_3_1_1_94\", \"value\": 1, \"target\": \"Products1/Product33\"}, {\"source\": \"Catg_EdgeRelationTemplateSpn_3_1_1_95\", \"value\": 1, \"target\": \"Products1/Product33\"}, {\"source\": \"Catg_EdgeRelationTemplateSpn_3_1_1_96\", \"value\": 1, \"target\": \"Products1/Product33\"}, {\"source\": \"Catg_EdgeRelationTemplateSpn_3_1_1_97\", \"value\": 1, \"target\": \"Products1/Product32\"}, {\"source\": \"Catg_EdgeRelationTemplateSpn_3_1_1_98\", \"value\": 1, \"target\": \"Products1/Product32\"}, {\"source\": \"Catg_EdgeRelationTemplateSpn_3_1_1_99\", \"value\": 1, \"target\": \"Products1/Product32\"}, {\"source\": \"Catg_EdgeRelationTemplateSpn_3_1_1_100\", \"value\": 1, \"target\": \"Products1/Product31\"}, {\"source\": \"Catg_EdgeRelationTemplateSpn_3_1_1_101\", \"value\": 1, \"target\": \"Products1/Product31\"}, {\"source\": \"Catg_EdgeRelationTemplateSpn_3_1_1_102\", \"value\": 1, \"target\": \"Products1/Product31\"}, {\"source\": \"Catg_EdgeRelationTemplateSpn_3_1_1_103\", \"value\": 1, \"target\": \"Products1/Product30\"}, {\"source\": \"Catg_EdgeRelationTemplateSpn_3_1_1_104\", \"value\": 1, \"target\": \"Products1/Product30\"}, {\"source\": \"Catg_EdgeRelationTemplateSpn_3_1_1_105\", \"value\": 1, \"target\": \"Products1/Product30\"}, {\"source\": \"Catg_EdgeRelationTemplateSpn_3_1_1_106\", \"value\": 1, \"target\": \"Products1/Product29\"}, {\"source\": \"Catg_EdgeRelationTemplateSpn_3_1_1_107\", \"value\": 1, \"target\": \"Products1/Product29\"}, {\"source\": \"Catg_EdgeRelationTemplateSpn_3_1_1_108\", \"value\": 1, \"target\": \"Products1/Product29\"}, {\"source\": \"Catg_EdgeRelationTemplateSpn_3_1_1_109\", \"value\": 1, \"target\": \"Products1/Product28\"}, {\"source\": \"Catg_EdgeRelationTemplateSpn_3_1_1_110\", \"value\": 1, \"target\": \"Products1/Product28\"}, {\"source\": \"Catg_EdgeRelationTemplateSpn_3_1_1_111\", \"value\": 1, \"target\": \"Products1/Product28\"}, {\"source\": \"Catg_EdgeRelationTemplateSpn_3_1_1_112\", \"value\": 1, \"target\": \"Products1/Product27\"}, {\"source\": \"Catg_EdgeRelationTemplateSpn_3_1_1_113\", \"value\": 1, \"target\": \"Products1/Product27\"}, {\"source\": \"Catg_EdgeRelationTemplateSpn_3_1_1_114\", \"value\": 1, \"target\": \"Products1/Product27\"}, {\"source\": \"Catg_EdgeRelationTemplateSpn_3_1_1_115\", \"value\": 1, \"target\": \"Products1/Product26\"}, {\"source\": \"Catg_EdgeRelationTemplateSpn_3_1_1_116\", \"value\": 1, \"target\": \"Products1/Product26\"}, {\"source\": \"Catg_EdgeRelationTemplateSpn_3_1_1_117\", \"value\": 1, \"target\": \"Products1/Product26\"}, {\"source\": \"Catg_EdgeRelationTemplateSpn_3_1_1_118\", \"value\": 1, \"target\": \"Products1/Product25\"}, {\"source\": \"Catg_EdgeRelationTemplateSpn_3_1_1_119\", \"value\": 1, \"target\": \"Products1/Product25\"}, {\"source\": \"Catg_EdgeRelationTemplateSpn_3_1_1_120\", \"value\": 1, \"target\": \"Products1/Product25\"}, {\"source\": \"Catg_EdgeRelationTemplateSpn_3_1_1_121\", \"value\": 1, \"target\": \"Products1/Product24\"}, {\"source\": \"Catg_EdgeRelationTemplateSpn_3_1_1_122\", \"value\": 1, \"target\": \"Products1/Product24\"}, {\"source\": \"Catg_EdgeRelationTemplateSpn_3_1_1_123\", \"value\": 1, \"target\": \"Products1/Product24\"}, {\"source\": \"Catg_EdgeRelationTemplateSpn_3_1_1_124\", \"value\": 1, \"target\": \"Products1/Product23\"}, {\"source\": \"Catg_EdgeRelationTemplateSpn_3_1_1_125\", \"value\": 1, \"target\": \"Products1/Product23\"}, {\"source\": \"Catg_EdgeRelationTemplateSpn_3_1_1_126\", \"value\": 1, \"target\": \"Products1/Product23\"}, {\"source\": \"Catg_EdgeRelationTemplateSpn_3_1_1_127\", \"value\": 1, \"target\": \"Products1/Product22\"}, {\"source\": \"Catg_EdgeRelationTemplateSpn_3_1_1_128\", \"value\": 1, \"target\": \"Products1/Product22\"}, {\"source\": \"Catg_EdgeRelationTemplateSpn_3_1_1_129\", \"value\": 1, \"target\": \"Products1/Product22\"}, {\"source\": \"Catg_EdgeRelationTemplateSpn_3_1_1_130\", \"value\": 1, \"target\": \"Products1/Product21\"}, {\"source\": \"Catg_EdgeRelationTemplateSpn_3_1_1_131\", \"value\": 1, \"target\": \"Products1/Product21\"}, {\"source\": \"Catg_EdgeRelationTemplateSpn_3_1_1_132\", \"value\": 1, \"target\": \"Products1/Product21\"}, {\"source\": \"Catg_EdgeRelationTemplateSpn_3_1_1_133\", \"value\": 1, \"target\": \"Products1/Product20\"}, {\"source\": \"Catg_EdgeRelationTemplateSpn_3_1_1_134\", \"value\": 1, \"target\": \"Products1/Product20\"}, {\"source\": \"Catg_EdgeRelationTemplateSpn_3_1_1_135\", \"value\": 1, \"target\": \"Products1/Product20\"}, {\"source\": \"Catg_EdgeRelationTemplateSpn_3_1_1_136\", \"value\": 1, \"target\": \"Products1/Product19\"}, {\"source\": \"Catg_EdgeRelationTemplateSpn_3_1_1_137\", \"value\": 1, \"target\": \"Products1/Product19\"}, {\"source\": \"Catg_EdgeRelationTemplateSpn_3_1_1_138\", \"value\": 1, \"target\": \"Products1/Product19\"}, {\"source\": \"Catg_EdgeRelationTemplateSpn_3_1_1_139\", \"value\": 1, \"target\": \"Products1/Product18\"}, {\"source\": \"Catg_EdgeRelationTemplateSpn_3_1_1_140\", \"value\": 1, \"target\": \"Products1/Product18\"}, {\"source\": \"Catg_EdgeRelationTemplateSpn_3_1_1_141\", \"value\": 1, \"target\": \"Products1/Product18\"}, {\"source\": \"Catg_EdgeRelationTemplateSpn_3_1_1_142\", \"value\": 1, \"target\": \"Products1/Product17\"}, {\"source\": \"Catg_EdgeRelationTemplateSpn_3_1_1_143\", \"value\": 1, \"target\": \"Products1/Product17\"}, {\"source\": \"Catg_EdgeRelationTemplateSpn_3_1_1_144\", \"value\": 1, \"target\": \"Products1/Product17\"}, {\"source\": \"Catg_EdgeRelationTemplateSpn_3_1_1_145\", \"value\": 1, \"target\": \"Products1/Product16\"}, {\"source\": \"Catg_EdgeRelationTemplateSpn_3_1_1_146\", \"value\": 1, \"target\": \"Products1/Product16\"}, {\"source\": \"Catg_EdgeRelationTemplateSpn_3_1_1_147\", \"value\": 1, \"target\": \"Products1/Product16\"}, {\"source\": \"Catg_EdgeRelationTemplateSpn_3_1_1_148\", \"value\": 1, \"target\": \"Products1/Product15\"}, {\"source\": \"Catg_EdgeRelationTemplateSpn_3_1_1_149\", \"value\": 1, \"target\": \"Products1/Product15\"}, {\"source\": \"Catg_EdgeRelationTemplateSpn_3_1_1_150\", \"value\": 1, \"target\": \"Products1/Product15\"}, {\"source\": \"Catg_EdgeRelationTemplateSpn_3_1_1_151\", \"value\": 1, \"target\": \"Products1/Product14\"}, {\"source\": \"Catg_EdgeRelationTemplateSpn_3_1_1_152\", \"value\": 1, \"target\": \"Products1/Product14\"}, {\"source\": \"Catg_EdgeRelationTemplateSpn_3_1_1_153\", \"value\": 1, \"target\": \"Products1/Product14\"}, {\"source\": \"Catg_EdgeRelationTemplateSpn_3_1_1_154\", \"value\": 1, \"target\": \"Products1/Product13\"}, {\"source\": \"Catg_EdgeRelationTemplateSpn_3_1_1_155\", \"value\": 1, \"target\": \"Products1/Product13\"}, {\"source\": \"Catg_EdgeRelationTemplateSpn_3_1_1_156\", \"value\": 1, \"target\": \"Products1/Product13\"}, {\"source\": \"Catg_EdgeRelationTemplateSpn_3_1_1_157\", \"value\": 1, \"target\": \"Products1/Product12\"}, {\"source\": \"Catg_EdgeRelationTemplateSpn_3_1_1_158\", \"value\": 1, \"target\": \"Products1/Product12\"}, {\"source\": \"Catg_EdgeRelationTemplateSpn_3_1_1_159\", \"value\": 1, \"target\": \"Products1/Product12\"}, {\"source\": \"Catg_EdgeRelationTemplateSpn_3_1_1_160\", \"value\": 1, \"target\": \"Products1/Product11\"}, {\"source\": \"Catg_EdgeRelationTemplateSpn_3_1_1_161\", \"value\": 1, \"target\": \"Products1/Product11\"}, {\"source\": \"Catg_EdgeRelationTemplateSpn_3_1_1_162\", \"value\": 1, \"target\": \"Products1/Product11\"}, {\"source\": \"Catg_EdgeRelationTemplateSpn_3_1_1_163\", \"value\": 1, \"target\": \"Products1/Product10\"}, {\"source\": \"Catg_EdgeRelationTemplateSpn_3_1_1_164\", \"value\": 1, \"target\": \"Products1/Product10\"}, {\"source\": \"Catg_EdgeRelationTemplateSpn_3_1_1_165\", \"value\": 1, \"target\": \"Products1/Product10\"}, {\"source\": \"Catg_EdgeRelationTemplateSpn_3_1_1_166\", \"value\": 1, \"target\": \"Products1/Product9\"}, {\"source\": \"Catg_EdgeRelationTemplateSpn_3_1_1_167\", \"value\": 1, \"target\": \"Products1/Product9\"}, {\"source\": \"Catg_EdgeRelationTemplateSpn_3_1_1_168\", \"value\": 1, \"target\": \"Products1/Product9\"}, {\"source\": \"Catg_EdgeRelationTemplateSpn_3_1_1_169\", \"value\": 1, \"target\": \"Products1/Product8_1\"}, {\"source\": \"Catg_EdgeRelationTemplateSpn_3_1_1_170\", \"value\": 1, \"target\": \"Products1/Product8_1\"}, {\"source\": \"Catg_EdgeRelationTemplateSpn_3_1_1_171\", \"value\": 1, \"target\": \"Products1/Product8_1\"}, {\"source\": \"Catg_EdgeRelationTemplateSpn_3_1_1_172\", \"value\": 1, \"target\": \"Products1/Product7_1\"}, {\"source\": \"Catg_EdgeRelationTemplateSpn_3_1_1_173\", \"value\": 1, \"target\": \"Products1/Product7_1\"}, {\"source\": \"Catg_EdgeRelationTemplateSpn_3_1_1_174\", \"value\": 1, \"target\": \"Products1/Product7_1\"}, {\"source\": \"Catg_EdgeRelationTemplateSpn_3_1_1_175\", \"value\": 1, \"target\": \"Products1/Product6_1\"}, {\"source\": \"Catg_EdgeRelationTemplateSpn_3_1_1_176\", \"value\": 1, \"target\": \"Products1/Product6_1\"}, {\"source\": \"Catg_EdgeRelationTemplateSpn_3_1_1_177\", \"value\": 1, \"target\": \"Products1/Product6_1\"}, {\"source\": \"Catg_EdgeRelationTemplateSpn_3_1_1_178\", \"value\": 1, \"target\": \"Products1/Product5_1\"}, {\"source\": \"Catg_EdgeRelationTemplateSpn_3_1_1_179\", \"value\": 1, \"target\": \"Products1/Product5_1\"}, {\"source\": \"Catg_EdgeRelationTemplateSpn_3_1_1_180\", \"value\": 1, \"target\": \"Products1/Product5_1\"}, {\"source\": \"Catg_EdgeRelationTemplateSpn_3_1_1_181\", \"value\": 1, \"target\": \"Products1/Product4_1\"}, {\"source\": \"Catg_EdgeRelationTemplateSpn_3_1_1_182\", \"value\": 1, \"target\": \"Products1/Product4_1\"}, {\"source\": \"Catg_EdgeRelationTemplateSpn_3_1_1_183\", \"value\": 1, \"target\": \"Products1/Product4_1\"}, {\"source\": \"Catg_EdgeRelationTemplateSpn_3_1_1_184\", \"value\": 1, \"target\": \"Products1/Product3_1\"}, {\"source\": \"Catg_EdgeRelationTemplateSpn_3_1_1_185\", \"value\": 1, \"target\": \"Products1/Product3_1\"}, {\"source\": \"Catg_EdgeRelationTemplateSpn_3_1_1_186\", \"value\": 1, \"target\": \"Products1/Product3_1\"}, {\"source\": \"Catg_EdgeRelationTemplateSpn_3_1_1_187\", \"value\": 1, \"target\": \"Products1/Product2_1\"}, {\"source\": \"Catg_EdgeRelationTemplateSpn_3_1_1_188\", \"value\": 1, \"target\": \"Products1/Product2_1\"}, {\"source\": \"Catg_EdgeRelationTemplateSpn_3_1_1_189\", \"value\": 1, \"target\": \"Products1/Product2_1\"}, {\"source\": \"Catg_EdgeRelationTemplateSpn_3_1_1_190\", \"value\": 1, \"target\": \"Products1/Product1_1\"}, {\"source\": \"Catg_EdgeRelationTemplateSpn_3_1_1_191\", \"value\": 1, \"target\": \"Products1/Product1_1\"}, {\"source\": \"Catg_EdgeRelationTemplateSpn_3_1_1_192\", \"value\": 1, \"target\": \"Products1/Product1_1\"}, {\"source\": \"Products1/Product1_1\", \"value\": 1, \"target\": \"Node_7\"}, {\"source\": \"Products1/Product2_1\", \"value\": 1, \"target\": \"Node_7\"}, {\"source\": \"Products1/Product3_1\", \"value\": 1, \"target\": \"Node_7\"}, {\"source\": \"Products1/Product4_1\", \"value\": 1, \"target\": \"Node_7\"}, {\"source\": \"Products1/Product5_1\", \"value\": 1, \"target\": \"Node_7\"}, {\"source\": \"Products1/Product6_1\", \"value\": 1, \"target\": \"Node_7\"}, {\"source\": \"Products1/Product7_1\", \"value\": 1, \"target\": \"Node_7\"}, {\"source\": \"Products1/Product8_1\", \"value\": 1, \"target\": \"Node_7\"}, {\"source\": \"Products1/Product9\", \"value\": 1, \"target\": \"Node_7\"}, {\"source\": \"Products1/Product10\", \"value\": 1, \"target\": \"Node_7\"}, {\"source\": \"Products1/Product11\", \"value\": 1, \"target\": \"Node_7\"}, {\"source\": \"Products1/Product12\", \"value\": 1, \"target\": \"Node_7\"}, {\"source\": \"Products1/Product13\", \"value\": 1, \"target\": \"Node_7\"}, {\"source\": \"Products1/Product14\", \"value\": 1, \"target\": \"Node_7\"}, {\"source\": \"Products1/Product15\", \"value\": 1, \"target\": \"Node_7\"}, {\"source\": \"Products1/Product16\", \"value\": 1, \"target\": \"Node_7\"}, {\"source\": \"Products1/Product17\", \"value\": 1, \"target\": \"Node_7\"}, {\"source\": \"Products1/Product18\", \"value\": 1, \"target\": \"Node_7\"}, {\"source\": \"Products1/Product19\", \"value\": 1, \"target\": \"Node_7\"}, {\"source\": \"Products1/Product20\", \"value\": 1, \"target\": \"Node_7\"}, {\"source\": \"Products1/Product21\", \"value\": 1, \"target\": \"Node_7\"}, {\"source\": \"Products1/Product22\", \"value\": 1, \"target\": \"Node_7\"}, {\"source\": \"Products1/Product23\", \"value\": 1, \"target\": \"Node_7\"}, {\"source\": \"Products1/Product24\", \"value\": 1, \"target\": \"Node_7\"}, {\"source\": \"Products1/Product25\", \"value\": 1, \"target\": \"Node_7\"}, {\"source\": \"Products1/Product26\", \"value\": 1, \"target\": \"Node_7\"}, {\"source\": \"Products1/Product27\", \"value\": 1, \"target\": \"Node_7\"}, {\"source\": \"Products1/Product28\", \"value\": 1, \"target\": \"Node_7\"}, {\"source\": \"Products1/Product29\", \"value\": 1, \"target\": \"Node_7\"}, {\"source\": \"Products1/Product30\", \"value\": 1, \"target\": \"Node_7\"}, {\"source\": \"Products1/Product31\", \"value\": 1, \"target\": \"Node_7\"}, {\"source\": \"Products1/Product32\", \"value\": 1, \"target\": \"Node_7\"}, {\"source\": \"Products1/Product33\", \"value\": 1, \"target\": \"Node_7\"}, {\"source\": \"Products1/Product34\", \"value\": 1, \"target\": \"Node_7\"}, {\"source\": \"Products1/Product35\", \"value\": 1, \"target\": \"Node_7\"}, {\"source\": \"Products1/Product36\", \"value\": 1, \"target\": \"Node_7\"}, {\"source\": \"Products1/Product37\", \"value\": 1, \"target\": \"Node_7\"}, {\"source\": \"Products1/Product38\", \"value\": 1, \"target\": \"Node_7\"}, {\"source\": \"Products1/Product39\", \"value\": 1, \"target\": \"Node_7\"}, {\"source\": \"Products1/Product40\", \"value\": 1, \"target\": \"Node_7\"}, {\"source\": \"Products1/Product41\", \"value\": 1, \"target\": \"Node_7\"}, {\"source\": \"Products1/Product42\", \"value\": 1, \"target\": \"Node_7\"}, {\"source\": \"Products1/Product43\", \"value\": 1, \"target\": \"Node_7\"}, {\"source\": \"Products1/Product44\", \"value\": 1, \"target\": \"Node_7\"}, {\"source\": \"Products1/Product45\", \"value\": 1, \"target\": \"Node_7\"}, {\"source\": \"Products1/Product46\", \"value\": 1, \"target\": \"Node_7\"}, {\"source\": \"Products1/Product47\", \"value\": 1, \"target\": \"Node_7\"}, {\"source\": \"Products1/Product48\", \"value\": 1, \"target\": \"Node_7\"}, {\"source\": \"Products1/Product49\", \"value\": 1, \"target\": \"Node_7\"}, {\"source\": \"Products1/Product50\", \"value\": 1, \"target\": \"Node_7\"}, {\"source\": \"Products1/Product51\", \"value\": 1, \"target\": \"Node_7\"}, {\"source\": \"Products1/Product52\", \"value\": 1, \"target\": \"Node_7\"}, {\"source\": \"Products1/Product53\", \"value\": 1, \"target\": \"Node_7\"}, {\"source\": \"Products1/Product54\", \"value\": 1, \"target\": \"Node_7\"}, {\"source\": \"Products1/Product55\", \"value\": 1, \"target\": \"Node_7\"}, {\"source\": \"Products1/Product56\", \"value\": 1, \"target\": \"Node_7\"}, {\"source\": \"Products1/Product57\", \"value\": 1, \"target\": \"Node_7\"}, {\"source\": \"Products1/Product58\", \"value\": 1, \"target\": \"Node_7\"}, {\"source\": \"Products1/Product59\", \"value\": 1, \"target\": \"Node_7\"}, {\"source\": \"Products1/Product60\", \"value\": 1, \"target\": \"Node_7\"}, {\"source\": \"Products1/Product61\", \"value\": 1, \"target\": \"Node_7\"}, {\"source\": \"Products1/Product62\", \"value\": 1, \"target\": \"Node_7\"}, {\"source\": \"Products1/Product63\", \"value\": 1, \"target\": \"Node_7\"}, {\"source\": \"Products1/Product64\", \"value\": 1, \"target\": \"Node_7\"}, {\"source\": \"Node_7\", \"value\": 1, \"target\": \"Products1_1/Product5_1\"}, {\"source\": \"View_EdgeRelationTemplateSpn_3_1_1_193\", \"value\": 1, \"target\": \"Products1_1/Product5_1\"}, {\"source\": \"Node_7\", \"value\": 1, \"target\": \"Products1_1/Product4_1\"}, {\"source\": \"View_EdgeRelationTemplateSpn_3_1_1_194\", \"value\": 1, \"target\": \"Products1_1/Product4_1\"}, {\"source\": \"Node_7\", \"value\": 1, \"target\": \"Products1_1/Product3_1\"}, {\"source\": \"View_EdgeRelationTemplateSpn_3_1_1_195\", \"value\": 1, \"target\": \"Products1_1/Product3_1\"}, {\"source\": \"Node_7\", \"value\": 1, \"target\": \"Products1_1/Product2_1\"}, {\"source\": \"View_EdgeRelationTemplateSpn_3_1_1_196\", \"value\": 1, \"target\": \"Products1_1/Product2_1\"}, {\"source\": \"Node_7\", \"value\": 1, \"target\": \"Products1_1/Product1_1\"}, {\"source\": \"View_EdgeRelationTemplateSpn_3_1_1_197\", \"value\": 1, \"target\": \"Products1_1/Product1_1\"}, {\"source\": \"Products1_1/Product1_1\", \"value\": 1, \"target\": \"Node_1_1\"}, {\"source\": \"Products1_1/Product2_1\", \"value\": 1, \"target\": \"Node_1_1\"}, {\"source\": \"Products1_1/Product3_1\", \"value\": 1, \"target\": \"Node_1_1\"}, {\"source\": \"Products1_1/Product4_1\", \"value\": 1, \"target\": \"Node_1_1\"}, {\"source\": \"Products1_1/Product5_1\", \"value\": 1, \"target\": \"Node_1_1\"}]};\n",
       "\n",
       "   var color = d3.scaleOrdinal(d3.schemeCategory10);\n",
       "\n",
       "   var zoom = d3.zoom()\n",
       "                .scaleExtent([0.1, 10])\n",
       "                .on(\"zoom\", zoomed);\n",
       "\n",
       "   var svg = d3.select(\"#S0199102082f94fdf8e738e6a8ea274cd\").\n",
       "                call(zoom);\n",
       "\n",
       "   var width = svg.attr(\"width\");\n",
       "   var height = svg.attr(\"height\");\n",
       "\n",
       "   var simulation = d3.forceSimulation(graph.nodes)\n",
       "                      .on(\"tick\", ticked)\n",
       "                      .force(\"link\", d3.forceLink(graph.links)\n",
       "                                       .distance(80)\n",
       "                                       .id(function(d) { return d.id; }))\n",
       "                      .force(\"charge\", d3.forceManyBody().\n",
       "                                          strength(-1000))\n",
       "                      .force(\"center\", d3.forceCenter(width / 2, height / 2));\n",
       "\n",
       "   /* Contents */\n",
       "   var container = svg.append(\"g\").\n",
       "                       attr(\"class\", \"container\");\n",
       "\n",
       "   var link = container.append(\"g\")\n",
       "                       .selectAll(\"link\")\n",
       "                       .data(graph.links)\n",
       "                       .enter().append(\"line\")\n",
       "                       .attr(\"stroke\", \"#444\")\n",
       "                       .attr(\"stroke-opacity\", \"0.6\")\n",
       "                       .attr(\"stroke-width\",\n",
       "                             function(d) {\n",
       "                               return d.value;\n",
       "                               /*return Math.sqrt(d.value);*/\n",
       "                             });\n",
       "\n",
       "   var link_value = container.append(\"g\")\n",
       "                             .selectAll(\"linkvalue\")\n",
       "                             .data(graph.links)\n",
       "                             .enter().append(\"text\")\n",
       "                             .attr(\"alignment-baseline\", \"middle\")\n",
       "                             .style(\"text-anchor\", \"middle\")\n",
       "                             .text(function(d) { return d.value; });\n",
       "\n",
       "   var node = container.append(\"g\")\n",
       "                       .selectAll(\"node\")\n",
       "                       .data(graph.nodes)\n",
       "                       .enter().append(\"g\")\n",
       "                       .call(d3.drag()\n",
       "                               .on(\"start\", dragstarted)\n",
       "                               .on(\"drag\", dragged)\n",
       "                               .on(\"end\", dragended));\n",
       "\n",
       "   /* Node appearance */\n",
       "   node.append(\"rect\")\n",
       "       .attr(\"height\", 0)\n",
       "       .attr(\"width\", 0)\n",
       "       .attr(\"fill\", function(d) { return color(d.type); })\n",
       "       .attr(\"stroke\", \"#000\")\n",
       "       .attr(\"stroke-width\", \"1px\");\n",
       "\n",
       "   node.append(\"text\")\n",
       "       .attr(\"alignment-baseline\", \"middle\")\n",
       "       .style(\"text-anchor\", \"middle\")\n",
       "       .text(function(d) { return d.name; });\n",
       "\n",
       "   /* Adjust rect width to text */\n",
       "   var margin=10;\n",
       "   node.selectAll('rect')\n",
       "       .attr(\"x\", function(d) {return d3.select(this).attr(\"x\") - (this.parentNode.getBBox().width + margin)/2.0;})\n",
       "       .attr(\"y\", function(d) {return d3.select(this).attr(\"y\") - (this.parentNode.getBBox().height + margin)/2.0;})\n",
       "       .attr(\"width\", function(d) {return this.parentNode.getBBox().width + margin;})\n",
       "       .attr(\"height\", function(d) {return this.parentNode.getBBox().height + margin;});\n",
       "\n",
       "   /* Tooltips */\n",
       "   node.append(\"title\")\n",
       "       .text(function(d) { return d.tooltip; });\n",
       "\n",
       "   /* Functions */\n",
       "   function zoomed() {\n",
       "     container.attr(\"transform\", d3.event.transform);\n",
       "   }\n",
       "\n",
       "   function ticked() {\n",
       "     link\n",
       "       .attr(\"x1\", function(d) { return d.source.x; })\n",
       "       .attr(\"y1\", function(d) { return d.source.y; })\n",
       "       .attr(\"x2\", function(d) { return d.target.x; })\n",
       "       .attr(\"y2\", function(d) { return d.target.y; });\n",
       "\n",
       "     link_value\n",
       "       .attr(\"x\", function(d) { return (d.source.x+d.target.x)/2; })\n",
       "       .attr(\"y\", function(d) { return (d.source.y+d.target.y)/2; })\n",
       "\n",
       "     node.attr(\"transform\",\n",
       "               function(d) { return \"translate(\" + d.x + \",\" + d.y + \")\"; });\n",
       "   }\n",
       "\n",
       "   function dragstarted(d) {\n",
       "     if (!d3.event.active) simulation.alphaTarget(0.3).restart();\n",
       "     d.fx = d.x;\n",
       "     d.fy = d.y;\n",
       "   }\n",
       "\n",
       "   function dragged(d) {\n",
       "     d.fx = d3.event.x;\n",
       "     d.fy = d3.event.y;\n",
       "   }\n",
       "\n",
       "   function dragended(d) {\n",
       "     if (!d3.event.active) simulation.alphaTarget(0);\n",
       "     d.fx = null;\n",
       "     d.fy = null;\n",
       "   }\n",
       "\n",
       " });\n",
       "</script>\n"
      ],
      "text/plain": [
       "<IPython.core.display.HTML object>"
      ]
     },
     "metadata": {},
     "output_type": "display_data"
    }
   ],
   "source": [
    "SpnModel.print_structure(tspn31._root, sess)\n",
    "tspn01._conc_inputs\n",
    "spn.display_spn_graph(tspn31._root, sess)"
   ]
  },
  {
   "cell_type": "code",
   "execution_count": 15,
   "metadata": {},
   "outputs": [
    {
     "ename": "AttributeError",
     "evalue": "'NoneType' object has no attribute 'set_inputs'",
     "output_type": "error",
     "traceback": [
      "\u001b[0;31m---------------------------------------------------------------------------\u001b[0m",
      "\u001b[0;31mAttributeError\u001b[0m                            Traceback (most recent call last)",
      "\u001b[0;32m<ipython-input-15-f9590f47456f>\u001b[0m in \u001b[0;36m<module>\u001b[0;34m()\u001b[0m\n\u001b[0;32m----> 1\u001b[0;31m \u001b[0mtspn31\u001b[0m\u001b[0;34m.\u001b[0m\u001b[0m_conc_inputs\u001b[0m\u001b[0;34m.\u001b[0m\u001b[0mset_inputs\u001b[0m\u001b[0;34m(\u001b[0m\u001b[0;34m)\u001b[0m\u001b[0;34m\u001b[0m\u001b[0m\n\u001b[0m\u001b[1;32m      2\u001b[0m \u001b[0mtspn11\u001b[0m\u001b[0;34m.\u001b[0m\u001b[0m_conc_inputs\u001b[0m\u001b[0;34m.\u001b[0m\u001b[0mset_inputs\u001b[0m\u001b[0;34m(\u001b[0m\u001b[0;34m)\u001b[0m\u001b[0;34m\u001b[0m\u001b[0m\n\u001b[1;32m      3\u001b[0m \u001b[0mtspn10\u001b[0m\u001b[0;34m.\u001b[0m\u001b[0m_conc_inputs\u001b[0m\u001b[0;34m.\u001b[0m\u001b[0mset_inputs\u001b[0m\u001b[0;34m(\u001b[0m\u001b[0;34m)\u001b[0m\u001b[0;34m\u001b[0m\u001b[0m\n\u001b[1;32m      4\u001b[0m \u001b[0mtspn01\u001b[0m\u001b[0;34m.\u001b[0m\u001b[0m_conc_inputs\u001b[0m\u001b[0;34m.\u001b[0m\u001b[0mset_inputs\u001b[0m\u001b[0;34m(\u001b[0m\u001b[0;34m)\u001b[0m\u001b[0;34m\u001b[0m\u001b[0m\n",
      "\u001b[0;31mAttributeError\u001b[0m: 'NoneType' object has no attribute 'set_inputs'"
     ]
    }
   ],
   "source": [
    "tspn31._conc_inputs.set_inputs()\n",
    "tspn11._conc_inputs.set_inputs()\n",
    "tspn10._conc_inputs.set_inputs()\n",
    "tspn01._conc_inputs.set_inputs()"
   ]
  },
  {
   "cell_type": "code",
   "execution_count": 16,
   "metadata": {},
   "outputs": [
    {
     "name": "stdout",
     "output_type": "stream",
     "text": [
      "Node_10 (Sum)\n",
      "    Input(Products1/Product1_4, None) (Product)\n",
      "    Input(Products1/Product2_4, None) (Product)\n",
      "    Input(Products1/Product3_4, None) (Product)\n",
      "    Input(Products1/Product4_4, None) (Product)\n",
      "    Input(Products1/Product5_2, None) (Product)\n",
      "Products1/Product1_4 (Product)\n",
      "    Input(Conc_EdgeRelationTemplateSpn_0_1_1, [0]) (Concat)\n",
      "Products1/Product2_4 (Product)\n",
      "    Input(Conc_EdgeRelationTemplateSpn_0_1_1, [1]) (Concat)\n",
      "Products1/Product3_4 (Product)\n",
      "    Input(Conc_EdgeRelationTemplateSpn_0_1_1, [2]) (Concat)\n",
      "Products1/Product4_4 (Product)\n",
      "    Input(Conc_EdgeRelationTemplateSpn_0_1_1, [3]) (Concat)\n",
      "Products1/Product5_2 (Product)\n",
      "    Input(Conc_EdgeRelationTemplateSpn_0_1_1, [4]) (Concat)\n",
      "Conc_EdgeRelationTemplateSpn_0_1_1 (Concat)\n",
      "    Input(View_EdgeRelationTemplateSpn_0_1_1, None) (IVs)\n"
     ]
    }
   ],
   "source": [
    "SpnModel.print_structure(tspn01._root, sess)"
   ]
  },
  {
   "cell_type": "code",
   "execution_count": 17,
   "metadata": {},
   "outputs": [
    {
     "name": "stdout",
     "output_type": "stream",
     "text": [
      "Partition 1\n",
      "Duplicating (0, 1)... 1 "
     ]
    },
    {
     "ename": "ValueError",
     "evalue": "Unexpected node View_EdgeRelationTemplateSpn_0_1_1. We don't intend to deal with IVs here. Please remove them from the concat.",
     "output_type": "error",
     "traceback": [
      "\u001b[0;31m---------------------------------------------------------------------------\u001b[0m",
      "\u001b[0;31mValueError\u001b[0m                                Traceback (most recent call last)",
      "\u001b[0;32m<ipython-input-17-2a0084c90035>\u001b[0m in \u001b[0;36m<module>\u001b[0;34m()\u001b[0m\n\u001b[1;32m      4\u001b[0m                                        \u001b[0mvisualize_partitions_dirpath\u001b[0m\u001b[0;34m=\u001b[0m\u001b[0;32mNone\u001b[0m\u001b[0;34m,\u001b[0m\u001b[0;34m\u001b[0m\u001b[0m\n\u001b[1;32m      5\u001b[0m                                        \u001b[0mdb_name\u001b[0m\u001b[0;34m=\u001b[0m\u001b[0;34m\"Fake\"\u001b[0m\u001b[0;34m,\u001b[0m\u001b[0;34m\u001b[0m\u001b[0m\n\u001b[0;32m----> 6\u001b[0;31m                                        divisions=8)\n\u001b[0m",
      "\u001b[0;32m~/Documents/thesis/experiments/deep-semantic-mapping/deepsm/graphspn/tbm/spn_instance.py\u001b[0m in \u001b[0;36m__init__\u001b[0;34m(self, topo_map, sess, *spns, **kwargs)\u001b[0m\n\u001b[1;32m    550\u001b[0m                           \u001b[0mnum_partitions\u001b[0m\u001b[0;34m=\u001b[0m\u001b[0mkwargs\u001b[0m\u001b[0;34m.\u001b[0m\u001b[0mget\u001b[0m\u001b[0;34m(\u001b[0m\u001b[0;34m'num_partitions'\u001b[0m\u001b[0;34m,\u001b[0m \u001b[0;36m1\u001b[0m\u001b[0;34m)\u001b[0m\u001b[0;34m,\u001b[0m\u001b[0;34m\u001b[0m\u001b[0m\n\u001b[1;32m    551\u001b[0m                           \u001b[0mvisualize_partitions_dirpath\u001b[0m\u001b[0;34m=\u001b[0m\u001b[0mkwargs\u001b[0m\u001b[0;34m.\u001b[0m\u001b[0mget\u001b[0m\u001b[0;34m(\u001b[0m\u001b[0;34m'visualize_partitions_dirpath'\u001b[0m\u001b[0;34m,\u001b[0m \u001b[0;32mNone\u001b[0m\u001b[0;34m)\u001b[0m\u001b[0;34m,\u001b[0m\u001b[0;34m\u001b[0m\u001b[0m\n\u001b[0;32m--> 552\u001b[0;31m                           db_name=kwargs.get('db_name', None))\n\u001b[0m\u001b[1;32m    553\u001b[0m     \u001b[0;34m@\u001b[0m\u001b[0mproperty\u001b[0m\u001b[0;34m\u001b[0m\u001b[0m\n\u001b[1;32m    554\u001b[0m     \u001b[0;32mdef\u001b[0m \u001b[0mvn\u001b[0m\u001b[0;34m(\u001b[0m\u001b[0mself\u001b[0m\u001b[0;34m)\u001b[0m\u001b[0;34m:\u001b[0m\u001b[0;34m\u001b[0m\u001b[0m\n",
      "\u001b[0;32m~/Documents/thesis/experiments/deep-semantic-mapping/deepsm/graphspn/tbm/spn_instance.py\u001b[0m in \u001b[0;36m_init_struct\u001b[0;34m(self, sess, divisions, num_partitions, visualize_partitions_dirpath, db_name, **kwargs)\u001b[0m\n\u001b[1;32m    653\u001b[0m                                                             \u001b[0mgraph_num_vars\u001b[0m\u001b[0;34m=\u001b[0m\u001b[0mgraph_num_vars\u001b[0m\u001b[0;34m,\u001b[0m\u001b[0;34m\u001b[0m\u001b[0m\n\u001b[1;32m    654\u001b[0m                                                             \u001b[0mlabels\u001b[0m\u001b[0;34m=\u001b[0m\u001b[0mlabels\u001b[0m\u001b[0;34m,\u001b[0m\u001b[0;34m\u001b[0m\u001b[0m\n\u001b[0;32m--> 655\u001b[0;31m                                                             conc=self._conc_inputs)\n\u001b[0m\u001b[1;32m    656\u001b[0m                     \u001b[0;32massert\u001b[0m \u001b[0mcopied_tspn_root\u001b[0m\u001b[0;34m.\u001b[0m\u001b[0mis_valid\u001b[0m\u001b[0;34m(\u001b[0m\u001b[0;34m)\u001b[0m\u001b[0;34m\u001b[0m\u001b[0m\n\u001b[1;32m    657\u001b[0m                     \u001b[0mtemplate_spn_roots\u001b[0m\u001b[0;34m.\u001b[0m\u001b[0mappend\u001b[0m\u001b[0;34m(\u001b[0m\u001b[0mcopied_tspn_root\u001b[0m\u001b[0;34m)\u001b[0m\u001b[0;34m\u001b[0m\u001b[0m\n",
      "\u001b[0;32m~/Documents/thesis/experiments/deep-semantic-mapping/deepsm/graphspn/spn_model.py\u001b[0m in \u001b[0;36mmod_compute_graph_up\u001b[0;34m(root, val_fun, **kwargs)\u001b[0m\n\u001b[1;32m    367\u001b[0m             \u001b[0;32melse\u001b[0m\u001b[0;34m:\u001b[0m\u001b[0;34m\u001b[0m\u001b[0m\n\u001b[1;32m    368\u001b[0m                 \u001b[0;31m# VarNode, ParamNode\u001b[0m\u001b[0;34m\u001b[0m\u001b[0;34m\u001b[0m\u001b[0m\n\u001b[0;32m--> 369\u001b[0;31m                 \u001b[0mlast_val\u001b[0m \u001b[0;34m=\u001b[0m \u001b[0mval_fun\u001b[0m\u001b[0;34m(\u001b[0m\u001b[0mnext_input\u001b[0m\u001b[0;34m,\u001b[0m \u001b[0;34m**\u001b[0m\u001b[0mkwargs\u001b[0m\u001b[0;34m)\u001b[0m\u001b[0;34m\u001b[0m\u001b[0m\n\u001b[0m\u001b[1;32m    370\u001b[0m                 \u001b[0mall_values\u001b[0m\u001b[0;34m[\u001b[0m\u001b[0mnext_input\u001b[0m\u001b[0;34m]\u001b[0m \u001b[0;34m=\u001b[0m \u001b[0mlast_val\u001b[0m\u001b[0;34m\u001b[0m\u001b[0m\n\u001b[1;32m    371\u001b[0m                 \u001b[0mstack\u001b[0m\u001b[0;34m.\u001b[0m\u001b[0mpop\u001b[0m\u001b[0;34m(\u001b[0m\u001b[0;34m)\u001b[0m\u001b[0;34m\u001b[0m\u001b[0m\n",
      "\u001b[0;32m~/Documents/thesis/experiments/deep-semantic-mapping/deepsm/graphspn/tbm/spn_template.py\u001b[0m in \u001b[0;36mdup_fun_up\u001b[0;34m(inpt, conc, tmpl_num_vars, tmpl_num_vals, graph_num_vars, labels, *args)\u001b[0m\n\u001b[1;32m    244\u001b[0m             \u001b[0;32mreturn\u001b[0m \u001b[0mnode\u001b[0m\u001b[0;34m\u001b[0m\u001b[0m\n\u001b[1;32m    245\u001b[0m         \u001b[0;32melse\u001b[0m\u001b[0;34m:\u001b[0m\u001b[0;34m\u001b[0m\u001b[0m\n\u001b[0;32m--> 246\u001b[0;31m             \u001b[0;32mraise\u001b[0m \u001b[0mValueError\u001b[0m\u001b[0;34m(\u001b[0m\u001b[0;34m\"Unexpected node %s. We don't intend to deal with IVs here. Please remove them from the concat.\"\u001b[0m \u001b[0;34m%\u001b[0m \u001b[0mnode\u001b[0m\u001b[0;34m)\u001b[0m\u001b[0;34m\u001b[0m\u001b[0m\n\u001b[0m\u001b[1;32m    247\u001b[0m     \u001b[0;31m# END fun_up\u001b[0m\u001b[0;34m\u001b[0m\u001b[0;34m\u001b[0m\u001b[0m\n\u001b[1;32m    248\u001b[0m \u001b[0;31m# -- END TemplateSpn -- #\u001b[0m\u001b[0;34m\u001b[0m\u001b[0;34m\u001b[0m\u001b[0m\n",
      "\u001b[0;31mValueError\u001b[0m: Unexpected node View_EdgeRelationTemplateSpn_0_1_1. We don't intend to deal with IVs here. Please remove them from the concat."
     ]
    }
   ],
   "source": [
    "ispn = EdgeRelationTemplateInstanceSpn(topo_map, sess, *spns,\n",
    "                                       num_partitions=1,\n",
    "                                       seq_id=\"floor1_happy\",\n",
    "                                       visualize_partitions_dirpath=None,\n",
    "                                       db_name=\"Fake\",\n",
    "                                       divisions=8)"
   ]
  },
  {
   "cell_type": "code",
   "execution_count": 18,
   "metadata": {},
   "outputs": [
    {
     "ename": "NameError",
     "evalue": "name 'ispn' is not defined",
     "output_type": "error",
     "traceback": [
      "\u001b[0;31m---------------------------------------------------------------------------\u001b[0m",
      "\u001b[0;31mNameError\u001b[0m                                 Traceback (most recent call last)",
      "\u001b[0;32m<ipython-input-18-dc2c67a19d73>\u001b[0m in \u001b[0;36m<module>\u001b[0;34m()\u001b[0m\n\u001b[0;32m----> 1\u001b[0;31m \u001b[0mispn\u001b[0m\u001b[0;34m.\u001b[0m\u001b[0m_root\u001b[0m\u001b[0;34m.\u001b[0m\u001b[0mis_valid\u001b[0m\u001b[0;34m(\u001b[0m\u001b[0;34m)\u001b[0m\u001b[0;34m\u001b[0m\u001b[0m\n\u001b[0m",
      "\u001b[0;31mNameError\u001b[0m: name 'ispn' is not defined"
     ]
    }
   ],
   "source": [
    "ispn._root.is_valid()"
   ]
  },
  {
   "cell_type": "code",
   "execution_count": 37,
   "metadata": {},
   "outputs": [
    {
     "name": "stdout",
     "output_type": "stream",
     "text": [
      "Expanding...\n"
     ]
    }
   ],
   "source": [
    "ispn.expand()"
   ]
  },
  {
   "cell_type": "code",
   "execution_count": 38,
   "metadata": {},
   "outputs": [
    {
     "name": "stdout",
     "output_type": "stream",
     "text": [
      "Initializing learning Ops...\n",
      "Initializing MPE Ops...\n"
     ]
    }
   ],
   "source": [
    "ispn.init_ops()"
   ]
  },
  {
   "cell_type": "code",
   "execution_count": 39,
   "metadata": {},
   "outputs": [
    {
     "data": {
      "text/html": [
       "<svg id=\"Sfc2d70d8e0b94fbea192a417aeb117e5\" width=\"950\" height=\"800\"></svg>\n",
       "<script>\n",
       " require.config({\n",
       "   paths: {\n",
       "     d3: 'https://d3js.org/d3.v4.min'\n",
       "   }\n",
       " });\n",
       " require(['d3'], function(d3){\n",
       "\n",
       "   var graph = {\"nodes\": [{\"tooltip\": \"Product_93\", \"name\": \"Product_93\", \"id\": \"Product_93\", \"type\": 2}, {\"tooltip\": \"RawInput_2\", \"name\": \"RawInput_2[5]\", \"id\": \"RawInput_2_1\", \"type\": 1}, {\"tooltip\": \"IVs_2\", \"name\": \"IVs_2[5]\", \"id\": \"IVs_2_2\", \"type\": 0}, {\"tooltip\": \"Product_92\", \"name\": \"Product_92\", \"id\": \"Product_92\", \"type\": 2}, {\"tooltip\": \"RawInput_2\", \"name\": \"RawInput_2[4]\", \"id\": \"RawInput_2_3\", \"type\": 1}, {\"tooltip\": \"IVs_2\", \"name\": \"IVs_2[4]\", \"id\": \"IVs_2_4\", \"type\": 0}, {\"tooltip\": \"Product_91\", \"name\": \"Product_91\", \"id\": \"Product_91\", \"type\": 2}, {\"tooltip\": \"RawInput_2\", \"name\": \"RawInput_2[3]\", \"id\": \"RawInput_2_5\", \"type\": 1}, {\"tooltip\": \"IVs_2\", \"name\": \"IVs_2[3]\", \"id\": \"IVs_2_6\", \"type\": 0}, {\"tooltip\": \"Product_90\", \"name\": \"Product_90\", \"id\": \"Product_90\", \"type\": 2}, {\"tooltip\": \"RawInput_2\", \"name\": \"RawInput_2[2]\", \"id\": \"RawInput_2_7\", \"type\": 1}, {\"tooltip\": \"IVs_2\", \"name\": \"IVs_2[2]\", \"id\": \"IVs_2_8\", \"type\": 0}, {\"tooltip\": \"Product_89\", \"name\": \"Product_89\", \"id\": \"Product_89\", \"type\": 2}, {\"tooltip\": \"RawInput_2\", \"name\": \"RawInput_2[1]\", \"id\": \"RawInput_2_9\", \"type\": 1}, {\"tooltip\": \"IVs_2\", \"name\": \"IVs_2[1]\", \"id\": \"IVs_2_10\", \"type\": 0}, {\"tooltip\": \"Product_88\", \"name\": \"Product_88\", \"id\": \"Product_88\", \"type\": 2}, {\"tooltip\": \"RawInput_2\", \"name\": \"RawInput_2[0]\", \"id\": \"RawInput_2_11\", \"type\": 1}, {\"tooltip\": \"IVs_2\", \"name\": \"IVs_2[0]\", \"id\": \"IVs_2_12\", \"type\": 0}, {\"tooltip\": \"Conc_2_floor1_happy_2\", \"name\": \"Conc_2_floor1_happy_2\", \"id\": \"Conc_2_floor1_happy_2\", \"type\": 3}, {\"tooltip\": \"View_2_floor1_happy_2\", \"name\": \"View_2_floor1_happy_2\", \"id\": \"View_2_floor1_happy_2_13\", \"type\": 0}, {\"tooltip\": \"Product_69\", \"name\": \"Product_69\", \"id\": \"Product_69\", \"type\": 2}, {\"tooltip\": \"Product_70\", \"name\": \"Product_70\", \"id\": \"Product_70\", \"type\": 2}, {\"tooltip\": \"Product_71\", \"name\": \"Product_71\", \"id\": \"Product_71\", \"type\": 2}, {\"tooltip\": \"Product_72\", \"name\": \"Product_72\", \"id\": \"Product_72\", \"type\": 2}, {\"tooltip\": \"Sum_17\", \"name\": \"Sum_17\", \"id\": \"Sum_17\", \"type\": 5}, {\"tooltip\": \"Product_73\", \"name\": \"Product_73\", \"id\": \"Product_73\", \"type\": 2}, {\"tooltip\": \"Product_74\", \"name\": \"Product_74\", \"id\": \"Product_74\", \"type\": 2}, {\"tooltip\": \"Product_75\", \"name\": \"Product_75\", \"id\": \"Product_75\", \"type\": 2}, {\"tooltip\": \"Product_76\", \"name\": \"Product_76\", \"id\": \"Product_76\", \"type\": 2}, {\"tooltip\": \"Product_77\", \"name\": \"Product_77\", \"id\": \"Product_77\", \"type\": 2}, {\"tooltip\": \"Product_78\", \"name\": \"Product_78\", \"id\": \"Product_78\", \"type\": 2}, {\"tooltip\": \"Product_79\", \"name\": \"Product_79\", \"id\": \"Product_79\", \"type\": 2}, {\"tooltip\": \"Product_80\", \"name\": \"Product_80\", \"id\": \"Product_80\", \"type\": 2}, {\"tooltip\": \"Product_81\", \"name\": \"Product_81\", \"id\": \"Product_81\", \"type\": 2}, {\"tooltip\": \"Product_82\", \"name\": \"Product_82\", \"id\": \"Product_82\", \"type\": 2}, {\"tooltip\": \"Sum_18\", \"name\": \"Sum_18\", \"id\": \"Sum_18\", \"type\": 5}, {\"tooltip\": \"Product_83\", \"name\": \"Product_83\", \"id\": \"Product_83\", \"type\": 2}, {\"tooltip\": \"Sum_19\", \"name\": \"Sum_19\", \"id\": \"Sum_19\", \"type\": 5}, {\"tooltip\": \"Product_84\", \"name\": \"Product_84\", \"id\": \"Product_84\", \"type\": 2}, {\"tooltip\": \"Sum_20\", \"name\": \"Sum_20\", \"id\": \"Sum_20\", \"type\": 5}, {\"tooltip\": \"Product_85\", \"name\": \"Product_85\", \"id\": \"Product_85\", \"type\": 2}, {\"tooltip\": \"Product_86\", \"name\": \"Product_86\", \"id\": \"Product_86\", \"type\": 2}, {\"tooltip\": \"Sum_21\", \"name\": \"Sum_21\", \"id\": \"Sum_21\", \"type\": 5}, {\"tooltip\": \"Product_87\", \"name\": \"Product_87\", \"id\": \"Product_87\", \"type\": 2}, {\"tooltip\": \"Sum_22\", \"name\": \"Sum_22\", \"id\": \"Sum_22\", \"type\": 5}], \"links\": [{\"value\": 1, \"target\": \"Product_93\", \"source\": \"RawInput_2_1\"}, {\"value\": 1, \"target\": \"Product_93\", \"source\": \"IVs_2_2\"}, {\"value\": 1, \"target\": \"Product_92\", \"source\": \"RawInput_2_3\"}, {\"value\": 1, \"target\": \"Product_92\", \"source\": \"IVs_2_4\"}, {\"value\": 1, \"target\": \"Product_91\", \"source\": \"RawInput_2_5\"}, {\"value\": 1, \"target\": \"Product_91\", \"source\": \"IVs_2_6\"}, {\"value\": 1, \"target\": \"Product_90\", \"source\": \"RawInput_2_7\"}, {\"value\": 1, \"target\": \"Product_90\", \"source\": \"IVs_2_8\"}, {\"value\": 1, \"target\": \"Product_89\", \"source\": \"RawInput_2_9\"}, {\"value\": 1, \"target\": \"Product_89\", \"source\": \"IVs_2_10\"}, {\"value\": 1, \"target\": \"Product_88\", \"source\": \"RawInput_2_11\"}, {\"value\": 1, \"target\": \"Product_88\", \"source\": \"IVs_2_12\"}, {\"value\": 1, \"target\": \"Conc_2_floor1_happy_2\", \"source\": \"Product_88\"}, {\"value\": 1, \"target\": \"Conc_2_floor1_happy_2\", \"source\": \"Product_89\"}, {\"value\": 1, \"target\": \"Conc_2_floor1_happy_2\", \"source\": \"Product_90\"}, {\"value\": 1, \"target\": \"Conc_2_floor1_happy_2\", \"source\": \"Product_91\"}, {\"value\": 1, \"target\": \"Conc_2_floor1_happy_2\", \"source\": \"Product_92\"}, {\"value\": 1, \"target\": \"Conc_2_floor1_happy_2\", \"source\": \"Product_93\"}, {\"value\": 5, \"target\": \"Conc_2_floor1_happy_2\", \"source\": \"View_2_floor1_happy_2_13\"}, {\"value\": 1, \"target\": \"Product_69\", \"source\": \"Conc_2_floor1_happy_2\"}, {\"value\": 1, \"target\": \"Product_69\", \"source\": \"Conc_2_floor1_happy_2\"}, {\"value\": 1, \"target\": \"Product_70\", \"source\": \"Conc_2_floor1_happy_2\"}, {\"value\": 1, \"target\": \"Product_70\", \"source\": \"Conc_2_floor1_happy_2\"}, {\"value\": 1, \"target\": \"Product_71\", \"source\": \"Conc_2_floor1_happy_2\"}, {\"value\": 1, \"target\": \"Product_71\", \"source\": \"Conc_2_floor1_happy_2\"}, {\"value\": 1, \"target\": \"Product_72\", \"source\": \"Conc_2_floor1_happy_2\"}, {\"value\": 1, \"target\": \"Product_72\", \"source\": \"Conc_2_floor1_happy_2\"}, {\"value\": 1, \"target\": \"Sum_17\", \"source\": \"Product_72\"}, {\"value\": 1, \"target\": \"Sum_17\", \"source\": \"Product_71\"}, {\"value\": 1, \"target\": \"Sum_17\", \"source\": \"Product_70\"}, {\"value\": 1, \"target\": \"Sum_17\", \"source\": \"Product_69\"}, {\"value\": 1, \"target\": \"Product_73\", \"source\": \"Conc_2_floor1_happy_2\"}, {\"value\": 1, \"target\": \"Product_73\", \"source\": \"Conc_2_floor1_happy_2\"}, {\"value\": 1, \"target\": \"Product_74\", \"source\": \"Conc_2_floor1_happy_2\"}, {\"value\": 1, \"target\": \"Product_74\", \"source\": \"Conc_2_floor1_happy_2\"}, {\"value\": 1, \"target\": \"Product_75\", \"source\": \"Conc_2_floor1_happy_2\"}, {\"value\": 1, \"target\": \"Product_75\", \"source\": \"Conc_2_floor1_happy_2\"}, {\"value\": 1, \"target\": \"Product_76\", \"source\": \"Conc_2_floor1_happy_2\"}, {\"value\": 1, \"target\": \"Product_76\", \"source\": \"Conc_2_floor1_happy_2\"}, {\"value\": 1, \"target\": \"Product_77\", \"source\": \"Conc_2_floor1_happy_2\"}, {\"value\": 1, \"target\": \"Product_77\", \"source\": \"Conc_2_floor1_happy_2\"}, {\"value\": 1, \"target\": \"Product_78\", \"source\": \"Conc_2_floor1_happy_2\"}, {\"value\": 1, \"target\": \"Product_78\", \"source\": \"Conc_2_floor1_happy_2\"}, {\"value\": 1, \"target\": \"Product_79\", \"source\": \"Conc_2_floor1_happy_2\"}, {\"value\": 1, \"target\": \"Product_79\", \"source\": \"Conc_2_floor1_happy_2\"}, {\"value\": 1, \"target\": \"Product_80\", \"source\": \"Conc_2_floor1_happy_2\"}, {\"value\": 1, \"target\": \"Product_80\", \"source\": \"Conc_2_floor1_happy_2\"}, {\"value\": 1, \"target\": \"Product_81\", \"source\": \"Conc_2_floor1_happy_2\"}, {\"value\": 1, \"target\": \"Product_81\", \"source\": \"Conc_2_floor1_happy_2\"}, {\"value\": 1, \"target\": \"Product_82\", \"source\": \"Conc_2_floor1_happy_2\"}, {\"value\": 1, \"target\": \"Product_82\", \"source\": \"Conc_2_floor1_happy_2\"}, {\"value\": 1, \"target\": \"Sum_18\", \"source\": \"Product_82\"}, {\"value\": 1, \"target\": \"Sum_18\", \"source\": \"Product_81\"}, {\"value\": 1, \"target\": \"Sum_18\", \"source\": \"Product_80\"}, {\"value\": 1, \"target\": \"Sum_18\", \"source\": \"Product_79\"}, {\"value\": 1, \"target\": \"Sum_18\", \"source\": \"Product_78\"}, {\"value\": 1, \"target\": \"Sum_18\", \"source\": \"Product_77\"}, {\"value\": 1, \"target\": \"Sum_18\", \"source\": \"Product_76\"}, {\"value\": 1, \"target\": \"Sum_18\", \"source\": \"Product_75\"}, {\"value\": 1, \"target\": \"Sum_18\", \"source\": \"Product_74\"}, {\"value\": 1, \"target\": \"Sum_18\", \"source\": \"Product_73\"}, {\"value\": 1, \"target\": \"Product_83\", \"source\": \"Sum_18\"}, {\"value\": 1, \"target\": \"Product_83\", \"source\": \"Sum_17\"}, {\"value\": 1, \"target\": \"Sum_19\", \"source\": \"Product_82\"}, {\"value\": 1, \"target\": \"Sum_19\", \"source\": \"Product_81\"}, {\"value\": 1, \"target\": \"Sum_19\", \"source\": \"Product_80\"}, {\"value\": 1, \"target\": \"Sum_19\", \"source\": \"Product_79\"}, {\"value\": 1, \"target\": \"Sum_19\", \"source\": \"Product_78\"}, {\"value\": 1, \"target\": \"Sum_19\", \"source\": \"Product_77\"}, {\"value\": 1, \"target\": \"Sum_19\", \"source\": \"Product_76\"}, {\"value\": 1, \"target\": \"Sum_19\", \"source\": \"Product_75\"}, {\"value\": 1, \"target\": \"Sum_19\", \"source\": \"Product_74\"}, {\"value\": 1, \"target\": \"Sum_19\", \"source\": \"Product_73\"}, {\"value\": 1, \"target\": \"Product_84\", \"source\": \"Sum_19\"}, {\"value\": 1, \"target\": \"Product_84\", \"source\": \"Sum_17\"}, {\"value\": 1, \"target\": \"Sum_20\", \"source\": \"Product_72\"}, {\"value\": 1, \"target\": \"Sum_20\", \"source\": \"Product_71\"}, {\"value\": 1, \"target\": \"Sum_20\", \"source\": \"Product_70\"}, {\"value\": 1, \"target\": \"Sum_20\", \"source\": \"Product_69\"}, {\"value\": 1, \"target\": \"Product_85\", \"source\": \"Sum_18\"}, {\"value\": 1, \"target\": \"Product_85\", \"source\": \"Sum_20\"}, {\"value\": 1, \"target\": \"Product_86\", \"source\": \"Sum_19\"}, {\"value\": 1, \"target\": \"Product_86\", \"source\": \"Sum_20\"}, {\"value\": 1, \"target\": \"Sum_21\", \"source\": \"Product_86\"}, {\"value\": 1, \"target\": \"Sum_21\", \"source\": \"Product_85\"}, {\"value\": 1, \"target\": \"Sum_21\", \"source\": \"Product_84\"}, {\"value\": 1, \"target\": \"Sum_21\", \"source\": \"Product_83\"}, {\"value\": 1, \"target\": \"Product_87\", \"source\": \"Sum_21\"}, {\"value\": 1, \"target\": \"Sum_22\", \"source\": \"Product_87\"}]};\n",
       "\n",
       "   var color = d3.scaleOrdinal(d3.schemeCategory10);\n",
       "\n",
       "   var zoom = d3.zoom()\n",
       "                .scaleExtent([0.1, 10])\n",
       "                .on(\"zoom\", zoomed);\n",
       "\n",
       "   var svg = d3.select(\"#Sfc2d70d8e0b94fbea192a417aeb117e5\").\n",
       "                call(zoom);\n",
       "\n",
       "   var width = svg.attr(\"width\");\n",
       "   var height = svg.attr(\"height\");\n",
       "\n",
       "   var simulation = d3.forceSimulation(graph.nodes)\n",
       "                      .on(\"tick\", ticked)\n",
       "                      .force(\"link\", d3.forceLink(graph.links)\n",
       "                                       .distance(80)\n",
       "                                       .id(function(d) { return d.id; }))\n",
       "                      .force(\"charge\", d3.forceManyBody().\n",
       "                                          strength(-1000))\n",
       "                      .force(\"center\", d3.forceCenter(width / 2, height / 2));\n",
       "\n",
       "   /* Contents */\n",
       "   var container = svg.append(\"g\").\n",
       "                       attr(\"class\", \"container\");\n",
       "\n",
       "   var link = container.append(\"g\")\n",
       "                       .selectAll(\"link\")\n",
       "                       .data(graph.links)\n",
       "                       .enter().append(\"line\")\n",
       "                       .attr(\"stroke\", \"#444\")\n",
       "                       .attr(\"stroke-opacity\", \"0.6\")\n",
       "                       .attr(\"stroke-width\",\n",
       "                             function(d) {\n",
       "                               return d.value;\n",
       "                               /*return Math.sqrt(d.value);*/\n",
       "                             });\n",
       "\n",
       "   var link_value = container.append(\"g\")\n",
       "                             .selectAll(\"linkvalue\")\n",
       "                             .data(graph.links)\n",
       "                             .enter().append(\"text\")\n",
       "                             .attr(\"alignment-baseline\", \"middle\")\n",
       "                             .style(\"text-anchor\", \"middle\")\n",
       "                             .text(function(d) { return d.value; });\n",
       "\n",
       "   var node = container.append(\"g\")\n",
       "                       .selectAll(\"node\")\n",
       "                       .data(graph.nodes)\n",
       "                       .enter().append(\"g\")\n",
       "                       .call(d3.drag()\n",
       "                               .on(\"start\", dragstarted)\n",
       "                               .on(\"drag\", dragged)\n",
       "                               .on(\"end\", dragended));\n",
       "\n",
       "   /* Node appearance */\n",
       "   node.append(\"rect\")\n",
       "       .attr(\"height\", 0)\n",
       "       .attr(\"width\", 0)\n",
       "       .attr(\"fill\", function(d) { return color(d.type); })\n",
       "       .attr(\"stroke\", \"#000\")\n",
       "       .attr(\"stroke-width\", \"1px\");\n",
       "\n",
       "   node.append(\"text\")\n",
       "       .attr(\"alignment-baseline\", \"middle\")\n",
       "       .style(\"text-anchor\", \"middle\")\n",
       "       .text(function(d) { return d.name; });\n",
       "\n",
       "   /* Adjust rect width to text */\n",
       "   var margin=10;\n",
       "   node.selectAll('rect')\n",
       "       .attr(\"x\", function(d) {return d3.select(this).attr(\"x\") - (this.parentNode.getBBox().width + margin)/2.0;})\n",
       "       .attr(\"y\", function(d) {return d3.select(this).attr(\"y\") - (this.parentNode.getBBox().height + margin)/2.0;})\n",
       "       .attr(\"width\", function(d) {return this.parentNode.getBBox().width + margin;})\n",
       "       .attr(\"height\", function(d) {return this.parentNode.getBBox().height + margin;});\n",
       "\n",
       "   /* Tooltips */\n",
       "   node.append(\"title\")\n",
       "       .text(function(d) { return d.tooltip; });\n",
       "\n",
       "   /* Functions */\n",
       "   function zoomed() {\n",
       "     container.attr(\"transform\", d3.event.transform);\n",
       "   }\n",
       "\n",
       "   function ticked() {\n",
       "     link\n",
       "       .attr(\"x1\", function(d) { return d.source.x; })\n",
       "       .attr(\"y1\", function(d) { return d.source.y; })\n",
       "       .attr(\"x2\", function(d) { return d.target.x; })\n",
       "       .attr(\"y2\", function(d) { return d.target.y; });\n",
       "\n",
       "     link_value\n",
       "       .attr(\"x\", function(d) { return (d.source.x+d.target.x)/2; })\n",
       "       .attr(\"y\", function(d) { return (d.source.y+d.target.y)/2; })\n",
       "\n",
       "     node.attr(\"transform\",\n",
       "               function(d) { return \"translate(\" + d.x + \",\" + d.y + \")\"; });\n",
       "   }\n",
       "\n",
       "   function dragstarted(d) {\n",
       "     if (!d3.event.active) simulation.alphaTarget(0.3).restart();\n",
       "     d.fx = d.x;\n",
       "     d.fy = d.y;\n",
       "   }\n",
       "\n",
       "   function dragged(d) {\n",
       "     d.fx = d3.event.x;\n",
       "     d.fy = d3.event.y;\n",
       "   }\n",
       "\n",
       "   function dragended(d) {\n",
       "     if (!d3.event.active) simulation.alphaTarget(0);\n",
       "     d.fx = null;\n",
       "     d.fy = null;\n",
       "   }\n",
       "\n",
       " });\n",
       "</script>\n"
      ],
      "text/plain": [
       "<IPython.core.display.HTML object>"
      ]
     },
     "metadata": {},
     "output_type": "display_data"
    }
   ],
   "source": [
    "spn.display_spn_graph(ispn._root, sess)"
   ]
  },
  {
   "cell_type": "code",
   "execution_count": 18,
   "metadata": {},
   "outputs": [
    {
     "data": {
      "text/plain": [
       "array([-13.05547905], dtype=float32)"
      ]
     },
     "execution_count": 18,
     "metadata": {},
     "output_type": "execute_result"
    }
   ],
   "source": [
    "ispn._expanded = True\n",
    "ispn.evaluate(sess, {159:1, 160:1, 162:1}, sample_lh={159:(-4,-3), 160:(-3,-4), 162:(-2,-4)})"
   ]
  },
  {
   "cell_type": "code",
   "execution_count": 20,
   "metadata": {},
   "outputs": [
    {
     "data": {
      "text/plain": [
       "{162: [array([-13.77962875], dtype=float32),\n",
       "  array([-111.05548096], dtype=float32)]}"
      ]
     },
     "execution_count": 20,
     "metadata": {},
     "output_type": "execute_result"
    }
   ],
   "source": [
    "ispn.marginal_inference(sess, [162], {159:1, 160:1, 162:-1}, query_lh={159:(-5,-3), 160:(-3,-4), 162:(-2,-102)})"
   ]
  },
  {
   "cell_type": "code",
   "execution_count": 40,
   "metadata": {},
   "outputs": [
    {
     "ename": "AttributeError",
     "evalue": "'EdgeRelationTemplateInstanceSpn' object has no attribute '_dense_gen'",
     "output_type": "error",
     "traceback": [
      "\u001b[0;31m---------------------------------------------------------------------------\u001b[0m",
      "\u001b[0;31mAttributeError\u001b[0m                            Traceback (most recent call last)",
      "\u001b[0;32m<ipython-input-40-435e2426b183>\u001b[0m in \u001b[0;36m<module>\u001b[0;34m()\u001b[0m\n\u001b[1;32m      1\u001b[0m \u001b[0mview_ivs\u001b[0m \u001b[0;34m=\u001b[0m \u001b[0mspn\u001b[0m\u001b[0;34m.\u001b[0m\u001b[0mIVs\u001b[0m\u001b[0;34m(\u001b[0m\u001b[0mnum_vars\u001b[0m\u001b[0;34m=\u001b[0m\u001b[0;36m1\u001b[0m\u001b[0;34m,\u001b[0m \u001b[0mnum_vals\u001b[0m\u001b[0;34m=\u001b[0m\u001b[0;36m5\u001b[0m\u001b[0;34m)\u001b[0m\u001b[0;34m\u001b[0m\u001b[0m\n\u001b[0;32m----> 2\u001b[0;31m \u001b[0mroot\u001b[0m \u001b[0;34m=\u001b[0m \u001b[0mispn\u001b[0m\u001b[0;34m.\u001b[0m\u001b[0m_dense_gen\u001b[0m\u001b[0;34m.\u001b[0m\u001b[0mgenerate\u001b[0m\u001b[0;34m(\u001b[0m\u001b[0mview_ivs\u001b[0m\u001b[0;34m)\u001b[0m\u001b[0;34m\u001b[0m\u001b[0m\n\u001b[0m",
      "\u001b[0;31mAttributeError\u001b[0m: 'EdgeRelationTemplateInstanceSpn' object has no attribute '_dense_gen'"
     ]
    }
   ],
   "source": [
    "view_ivs = spn.IVs(num_vars=1, num_vals=5)\n",
    "root = tmpl11._dense_gen.generate(view_ivs)"
   ]
  },
  {
   "cell_type": "code",
   "execution_count": null,
   "metadata": {
    "collapsed": true
   },
   "outputs": [],
   "source": []
  }
 ],
 "metadata": {
  "kernelspec": {
   "display_name": "py3",
   "language": "python",
   "name": "py3"
  },
  "language_info": {
   "codemirror_mode": {
    "name": "ipython",
    "version": 3
   },
   "file_extension": ".py",
   "mimetype": "text/x-python",
   "name": "python",
   "nbconvert_exporter": "python",
   "pygments_lexer": "ipython3",
   "version": "3.5.2"
  }
 },
 "nbformat": 4,
 "nbformat_minor": 2
}
