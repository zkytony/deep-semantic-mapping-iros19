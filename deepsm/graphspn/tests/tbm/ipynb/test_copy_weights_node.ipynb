{
 "cells": [
  {
   "cell_type": "code",
   "execution_count": 2,
   "metadata": {
    "collapsed": true
   },
   "outputs": [],
   "source": [
    "import tensorflow as tf\n",
    "\n",
    "import numpy as np\n",
    "\n",
    "from spn_topo.spn_model import SpnModel\n",
    "from spn_topo.tbm.spn_template import TemplateSpn, NodeTemplateSpn, EdgeTemplateSpn, InstanceSpn\n",
    "from spn_topo.tbm.template import EdgeTemplate, NodeTemplate, SingleEdgeTemplate, PairEdgeTemplate, SingletonTemplate, PairTemplate, ThreeNodeTemplate\n"
   ]
  },
  {
   "cell_type": "code",
   "execution_count": 3,
   "metadata": {
    "collapsed": true
   },
   "outputs": [],
   "source": [
    "seed = 100"
   ]
  },
  {
   "cell_type": "code",
   "execution_count": 4,
   "metadata": {
    "collapsed": true
   },
   "outputs": [],
   "source": [
    "sess = tf.Session()"
   ]
  },
  {
   "cell_type": "code",
   "execution_count": 5,
   "metadata": {},
   "outputs": [
    {
     "name": "stdout",
     "output_type": "stream",
     "text": [
      "Generating SPN structure...\n",
      "Generating weight initialization Ops...\n",
      "Initializing learning Ops...\n",
      "Generating SPN structure...\n",
      "Generating weight initialization Ops...\n",
      "Initializing learning Ops...\n"
     ]
    }
   ],
   "source": [
    "sample = np.array([3], dtype=int)\n",
    "\n",
    "spn1 = NodeTemplateSpn(SingletonTemplate)\n",
    "sess.run(spn1._initialize_weights)\n",
    "val1 = spn1.evaluate(sess, sample)[0]\n",
    "\n",
    "spn2 = NodeTemplateSpn(SingletonTemplate)\n",
    "sess.run(spn2._initialize_weights)\n",
    "val2 = spn2.evaluate(sess, sample)[0]"
   ]
  },
  {
   "cell_type": "code",
   "execution_count": 6,
   "metadata": {
    "collapsed": true
   },
   "outputs": [],
   "source": [
    "import libspn as spn"
   ]
  },
  {
   "cell_type": "code",
   "execution_count": 7,
   "metadata": {},
   "outputs": [
    {
     "data": {
      "text/html": [
       "<svg id=\"S453984e6a9134a3d86debda3146dbff5\" width=\"950\" height=\"800\"></svg>\n",
       "<script>\n",
       " require.config({\n",
       "   paths: {\n",
       "     d3: 'https://d3js.org/d3.v4.min'\n",
       "   }\n",
       " });\n",
       " require(['d3'], function(d3){\n",
       "\n",
       "   var graph = {\"nodes\": [{\"tooltip\": \"Conc_NodeTemplateSpn_1\", \"id\": \"Conc_NodeTemplateSpn_1\", \"name\": \"Conc_NodeTemplateSpn_1\", \"type\": 1}, {\"tooltip\": \"Catg_NodeTemplateSpn_1\", \"id\": \"Catg_NodeTemplateSpn_1_1\", \"name\": \"Catg_NodeTemplateSpn_1\", \"type\": 0}, {\"tooltip\": \"Products1/Product5\", \"id\": \"Products1/Product5\", \"name\": \"Products1/Product5\", \"type\": 2}, {\"tooltip\": \"Products1/Product4\", \"id\": \"Products1/Product4\", \"name\": \"Products1/Product4\", \"type\": 2}, {\"tooltip\": \"Products1/Product3\", \"id\": \"Products1/Product3\", \"name\": \"Products1/Product3\", \"type\": 2}, {\"tooltip\": \"Products1/Product2\", \"id\": \"Products1/Product2\", \"name\": \"Products1/Product2\", \"type\": 2}, {\"tooltip\": \"Products1/Product1\", \"id\": \"Products1/Product1\", \"name\": \"Products1/Product1\", \"type\": 2}, {\"tooltip\": \"Node\", \"id\": \"Node\", \"name\": \"Node\", \"type\": 4}, {\"tooltip\": \"Weights/Node_Weights\", \"id\": \"Weights/Node_Weights_2\", \"name\": \"Weights/Node_Weights\", \"type\": 3}], \"links\": [{\"target\": \"Conc_NodeTemplateSpn_1\", \"value\": 5, \"source\": \"Catg_NodeTemplateSpn_1_1\"}, {\"target\": \"Products1/Product5\", \"value\": 1, \"source\": \"Conc_NodeTemplateSpn_1\"}, {\"target\": \"Products1/Product4\", \"value\": 1, \"source\": \"Conc_NodeTemplateSpn_1\"}, {\"target\": \"Products1/Product3\", \"value\": 1, \"source\": \"Conc_NodeTemplateSpn_1\"}, {\"target\": \"Products1/Product2\", \"value\": 1, \"source\": \"Conc_NodeTemplateSpn_1\"}, {\"target\": \"Products1/Product1\", \"value\": 1, \"source\": \"Conc_NodeTemplateSpn_1\"}, {\"target\": \"Node\", \"value\": 5, \"source\": \"Weights/Node_Weights_2\"}, {\"target\": \"Node\", \"value\": 1, \"source\": \"Products1/Product1\"}, {\"target\": \"Node\", \"value\": 1, \"source\": \"Products1/Product2\"}, {\"target\": \"Node\", \"value\": 1, \"source\": \"Products1/Product3\"}, {\"target\": \"Node\", \"value\": 1, \"source\": \"Products1/Product4\"}, {\"target\": \"Node\", \"value\": 1, \"source\": \"Products1/Product5\"}]};\n",
       "\n",
       "   var color = d3.scaleOrdinal(d3.schemeCategory10);\n",
       "\n",
       "   var zoom = d3.zoom()\n",
       "                .scaleExtent([0.1, 10])\n",
       "                .on(\"zoom\", zoomed);\n",
       "\n",
       "   var svg = d3.select(\"#S453984e6a9134a3d86debda3146dbff5\").\n",
       "                call(zoom);\n",
       "\n",
       "   var width = svg.attr(\"width\");\n",
       "   var height = svg.attr(\"height\");\n",
       "\n",
       "   var simulation = d3.forceSimulation(graph.nodes)\n",
       "                      .on(\"tick\", ticked)\n",
       "                      .force(\"link\", d3.forceLink(graph.links)\n",
       "                                       .distance(80)\n",
       "                                       .id(function(d) { return d.id; }))\n",
       "                      .force(\"charge\", d3.forceManyBody().\n",
       "                                          strength(-1000))\n",
       "                      .force(\"center\", d3.forceCenter(width / 2, height / 2));\n",
       "\n",
       "   /* Contents */\n",
       "   var container = svg.append(\"g\").\n",
       "                       attr(\"class\", \"container\");\n",
       "\n",
       "   var link = container.append(\"g\")\n",
       "                       .selectAll(\"link\")\n",
       "                       .data(graph.links)\n",
       "                       .enter().append(\"line\")\n",
       "                       .attr(\"stroke\", \"#444\")\n",
       "                       .attr(\"stroke-opacity\", \"0.6\")\n",
       "                       .attr(\"stroke-width\",\n",
       "                             function(d) {\n",
       "                               return d.value;\n",
       "                               /*return Math.sqrt(d.value);*/\n",
       "                             });\n",
       "\n",
       "   var link_value = container.append(\"g\")\n",
       "                             .selectAll(\"linkvalue\")\n",
       "                             .data(graph.links)\n",
       "                             .enter().append(\"text\")\n",
       "                             .attr(\"alignment-baseline\", \"middle\")\n",
       "                             .style(\"text-anchor\", \"middle\")\n",
       "                             .text(function(d) { return d.value; });\n",
       "\n",
       "   var node = container.append(\"g\")\n",
       "                       .selectAll(\"node\")\n",
       "                       .data(graph.nodes)\n",
       "                       .enter().append(\"g\")\n",
       "                       .call(d3.drag()\n",
       "                               .on(\"start\", dragstarted)\n",
       "                               .on(\"drag\", dragged)\n",
       "                               .on(\"end\", dragended));\n",
       "\n",
       "   /* Node appearance */\n",
       "   node.append(\"rect\")\n",
       "       .attr(\"height\", 0)\n",
       "       .attr(\"width\", 0)\n",
       "       .attr(\"fill\", function(d) { return color(d.type); })\n",
       "       .attr(\"stroke\", \"#000\")\n",
       "       .attr(\"stroke-width\", \"1px\");\n",
       "\n",
       "   node.append(\"text\")\n",
       "       .attr(\"alignment-baseline\", \"middle\")\n",
       "       .style(\"text-anchor\", \"middle\")\n",
       "       .text(function(d) { return d.name; });\n",
       "\n",
       "   /* Adjust rect width to text */\n",
       "   var margin=10;\n",
       "   node.selectAll('rect')\n",
       "       .attr(\"x\", function(d) {return d3.select(this).attr(\"x\") - (this.parentNode.getBBox().width + margin)/2.0;})\n",
       "       .attr(\"y\", function(d) {return d3.select(this).attr(\"y\") - (this.parentNode.getBBox().height + margin)/2.0;})\n",
       "       .attr(\"width\", function(d) {return this.parentNode.getBBox().width + margin;})\n",
       "       .attr(\"height\", function(d) {return this.parentNode.getBBox().height + margin;});\n",
       "\n",
       "   /* Tooltips */\n",
       "   node.append(\"title\")\n",
       "       .text(function(d) { return d.tooltip; });\n",
       "\n",
       "   /* Functions */\n",
       "   function zoomed() {\n",
       "     container.attr(\"transform\", d3.event.transform);\n",
       "   }\n",
       "\n",
       "   function ticked() {\n",
       "     link\n",
       "       .attr(\"x1\", function(d) { return d.source.x; })\n",
       "       .attr(\"y1\", function(d) { return d.source.y; })\n",
       "       .attr(\"x2\", function(d) { return d.target.x; })\n",
       "       .attr(\"y2\", function(d) { return d.target.y; });\n",
       "\n",
       "     link_value\n",
       "       .attr(\"x\", function(d) { return (d.source.x+d.target.x)/2; })\n",
       "       .attr(\"y\", function(d) { return (d.source.y+d.target.y)/2; })\n",
       "\n",
       "     node.attr(\"transform\",\n",
       "               function(d) { return \"translate(\" + d.x + \",\" + d.y + \")\"; });\n",
       "   }\n",
       "\n",
       "   function dragstarted(d) {\n",
       "     if (!d3.event.active) simulation.alphaTarget(0.3).restart();\n",
       "     d.fx = d.x;\n",
       "     d.fy = d.y;\n",
       "   }\n",
       "\n",
       "   function dragged(d) {\n",
       "     d.fx = d3.event.x;\n",
       "     d.fy = d3.event.y;\n",
       "   }\n",
       "\n",
       "   function dragended(d) {\n",
       "     if (!d3.event.active) simulation.alphaTarget(0);\n",
       "     d.fx = null;\n",
       "     d.fy = null;\n",
       "   }\n",
       "\n",
       " });\n",
       "</script>\n"
      ],
      "text/plain": [
       "<IPython.core.display.HTML object>"
      ]
     },
     "metadata": {},
     "output_type": "display_data"
    }
   ],
   "source": [
    "spn.display_spn_graph(spn1.root, skip_params=False)"
   ]
  },
  {
   "cell_type": "code",
   "execution_count": 8,
   "metadata": {},
   "outputs": [
    {
     "data": {
      "text/html": [
       "<svg id=\"S45092d3cb084447bb09309626293129f\" width=\"950\" height=\"800\"></svg>\n",
       "<script>\n",
       " require.config({\n",
       "   paths: {\n",
       "     d3: 'https://d3js.org/d3.v4.min'\n",
       "   }\n",
       " });\n",
       " require(['d3'], function(d3){\n",
       "\n",
       "   var graph = {\"nodes\": [{\"tooltip\": \"Conc_NodeTemplateSpn_1_1\", \"id\": \"Conc_NodeTemplateSpn_1_1\", \"name\": \"Conc_NodeTemplateSpn_1_1\", \"type\": 1}, {\"tooltip\": \"Catg_NodeTemplateSpn_1_1\", \"id\": \"Catg_NodeTemplateSpn_1_1_1\", \"name\": \"Catg_NodeTemplateSpn_1_1\", \"type\": 0}, {\"tooltip\": \"Products1_1/Product5\", \"id\": \"Products1_1/Product5\", \"name\": \"Products1_1/Product5\", \"type\": 2}, {\"tooltip\": \"Products1_1/Product4\", \"id\": \"Products1_1/Product4\", \"name\": \"Products1_1/Product4\", \"type\": 2}, {\"tooltip\": \"Products1_1/Product3\", \"id\": \"Products1_1/Product3\", \"name\": \"Products1_1/Product3\", \"type\": 2}, {\"tooltip\": \"Products1_1/Product2\", \"id\": \"Products1_1/Product2\", \"name\": \"Products1_1/Product2\", \"type\": 2}, {\"tooltip\": \"Products1_1/Product1\", \"id\": \"Products1_1/Product1\", \"name\": \"Products1_1/Product1\", \"type\": 2}, {\"tooltip\": \"Node_1\", \"id\": \"Node_1\", \"name\": \"Node_1\", \"type\": 4}, {\"tooltip\": \"Weights_1/Node_1_Weights\", \"id\": \"Weights_1/Node_1_Weights_2\", \"name\": \"Weights_1/Node_1_Weights\", \"type\": 3}], \"links\": [{\"target\": \"Conc_NodeTemplateSpn_1_1\", \"value\": 5, \"source\": \"Catg_NodeTemplateSpn_1_1_1\"}, {\"target\": \"Products1_1/Product5\", \"value\": 1, \"source\": \"Conc_NodeTemplateSpn_1_1\"}, {\"target\": \"Products1_1/Product4\", \"value\": 1, \"source\": \"Conc_NodeTemplateSpn_1_1\"}, {\"target\": \"Products1_1/Product3\", \"value\": 1, \"source\": \"Conc_NodeTemplateSpn_1_1\"}, {\"target\": \"Products1_1/Product2\", \"value\": 1, \"source\": \"Conc_NodeTemplateSpn_1_1\"}, {\"target\": \"Products1_1/Product1\", \"value\": 1, \"source\": \"Conc_NodeTemplateSpn_1_1\"}, {\"target\": \"Node_1\", \"value\": 5, \"source\": \"Weights_1/Node_1_Weights_2\"}, {\"target\": \"Node_1\", \"value\": 1, \"source\": \"Products1_1/Product1\"}, {\"target\": \"Node_1\", \"value\": 1, \"source\": \"Products1_1/Product2\"}, {\"target\": \"Node_1\", \"value\": 1, \"source\": \"Products1_1/Product3\"}, {\"target\": \"Node_1\", \"value\": 1, \"source\": \"Products1_1/Product4\"}, {\"target\": \"Node_1\", \"value\": 1, \"source\": \"Products1_1/Product5\"}]};\n",
       "\n",
       "   var color = d3.scaleOrdinal(d3.schemeCategory10);\n",
       "\n",
       "   var zoom = d3.zoom()\n",
       "                .scaleExtent([0.1, 10])\n",
       "                .on(\"zoom\", zoomed);\n",
       "\n",
       "   var svg = d3.select(\"#S45092d3cb084447bb09309626293129f\").\n",
       "                call(zoom);\n",
       "\n",
       "   var width = svg.attr(\"width\");\n",
       "   var height = svg.attr(\"height\");\n",
       "\n",
       "   var simulation = d3.forceSimulation(graph.nodes)\n",
       "                      .on(\"tick\", ticked)\n",
       "                      .force(\"link\", d3.forceLink(graph.links)\n",
       "                                       .distance(80)\n",
       "                                       .id(function(d) { return d.id; }))\n",
       "                      .force(\"charge\", d3.forceManyBody().\n",
       "                                          strength(-1000))\n",
       "                      .force(\"center\", d3.forceCenter(width / 2, height / 2));\n",
       "\n",
       "   /* Contents */\n",
       "   var container = svg.append(\"g\").\n",
       "                       attr(\"class\", \"container\");\n",
       "\n",
       "   var link = container.append(\"g\")\n",
       "                       .selectAll(\"link\")\n",
       "                       .data(graph.links)\n",
       "                       .enter().append(\"line\")\n",
       "                       .attr(\"stroke\", \"#444\")\n",
       "                       .attr(\"stroke-opacity\", \"0.6\")\n",
       "                       .attr(\"stroke-width\",\n",
       "                             function(d) {\n",
       "                               return d.value;\n",
       "                               /*return Math.sqrt(d.value);*/\n",
       "                             });\n",
       "\n",
       "   var link_value = container.append(\"g\")\n",
       "                             .selectAll(\"linkvalue\")\n",
       "                             .data(graph.links)\n",
       "                             .enter().append(\"text\")\n",
       "                             .attr(\"alignment-baseline\", \"middle\")\n",
       "                             .style(\"text-anchor\", \"middle\")\n",
       "                             .text(function(d) { return d.value; });\n",
       "\n",
       "   var node = container.append(\"g\")\n",
       "                       .selectAll(\"node\")\n",
       "                       .data(graph.nodes)\n",
       "                       .enter().append(\"g\")\n",
       "                       .call(d3.drag()\n",
       "                               .on(\"start\", dragstarted)\n",
       "                               .on(\"drag\", dragged)\n",
       "                               .on(\"end\", dragended));\n",
       "\n",
       "   /* Node appearance */\n",
       "   node.append(\"rect\")\n",
       "       .attr(\"height\", 0)\n",
       "       .attr(\"width\", 0)\n",
       "       .attr(\"fill\", function(d) { return color(d.type); })\n",
       "       .attr(\"stroke\", \"#000\")\n",
       "       .attr(\"stroke-width\", \"1px\");\n",
       "\n",
       "   node.append(\"text\")\n",
       "       .attr(\"alignment-baseline\", \"middle\")\n",
       "       .style(\"text-anchor\", \"middle\")\n",
       "       .text(function(d) { return d.name; });\n",
       "\n",
       "   /* Adjust rect width to text */\n",
       "   var margin=10;\n",
       "   node.selectAll('rect')\n",
       "       .attr(\"x\", function(d) {return d3.select(this).attr(\"x\") - (this.parentNode.getBBox().width + margin)/2.0;})\n",
       "       .attr(\"y\", function(d) {return d3.select(this).attr(\"y\") - (this.parentNode.getBBox().height + margin)/2.0;})\n",
       "       .attr(\"width\", function(d) {return this.parentNode.getBBox().width + margin;})\n",
       "       .attr(\"height\", function(d) {return this.parentNode.getBBox().height + margin;});\n",
       "\n",
       "   /* Tooltips */\n",
       "   node.append(\"title\")\n",
       "       .text(function(d) { return d.tooltip; });\n",
       "\n",
       "   /* Functions */\n",
       "   function zoomed() {\n",
       "     container.attr(\"transform\", d3.event.transform);\n",
       "   }\n",
       "\n",
       "   function ticked() {\n",
       "     link\n",
       "       .attr(\"x1\", function(d) { return d.source.x; })\n",
       "       .attr(\"y1\", function(d) { return d.source.y; })\n",
       "       .attr(\"x2\", function(d) { return d.target.x; })\n",
       "       .attr(\"y2\", function(d) { return d.target.y; });\n",
       "\n",
       "     link_value\n",
       "       .attr(\"x\", function(d) { return (d.source.x+d.target.x)/2; })\n",
       "       .attr(\"y\", function(d) { return (d.source.y+d.target.y)/2; })\n",
       "\n",
       "     node.attr(\"transform\",\n",
       "               function(d) { return \"translate(\" + d.x + \",\" + d.y + \")\"; });\n",
       "   }\n",
       "\n",
       "   function dragstarted(d) {\n",
       "     if (!d3.event.active) simulation.alphaTarget(0.3).restart();\n",
       "     d.fx = d.x;\n",
       "     d.fy = d.y;\n",
       "   }\n",
       "\n",
       "   function dragged(d) {\n",
       "     d.fx = d3.event.x;\n",
       "     d.fy = d3.event.y;\n",
       "   }\n",
       "\n",
       "   function dragended(d) {\n",
       "     if (!d3.event.active) simulation.alphaTarget(0);\n",
       "     d.fx = null;\n",
       "     d.fy = null;\n",
       "   }\n",
       "\n",
       " });\n",
       "</script>\n"
      ],
      "text/plain": [
       "<IPython.core.display.HTML object>"
      ]
     },
     "metadata": {},
     "output_type": "display_data"
    }
   ],
   "source": [
    "spn.display_spn_graph(spn2.root, skip_params=False)"
   ]
  },
  {
   "cell_type": "code",
   "execution_count": 29,
   "metadata": {},
   "outputs": [
    {
     "name": "stdout",
     "output_type": "stream",
     "text": [
      "[-4.81116343]\n",
      "[-4.83929634]\n"
     ]
    }
   ],
   "source": [
    "print(val1)\n",
    "print(val2)"
   ]
  },
  {
   "cell_type": "code",
   "execution_count": 30,
   "metadata": {
    "collapsed": true
   },
   "outputs": [],
   "source": [
    "SpnModel.copyweights(sess, spn1.root, spn2.root)"
   ]
  },
  {
   "cell_type": "code",
   "execution_count": 32,
   "metadata": {},
   "outputs": [
    {
     "name": "stdout",
     "output_type": "stream",
     "text": [
      "[-4.88036394]\n"
     ]
    }
   ],
   "source": [
    "val2 = spn2.evaluate(sess, sample)[0]\n",
    "print(val2)"
   ]
  },
  {
   "cell_type": "code",
   "execution_count": 33,
   "metadata": {
    "collapsed": true
   },
   "outputs": [],
   "source": [
    "sess.close()"
   ]
  },
  {
   "cell_type": "code",
   "execution_count": null,
   "metadata": {
    "collapsed": true
   },
   "outputs": [],
   "source": []
  }
 ],
 "metadata": {
  "kernelspec": {
   "display_name": "Python 3",
   "language": "python",
   "name": "python3"
  },
  "language_info": {
   "codemirror_mode": {
    "name": "ipython",
    "version": 3
   },
   "file_extension": ".py",
   "mimetype": "text/x-python",
   "name": "python",
   "nbconvert_exporter": "python",
   "pygments_lexer": "ipython3",
   "version": "3.5.2"
  }
 },
 "nbformat": 4,
 "nbformat_minor": 2
}
