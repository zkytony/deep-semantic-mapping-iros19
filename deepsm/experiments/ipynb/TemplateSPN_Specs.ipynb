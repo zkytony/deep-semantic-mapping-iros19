{
 "cells": [
  {
   "cell_type": "code",
   "execution_count": 1,
   "metadata": {
    "collapsed": true
   },
   "outputs": [],
   "source": [
    "%load_ext autoreload\n",
    "%autoreload 2"
   ]
  },
  {
   "cell_type": "code",
   "execution_count": 26,
   "metadata": {
    "collapsed": true
   },
   "outputs": [],
   "source": [
    "import os\n",
    "import tensorflow as tf\n",
    "\n",
    "import numpy as np\n",
    "import libspn as spn\n",
    "\n",
    "from deepsm.graphspn.spn_model import SpnModel, mod_compute_graph_up\n",
    "from deepsm.graphspn.tbm.spn_template import TemplateSpn, NodeTemplateSpn, EdgeTemplateSpn\n",
    "from deepsm.graphspn.tbm.spn_instance import NodeTemplateInstanceSpn\n",
    "from deepsm.graphspn.tbm.template import EdgeTemplate, NodeTemplate, StarTemplate, SingletonTemplate, ThreeNodeTemplate, PairTemplate\n",
    "from deepsm.graphspn.tbm.graph_builder import build_graph\n",
    "from deepsm.util import CategoryManager"
   ]
  },
  {
   "cell_type": "code",
   "execution_count": 3,
   "metadata": {
    "collapsed": true
   },
   "outputs": [],
   "source": [
    "dirpath = \"/home/zkytony/Documents/thesis/experiments/deep-semantic-mapping/deepsm/experiments/results/graphspn/CustomGraphExperiment/models\"\n",
    "star_tmpl_path = os.path.join(dirpath, \"StarTemplate_%d_Freiburg-Saarbrucken-Stockholm.spn\" % CategoryManager.NUM_CATEGORIES)\n",
    "three_tmpl_path = os.path.join(dirpath, \"ThreeNodeTemplate_%d_Freiburg-Saarbrucken-Stockholm.spn\" % CategoryManager.NUM_CATEGORIES)\n",
    "pair_tmpl_path = os.path.join(dirpath, \"PairTemplate_%d_Freiburg-Saarbrucken-Stockholm.spn\" % CategoryManager.NUM_CATEGORIES)\n",
    "single_tmpl_path = os.path.join(dirpath, \"SingletonTemplate_%d_Freiburg-Saarbrucken-Stockholm.spn\" % CategoryManager.NUM_CATEGORIES)\n",
    "graph_file = \"/home/zkytony/Documents/thesis/experiments/deep-semantic-mapping/deepsm/experiments/analysis/stockholm_floor7_cloudy_b/3nodes.ug\""
   ]
  },
  {
   "cell_type": "code",
   "execution_count": 4,
   "metadata": {},
   "outputs": [
    {
     "name": "stdout",
     "output_type": "stream",
     "text": [
      "3\n",
      "2\n"
     ]
    }
   ],
   "source": [
    "topo_map, likelihoods = build_graph(graph_file)\n",
    "print(len(topo_map.nodes))\n",
    "print(CategoryManager.NUM_CATEGORIES)"
   ]
  },
  {
   "cell_type": "code",
   "execution_count": 5,
   "metadata": {
    "collapsed": true
   },
   "outputs": [],
   "source": [
    "sess = tf.Session()"
   ]
  },
  {
   "cell_type": "code",
   "execution_count": 6,
   "metadata": {},
   "outputs": [
    {
     "name": "stderr",
     "output_type": "stream",
     "text": [
      "[INFO] [spn.JSONLoader:load] Loading SPN graph from file '/home/zkytony/Documents/thesis/experiments/deep-semantic-mapping/deepsm/experiments/results/graphspn/CustomGraphExperiment/models/ThreeNodeTemplate_2_Freiburg-Saarbrucken-Stockholm.spn'\n",
      "[INFO] [spn.JSONLoader:load] Loading SPN graph from file '/home/zkytony/Documents/thesis/experiments/deep-semantic-mapping/deepsm/experiments/results/graphspn/CustomGraphExperiment/models/PairTemplate_2_Freiburg-Saarbrucken-Stockholm.spn'\n",
      "[INFO] [spn.JSONLoader:load] Loading SPN graph from file '/home/zkytony/Documents/thesis/experiments/deep-semantic-mapping/deepsm/experiments/results/graphspn/CustomGraphExperiment/models/SingletonTemplate_2_Freiburg-Saarbrucken-Stockholm.spn'\n"
     ]
    },
    {
     "name": "stdout",
     "output_type": "stream",
     "text": [
      "Generating SPN structure...\n",
      "[Using seed 100]\n",
      "Generating SPN structure...\n",
      "[Using seed 100]\n",
      "Generating SPN structure...\n",
      "[Using seed 100]\n"
     ]
    }
   ],
   "source": [
    "#star_tmpl_spn = NodeTemplateSpn(StarTemplate, seed=100)\n",
    "#star_tmpl_spn.load(star_tmpl_path, sess)\n",
    "three_tmpl_spn = NodeTemplateSpn(ThreeNodeTemplate, seed=100)\n",
    "three_tmpl_spn.load(three_tmpl_path, sess)\n",
    "pair_tmpl_spn = NodeTemplateSpn(PairTemplate, seed=100)\n",
    "pair_tmpl_spn.load(pair_tmpl_path, sess)\n",
    "single_tmpl_spn = NodeTemplateSpn(SingletonTemplate, seed=100)\n",
    "single_tmpl_spn.load(single_tmpl_path, sess)\n",
    "SpnModel.make_weights_same(sess, single_tmpl_spn.root)"
   ]
  },
  {
   "cell_type": "code",
   "execution_count": 10,
   "metadata": {},
   "outputs": [],
   "source": [
    "SpnModel.make_weights_same(sess, single_tmpl_spn.root)\n",
    "#star_tmpl_spn._conc_inputs.set_inputs()\n",
    "single_tmpl_spn._conc_inputs.set_inputs()\n",
    "three_tmpl_spn._conc_inputs.set_inputs()\n",
    "pair_tmpl_spn._conc_inputs.set_inputs()\n",
    "# spn_tmpls = [(star_tmpl_spn, StarTemplate), (single_tmpl_spn, SingletonTemplate),\n",
    "#               (three_tmpl_spn, ThreeNodeTemplate), (pair_tmpl_spn, PairTemplate)]\n",
    "spn_tmpls2 = [(single_tmpl_spn, SingletonTemplate),\n",
    "              (three_tmpl_spn, ThreeNodeTemplate), (pair_tmpl_spn, PairTemplate)]"
   ]
  },
  {
   "cell_type": "code",
   "execution_count": 11,
   "metadata": {},
   "outputs": [
    {
     "name": "stdout",
     "output_type": "stream",
     "text": [
      "Partitioning the graph... (Selecting 2 from 2 attempts)\n",
      "1.000  1.000  \n",
      "Building instance spn...\n",
      "Partition 1\n",
      "Will duplicate ThreeNodeTemplate 1 times.\n",
      "Duplicating... 1\n",
      "Will duplicate PairTemplate 0 times.\n",
      "Will duplicate SingletonTemplate 0 times.\n",
      "Partition 2\n",
      "Will duplicate ThreeNodeTemplate 1 times.\n",
      "Duplicating... 1\n",
      "Will duplicate PairTemplate 0 times.\n",
      "Will duplicate SingletonTemplate 0 times.\n"
     ]
    }
   ],
   "source": [
    "instance_spn = NodeTemplateInstanceSpn(topo_map, sess, *spn_tmpls2, num_partitions=2,\n",
    "                                        seq_id=\"floor7_cloudy_b\", divisions=8,\n",
    "                                        visualize_partitions_dirpath=None, db_name=\"Stockholm\")"
   ]
  },
  {
   "cell_type": "code",
   "execution_count": 12,
   "metadata": {},
   "outputs": [
    {
     "name": "stdout",
     "output_type": "stream",
     "text": [
      "Expanding...\n",
      "Initializing Ops. Will take a while...\n",
      "Initializing learning Ops...\n",
      "WARNING:tensorflow:From /home/zkytony/Documents/thesis/experiments/libspn/libspn/graph/sum.py:298: calling argmax (from tensorflow.python.ops.math_ops) with dimension is deprecated and will be removed in a future version.\n",
      "Instructions for updating:\n",
      "Use the `axis` argument instead\n"
     ]
    },
    {
     "name": "stderr",
     "output_type": "stream",
     "text": [
      "[WARNING] [tensorflow:warning] From /home/zkytony/Documents/thesis/experiments/libspn/libspn/graph/sum.py:298: calling argmax (from tensorflow.python.ops.math_ops) with dimension is deprecated and will be removed in a future version.\n",
      "Instructions for updating:\n",
      "Use the `axis` argument instead\n"
     ]
    }
   ],
   "source": [
    "instance_spn.expand()\n",
    "            \n",
    "print(\"Initializing Ops. Will take a while...\")\n",
    "instance_spn.init_ops(no_mpe=True)"
   ]
  },
  {
   "cell_type": "code",
   "execution_count": 13,
   "metadata": {
    "scrolled": false
   },
   "outputs": [
    {
     "data": {
      "text/html": [
       "<svg id=\"S5caa64d6313448d9aa59b9aed0f2ecf1\" width=\"950\" height=\"800\"></svg>\n",
       "<script>\n",
       " require.config({\n",
       "   paths: {\n",
       "     d3: 'https://d3js.org/d3.v4.min'\n",
       "   }\n",
       " });\n",
       " require(['d3'], function(d3){\n",
       "\n",
       "   var graph = {\"nodes\": [{\"name\": \"Product_23\", \"id\": \"Product_23\", \"tooltip\": \"Product_23\", \"type\": 2}, {\"name\": \"ContVars[5]\", \"id\": \"ContVars_1\", \"tooltip\": \"ContVars\", \"type\": 1}, {\"name\": \"IVs_1[5]\", \"id\": \"IVs_1_2\", \"tooltip\": \"IVs_1\", \"type\": 0}, {\"name\": \"Product_22\", \"id\": \"Product_22\", \"tooltip\": \"Product_22\", \"type\": 2}, {\"name\": \"ContVars[4]\", \"id\": \"ContVars_3\", \"tooltip\": \"ContVars\", \"type\": 1}, {\"name\": \"IVs_1[4]\", \"id\": \"IVs_1_4\", \"tooltip\": \"IVs_1\", \"type\": 0}, {\"name\": \"Product_21\", \"id\": \"Product_21\", \"tooltip\": \"Product_21\", \"type\": 2}, {\"name\": \"ContVars[3]\", \"id\": \"ContVars_5\", \"tooltip\": \"ContVars\", \"type\": 1}, {\"name\": \"IVs_1[3]\", \"id\": \"IVs_1_6\", \"tooltip\": \"IVs_1\", \"type\": 0}, {\"name\": \"Product_20\", \"id\": \"Product_20\", \"tooltip\": \"Product_20\", \"type\": 2}, {\"name\": \"ContVars[2]\", \"id\": \"ContVars_7\", \"tooltip\": \"ContVars\", \"type\": 1}, {\"name\": \"IVs_1[2]\", \"id\": \"IVs_1_8\", \"tooltip\": \"IVs_1\", \"type\": 0}, {\"name\": \"Product_19\", \"id\": \"Product_19\", \"tooltip\": \"Product_19\", \"type\": 2}, {\"name\": \"ContVars[1]\", \"id\": \"ContVars_9\", \"tooltip\": \"ContVars\", \"type\": 1}, {\"name\": \"IVs_1[1]\", \"id\": \"IVs_1_10\", \"tooltip\": \"IVs_1\", \"type\": 0}, {\"name\": \"Product_18\", \"id\": \"Product_18\", \"tooltip\": \"Product_18\", \"type\": 2}, {\"name\": \"ContVars[0]\", \"id\": \"ContVars_11\", \"tooltip\": \"ContVars\", \"type\": 1}, {\"name\": \"IVs_1[0]\", \"id\": \"IVs_1_12\", \"tooltip\": \"IVs_1\", \"type\": 0}, {\"name\": \"Concat\", \"id\": \"Concat\", \"tooltip\": \"Concat\", \"type\": 3}, {\"name\": \"Product_9\", \"id\": \"Product_9\", \"tooltip\": \"Product_9\", \"type\": 2}, {\"name\": \"Product_10\", \"id\": \"Product_10\", \"tooltip\": \"Product_10\", \"type\": 2}, {\"name\": \"Product_11\", \"id\": \"Product_11\", \"tooltip\": \"Product_11\", \"type\": 2}, {\"name\": \"Product_12\", \"id\": \"Product_12\", \"tooltip\": \"Product_12\", \"type\": 2}, {\"name\": \"Sum_3\", \"id\": \"Sum_3\", \"tooltip\": \"Sum_3\", \"type\": 5}, {\"name\": \"Weights/Sums1.1/Sum2_Weights\", \"id\": \"Weights/Sums1.1/Sum2_Weights_13\", \"tooltip\": \"Weights/Sums1.1/Sum2_Weights\", \"type\": 4}, {\"name\": \"Product_13\", \"id\": \"Product_13\", \"tooltip\": \"Product_13\", \"type\": 2}, {\"name\": \"Product_14\", \"id\": \"Product_14\", \"tooltip\": \"Product_14\", \"type\": 2}, {\"name\": \"Sum_4\", \"id\": \"Sum_4\", \"tooltip\": \"Sum_4\", \"type\": 5}, {\"name\": \"Weights/Sums1.1/Sum1_Weights\", \"id\": \"Weights/Sums1.1/Sum1_Weights_14\", \"tooltip\": \"Weights/Sums1.1/Sum1_Weights\", \"type\": 4}, {\"name\": \"Product_15\", \"id\": \"Product_15\", \"tooltip\": \"Product_15\", \"type\": 2}, {\"name\": \"Product_16\", \"id\": \"Product_16\", \"tooltip\": \"Product_16\", \"type\": 2}, {\"name\": \"Sum_5\", \"id\": \"Sum_5\", \"tooltip\": \"Sum_5\", \"type\": 5}, {\"name\": \"Weights/Node_2_Weights\", \"id\": \"Weights/Node_2_Weights_15\", \"tooltip\": \"Weights/Node_2_Weights\", \"type\": 4}, {\"name\": \"Product_17\", \"id\": \"Product_17\", \"tooltip\": \"Product_17\", \"type\": 2}, {\"name\": \"Product\", \"id\": \"Product\", \"tooltip\": \"Product\", \"type\": 2}, {\"name\": \"Product_1\", \"id\": \"Product_1\", \"tooltip\": \"Product_1\", \"type\": 2}, {\"name\": \"Product_2\", \"id\": \"Product_2\", \"tooltip\": \"Product_2\", \"type\": 2}, {\"name\": \"Product_3\", \"id\": \"Product_3\", \"tooltip\": \"Product_3\", \"type\": 2}, {\"name\": \"Sum\", \"id\": \"Sum\", \"tooltip\": \"Sum\", \"type\": 5}, {\"name\": \"Weights/Sums1.1/Sum2_Weights\", \"id\": \"Weights/Sums1.1/Sum2_Weights_16\", \"tooltip\": \"Weights/Sums1.1/Sum2_Weights\", \"type\": 4}, {\"name\": \"Product_4\", \"id\": \"Product_4\", \"tooltip\": \"Product_4\", \"type\": 2}, {\"name\": \"Product_5\", \"id\": \"Product_5\", \"tooltip\": \"Product_5\", \"type\": 2}, {\"name\": \"Sum_1\", \"id\": \"Sum_1\", \"tooltip\": \"Sum_1\", \"type\": 5}, {\"name\": \"Weights/Sums1.1/Sum1_Weights\", \"id\": \"Weights/Sums1.1/Sum1_Weights_17\", \"tooltip\": \"Weights/Sums1.1/Sum1_Weights\", \"type\": 4}, {\"name\": \"Product_6\", \"id\": \"Product_6\", \"tooltip\": \"Product_6\", \"type\": 2}, {\"name\": \"Product_7\", \"id\": \"Product_7\", \"tooltip\": \"Product_7\", \"type\": 2}, {\"name\": \"Sum_2\", \"id\": \"Sum_2\", \"tooltip\": \"Sum_2\", \"type\": 5}, {\"name\": \"Weights/Node_2_Weights\", \"id\": \"Weights/Node_2_Weights_18\", \"tooltip\": \"Weights/Node_2_Weights\", \"type\": 4}, {\"name\": \"Product_8\", \"id\": \"Product_8\", \"tooltip\": \"Product_8\", \"type\": 2}, {\"name\": \"Sum_6\", \"id\": \"Sum_6\", \"tooltip\": \"Sum_6\", \"type\": 5}, {\"name\": \"Sum_6_Weights\", \"id\": \"Sum_6_Weights_19\", \"tooltip\": \"Sum_6_Weights\", \"type\": 4}], \"links\": [{\"target\": \"Product_23\", \"value\": 1, \"source\": \"ContVars_1\"}, {\"target\": \"Product_23\", \"value\": 1, \"source\": \"IVs_1_2\"}, {\"target\": \"Product_22\", \"value\": 1, \"source\": \"ContVars_3\"}, {\"target\": \"Product_22\", \"value\": 1, \"source\": \"IVs_1_4\"}, {\"target\": \"Product_21\", \"value\": 1, \"source\": \"ContVars_5\"}, {\"target\": \"Product_21\", \"value\": 1, \"source\": \"IVs_1_6\"}, {\"target\": \"Product_20\", \"value\": 1, \"source\": \"ContVars_7\"}, {\"target\": \"Product_20\", \"value\": 1, \"source\": \"IVs_1_8\"}, {\"target\": \"Product_19\", \"value\": 1, \"source\": \"ContVars_9\"}, {\"target\": \"Product_19\", \"value\": 1, \"source\": \"IVs_1_10\"}, {\"target\": \"Product_18\", \"value\": 1, \"source\": \"ContVars_11\"}, {\"target\": \"Product_18\", \"value\": 1, \"source\": \"IVs_1_12\"}, {\"target\": \"Concat\", \"value\": 1, \"source\": \"Product_18\"}, {\"target\": \"Concat\", \"value\": 1, \"source\": \"Product_19\"}, {\"target\": \"Concat\", \"value\": 1, \"source\": \"Product_20\"}, {\"target\": \"Concat\", \"value\": 1, \"source\": \"Product_21\"}, {\"target\": \"Concat\", \"value\": 1, \"source\": \"Product_22\"}, {\"target\": \"Concat\", \"value\": 1, \"source\": \"Product_23\"}, {\"target\": \"Product_9\", \"value\": 1, \"source\": \"Concat\"}, {\"target\": \"Product_9\", \"value\": 1, \"source\": \"Concat\"}, {\"target\": \"Product_10\", \"value\": 1, \"source\": \"Concat\"}, {\"target\": \"Product_10\", \"value\": 1, \"source\": \"Concat\"}, {\"target\": \"Product_11\", \"value\": 1, \"source\": \"Concat\"}, {\"target\": \"Product_11\", \"value\": 1, \"source\": \"Concat\"}, {\"target\": \"Product_12\", \"value\": 1, \"source\": \"Concat\"}, {\"target\": \"Product_12\", \"value\": 1, \"source\": \"Concat\"}, {\"target\": \"Sum_3\", \"value\": 4, \"source\": \"Weights/Sums1.1/Sum2_Weights_13\"}, {\"target\": \"Sum_3\", \"value\": 1, \"source\": \"Product_12\"}, {\"target\": \"Sum_3\", \"value\": 1, \"source\": \"Product_11\"}, {\"target\": \"Sum_3\", \"value\": 1, \"source\": \"Product_10\"}, {\"target\": \"Sum_3\", \"value\": 1, \"source\": \"Product_9\"}, {\"target\": \"Product_13\", \"value\": 1, \"source\": \"Concat\"}, {\"target\": \"Product_13\", \"value\": 1, \"source\": \"Sum_3\"}, {\"target\": \"Product_14\", \"value\": 1, \"source\": \"Concat\"}, {\"target\": \"Product_14\", \"value\": 1, \"source\": \"Sum_3\"}, {\"target\": \"Sum_4\", \"value\": 4, \"source\": \"Weights/Sums1.1/Sum1_Weights_14\"}, {\"target\": \"Sum_4\", \"value\": 1, \"source\": \"Product_12\"}, {\"target\": \"Sum_4\", \"value\": 1, \"source\": \"Product_11\"}, {\"target\": \"Sum_4\", \"value\": 1, \"source\": \"Product_10\"}, {\"target\": \"Sum_4\", \"value\": 1, \"source\": \"Product_9\"}, {\"target\": \"Product_15\", \"value\": 1, \"source\": \"Concat\"}, {\"target\": \"Product_15\", \"value\": 1, \"source\": \"Sum_4\"}, {\"target\": \"Product_16\", \"value\": 1, \"source\": \"Concat\"}, {\"target\": \"Product_16\", \"value\": 1, \"source\": \"Sum_4\"}, {\"target\": \"Sum_5\", \"value\": 4, \"source\": \"Weights/Node_2_Weights_15\"}, {\"target\": \"Sum_5\", \"value\": 1, \"source\": \"Product_16\"}, {\"target\": \"Sum_5\", \"value\": 1, \"source\": \"Product_15\"}, {\"target\": \"Sum_5\", \"value\": 1, \"source\": \"Product_14\"}, {\"target\": \"Sum_5\", \"value\": 1, \"source\": \"Product_13\"}, {\"target\": \"Product_17\", \"value\": 1, \"source\": \"Sum_5\"}, {\"target\": \"Product\", \"value\": 1, \"source\": \"Concat\"}, {\"target\": \"Product\", \"value\": 1, \"source\": \"Concat\"}, {\"target\": \"Product_1\", \"value\": 1, \"source\": \"Concat\"}, {\"target\": \"Product_1\", \"value\": 1, \"source\": \"Concat\"}, {\"target\": \"Product_2\", \"value\": 1, \"source\": \"Concat\"}, {\"target\": \"Product_2\", \"value\": 1, \"source\": \"Concat\"}, {\"target\": \"Product_3\", \"value\": 1, \"source\": \"Concat\"}, {\"target\": \"Product_3\", \"value\": 1, \"source\": \"Concat\"}, {\"target\": \"Sum\", \"value\": 4, \"source\": \"Weights/Sums1.1/Sum2_Weights_16\"}, {\"target\": \"Sum\", \"value\": 1, \"source\": \"Product_3\"}, {\"target\": \"Sum\", \"value\": 1, \"source\": \"Product_2\"}, {\"target\": \"Sum\", \"value\": 1, \"source\": \"Product_1\"}, {\"target\": \"Sum\", \"value\": 1, \"source\": \"Product\"}, {\"target\": \"Product_4\", \"value\": 1, \"source\": \"Concat\"}, {\"target\": \"Product_4\", \"value\": 1, \"source\": \"Sum\"}, {\"target\": \"Product_5\", \"value\": 1, \"source\": \"Concat\"}, {\"target\": \"Product_5\", \"value\": 1, \"source\": \"Sum\"}, {\"target\": \"Sum_1\", \"value\": 4, \"source\": \"Weights/Sums1.1/Sum1_Weights_17\"}, {\"target\": \"Sum_1\", \"value\": 1, \"source\": \"Product_3\"}, {\"target\": \"Sum_1\", \"value\": 1, \"source\": \"Product_2\"}, {\"target\": \"Sum_1\", \"value\": 1, \"source\": \"Product_1\"}, {\"target\": \"Sum_1\", \"value\": 1, \"source\": \"Product\"}, {\"target\": \"Product_6\", \"value\": 1, \"source\": \"Concat\"}, {\"target\": \"Product_6\", \"value\": 1, \"source\": \"Sum_1\"}, {\"target\": \"Product_7\", \"value\": 1, \"source\": \"Concat\"}, {\"target\": \"Product_7\", \"value\": 1, \"source\": \"Sum_1\"}, {\"target\": \"Sum_2\", \"value\": 4, \"source\": \"Weights/Node_2_Weights_18\"}, {\"target\": \"Sum_2\", \"value\": 1, \"source\": \"Product_7\"}, {\"target\": \"Sum_2\", \"value\": 1, \"source\": \"Product_6\"}, {\"target\": \"Sum_2\", \"value\": 1, \"source\": \"Product_5\"}, {\"target\": \"Sum_2\", \"value\": 1, \"source\": \"Product_4\"}, {\"target\": \"Product_8\", \"value\": 1, \"source\": \"Sum_2\"}, {\"target\": \"Sum_6\", \"value\": 2, \"source\": \"Sum_6_Weights_19\"}, {\"target\": \"Sum_6\", \"value\": 1, \"source\": \"Product_8\"}, {\"target\": \"Sum_6\", \"value\": 1, \"source\": \"Product_17\"}]};\n",
       "\n",
       "   var color = d3.scaleOrdinal(d3.schemeCategory10);\n",
       "\n",
       "   var zoom = d3.zoom()\n",
       "                .scaleExtent([0.1, 10])\n",
       "                .on(\"zoom\", zoomed);\n",
       "\n",
       "   var svg = d3.select(\"#S5caa64d6313448d9aa59b9aed0f2ecf1\").\n",
       "                call(zoom);\n",
       "\n",
       "   var width = svg.attr(\"width\");\n",
       "   var height = svg.attr(\"height\");\n",
       "\n",
       "   var simulation = d3.forceSimulation(graph.nodes)\n",
       "                      .on(\"tick\", ticked)\n",
       "                      .force(\"link\", d3.forceLink(graph.links)\n",
       "                                       .distance(80)\n",
       "                                       .id(function(d) { return d.id; }))\n",
       "                      .force(\"charge\", d3.forceManyBody().\n",
       "                                          strength(-1000))\n",
       "                      .force(\"center\", d3.forceCenter(width / 2, height / 2));\n",
       "\n",
       "   /* Contents */\n",
       "   var container = svg.append(\"g\").\n",
       "                       attr(\"class\", \"container\");\n",
       "\n",
       "   var link = container.append(\"g\")\n",
       "                       .selectAll(\"link\")\n",
       "                       .data(graph.links)\n",
       "                       .enter().append(\"line\")\n",
       "                       .attr(\"stroke\", \"#444\")\n",
       "                       .attr(\"stroke-opacity\", \"0.6\")\n",
       "                       .attr(\"stroke-width\",\n",
       "                             function(d) {\n",
       "                               return d.value;\n",
       "                               /*return Math.sqrt(d.value);*/\n",
       "                             });\n",
       "\n",
       "   var link_value = container.append(\"g\")\n",
       "                             .selectAll(\"linkvalue\")\n",
       "                             .data(graph.links)\n",
       "                             .enter().append(\"text\")\n",
       "                             .attr(\"alignment-baseline\", \"middle\")\n",
       "                             .style(\"text-anchor\", \"middle\")\n",
       "                             .text(function(d) { return d.value; });\n",
       "\n",
       "   var node = container.append(\"g\")\n",
       "                       .selectAll(\"node\")\n",
       "                       .data(graph.nodes)\n",
       "                       .enter().append(\"g\")\n",
       "                       .call(d3.drag()\n",
       "                               .on(\"start\", dragstarted)\n",
       "                               .on(\"drag\", dragged)\n",
       "                               .on(\"end\", dragended));\n",
       "\n",
       "   /* Node appearance */\n",
       "   node.append(\"rect\")\n",
       "       .attr(\"height\", 0)\n",
       "       .attr(\"width\", 0)\n",
       "       .attr(\"fill\", function(d) { return color(d.type); })\n",
       "       .attr(\"stroke\", \"#000\")\n",
       "       .attr(\"stroke-width\", \"1px\");\n",
       "\n",
       "   node.append(\"text\")\n",
       "       .attr(\"alignment-baseline\", \"middle\")\n",
       "       .style(\"text-anchor\", \"middle\")\n",
       "       .text(function(d) { return d.name; });\n",
       "\n",
       "   /* Adjust rect width to text */\n",
       "   var margin=10;\n",
       "   node.selectAll('rect')\n",
       "       .attr(\"x\", function(d) {return d3.select(this).attr(\"x\") - (this.parentNode.getBBox().width + margin)/2.0;})\n",
       "       .attr(\"y\", function(d) {return d3.select(this).attr(\"y\") - (this.parentNode.getBBox().height + margin)/2.0;})\n",
       "       .attr(\"width\", function(d) {return this.parentNode.getBBox().width + margin;})\n",
       "       .attr(\"height\", function(d) {return this.parentNode.getBBox().height + margin;});\n",
       "\n",
       "   /* Tooltips */\n",
       "   node.append(\"title\")\n",
       "       .text(function(d) { return d.tooltip; });\n",
       "\n",
       "   /* Functions */\n",
       "   function zoomed() {\n",
       "     container.attr(\"transform\", d3.event.transform);\n",
       "   }\n",
       "\n",
       "   function ticked() {\n",
       "     link\n",
       "       .attr(\"x1\", function(d) { return d.source.x; })\n",
       "       .attr(\"y1\", function(d) { return d.source.y; })\n",
       "       .attr(\"x2\", function(d) { return d.target.x; })\n",
       "       .attr(\"y2\", function(d) { return d.target.y; });\n",
       "\n",
       "     link_value\n",
       "       .attr(\"x\", function(d) { return (d.source.x+d.target.x)/2; })\n",
       "       .attr(\"y\", function(d) { return (d.source.y+d.target.y)/2; })\n",
       "\n",
       "     node.attr(\"transform\",\n",
       "               function(d) { return \"translate(\" + d.x + \",\" + d.y + \")\"; });\n",
       "   }\n",
       "\n",
       "   function dragstarted(d) {\n",
       "     if (!d3.event.active) simulation.alphaTarget(0.3).restart();\n",
       "     d.fx = d.x;\n",
       "     d.fy = d.y;\n",
       "   }\n",
       "\n",
       "   function dragged(d) {\n",
       "     d.fx = d3.event.x;\n",
       "     d.fy = d3.event.y;\n",
       "   }\n",
       "\n",
       "   function dragended(d) {\n",
       "     if (!d3.event.active) simulation.alphaTarget(0);\n",
       "     d.fx = null;\n",
       "     d.fy = null;\n",
       "   }\n",
       "\n",
       " });\n",
       "</script>\n"
      ],
      "text/plain": [
       "<IPython.core.display.HTML object>"
      ]
     },
     "metadata": {},
     "output_type": "display_data"
    }
   ],
   "source": [
    "spn.display_spn_graph(instance_spn._root, skip_params=False)"
   ]
  },
  {
   "cell_type": "code",
   "execution_count": 14,
   "metadata": {},
   "outputs": [
    {
     "data": {
      "text/plain": [
       "Sum_6"
      ]
     },
     "execution_count": 14,
     "metadata": {},
     "output_type": "execute_result"
    }
   ],
   "source": [
    "instance_spn._root"
   ]
  },
  {
   "cell_type": "code",
   "execution_count": 15,
   "metadata": {},
   "outputs": [
    {
     "name": "stdout",
     "output_type": "stream",
     "text": [
      "Sum_6 (Sum)\n",
      "[ 0.5  0.5] [(2,)]\n",
      "Sum_2 (Sum)\n",
      "[ 0.01057933  0.60179216  0.37704921  0.01057933] [(4,)]\n",
      "Sum_5 (Sum)\n",
      "[ 0.01057933  0.60179216  0.37704921  0.01057933] [(4,)]\n",
      "Sum_1 (Sum)\n",
      "[ 0.01669902  0.02068494  0.02068494  0.94193113] [(4,)]\n",
      "Sum (Sum)\n",
      "[ 0.90537304  0.03437359  0.03437359  0.0258798 ] [(4,)]\n",
      "Sum_4 (Sum)\n",
      "[ 0.01669902  0.02068494  0.02068494  0.94193113] [(4,)]\n",
      "Sum_3 (Sum)\n",
      "[ 0.90537304  0.03437359  0.03437359  0.0258798 ] [(4,)]\n"
     ]
    }
   ],
   "source": [
    "SpnModel.print_weights(instance_spn._root, sess)"
   ]
  },
  {
   "cell_type": "code",
   "execution_count": 16,
   "metadata": {
    "collapsed": true
   },
   "outputs": [],
   "source": [
    "query_nids = list(topo_map.nodes.keys())\n",
    "query = {k:-1 for k in query_nids}\n",
    "query_lh = likelihoods"
   ]
  },
  {
   "cell_type": "code",
   "execution_count": 17,
   "metadata": {
    "collapsed": true
   },
   "outputs": [],
   "source": [
    "marginals = instance_spn.marginal_inference(sess, query_nids,\n",
    "                                            query, query_lh=query_lh)"
   ]
  },
  {
   "cell_type": "code",
   "execution_count": 18,
   "metadata": {},
   "outputs": [
    {
     "data": {
      "text/plain": [
       "{159: [array([-1494.11633301], dtype=float32),\n",
       "  array([-1417.60070801], dtype=float32)],\n",
       " 160: [array([-1417.60070801], dtype=float32),\n",
       "  array([-1541.4876709], dtype=float32)],\n",
       " 162: [array([-1480.84472656], dtype=float32),\n",
       "  array([-1417.60070801], dtype=float32)]}"
      ]
     },
     "execution_count": 18,
     "metadata": {},
     "output_type": "execute_result"
    }
   ],
   "source": [
    "marginals"
   ]
  },
  {
   "cell_type": "code",
   "execution_count": 19,
   "metadata": {},
   "outputs": [
    {
     "name": "stdout",
     "output_type": "stream",
     "text": [
      "Sum_6 (Sum)\n",
      "    Input(Product_8, None) (Product)\n",
      "    Input(Product_17, None) (Product)\n",
      "Product_8 (Product)\n",
      "    Input(Sum_2, None) (Sum)\n",
      "Product_17 (Product)\n",
      "    Input(Sum_5, None) (Sum)\n",
      "Sum_2 (Sum)\n",
      "    Input(Product_7, None) (Product)\n",
      "    Input(Product_6, None) (Product)\n",
      "    Input(Product_5, None) (Product)\n",
      "    Input(Product_4, None) (Product)\n",
      "Sum_5 (Sum)\n",
      "    Input(Product_16, None) (Product)\n",
      "    Input(Product_15, None) (Product)\n",
      "    Input(Product_14, None) (Product)\n",
      "    Input(Product_13, None) (Product)\n",
      "Product_7 (Product)\n",
      "    Input(Concat, [0]) (Concat)\n",
      "    Input(Sum_1, None) (Sum)\n",
      "Product_6 (Product)\n",
      "    Input(Concat, [1]) (Concat)\n",
      "    Input(Sum_1, None) (Sum)\n",
      "Product_5 (Product)\n",
      "    Input(Concat, [0]) (Concat)\n",
      "    Input(Sum, None) (Sum)\n",
      "Product_4 (Product)\n",
      "    Input(Concat, [1]) (Concat)\n",
      "    Input(Sum, None) (Sum)\n",
      "Product_16 (Product)\n",
      "    Input(Concat, [0]) (Concat)\n",
      "    Input(Sum_4, None) (Sum)\n",
      "Product_15 (Product)\n",
      "    Input(Concat, [1]) (Concat)\n",
      "    Input(Sum_4, None) (Sum)\n",
      "Product_14 (Product)\n",
      "    Input(Concat, [0]) (Concat)\n",
      "    Input(Sum_3, None) (Sum)\n",
      "Product_13 (Product)\n",
      "    Input(Concat, [1]) (Concat)\n",
      "    Input(Sum_3, None) (Sum)\n",
      "Concat (Concat)\n",
      "    Input(Product_18, None) (Product)\n",
      "    Input(Product_19, None) (Product)\n",
      "    Input(Product_20, None) (Product)\n",
      "    Input(Product_21, None) (Product)\n",
      "    Input(Product_22, None) (Product)\n",
      "    Input(Product_23, None) (Product)\n",
      "Sum_1 (Sum)\n",
      "    Input(Product_3, None) (Product)\n",
      "    Input(Product_2, None) (Product)\n",
      "    Input(Product_1, None) (Product)\n",
      "    Input(Product, None) (Product)\n",
      "Sum (Sum)\n",
      "    Input(Product_3, None) (Product)\n",
      "    Input(Product_2, None) (Product)\n",
      "    Input(Product_1, None) (Product)\n",
      "    Input(Product, None) (Product)\n",
      "Sum_4 (Sum)\n",
      "    Input(Product_12, None) (Product)\n",
      "    Input(Product_11, None) (Product)\n",
      "    Input(Product_10, None) (Product)\n",
      "    Input(Product_9, None) (Product)\n",
      "Sum_3 (Sum)\n",
      "    Input(Product_12, None) (Product)\n",
      "    Input(Product_11, None) (Product)\n",
      "    Input(Product_10, None) (Product)\n",
      "    Input(Product_9, None) (Product)\n",
      "Product_18 (Product)\n",
      "    Input(ContVars, [0]) (RawInput)\n",
      "    Input(IVs_1, [0]) (IVs)\n",
      "Product_19 (Product)\n",
      "    Input(ContVars, [1]) (RawInput)\n",
      "    Input(IVs_1, [1]) (IVs)\n",
      "Product_20 (Product)\n",
      "    Input(ContVars, [2]) (RawInput)\n",
      "    Input(IVs_1, [2]) (IVs)\n",
      "Product_21 (Product)\n",
      "    Input(ContVars, [3]) (RawInput)\n",
      "    Input(IVs_1, [3]) (IVs)\n",
      "Product_22 (Product)\n",
      "    Input(ContVars, [4]) (RawInput)\n",
      "    Input(IVs_1, [4]) (IVs)\n",
      "Product_23 (Product)\n",
      "    Input(ContVars, [5]) (RawInput)\n",
      "    Input(IVs_1, [5]) (IVs)\n",
      "Product_3 (Product)\n",
      "    Input(Concat, [2]) (Concat)\n",
      "    Input(Concat, [4]) (Concat)\n",
      "Product_2 (Product)\n",
      "    Input(Concat, [3]) (Concat)\n",
      "    Input(Concat, [4]) (Concat)\n",
      "Product_1 (Product)\n",
      "    Input(Concat, [2]) (Concat)\n",
      "    Input(Concat, [5]) (Concat)\n",
      "Product (Product)\n",
      "    Input(Concat, [3]) (Concat)\n",
      "    Input(Concat, [5]) (Concat)\n",
      "Product_12 (Product)\n",
      "    Input(Concat, [4]) (Concat)\n",
      "    Input(Concat, [2]) (Concat)\n",
      "Product_11 (Product)\n",
      "    Input(Concat, [5]) (Concat)\n",
      "    Input(Concat, [2]) (Concat)\n",
      "Product_10 (Product)\n",
      "    Input(Concat, [4]) (Concat)\n",
      "    Input(Concat, [3]) (Concat)\n",
      "Product_9 (Product)\n",
      "    Input(Concat, [5]) (Concat)\n",
      "    Input(Concat, [3]) (Concat)\n"
     ]
    }
   ],
   "source": [
    "SpnModel.print_structure(instance_spn._root, sess)"
   ]
  },
  {
   "cell_type": "code",
   "execution_count": 20,
   "metadata": {},
   "outputs": [
    {
     "data": {
      "text/plain": [
       "(Input(Product_18, None),\n",
       " Input(Product_19, None),\n",
       " Input(Product_20, None),\n",
       " Input(Product_21, None),\n",
       " Input(Product_22, None),\n",
       " Input(Product_23, None))"
      ]
     },
     "execution_count": 20,
     "metadata": {},
     "output_type": "execute_result"
    }
   ],
   "source": [
    "instance_spn._conc_inputs.inputs"
   ]
  },
  {
   "cell_type": "code",
   "execution_count": 21,
   "metadata": {},
   "outputs": [
    {
     "data": {
      "text/plain": [
       "{159: [-557.3182373, -481.20571899],\n",
       " 160: [-513.4407959, -640.68658447],\n",
       " 162: [-481.86907959, -419.02822876]}"
      ]
     },
     "execution_count": 21,
     "metadata": {},
     "output_type": "execute_result"
    }
   ],
   "source": [
    "likelihoods"
   ]
  },
  {
   "cell_type": "code",
   "execution_count": 22,
   "metadata": {},
   "outputs": [
    {
     "data": {
      "text/plain": [
       "{0: 160, 1: 162, 2: 159}"
      ]
     },
     "execution_count": 22,
     "metadata": {},
     "output_type": "execute_result"
    }
   ],
   "source": [
    "instance_spn._label_node_map"
   ]
  },
  {
   "cell_type": "code",
   "execution_count": 34,
   "metadata": {},
   "outputs": [],
   "source": [
    "catg_inputs = spn.IVs(num_vars=20, num_vals=CategoryManager.NUM_CATEGORIES, name=\"Catg\")\n",
    "conc = spn.Concat(catg_inputs)\n",
    "three_tmpl_spn._conc_inputs.set_inputs()\n",
    "copied_tspn_root = mod_compute_graph_up(three_tmpl_spn._root,\n",
    "                                        TemplateSpn._dup_fun_up, tmpl_num_vars=[3], tmpl_num_vals=[CategoryManager.NUM_CATEGORIES],\n",
    "                                        conc=conc,\n",
    "                                        labels=[[0,2,4]])"
   ]
  },
  {
   "cell_type": "code",
   "execution_count": null,
   "metadata": {
    "collapsed": true
   },
   "outputs": [],
   "source": []
  }
 ],
 "metadata": {
  "kernelspec": {
   "display_name": "py3",
   "language": "python",
   "name": "py3"
  },
  "language_info": {
   "codemirror_mode": {
    "name": "ipython",
    "version": 3
   },
   "file_extension": ".py",
   "mimetype": "text/x-python",
   "name": "python",
   "nbconvert_exporter": "python",
   "pygments_lexer": "ipython3",
   "version": "3.5.2"
  }
 },
 "nbformat": 4,
 "nbformat_minor": 2
}
