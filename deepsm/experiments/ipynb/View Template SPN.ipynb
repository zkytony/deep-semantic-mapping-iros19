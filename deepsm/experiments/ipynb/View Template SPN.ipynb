{
 "cells": [
  {
   "cell_type": "code",
   "execution_count": 1,
   "metadata": {
    "collapsed": true
   },
   "outputs": [],
   "source": [
    "%load_ext autoreload\n",
    "%autoreload 2"
   ]
  },
  {
   "cell_type": "code",
   "execution_count": 2,
   "metadata": {
    "collapsed": true
   },
   "outputs": [],
   "source": [
    "import os\n",
    "import tensorflow as tf\n",
    "\n",
    "import numpy as np\n",
    "import libspn as spn\n",
    "\n",
    "from deepsm.graphspn.spn_model import SpnModel, mod_compute_graph_up\n",
    "from deepsm.graphspn.tbm.spn_template import TemplateSpn, NodeTemplateSpn, EdgeRelationTemplateSpn\n",
    "from deepsm.graphspn.tbm.spn_instance import NodeTemplateInstanceSpn\n",
    "from deepsm.graphspn.tbm.template import ThreeRelTemplate, SingleRelTemplate, SingleTemplate, RelTemplate\n",
    "from deepsm.graphspn.tbm.graph_builder import build_graph\n",
    "from deepsm.util import CategoryManager"
   ]
  },
  {
   "cell_type": "markdown",
   "metadata": {},
   "source": [
    "# Load a trained view template SPN"
   ]
  },
  {
   "cell_type": "code",
   "execution_count": 3,
   "metadata": {
    "collapsed": true
   },
   "outputs": [],
   "source": [
    "spn_path = \"/home/zkytony/Documents/thesis/experiments/deep-semantic-mapping/deepsm/experiments/results/graphspn/EdgeRelationTemplateExperiment/models/RelTemplate_2_Stockholm456.spn\""
   ]
  },
  {
   "cell_type": "code",
   "execution_count": 4,
   "metadata": {
    "collapsed": true
   },
   "outputs": [],
   "source": [
    "sess = tf.Session()"
   ]
  },
  {
   "cell_type": "code",
   "execution_count": 5,
   "metadata": {},
   "outputs": [
    {
     "name": "stdout",
     "output_type": "stream",
     "text": [
      "Generating SPN structure...\n",
      "[Using seed 100]\n",
      "Node (Sum)\n",
      "    Input(Products1/Product1, None) (Product)\n",
      "    Input(Products1/Product2, None) (Product)\n",
      "    Input(Products1/Product3, None) (Product)\n",
      "    Input(Products1/Product4, None) (Product)\n",
      "Products1/Product1 (Product)\n",
      "    Input(Sums1.1/Sum1, [0]) (Sum)\n",
      "    Input(Sums1.2/Sum1, [0]) (Sum)\n",
      "Products1/Product2 (Product)\n",
      "    Input(Sums1.1/Sum2, [0]) (Sum)\n",
      "    Input(Sums1.2/Sum1, [0]) (Sum)\n",
      "Products1/Product3 (Product)\n",
      "    Input(Sums1.1/Sum1, [0]) (Sum)\n",
      "    Input(Sums1.2/Sum2, [0]) (Sum)\n",
      "Products1/Product4 (Product)\n",
      "    Input(Sums1.1/Sum2, [0]) (Sum)\n",
      "    Input(Sums1.2/Sum2, [0]) (Sum)\n",
      "Sums1.1/Sum1 (Sum)\n",
      "    Input(Products2/Product1, None) (Product)\n",
      "    Input(Products2/Product2, None) (Product)\n",
      "    Input(Products2/Product3, None) (Product)\n",
      "    Input(Products2/Product4, None) (Product)\n",
      "    Input(Products2/Product5, None) (Product)\n",
      "    Input(Products2/Product6, None) (Product)\n",
      "    Input(Products2/Product7, None) (Product)\n",
      "    Input(Products2/Product8, None) (Product)\n",
      "    Input(Products2/Product9, None) (Product)\n",
      "    Input(Products2/Product10, None) (Product)\n",
      "    Input(Products2/Product11, None) (Product)\n",
      "    Input(Products2/Product12, None) (Product)\n",
      "    Input(Products2/Product13, None) (Product)\n",
      "    Input(Products2/Product14, None) (Product)\n",
      "    Input(Products2/Product15, None) (Product)\n",
      "    Input(Products2/Product16, None) (Product)\n",
      "    Input(Products2/Product17, None) (Product)\n",
      "    Input(Products2/Product18, None) (Product)\n",
      "    Input(Products2/Product19, None) (Product)\n",
      "    Input(Products2/Product20, None) (Product)\n",
      "Sums1.2/Sum1 (Sum)\n",
      "    Input(Products3/Product1, None) (Product)\n",
      "    Input(Products3/Product2, None) (Product)\n",
      "    Input(Products3/Product3, None) (Product)\n",
      "    Input(Products3/Product4, None) (Product)\n",
      "    Input(Products3/Product5, None) (Product)\n",
      "    Input(Products3/Product6, None) (Product)\n",
      "    Input(Products3/Product7, None) (Product)\n",
      "    Input(Products3/Product8, None) (Product)\n",
      "    Input(Products3/Product9, None) (Product)\n",
      "    Input(Products3/Product10, None) (Product)\n",
      "    Input(Products3/Product11, None) (Product)\n",
      "    Input(Products3/Product12, None) (Product)\n",
      "    Input(Products3/Product13, None) (Product)\n",
      "    Input(Products3/Product14, None) (Product)\n",
      "    Input(Products3/Product15, None) (Product)\n",
      "    Input(Products3/Product16, None) (Product)\n",
      "Sums1.1/Sum2 (Sum)\n",
      "    Input(Products2/Product1, None) (Product)\n",
      "    Input(Products2/Product2, None) (Product)\n",
      "    Input(Products2/Product3, None) (Product)\n",
      "    Input(Products2/Product4, None) (Product)\n",
      "    Input(Products2/Product5, None) (Product)\n",
      "    Input(Products2/Product6, None) (Product)\n",
      "    Input(Products2/Product7, None) (Product)\n",
      "    Input(Products2/Product8, None) (Product)\n",
      "    Input(Products2/Product9, None) (Product)\n",
      "    Input(Products2/Product10, None) (Product)\n",
      "    Input(Products2/Product11, None) (Product)\n",
      "    Input(Products2/Product12, None) (Product)\n",
      "    Input(Products2/Product13, None) (Product)\n",
      "    Input(Products2/Product14, None) (Product)\n",
      "    Input(Products2/Product15, None) (Product)\n",
      "    Input(Products2/Product16, None) (Product)\n",
      "    Input(Products2/Product17, None) (Product)\n",
      "    Input(Products2/Product18, None) (Product)\n",
      "    Input(Products2/Product19, None) (Product)\n",
      "    Input(Products2/Product20, None) (Product)\n",
      "Sums1.2/Sum2 (Sum)\n",
      "    Input(Products3/Product1, None) (Product)\n",
      "    Input(Products3/Product2, None) (Product)\n",
      "    Input(Products3/Product3, None) (Product)\n",
      "    Input(Products3/Product4, None) (Product)\n",
      "    Input(Products3/Product5, None) (Product)\n",
      "    Input(Products3/Product6, None) (Product)\n",
      "    Input(Products3/Product7, None) (Product)\n",
      "    Input(Products3/Product8, None) (Product)\n",
      "    Input(Products3/Product9, None) (Product)\n",
      "    Input(Products3/Product10, None) (Product)\n",
      "    Input(Products3/Product11, None) (Product)\n",
      "    Input(Products3/Product12, None) (Product)\n",
      "    Input(Products3/Product13, None) (Product)\n",
      "    Input(Products3/Product14, None) (Product)\n",
      "    Input(Products3/Product15, None) (Product)\n",
      "    Input(Products3/Product16, None) (Product)\n",
      "Products2/Product1 (Product)\n",
      "    Input(Conc_EdgeRelationTemplateSpn_3_1, [12]) (Concat)\n",
      "    Input(Conc_EdgeRelationTemplateSpn_3_1, [8]) (Concat)\n",
      "Products2/Product2 (Product)\n",
      "    Input(Conc_EdgeRelationTemplateSpn_3_1, [13]) (Concat)\n",
      "    Input(Conc_EdgeRelationTemplateSpn_3_1, [8]) (Concat)\n",
      "Products2/Product3 (Product)\n",
      "    Input(Conc_EdgeRelationTemplateSpn_3_1, [14]) (Concat)\n",
      "    Input(Conc_EdgeRelationTemplateSpn_3_1, [8]) (Concat)\n",
      "Products2/Product4 (Product)\n",
      "    Input(Conc_EdgeRelationTemplateSpn_3_1, [15]) (Concat)\n",
      "    Input(Conc_EdgeRelationTemplateSpn_3_1, [8]) (Concat)\n",
      "Products2/Product5 (Product)\n",
      "    Input(Conc_EdgeRelationTemplateSpn_3_1, [16]) (Concat)\n",
      "    Input(Conc_EdgeRelationTemplateSpn_3_1, [8]) (Concat)\n",
      "Products2/Product6 (Product)\n",
      "    Input(Conc_EdgeRelationTemplateSpn_3_1, [12]) (Concat)\n",
      "    Input(Conc_EdgeRelationTemplateSpn_3_1, [9]) (Concat)\n",
      "Products2/Product7 (Product)\n",
      "    Input(Conc_EdgeRelationTemplateSpn_3_1, [13]) (Concat)\n",
      "    Input(Conc_EdgeRelationTemplateSpn_3_1, [9]) (Concat)\n",
      "Products2/Product8 (Product)\n",
      "    Input(Conc_EdgeRelationTemplateSpn_3_1, [14]) (Concat)\n",
      "    Input(Conc_EdgeRelationTemplateSpn_3_1, [9]) (Concat)\n",
      "Products2/Product9 (Product)\n",
      "    Input(Conc_EdgeRelationTemplateSpn_3_1, [15]) (Concat)\n",
      "    Input(Conc_EdgeRelationTemplateSpn_3_1, [9]) (Concat)\n",
      "Products2/Product10 (Product)\n",
      "    Input(Conc_EdgeRelationTemplateSpn_3_1, [16]) (Concat)\n",
      "    Input(Conc_EdgeRelationTemplateSpn_3_1, [9]) (Concat)\n",
      "Products2/Product11 (Product)\n",
      "    Input(Conc_EdgeRelationTemplateSpn_3_1, [12]) (Concat)\n",
      "    Input(Conc_EdgeRelationTemplateSpn_3_1, [10]) (Concat)\n",
      "Products2/Product12 (Product)\n",
      "    Input(Conc_EdgeRelationTemplateSpn_3_1, [13]) (Concat)\n",
      "    Input(Conc_EdgeRelationTemplateSpn_3_1, [10]) (Concat)\n",
      "Products2/Product13 (Product)\n",
      "    Input(Conc_EdgeRelationTemplateSpn_3_1, [14]) (Concat)\n",
      "    Input(Conc_EdgeRelationTemplateSpn_3_1, [10]) (Concat)\n",
      "Products2/Product14 (Product)\n",
      "    Input(Conc_EdgeRelationTemplateSpn_3_1, [15]) (Concat)\n",
      "    Input(Conc_EdgeRelationTemplateSpn_3_1, [10]) (Concat)\n",
      "Products2/Product15 (Product)\n",
      "    Input(Conc_EdgeRelationTemplateSpn_3_1, [16]) (Concat)\n",
      "    Input(Conc_EdgeRelationTemplateSpn_3_1, [10]) (Concat)\n",
      "Products2/Product16 (Product)\n",
      "    Input(Conc_EdgeRelationTemplateSpn_3_1, [12]) (Concat)\n",
      "    Input(Conc_EdgeRelationTemplateSpn_3_1, [11]) (Concat)\n",
      "Products2/Product17 (Product)\n",
      "    Input(Conc_EdgeRelationTemplateSpn_3_1, [13]) (Concat)\n",
      "    Input(Conc_EdgeRelationTemplateSpn_3_1, [11]) (Concat)\n",
      "Products2/Product18 (Product)\n",
      "    Input(Conc_EdgeRelationTemplateSpn_3_1, [14]) (Concat)\n",
      "    Input(Conc_EdgeRelationTemplateSpn_3_1, [11]) (Concat)\n",
      "Products2/Product19 (Product)\n",
      "    Input(Conc_EdgeRelationTemplateSpn_3_1, [15]) (Concat)\n",
      "    Input(Conc_EdgeRelationTemplateSpn_3_1, [11]) (Concat)\n",
      "Products2/Product20 (Product)\n",
      "    Input(Conc_EdgeRelationTemplateSpn_3_1, [16]) (Concat)\n",
      "    Input(Conc_EdgeRelationTemplateSpn_3_1, [11]) (Concat)\n",
      "Products3/Product1 (Product)\n",
      "    Input(Conc_EdgeRelationTemplateSpn_3_1, [4]) (Concat)\n",
      "    Input(Conc_EdgeRelationTemplateSpn_3_1, [0]) (Concat)\n",
      "Products3/Product2 (Product)\n",
      "    Input(Conc_EdgeRelationTemplateSpn_3_1, [5]) (Concat)\n",
      "    Input(Conc_EdgeRelationTemplateSpn_3_1, [0]) (Concat)\n",
      "Products3/Product3 (Product)\n",
      "    Input(Conc_EdgeRelationTemplateSpn_3_1, [6]) (Concat)\n",
      "    Input(Conc_EdgeRelationTemplateSpn_3_1, [0]) (Concat)\n",
      "Products3/Product4 (Product)\n",
      "    Input(Conc_EdgeRelationTemplateSpn_3_1, [7]) (Concat)\n",
      "    Input(Conc_EdgeRelationTemplateSpn_3_1, [0]) (Concat)\n",
      "Products3/Product5 (Product)\n",
      "    Input(Conc_EdgeRelationTemplateSpn_3_1, [4]) (Concat)\n",
      "    Input(Conc_EdgeRelationTemplateSpn_3_1, [1]) (Concat)\n",
      "Products3/Product6 (Product)\n",
      "    Input(Conc_EdgeRelationTemplateSpn_3_1, [5]) (Concat)\n",
      "    Input(Conc_EdgeRelationTemplateSpn_3_1, [1]) (Concat)\n",
      "Products3/Product7 (Product)\n",
      "    Input(Conc_EdgeRelationTemplateSpn_3_1, [6]) (Concat)\n",
      "    Input(Conc_EdgeRelationTemplateSpn_3_1, [1]) (Concat)\n",
      "Products3/Product8 (Product)\n",
      "    Input(Conc_EdgeRelationTemplateSpn_3_1, [7]) (Concat)\n",
      "    Input(Conc_EdgeRelationTemplateSpn_3_1, [1]) (Concat)\n",
      "Products3/Product9 (Product)\n",
      "    Input(Conc_EdgeRelationTemplateSpn_3_1, [4]) (Concat)\n",
      "    Input(Conc_EdgeRelationTemplateSpn_3_1, [2]) (Concat)\n",
      "Products3/Product10 (Product)\n",
      "    Input(Conc_EdgeRelationTemplateSpn_3_1, [5]) (Concat)\n",
      "    Input(Conc_EdgeRelationTemplateSpn_3_1, [2]) (Concat)\n",
      "Products3/Product11 (Product)\n",
      "    Input(Conc_EdgeRelationTemplateSpn_3_1, [6]) (Concat)\n",
      "    Input(Conc_EdgeRelationTemplateSpn_3_1, [2]) (Concat)\n",
      "Products3/Product12 (Product)\n",
      "    Input(Conc_EdgeRelationTemplateSpn_3_1, [7]) (Concat)\n",
      "    Input(Conc_EdgeRelationTemplateSpn_3_1, [2]) (Concat)\n",
      "Products3/Product13 (Product)\n",
      "    Input(Conc_EdgeRelationTemplateSpn_3_1, [4]) (Concat)\n",
      "    Input(Conc_EdgeRelationTemplateSpn_3_1, [3]) (Concat)\n",
      "Products3/Product14 (Product)\n",
      "    Input(Conc_EdgeRelationTemplateSpn_3_1, [5]) (Concat)\n",
      "    Input(Conc_EdgeRelationTemplateSpn_3_1, [3]) (Concat)\n",
      "Products3/Product15 (Product)\n",
      "    Input(Conc_EdgeRelationTemplateSpn_3_1, [6]) (Concat)\n",
      "    Input(Conc_EdgeRelationTemplateSpn_3_1, [3]) (Concat)\n",
      "Products3/Product16 (Product)\n",
      "    Input(Conc_EdgeRelationTemplateSpn_3_1, [7]) (Concat)\n",
      "    Input(Conc_EdgeRelationTemplateSpn_3_1, [3]) (Concat)\n",
      "Conc_EdgeRelationTemplateSpn_3_1 (Concat)\n",
      "    Input(Catg_EdgeRelationTemplateSpn_3_1, None) (IVs)\n",
      "    Input(View_EdgeRelationTemplateSpn_3_1, None) (IVs)\n",
      "Conc_EdgeRelationTemplateSpn_3_1\n",
      "View_EdgeRelationTemplateSpn_3_1\n"
     ]
    }
   ],
   "source": [
    "template_spn = EdgeRelationTemplateSpn(ThreeRelTemplate, seed=100)\n",
    "#template_spn.load(spn_path, sess)\n",
    "SpnModel.print_structure(template_spn._root, sess)\n",
    "print(template_spn._conc_inputs)\n",
    "print(template_spn._view_dist_input)"
   ]
  },
  {
   "cell_type": "code",
   "execution_count": 6,
   "metadata": {},
   "outputs": [
    {
     "name": "stdout",
     "output_type": "stream",
     "text": [
      "Conc_EdgeRelationTemplateSpn_3_1\n",
      "View_EdgeRelationTemplateSpn_3_1\n"
     ]
    }
   ],
   "source": [
    "print(template_spn._conc_inputs)\n",
    "print(template_spn._view_dist_input)"
   ]
  },
  {
   "cell_type": "code",
   "execution_count": 7,
   "metadata": {
    "collapsed": true
   },
   "outputs": [],
   "source": [
    "template_spn.expand()"
   ]
  },
  {
   "cell_type": "code",
   "execution_count": 8,
   "metadata": {},
   "outputs": [
    {
     "data": {
      "text/html": [
       "<svg id=\"Sa87c3d7dd88b4693914681e473008293\" width=\"950\" height=\"800\"></svg>\n",
       "<script>\n",
       " require.config({\n",
       "   paths: {\n",
       "     d3: 'https://d3js.org/d3.v4.min'\n",
       "   }\n",
       " });\n",
       " require(['d3'], function(d3){\n",
       "\n",
       "   var graph = {\"links\": [{\"value\": 1, \"target\": \"Product_11\", \"source\": \"Exp_Lh_EdgeRelationTemplateSpn_3_1_1\"}, {\"value\": 1, \"target\": \"Product_11\", \"source\": \"Exp_Catg_EdgeRelationTemplateSpn_3_1_2\"}, {\"value\": 1, \"target\": \"Product_10\", \"source\": \"Exp_Lh_EdgeRelationTemplateSpn_3_1_3\"}, {\"value\": 1, \"target\": \"Product_10\", \"source\": \"Exp_Catg_EdgeRelationTemplateSpn_3_1_4\"}, {\"value\": 1, \"target\": \"Product_9\", \"source\": \"Exp_Lh_EdgeRelationTemplateSpn_3_1_5\"}, {\"value\": 1, \"target\": \"Product_9\", \"source\": \"Exp_Catg_EdgeRelationTemplateSpn_3_1_6\"}, {\"value\": 1, \"target\": \"Product_8\", \"source\": \"Exp_Lh_EdgeRelationTemplateSpn_3_1_7\"}, {\"value\": 1, \"target\": \"Product_8\", \"source\": \"Exp_Catg_EdgeRelationTemplateSpn_3_1_8\"}, {\"value\": 1, \"target\": \"Product_7\", \"source\": \"Exp_Lh_EdgeRelationTemplateSpn_3_1_9\"}, {\"value\": 1, \"target\": \"Product_7\", \"source\": \"Exp_Catg_EdgeRelationTemplateSpn_3_1_10\"}, {\"value\": 1, \"target\": \"Product_6\", \"source\": \"Exp_Lh_EdgeRelationTemplateSpn_3_1_11\"}, {\"value\": 1, \"target\": \"Product_6\", \"source\": \"Exp_Catg_EdgeRelationTemplateSpn_3_1_12\"}, {\"value\": 1, \"target\": \"Product_5\", \"source\": \"Exp_Lh_EdgeRelationTemplateSpn_3_1_13\"}, {\"value\": 1, \"target\": \"Product_5\", \"source\": \"Exp_Catg_EdgeRelationTemplateSpn_3_1_14\"}, {\"value\": 1, \"target\": \"Product_4\", \"source\": \"Exp_Lh_EdgeRelationTemplateSpn_3_1_15\"}, {\"value\": 1, \"target\": \"Product_4\", \"source\": \"Exp_Catg_EdgeRelationTemplateSpn_3_1_16\"}, {\"value\": 1, \"target\": \"Product_3\", \"source\": \"Exp_Lh_EdgeRelationTemplateSpn_3_1_17\"}, {\"value\": 1, \"target\": \"Product_3\", \"source\": \"Exp_Catg_EdgeRelationTemplateSpn_3_1_18\"}, {\"value\": 1, \"target\": \"Product_2\", \"source\": \"Exp_Lh_EdgeRelationTemplateSpn_3_1_19\"}, {\"value\": 1, \"target\": \"Product_2\", \"source\": \"Exp_Catg_EdgeRelationTemplateSpn_3_1_20\"}, {\"value\": 1, \"target\": \"Product_1\", \"source\": \"Exp_Lh_EdgeRelationTemplateSpn_3_1_21\"}, {\"value\": 1, \"target\": \"Product_1\", \"source\": \"Exp_Catg_EdgeRelationTemplateSpn_3_1_22\"}, {\"value\": 1, \"target\": \"Product\", \"source\": \"Exp_Lh_EdgeRelationTemplateSpn_3_1_23\"}, {\"value\": 1, \"target\": \"Product\", \"source\": \"Exp_Catg_EdgeRelationTemplateSpn_3_1_24\"}, {\"value\": 1, \"target\": \"Conc_EdgeRelationTemplateSpn_3_1\", \"source\": \"Product\"}, {\"value\": 1, \"target\": \"Conc_EdgeRelationTemplateSpn_3_1\", \"source\": \"Product_1\"}, {\"value\": 1, \"target\": \"Conc_EdgeRelationTemplateSpn_3_1\", \"source\": \"Product_2\"}, {\"value\": 1, \"target\": \"Conc_EdgeRelationTemplateSpn_3_1\", \"source\": \"Product_3\"}, {\"value\": 1, \"target\": \"Conc_EdgeRelationTemplateSpn_3_1\", \"source\": \"Product_4\"}, {\"value\": 1, \"target\": \"Conc_EdgeRelationTemplateSpn_3_1\", \"source\": \"Product_5\"}, {\"value\": 1, \"target\": \"Conc_EdgeRelationTemplateSpn_3_1\", \"source\": \"Product_6\"}, {\"value\": 1, \"target\": \"Conc_EdgeRelationTemplateSpn_3_1\", \"source\": \"Product_7\"}, {\"value\": 1, \"target\": \"Conc_EdgeRelationTemplateSpn_3_1\", \"source\": \"Product_8\"}, {\"value\": 1, \"target\": \"Conc_EdgeRelationTemplateSpn_3_1\", \"source\": \"Product_9\"}, {\"value\": 1, \"target\": \"Conc_EdgeRelationTemplateSpn_3_1\", \"source\": \"Product_10\"}, {\"value\": 1, \"target\": \"Conc_EdgeRelationTemplateSpn_3_1\", \"source\": \"Product_11\"}, {\"value\": 1, \"target\": \"Products3/Product16\", \"source\": \"Conc_EdgeRelationTemplateSpn_3_1\"}, {\"value\": 1, \"target\": \"Products3/Product16\", \"source\": \"Conc_EdgeRelationTemplateSpn_3_1\"}, {\"value\": 1, \"target\": \"Products3/Product15\", \"source\": \"Conc_EdgeRelationTemplateSpn_3_1\"}, {\"value\": 1, \"target\": \"Products3/Product15\", \"source\": \"Conc_EdgeRelationTemplateSpn_3_1\"}, {\"value\": 1, \"target\": \"Products3/Product14\", \"source\": \"Conc_EdgeRelationTemplateSpn_3_1\"}, {\"value\": 1, \"target\": \"Products3/Product14\", \"source\": \"Conc_EdgeRelationTemplateSpn_3_1\"}, {\"value\": 1, \"target\": \"Products3/Product13\", \"source\": \"Conc_EdgeRelationTemplateSpn_3_1\"}, {\"value\": 1, \"target\": \"Products3/Product13\", \"source\": \"Conc_EdgeRelationTemplateSpn_3_1\"}, {\"value\": 1, \"target\": \"Products3/Product12\", \"source\": \"Conc_EdgeRelationTemplateSpn_3_1\"}, {\"value\": 1, \"target\": \"Products3/Product12\", \"source\": \"Conc_EdgeRelationTemplateSpn_3_1\"}, {\"value\": 1, \"target\": \"Products3/Product11\", \"source\": \"Conc_EdgeRelationTemplateSpn_3_1\"}, {\"value\": 1, \"target\": \"Products3/Product11\", \"source\": \"Conc_EdgeRelationTemplateSpn_3_1\"}, {\"value\": 1, \"target\": \"Products3/Product10\", \"source\": \"Conc_EdgeRelationTemplateSpn_3_1\"}, {\"value\": 1, \"target\": \"Products3/Product10\", \"source\": \"Conc_EdgeRelationTemplateSpn_3_1\"}, {\"value\": 1, \"target\": \"Products3/Product9\", \"source\": \"Conc_EdgeRelationTemplateSpn_3_1\"}, {\"value\": 1, \"target\": \"Products3/Product9\", \"source\": \"Conc_EdgeRelationTemplateSpn_3_1\"}, {\"value\": 1, \"target\": \"Products3/Product8\", \"source\": \"Conc_EdgeRelationTemplateSpn_3_1\"}, {\"value\": 1, \"target\": \"Products3/Product8\", \"source\": \"Conc_EdgeRelationTemplateSpn_3_1\"}, {\"value\": 1, \"target\": \"Products3/Product7\", \"source\": \"Conc_EdgeRelationTemplateSpn_3_1\"}, {\"value\": 1, \"target\": \"Products3/Product7\", \"source\": \"Conc_EdgeRelationTemplateSpn_3_1\"}, {\"value\": 1, \"target\": \"Products3/Product6\", \"source\": \"Conc_EdgeRelationTemplateSpn_3_1\"}, {\"value\": 1, \"target\": \"Products3/Product6\", \"source\": \"Conc_EdgeRelationTemplateSpn_3_1\"}, {\"value\": 1, \"target\": \"Products3/Product5\", \"source\": \"Conc_EdgeRelationTemplateSpn_3_1\"}, {\"value\": 1, \"target\": \"Products3/Product5\", \"source\": \"Conc_EdgeRelationTemplateSpn_3_1\"}, {\"value\": 1, \"target\": \"Products3/Product4\", \"source\": \"Conc_EdgeRelationTemplateSpn_3_1\"}, {\"value\": 1, \"target\": \"Products3/Product4\", \"source\": \"Conc_EdgeRelationTemplateSpn_3_1\"}, {\"value\": 1, \"target\": \"Products3/Product3\", \"source\": \"Conc_EdgeRelationTemplateSpn_3_1\"}, {\"value\": 1, \"target\": \"Products3/Product3\", \"source\": \"Conc_EdgeRelationTemplateSpn_3_1\"}, {\"value\": 1, \"target\": \"Products3/Product2\", \"source\": \"Conc_EdgeRelationTemplateSpn_3_1\"}, {\"value\": 1, \"target\": \"Products3/Product2\", \"source\": \"Conc_EdgeRelationTemplateSpn_3_1\"}, {\"value\": 1, \"target\": \"Products3/Product1\", \"source\": \"Conc_EdgeRelationTemplateSpn_3_1\"}, {\"value\": 1, \"target\": \"Products3/Product1\", \"source\": \"Conc_EdgeRelationTemplateSpn_3_1\"}, {\"value\": 1, \"target\": \"Sums1.2/Sum2\", \"source\": \"Products3/Product1\"}, {\"value\": 1, \"target\": \"Sums1.2/Sum2\", \"source\": \"Products3/Product2\"}, {\"value\": 1, \"target\": \"Sums1.2/Sum2\", \"source\": \"Products3/Product3\"}, {\"value\": 1, \"target\": \"Sums1.2/Sum2\", \"source\": \"Products3/Product4\"}, {\"value\": 1, \"target\": \"Sums1.2/Sum2\", \"source\": \"Products3/Product5\"}, {\"value\": 1, \"target\": \"Sums1.2/Sum2\", \"source\": \"Products3/Product6\"}, {\"value\": 1, \"target\": \"Sums1.2/Sum2\", \"source\": \"Products3/Product7\"}, {\"value\": 1, \"target\": \"Sums1.2/Sum2\", \"source\": \"Products3/Product8\"}, {\"value\": 1, \"target\": \"Sums1.2/Sum2\", \"source\": \"Products3/Product9\"}, {\"value\": 1, \"target\": \"Sums1.2/Sum2\", \"source\": \"Products3/Product10\"}, {\"value\": 1, \"target\": \"Sums1.2/Sum2\", \"source\": \"Products3/Product11\"}, {\"value\": 1, \"target\": \"Sums1.2/Sum2\", \"source\": \"Products3/Product12\"}, {\"value\": 1, \"target\": \"Sums1.2/Sum2\", \"source\": \"Products3/Product13\"}, {\"value\": 1, \"target\": \"Sums1.2/Sum2\", \"source\": \"Products3/Product14\"}, {\"value\": 1, \"target\": \"Sums1.2/Sum2\", \"source\": \"Products3/Product15\"}, {\"value\": 1, \"target\": \"Sums1.2/Sum2\", \"source\": \"Products3/Product16\"}, {\"value\": 1, \"target\": \"Products2/Product20\", \"source\": \"Conc_EdgeRelationTemplateSpn_3_1\"}, {\"value\": 1, \"target\": \"Products2/Product20\", \"source\": \"Conc_EdgeRelationTemplateSpn_3_1\"}, {\"value\": 1, \"target\": \"Products2/Product19\", \"source\": \"Conc_EdgeRelationTemplateSpn_3_1\"}, {\"value\": 1, \"target\": \"Products2/Product19\", \"source\": \"Conc_EdgeRelationTemplateSpn_3_1\"}, {\"value\": 1, \"target\": \"Products2/Product18\", \"source\": \"Conc_EdgeRelationTemplateSpn_3_1\"}, {\"value\": 1, \"target\": \"Products2/Product18\", \"source\": \"Conc_EdgeRelationTemplateSpn_3_1\"}, {\"value\": 1, \"target\": \"Products2/Product17\", \"source\": \"Conc_EdgeRelationTemplateSpn_3_1\"}, {\"value\": 1, \"target\": \"Products2/Product17\", \"source\": \"Conc_EdgeRelationTemplateSpn_3_1\"}, {\"value\": 1, \"target\": \"Products2/Product16\", \"source\": \"Conc_EdgeRelationTemplateSpn_3_1\"}, {\"value\": 1, \"target\": \"Products2/Product16\", \"source\": \"Conc_EdgeRelationTemplateSpn_3_1\"}, {\"value\": 1, \"target\": \"Products2/Product15\", \"source\": \"Conc_EdgeRelationTemplateSpn_3_1\"}, {\"value\": 1, \"target\": \"Products2/Product15\", \"source\": \"Conc_EdgeRelationTemplateSpn_3_1\"}, {\"value\": 1, \"target\": \"Products2/Product14\", \"source\": \"Conc_EdgeRelationTemplateSpn_3_1\"}, {\"value\": 1, \"target\": \"Products2/Product14\", \"source\": \"Conc_EdgeRelationTemplateSpn_3_1\"}, {\"value\": 1, \"target\": \"Products2/Product13\", \"source\": \"Conc_EdgeRelationTemplateSpn_3_1\"}, {\"value\": 1, \"target\": \"Products2/Product13\", \"source\": \"Conc_EdgeRelationTemplateSpn_3_1\"}, {\"value\": 1, \"target\": \"Products2/Product12\", \"source\": \"Conc_EdgeRelationTemplateSpn_3_1\"}, {\"value\": 1, \"target\": \"Products2/Product12\", \"source\": \"Conc_EdgeRelationTemplateSpn_3_1\"}, {\"value\": 1, \"target\": \"Products2/Product11\", \"source\": \"Conc_EdgeRelationTemplateSpn_3_1\"}, {\"value\": 1, \"target\": \"Products2/Product11\", \"source\": \"Conc_EdgeRelationTemplateSpn_3_1\"}, {\"value\": 1, \"target\": \"Products2/Product10\", \"source\": \"Conc_EdgeRelationTemplateSpn_3_1\"}, {\"value\": 1, \"target\": \"Products2/Product10\", \"source\": \"Conc_EdgeRelationTemplateSpn_3_1\"}, {\"value\": 1, \"target\": \"Products2/Product9\", \"source\": \"Conc_EdgeRelationTemplateSpn_3_1\"}, {\"value\": 1, \"target\": \"Products2/Product9\", \"source\": \"Conc_EdgeRelationTemplateSpn_3_1\"}, {\"value\": 1, \"target\": \"Products2/Product8\", \"source\": \"Conc_EdgeRelationTemplateSpn_3_1\"}, {\"value\": 1, \"target\": \"Products2/Product8\", \"source\": \"Conc_EdgeRelationTemplateSpn_3_1\"}, {\"value\": 1, \"target\": \"Products2/Product7\", \"source\": \"Conc_EdgeRelationTemplateSpn_3_1\"}, {\"value\": 1, \"target\": \"Products2/Product7\", \"source\": \"Conc_EdgeRelationTemplateSpn_3_1\"}, {\"value\": 1, \"target\": \"Products2/Product6\", \"source\": \"Conc_EdgeRelationTemplateSpn_3_1\"}, {\"value\": 1, \"target\": \"Products2/Product6\", \"source\": \"Conc_EdgeRelationTemplateSpn_3_1\"}, {\"value\": 1, \"target\": \"Products2/Product5\", \"source\": \"Conc_EdgeRelationTemplateSpn_3_1\"}, {\"value\": 1, \"target\": \"Products2/Product5\", \"source\": \"Conc_EdgeRelationTemplateSpn_3_1\"}, {\"value\": 1, \"target\": \"Products2/Product4\", \"source\": \"Conc_EdgeRelationTemplateSpn_3_1\"}, {\"value\": 1, \"target\": \"Products2/Product4\", \"source\": \"Conc_EdgeRelationTemplateSpn_3_1\"}, {\"value\": 1, \"target\": \"Products2/Product3\", \"source\": \"Conc_EdgeRelationTemplateSpn_3_1\"}, {\"value\": 1, \"target\": \"Products2/Product3\", \"source\": \"Conc_EdgeRelationTemplateSpn_3_1\"}, {\"value\": 1, \"target\": \"Products2/Product2\", \"source\": \"Conc_EdgeRelationTemplateSpn_3_1\"}, {\"value\": 1, \"target\": \"Products2/Product2\", \"source\": \"Conc_EdgeRelationTemplateSpn_3_1\"}, {\"value\": 1, \"target\": \"Products2/Product1\", \"source\": \"Conc_EdgeRelationTemplateSpn_3_1\"}, {\"value\": 1, \"target\": \"Products2/Product1\", \"source\": \"Conc_EdgeRelationTemplateSpn_3_1\"}, {\"value\": 1, \"target\": \"Sums1.1/Sum2\", \"source\": \"Products2/Product1\"}, {\"value\": 1, \"target\": \"Sums1.1/Sum2\", \"source\": \"Products2/Product2\"}, {\"value\": 1, \"target\": \"Sums1.1/Sum2\", \"source\": \"Products2/Product3\"}, {\"value\": 1, \"target\": \"Sums1.1/Sum2\", \"source\": \"Products2/Product4\"}, {\"value\": 1, \"target\": \"Sums1.1/Sum2\", \"source\": \"Products2/Product5\"}, {\"value\": 1, \"target\": \"Sums1.1/Sum2\", \"source\": \"Products2/Product6\"}, {\"value\": 1, \"target\": \"Sums1.1/Sum2\", \"source\": \"Products2/Product7\"}, {\"value\": 1, \"target\": \"Sums1.1/Sum2\", \"source\": \"Products2/Product8\"}, {\"value\": 1, \"target\": \"Sums1.1/Sum2\", \"source\": \"Products2/Product9\"}, {\"value\": 1, \"target\": \"Sums1.1/Sum2\", \"source\": \"Products2/Product10\"}, {\"value\": 1, \"target\": \"Sums1.1/Sum2\", \"source\": \"Products2/Product11\"}, {\"value\": 1, \"target\": \"Sums1.1/Sum2\", \"source\": \"Products2/Product12\"}, {\"value\": 1, \"target\": \"Sums1.1/Sum2\", \"source\": \"Products2/Product13\"}, {\"value\": 1, \"target\": \"Sums1.1/Sum2\", \"source\": \"Products2/Product14\"}, {\"value\": 1, \"target\": \"Sums1.1/Sum2\", \"source\": \"Products2/Product15\"}, {\"value\": 1, \"target\": \"Sums1.1/Sum2\", \"source\": \"Products2/Product16\"}, {\"value\": 1, \"target\": \"Sums1.1/Sum2\", \"source\": \"Products2/Product17\"}, {\"value\": 1, \"target\": \"Sums1.1/Sum2\", \"source\": \"Products2/Product18\"}, {\"value\": 1, \"target\": \"Sums1.1/Sum2\", \"source\": \"Products2/Product19\"}, {\"value\": 1, \"target\": \"Sums1.1/Sum2\", \"source\": \"Products2/Product20\"}, {\"value\": 1, \"target\": \"Products1/Product4\", \"source\": \"Sums1.1/Sum2\"}, {\"value\": 1, \"target\": \"Products1/Product4\", \"source\": \"Sums1.2/Sum2\"}, {\"value\": 1, \"target\": \"Sums1.1/Sum1\", \"source\": \"Products2/Product1\"}, {\"value\": 1, \"target\": \"Sums1.1/Sum1\", \"source\": \"Products2/Product2\"}, {\"value\": 1, \"target\": \"Sums1.1/Sum1\", \"source\": \"Products2/Product3\"}, {\"value\": 1, \"target\": \"Sums1.1/Sum1\", \"source\": \"Products2/Product4\"}, {\"value\": 1, \"target\": \"Sums1.1/Sum1\", \"source\": \"Products2/Product5\"}, {\"value\": 1, \"target\": \"Sums1.1/Sum1\", \"source\": \"Products2/Product6\"}, {\"value\": 1, \"target\": \"Sums1.1/Sum1\", \"source\": \"Products2/Product7\"}, {\"value\": 1, \"target\": \"Sums1.1/Sum1\", \"source\": \"Products2/Product8\"}, {\"value\": 1, \"target\": \"Sums1.1/Sum1\", \"source\": \"Products2/Product9\"}, {\"value\": 1, \"target\": \"Sums1.1/Sum1\", \"source\": \"Products2/Product10\"}, {\"value\": 1, \"target\": \"Sums1.1/Sum1\", \"source\": \"Products2/Product11\"}, {\"value\": 1, \"target\": \"Sums1.1/Sum1\", \"source\": \"Products2/Product12\"}, {\"value\": 1, \"target\": \"Sums1.1/Sum1\", \"source\": \"Products2/Product13\"}, {\"value\": 1, \"target\": \"Sums1.1/Sum1\", \"source\": \"Products2/Product14\"}, {\"value\": 1, \"target\": \"Sums1.1/Sum1\", \"source\": \"Products2/Product15\"}, {\"value\": 1, \"target\": \"Sums1.1/Sum1\", \"source\": \"Products2/Product16\"}, {\"value\": 1, \"target\": \"Sums1.1/Sum1\", \"source\": \"Products2/Product17\"}, {\"value\": 1, \"target\": \"Sums1.1/Sum1\", \"source\": \"Products2/Product18\"}, {\"value\": 1, \"target\": \"Sums1.1/Sum1\", \"source\": \"Products2/Product19\"}, {\"value\": 1, \"target\": \"Sums1.1/Sum1\", \"source\": \"Products2/Product20\"}, {\"value\": 1, \"target\": \"Products1/Product3\", \"source\": \"Sums1.1/Sum1\"}, {\"value\": 1, \"target\": \"Products1/Product3\", \"source\": \"Sums1.2/Sum2\"}, {\"value\": 1, \"target\": \"Sums1.2/Sum1\", \"source\": \"Products3/Product1\"}, {\"value\": 1, \"target\": \"Sums1.2/Sum1\", \"source\": \"Products3/Product2\"}, {\"value\": 1, \"target\": \"Sums1.2/Sum1\", \"source\": \"Products3/Product3\"}, {\"value\": 1, \"target\": \"Sums1.2/Sum1\", \"source\": \"Products3/Product4\"}, {\"value\": 1, \"target\": \"Sums1.2/Sum1\", \"source\": \"Products3/Product5\"}, {\"value\": 1, \"target\": \"Sums1.2/Sum1\", \"source\": \"Products3/Product6\"}, {\"value\": 1, \"target\": \"Sums1.2/Sum1\", \"source\": \"Products3/Product7\"}, {\"value\": 1, \"target\": \"Sums1.2/Sum1\", \"source\": \"Products3/Product8\"}, {\"value\": 1, \"target\": \"Sums1.2/Sum1\", \"source\": \"Products3/Product9\"}, {\"value\": 1, \"target\": \"Sums1.2/Sum1\", \"source\": \"Products3/Product10\"}, {\"value\": 1, \"target\": \"Sums1.2/Sum1\", \"source\": \"Products3/Product11\"}, {\"value\": 1, \"target\": \"Sums1.2/Sum1\", \"source\": \"Products3/Product12\"}, {\"value\": 1, \"target\": \"Sums1.2/Sum1\", \"source\": \"Products3/Product13\"}, {\"value\": 1, \"target\": \"Sums1.2/Sum1\", \"source\": \"Products3/Product14\"}, {\"value\": 1, \"target\": \"Sums1.2/Sum1\", \"source\": \"Products3/Product15\"}, {\"value\": 1, \"target\": \"Sums1.2/Sum1\", \"source\": \"Products3/Product16\"}, {\"value\": 1, \"target\": \"Products1/Product2\", \"source\": \"Sums1.1/Sum2\"}, {\"value\": 1, \"target\": \"Products1/Product2\", \"source\": \"Sums1.2/Sum1\"}, {\"value\": 1, \"target\": \"Products1/Product1\", \"source\": \"Sums1.1/Sum1\"}, {\"value\": 1, \"target\": \"Products1/Product1\", \"source\": \"Sums1.2/Sum1\"}, {\"value\": 1, \"target\": \"Node\", \"source\": \"Products1/Product1\"}, {\"value\": 1, \"target\": \"Node\", \"source\": \"Products1/Product2\"}, {\"value\": 1, \"target\": \"Node\", \"source\": \"Products1/Product3\"}, {\"value\": 1, \"target\": \"Node\", \"source\": \"Products1/Product4\"}], \"nodes\": [{\"type\": 2, \"id\": \"Product_11\", \"tooltip\": \"Product_11\", \"name\": \"Product_11\"}, {\"type\": 1, \"id\": \"Exp_Lh_EdgeRelationTemplateSpn_3_1_1\", \"tooltip\": \"Exp_Lh_EdgeRelationTemplateSpn_3_1\", \"name\": \"Exp_Lh_EdgeRelationTemplateSpn_3_1[11]\"}, {\"type\": 0, \"id\": \"Exp_Catg_EdgeRelationTemplateSpn_3_1_2\", \"tooltip\": \"Exp_Catg_EdgeRelationTemplateSpn_3_1\", \"name\": \"Exp_Catg_EdgeRelationTemplateSpn_3_1[11]\"}, {\"type\": 2, \"id\": \"Product_10\", \"tooltip\": \"Product_10\", \"name\": \"Product_10\"}, {\"type\": 1, \"id\": \"Exp_Lh_EdgeRelationTemplateSpn_3_1_3\", \"tooltip\": \"Exp_Lh_EdgeRelationTemplateSpn_3_1\", \"name\": \"Exp_Lh_EdgeRelationTemplateSpn_3_1[10]\"}, {\"type\": 0, \"id\": \"Exp_Catg_EdgeRelationTemplateSpn_3_1_4\", \"tooltip\": \"Exp_Catg_EdgeRelationTemplateSpn_3_1\", \"name\": \"Exp_Catg_EdgeRelationTemplateSpn_3_1[10]\"}, {\"type\": 2, \"id\": \"Product_9\", \"tooltip\": \"Product_9\", \"name\": \"Product_9\"}, {\"type\": 1, \"id\": \"Exp_Lh_EdgeRelationTemplateSpn_3_1_5\", \"tooltip\": \"Exp_Lh_EdgeRelationTemplateSpn_3_1\", \"name\": \"Exp_Lh_EdgeRelationTemplateSpn_3_1[9]\"}, {\"type\": 0, \"id\": \"Exp_Catg_EdgeRelationTemplateSpn_3_1_6\", \"tooltip\": \"Exp_Catg_EdgeRelationTemplateSpn_3_1\", \"name\": \"Exp_Catg_EdgeRelationTemplateSpn_3_1[9]\"}, {\"type\": 2, \"id\": \"Product_8\", \"tooltip\": \"Product_8\", \"name\": \"Product_8\"}, {\"type\": 1, \"id\": \"Exp_Lh_EdgeRelationTemplateSpn_3_1_7\", \"tooltip\": \"Exp_Lh_EdgeRelationTemplateSpn_3_1\", \"name\": \"Exp_Lh_EdgeRelationTemplateSpn_3_1[8]\"}, {\"type\": 0, \"id\": \"Exp_Catg_EdgeRelationTemplateSpn_3_1_8\", \"tooltip\": \"Exp_Catg_EdgeRelationTemplateSpn_3_1\", \"name\": \"Exp_Catg_EdgeRelationTemplateSpn_3_1[8]\"}, {\"type\": 2, \"id\": \"Product_7\", \"tooltip\": \"Product_7\", \"name\": \"Product_7\"}, {\"type\": 1, \"id\": \"Exp_Lh_EdgeRelationTemplateSpn_3_1_9\", \"tooltip\": \"Exp_Lh_EdgeRelationTemplateSpn_3_1\", \"name\": \"Exp_Lh_EdgeRelationTemplateSpn_3_1[7]\"}, {\"type\": 0, \"id\": \"Exp_Catg_EdgeRelationTemplateSpn_3_1_10\", \"tooltip\": \"Exp_Catg_EdgeRelationTemplateSpn_3_1\", \"name\": \"Exp_Catg_EdgeRelationTemplateSpn_3_1[7]\"}, {\"type\": 2, \"id\": \"Product_6\", \"tooltip\": \"Product_6\", \"name\": \"Product_6\"}, {\"type\": 1, \"id\": \"Exp_Lh_EdgeRelationTemplateSpn_3_1_11\", \"tooltip\": \"Exp_Lh_EdgeRelationTemplateSpn_3_1\", \"name\": \"Exp_Lh_EdgeRelationTemplateSpn_3_1[6]\"}, {\"type\": 0, \"id\": \"Exp_Catg_EdgeRelationTemplateSpn_3_1_12\", \"tooltip\": \"Exp_Catg_EdgeRelationTemplateSpn_3_1\", \"name\": \"Exp_Catg_EdgeRelationTemplateSpn_3_1[6]\"}, {\"type\": 2, \"id\": \"Product_5\", \"tooltip\": \"Product_5\", \"name\": \"Product_5\"}, {\"type\": 1, \"id\": \"Exp_Lh_EdgeRelationTemplateSpn_3_1_13\", \"tooltip\": \"Exp_Lh_EdgeRelationTemplateSpn_3_1\", \"name\": \"Exp_Lh_EdgeRelationTemplateSpn_3_1[5]\"}, {\"type\": 0, \"id\": \"Exp_Catg_EdgeRelationTemplateSpn_3_1_14\", \"tooltip\": \"Exp_Catg_EdgeRelationTemplateSpn_3_1\", \"name\": \"Exp_Catg_EdgeRelationTemplateSpn_3_1[5]\"}, {\"type\": 2, \"id\": \"Product_4\", \"tooltip\": \"Product_4\", \"name\": \"Product_4\"}, {\"type\": 1, \"id\": \"Exp_Lh_EdgeRelationTemplateSpn_3_1_15\", \"tooltip\": \"Exp_Lh_EdgeRelationTemplateSpn_3_1\", \"name\": \"Exp_Lh_EdgeRelationTemplateSpn_3_1[4]\"}, {\"type\": 0, \"id\": \"Exp_Catg_EdgeRelationTemplateSpn_3_1_16\", \"tooltip\": \"Exp_Catg_EdgeRelationTemplateSpn_3_1\", \"name\": \"Exp_Catg_EdgeRelationTemplateSpn_3_1[4]\"}, {\"type\": 2, \"id\": \"Product_3\", \"tooltip\": \"Product_3\", \"name\": \"Product_3\"}, {\"type\": 1, \"id\": \"Exp_Lh_EdgeRelationTemplateSpn_3_1_17\", \"tooltip\": \"Exp_Lh_EdgeRelationTemplateSpn_3_1\", \"name\": \"Exp_Lh_EdgeRelationTemplateSpn_3_1[3]\"}, {\"type\": 0, \"id\": \"Exp_Catg_EdgeRelationTemplateSpn_3_1_18\", \"tooltip\": \"Exp_Catg_EdgeRelationTemplateSpn_3_1\", \"name\": \"Exp_Catg_EdgeRelationTemplateSpn_3_1[3]\"}, {\"type\": 2, \"id\": \"Product_2\", \"tooltip\": \"Product_2\", \"name\": \"Product_2\"}, {\"type\": 1, \"id\": \"Exp_Lh_EdgeRelationTemplateSpn_3_1_19\", \"tooltip\": \"Exp_Lh_EdgeRelationTemplateSpn_3_1\", \"name\": \"Exp_Lh_EdgeRelationTemplateSpn_3_1[2]\"}, {\"type\": 0, \"id\": \"Exp_Catg_EdgeRelationTemplateSpn_3_1_20\", \"tooltip\": \"Exp_Catg_EdgeRelationTemplateSpn_3_1\", \"name\": \"Exp_Catg_EdgeRelationTemplateSpn_3_1[2]\"}, {\"type\": 2, \"id\": \"Product_1\", \"tooltip\": \"Product_1\", \"name\": \"Product_1\"}, {\"type\": 1, \"id\": \"Exp_Lh_EdgeRelationTemplateSpn_3_1_21\", \"tooltip\": \"Exp_Lh_EdgeRelationTemplateSpn_3_1\", \"name\": \"Exp_Lh_EdgeRelationTemplateSpn_3_1[1]\"}, {\"type\": 0, \"id\": \"Exp_Catg_EdgeRelationTemplateSpn_3_1_22\", \"tooltip\": \"Exp_Catg_EdgeRelationTemplateSpn_3_1\", \"name\": \"Exp_Catg_EdgeRelationTemplateSpn_3_1[1]\"}, {\"type\": 2, \"id\": \"Product\", \"tooltip\": \"Product\", \"name\": \"Product\"}, {\"type\": 1, \"id\": \"Exp_Lh_EdgeRelationTemplateSpn_3_1_23\", \"tooltip\": \"Exp_Lh_EdgeRelationTemplateSpn_3_1\", \"name\": \"Exp_Lh_EdgeRelationTemplateSpn_3_1[0]\"}, {\"type\": 0, \"id\": \"Exp_Catg_EdgeRelationTemplateSpn_3_1_24\", \"tooltip\": \"Exp_Catg_EdgeRelationTemplateSpn_3_1\", \"name\": \"Exp_Catg_EdgeRelationTemplateSpn_3_1[0]\"}, {\"type\": 3, \"id\": \"Conc_EdgeRelationTemplateSpn_3_1\", \"tooltip\": \"Conc_EdgeRelationTemplateSpn_3_1\", \"name\": \"Conc_EdgeRelationTemplateSpn_3_1\"}, {\"type\": 2, \"id\": \"Products3/Product16\", \"tooltip\": \"Products3/Product16\", \"name\": \"Products3/Product16\"}, {\"type\": 2, \"id\": \"Products3/Product15\", \"tooltip\": \"Products3/Product15\", \"name\": \"Products3/Product15\"}, {\"type\": 2, \"id\": \"Products3/Product14\", \"tooltip\": \"Products3/Product14\", \"name\": \"Products3/Product14\"}, {\"type\": 2, \"id\": \"Products3/Product13\", \"tooltip\": \"Products3/Product13\", \"name\": \"Products3/Product13\"}, {\"type\": 2, \"id\": \"Products3/Product12\", \"tooltip\": \"Products3/Product12\", \"name\": \"Products3/Product12\"}, {\"type\": 2, \"id\": \"Products3/Product11\", \"tooltip\": \"Products3/Product11\", \"name\": \"Products3/Product11\"}, {\"type\": 2, \"id\": \"Products3/Product10\", \"tooltip\": \"Products3/Product10\", \"name\": \"Products3/Product10\"}, {\"type\": 2, \"id\": \"Products3/Product9\", \"tooltip\": \"Products3/Product9\", \"name\": \"Products3/Product9\"}, {\"type\": 2, \"id\": \"Products3/Product8\", \"tooltip\": \"Products3/Product8\", \"name\": \"Products3/Product8\"}, {\"type\": 2, \"id\": \"Products3/Product7\", \"tooltip\": \"Products3/Product7\", \"name\": \"Products3/Product7\"}, {\"type\": 2, \"id\": \"Products3/Product6\", \"tooltip\": \"Products3/Product6\", \"name\": \"Products3/Product6\"}, {\"type\": 2, \"id\": \"Products3/Product5\", \"tooltip\": \"Products3/Product5\", \"name\": \"Products3/Product5\"}, {\"type\": 2, \"id\": \"Products3/Product4\", \"tooltip\": \"Products3/Product4\", \"name\": \"Products3/Product4\"}, {\"type\": 2, \"id\": \"Products3/Product3\", \"tooltip\": \"Products3/Product3\", \"name\": \"Products3/Product3\"}, {\"type\": 2, \"id\": \"Products3/Product2\", \"tooltip\": \"Products3/Product2\", \"name\": \"Products3/Product2\"}, {\"type\": 2, \"id\": \"Products3/Product1\", \"tooltip\": \"Products3/Product1\", \"name\": \"Products3/Product1\"}, {\"type\": 4, \"id\": \"Sums1.2/Sum2\", \"tooltip\": \"Sums1.2/Sum2\", \"name\": \"Sums1.2/Sum2\"}, {\"type\": 2, \"id\": \"Products2/Product20\", \"tooltip\": \"Products2/Product20\", \"name\": \"Products2/Product20\"}, {\"type\": 2, \"id\": \"Products2/Product19\", \"tooltip\": \"Products2/Product19\", \"name\": \"Products2/Product19\"}, {\"type\": 2, \"id\": \"Products2/Product18\", \"tooltip\": \"Products2/Product18\", \"name\": \"Products2/Product18\"}, {\"type\": 2, \"id\": \"Products2/Product17\", \"tooltip\": \"Products2/Product17\", \"name\": \"Products2/Product17\"}, {\"type\": 2, \"id\": \"Products2/Product16\", \"tooltip\": \"Products2/Product16\", \"name\": \"Products2/Product16\"}, {\"type\": 2, \"id\": \"Products2/Product15\", \"tooltip\": \"Products2/Product15\", \"name\": \"Products2/Product15\"}, {\"type\": 2, \"id\": \"Products2/Product14\", \"tooltip\": \"Products2/Product14\", \"name\": \"Products2/Product14\"}, {\"type\": 2, \"id\": \"Products2/Product13\", \"tooltip\": \"Products2/Product13\", \"name\": \"Products2/Product13\"}, {\"type\": 2, \"id\": \"Products2/Product12\", \"tooltip\": \"Products2/Product12\", \"name\": \"Products2/Product12\"}, {\"type\": 2, \"id\": \"Products2/Product11\", \"tooltip\": \"Products2/Product11\", \"name\": \"Products2/Product11\"}, {\"type\": 2, \"id\": \"Products2/Product10\", \"tooltip\": \"Products2/Product10\", \"name\": \"Products2/Product10\"}, {\"type\": 2, \"id\": \"Products2/Product9\", \"tooltip\": \"Products2/Product9\", \"name\": \"Products2/Product9\"}, {\"type\": 2, \"id\": \"Products2/Product8\", \"tooltip\": \"Products2/Product8\", \"name\": \"Products2/Product8\"}, {\"type\": 2, \"id\": \"Products2/Product7\", \"tooltip\": \"Products2/Product7\", \"name\": \"Products2/Product7\"}, {\"type\": 2, \"id\": \"Products2/Product6\", \"tooltip\": \"Products2/Product6\", \"name\": \"Products2/Product6\"}, {\"type\": 2, \"id\": \"Products2/Product5\", \"tooltip\": \"Products2/Product5\", \"name\": \"Products2/Product5\"}, {\"type\": 2, \"id\": \"Products2/Product4\", \"tooltip\": \"Products2/Product4\", \"name\": \"Products2/Product4\"}, {\"type\": 2, \"id\": \"Products2/Product3\", \"tooltip\": \"Products2/Product3\", \"name\": \"Products2/Product3\"}, {\"type\": 2, \"id\": \"Products2/Product2\", \"tooltip\": \"Products2/Product2\", \"name\": \"Products2/Product2\"}, {\"type\": 2, \"id\": \"Products2/Product1\", \"tooltip\": \"Products2/Product1\", \"name\": \"Products2/Product1\"}, {\"type\": 4, \"id\": \"Sums1.1/Sum2\", \"tooltip\": \"Sums1.1/Sum2\", \"name\": \"Sums1.1/Sum2\"}, {\"type\": 2, \"id\": \"Products1/Product4\", \"tooltip\": \"Products1/Product4\", \"name\": \"Products1/Product4\"}, {\"type\": 4, \"id\": \"Sums1.1/Sum1\", \"tooltip\": \"Sums1.1/Sum1\", \"name\": \"Sums1.1/Sum1\"}, {\"type\": 2, \"id\": \"Products1/Product3\", \"tooltip\": \"Products1/Product3\", \"name\": \"Products1/Product3\"}, {\"type\": 4, \"id\": \"Sums1.2/Sum1\", \"tooltip\": \"Sums1.2/Sum1\", \"name\": \"Sums1.2/Sum1\"}, {\"type\": 2, \"id\": \"Products1/Product2\", \"tooltip\": \"Products1/Product2\", \"name\": \"Products1/Product2\"}, {\"type\": 2, \"id\": \"Products1/Product1\", \"tooltip\": \"Products1/Product1\", \"name\": \"Products1/Product1\"}, {\"type\": 4, \"id\": \"Node\", \"tooltip\": \"Node\", \"name\": \"Node\"}]};\n",
       "\n",
       "   var color = d3.scaleOrdinal(d3.schemeCategory10);\n",
       "\n",
       "   var zoom = d3.zoom()\n",
       "                .scaleExtent([0.1, 10])\n",
       "                .on(\"zoom\", zoomed);\n",
       "\n",
       "   var svg = d3.select(\"#Sa87c3d7dd88b4693914681e473008293\").\n",
       "                call(zoom);\n",
       "\n",
       "   var width = svg.attr(\"width\");\n",
       "   var height = svg.attr(\"height\");\n",
       "\n",
       "   var simulation = d3.forceSimulation(graph.nodes)\n",
       "                      .on(\"tick\", ticked)\n",
       "                      .force(\"link\", d3.forceLink(graph.links)\n",
       "                                       .distance(80)\n",
       "                                       .id(function(d) { return d.id; }))\n",
       "                      .force(\"charge\", d3.forceManyBody().\n",
       "                                          strength(-1000))\n",
       "                      .force(\"center\", d3.forceCenter(width / 2, height / 2));\n",
       "\n",
       "   /* Contents */\n",
       "   var container = svg.append(\"g\").\n",
       "                       attr(\"class\", \"container\");\n",
       "\n",
       "   var link = container.append(\"g\")\n",
       "                       .selectAll(\"link\")\n",
       "                       .data(graph.links)\n",
       "                       .enter().append(\"line\")\n",
       "                       .attr(\"stroke\", \"#444\")\n",
       "                       .attr(\"stroke-opacity\", \"0.6\")\n",
       "                       .attr(\"stroke-width\",\n",
       "                             function(d) {\n",
       "                               return d.value;\n",
       "                               /*return Math.sqrt(d.value);*/\n",
       "                             });\n",
       "\n",
       "   var link_value = container.append(\"g\")\n",
       "                             .selectAll(\"linkvalue\")\n",
       "                             .data(graph.links)\n",
       "                             .enter().append(\"text\")\n",
       "                             .attr(\"alignment-baseline\", \"middle\")\n",
       "                             .style(\"text-anchor\", \"middle\")\n",
       "                             .text(function(d) { return d.value; });\n",
       "\n",
       "   var node = container.append(\"g\")\n",
       "                       .selectAll(\"node\")\n",
       "                       .data(graph.nodes)\n",
       "                       .enter().append(\"g\")\n",
       "                       .call(d3.drag()\n",
       "                               .on(\"start\", dragstarted)\n",
       "                               .on(\"drag\", dragged)\n",
       "                               .on(\"end\", dragended));\n",
       "\n",
       "   /* Node appearance */\n",
       "   node.append(\"rect\")\n",
       "       .attr(\"height\", 0)\n",
       "       .attr(\"width\", 0)\n",
       "       .attr(\"fill\", function(d) { return color(d.type); })\n",
       "       .attr(\"stroke\", \"#000\")\n",
       "       .attr(\"stroke-width\", \"1px\");\n",
       "\n",
       "   node.append(\"text\")\n",
       "       .attr(\"alignment-baseline\", \"middle\")\n",
       "       .style(\"text-anchor\", \"middle\")\n",
       "       .text(function(d) { return d.name; });\n",
       "\n",
       "   /* Adjust rect width to text */\n",
       "   var margin=10;\n",
       "   node.selectAll('rect')\n",
       "       .attr(\"x\", function(d) {return d3.select(this).attr(\"x\") - (this.parentNode.getBBox().width + margin)/2.0;})\n",
       "       .attr(\"y\", function(d) {return d3.select(this).attr(\"y\") - (this.parentNode.getBBox().height + margin)/2.0;})\n",
       "       .attr(\"width\", function(d) {return this.parentNode.getBBox().width + margin;})\n",
       "       .attr(\"height\", function(d) {return this.parentNode.getBBox().height + margin;});\n",
       "\n",
       "   /* Tooltips */\n",
       "   node.append(\"title\")\n",
       "       .text(function(d) { return d.tooltip; });\n",
       "\n",
       "   /* Functions */\n",
       "   function zoomed() {\n",
       "     container.attr(\"transform\", d3.event.transform);\n",
       "   }\n",
       "\n",
       "   function ticked() {\n",
       "     link\n",
       "       .attr(\"x1\", function(d) { return d.source.x; })\n",
       "       .attr(\"y1\", function(d) { return d.source.y; })\n",
       "       .attr(\"x2\", function(d) { return d.target.x; })\n",
       "       .attr(\"y2\", function(d) { return d.target.y; });\n",
       "\n",
       "     link_value\n",
       "       .attr(\"x\", function(d) { return (d.source.x+d.target.x)/2; })\n",
       "       .attr(\"y\", function(d) { return (d.source.y+d.target.y)/2; })\n",
       "\n",
       "     node.attr(\"transform\",\n",
       "               function(d) { return \"translate(\" + d.x + \",\" + d.y + \")\"; });\n",
       "   }\n",
       "\n",
       "   function dragstarted(d) {\n",
       "     if (!d3.event.active) simulation.alphaTarget(0.3).restart();\n",
       "     d.fx = d.x;\n",
       "     d.fy = d.y;\n",
       "   }\n",
       "\n",
       "   function dragged(d) {\n",
       "     d.fx = d3.event.x;\n",
       "     d.fy = d3.event.y;\n",
       "   }\n",
       "\n",
       "   function dragended(d) {\n",
       "     if (!d3.event.active) simulation.alphaTarget(0);\n",
       "     d.fx = null;\n",
       "     d.fy = null;\n",
       "   }\n",
       "\n",
       " });\n",
       "</script>\n"
      ],
      "text/plain": [
       "<IPython.core.display.HTML object>"
      ]
     },
     "metadata": {},
     "output_type": "display_data"
    }
   ],
   "source": [
    "spn.display_spn_graph(template_spn._root, skip_params=False)"
   ]
  },
  {
   "cell_type": "code",
   "execution_count": 11,
   "metadata": {},
   "outputs": [
    {
     "name": "stdout",
     "output_type": "stream",
     "text": [
      "Generating weight initialization Ops...\n"
     ]
    }
   ],
   "source": [
    "template_spn.init_weights_ops()\n",
    "sess.run(template_spn._initialize_weights)"
   ]
  },
  {
   "cell_type": "code",
   "execution_count": 12,
   "metadata": {},
   "outputs": [
    {
     "name": "stdout",
     "output_type": "stream",
     "text": [
      "Initializing learning Ops...\n"
     ]
    },
    {
     "ename": "StructureError",
     "evalue": "Sums1.2/Sum2 is missing weights",
     "output_type": "error",
     "traceback": [
      "\u001b[0;31m---------------------------------------------------------------------------\u001b[0m",
      "\u001b[0;31mStructureError\u001b[0m                            Traceback (most recent call last)",
      "\u001b[0;32m<ipython-input-12-1372a914da53>\u001b[0m in \u001b[0;36m<module>\u001b[0;34m()\u001b[0m\n\u001b[0;32m----> 1\u001b[0;31m \u001b[0mtemplate_spn\u001b[0m\u001b[0;34m.\u001b[0m\u001b[0minit_learning_ops\u001b[0m\u001b[0;34m(\u001b[0m\u001b[0;34m)\u001b[0m\u001b[0;34m\u001b[0m\u001b[0m\n\u001b[0m",
      "\u001b[0;32m~/Documents/thesis/experiments/deep-semantic-mapping/deepsm/graphspn/tbm/spn_template.py\u001b[0m in \u001b[0;36minit_learning_ops\u001b[0;34m(self)\u001b[0m\n\u001b[1;32m    112\u001b[0m                                   additive_smoothing = self._additive_smoothing_var, use_unweighted=True)\n\u001b[1;32m    113\u001b[0m         \u001b[0mself\u001b[0m\u001b[0;34m.\u001b[0m\u001b[0m_reset_accumulators\u001b[0m \u001b[0;34m=\u001b[0m \u001b[0mlearning\u001b[0m\u001b[0;34m.\u001b[0m\u001b[0mreset_accumulators\u001b[0m\u001b[0;34m(\u001b[0m\u001b[0;34m)\u001b[0m\u001b[0;34m\u001b[0m\u001b[0m\n\u001b[0;32m--> 114\u001b[0;31m         \u001b[0mself\u001b[0m\u001b[0;34m.\u001b[0m\u001b[0m_accumulate_updates\u001b[0m \u001b[0;34m=\u001b[0m \u001b[0mlearning\u001b[0m\u001b[0;34m.\u001b[0m\u001b[0maccumulate_updates\u001b[0m\u001b[0;34m(\u001b[0m\u001b[0;34m)\u001b[0m\u001b[0;34m\u001b[0m\u001b[0m\n\u001b[0m\u001b[1;32m    115\u001b[0m         \u001b[0mself\u001b[0m\u001b[0;34m.\u001b[0m\u001b[0m_update_spn\u001b[0m \u001b[0;34m=\u001b[0m \u001b[0mlearning\u001b[0m\u001b[0;34m.\u001b[0m\u001b[0mupdate_spn\u001b[0m\u001b[0;34m(\u001b[0m\u001b[0;34m)\u001b[0m\u001b[0;34m\u001b[0m\u001b[0m\n\u001b[1;32m    116\u001b[0m         \u001b[0mself\u001b[0m\u001b[0;34m.\u001b[0m\u001b[0m_train_likelihood\u001b[0m \u001b[0;34m=\u001b[0m \u001b[0mlearning\u001b[0m\u001b[0;34m.\u001b[0m\u001b[0mvalue\u001b[0m\u001b[0;34m.\u001b[0m\u001b[0mvalues\u001b[0m\u001b[0;34m[\u001b[0m\u001b[0mself\u001b[0m\u001b[0;34m.\u001b[0m\u001b[0m_root\u001b[0m\u001b[0;34m]\u001b[0m\u001b[0;34m\u001b[0m\u001b[0m\n",
      "\u001b[0;32m~/Documents/thesis/experiments/libspn/libspn/learning/em.py\u001b[0m in \u001b[0;36maccumulate_updates\u001b[0;34m(self)\u001b[0m\n\u001b[1;32m     70\u001b[0m         \u001b[0;31m# Generate path if not yet generated\u001b[0m\u001b[0;34m\u001b[0m\u001b[0;34m\u001b[0m\u001b[0m\n\u001b[1;32m     71\u001b[0m         \u001b[0;32mif\u001b[0m \u001b[0;32mnot\u001b[0m \u001b[0mself\u001b[0m\u001b[0;34m.\u001b[0m\u001b[0m_mpe_path\u001b[0m\u001b[0;34m.\u001b[0m\u001b[0mcounts\u001b[0m\u001b[0;34m:\u001b[0m\u001b[0;34m\u001b[0m\u001b[0m\n\u001b[0;32m---> 72\u001b[0;31m             \u001b[0mself\u001b[0m\u001b[0;34m.\u001b[0m\u001b[0m_mpe_path\u001b[0m\u001b[0;34m.\u001b[0m\u001b[0mget_mpe_path\u001b[0m\u001b[0;34m(\u001b[0m\u001b[0mself\u001b[0m\u001b[0;34m.\u001b[0m\u001b[0m_root\u001b[0m\u001b[0;34m)\u001b[0m\u001b[0;34m\u001b[0m\u001b[0m\n\u001b[0m\u001b[1;32m     73\u001b[0m \u001b[0;34m\u001b[0m\u001b[0m\n\u001b[1;32m     74\u001b[0m         \u001b[0;31m# Generate all accumulate operations\u001b[0m\u001b[0;34m\u001b[0m\u001b[0;34m\u001b[0m\u001b[0m\n",
      "\u001b[0;32m~/Documents/thesis/experiments/libspn/libspn/inference/mpe_path.py\u001b[0m in \u001b[0;36mget_mpe_path\u001b[0;34m(self, root)\u001b[0m\n\u001b[1;32m     86\u001b[0m         \u001b[0;31m# Generate values if not yet generated\u001b[0m\u001b[0;34m\u001b[0m\u001b[0;34m\u001b[0m\u001b[0m\n\u001b[1;32m     87\u001b[0m         \u001b[0;32mif\u001b[0m \u001b[0;32mnot\u001b[0m \u001b[0mself\u001b[0m\u001b[0;34m.\u001b[0m\u001b[0m_value\u001b[0m\u001b[0;34m.\u001b[0m\u001b[0mvalues\u001b[0m\u001b[0;34m:\u001b[0m\u001b[0;34m\u001b[0m\u001b[0m\n\u001b[0;32m---> 88\u001b[0;31m             \u001b[0mself\u001b[0m\u001b[0;34m.\u001b[0m\u001b[0m_value\u001b[0m\u001b[0;34m.\u001b[0m\u001b[0mget_value\u001b[0m\u001b[0;34m(\u001b[0m\u001b[0mroot\u001b[0m\u001b[0;34m)\u001b[0m\u001b[0;34m\u001b[0m\u001b[0m\n\u001b[0m\u001b[1;32m     89\u001b[0m \u001b[0;34m\u001b[0m\u001b[0m\n\u001b[1;32m     90\u001b[0m         \u001b[0;32mwith\u001b[0m \u001b[0mtf\u001b[0m\u001b[0;34m.\u001b[0m\u001b[0mname_scope\u001b[0m\u001b[0;34m(\u001b[0m\u001b[0;34m\"MPEPath\"\u001b[0m\u001b[0;34m)\u001b[0m\u001b[0;34m:\u001b[0m\u001b[0;34m\u001b[0m\u001b[0m\n",
      "\u001b[0;32m~/Documents/thesis/experiments/libspn/libspn/inference/value.py\u001b[0m in \u001b[0;36mget_value\u001b[0;34m(self, root)\u001b[0m\n\u001b[1;32m    114\u001b[0m         \u001b[0;32mwith\u001b[0m \u001b[0mtf\u001b[0m\u001b[0;34m.\u001b[0m\u001b[0mname_scope\u001b[0m\u001b[0;34m(\u001b[0m\u001b[0;34m\"LogValue\"\u001b[0m\u001b[0;34m)\u001b[0m\u001b[0;34m:\u001b[0m\u001b[0;34m\u001b[0m\u001b[0m\n\u001b[1;32m    115\u001b[0m             return compute_graph_up(root, val_fun=fun,\n\u001b[0;32m--> 116\u001b[0;31m                                     all_values=self._values)\n\u001b[0m",
      "\u001b[0;32m~/Documents/thesis/experiments/libspn/libspn/graph/algorithms.py\u001b[0m in \u001b[0;36mcompute_graph_up\u001b[0;34m(root, val_fun, const_fun, all_values)\u001b[0m\n\u001b[1;32m     66\u001b[0m                 \u001b[0;31m# Got all inputs?\u001b[0m\u001b[0;34m\u001b[0m\u001b[0;34m\u001b[0m\u001b[0m\n\u001b[1;32m     67\u001b[0m                 \u001b[0;32mif\u001b[0m \u001b[0mall_input_vals\u001b[0m\u001b[0;34m:\u001b[0m\u001b[0;34m\u001b[0m\u001b[0m\n\u001b[0;32m---> 68\u001b[0;31m                     \u001b[0mlast_val\u001b[0m \u001b[0;34m=\u001b[0m \u001b[0mval_fun\u001b[0m\u001b[0;34m(\u001b[0m\u001b[0mnext_node\u001b[0m\u001b[0;34m,\u001b[0m \u001b[0;34m*\u001b[0m\u001b[0minput_vals\u001b[0m\u001b[0;34m)\u001b[0m\u001b[0;34m\u001b[0m\u001b[0m\n\u001b[0m\u001b[1;32m     69\u001b[0m                     \u001b[0mall_values\u001b[0m\u001b[0;34m[\u001b[0m\u001b[0mnext_node\u001b[0m\u001b[0;34m]\u001b[0m \u001b[0;34m=\u001b[0m \u001b[0mlast_val\u001b[0m\u001b[0;34m\u001b[0m\u001b[0m\n\u001b[1;32m     70\u001b[0m                     \u001b[0mstack\u001b[0m\u001b[0;34m.\u001b[0m\u001b[0mpop\u001b[0m\u001b[0;34m(\u001b[0m\u001b[0;34m)\u001b[0m\u001b[0;34m\u001b[0m\u001b[0m\n",
      "\u001b[0;32m~/Documents/thesis/experiments/libspn/libspn/inference/value.py\u001b[0m in \u001b[0;36mfun\u001b[0;34m(node, *args)\u001b[0m\n\u001b[1;32m    107\u001b[0m                     or (self._inference_type is None and\n\u001b[1;32m    108\u001b[0m                         node.inference_type == InferenceType.MARGINAL)):\n\u001b[0;32m--> 109\u001b[0;31m                     \u001b[0;32mreturn\u001b[0m \u001b[0mnode\u001b[0m\u001b[0;34m.\u001b[0m\u001b[0m_compute_log_value\u001b[0m\u001b[0;34m(\u001b[0m\u001b[0;34m*\u001b[0m\u001b[0margs\u001b[0m\u001b[0;34m)\u001b[0m\u001b[0;34m\u001b[0m\u001b[0m\n\u001b[0m\u001b[1;32m    110\u001b[0m                 \u001b[0;32melse\u001b[0m\u001b[0;34m:\u001b[0m\u001b[0;34m\u001b[0m\u001b[0m\n\u001b[1;32m    111\u001b[0m                     \u001b[0;32mreturn\u001b[0m \u001b[0mnode\u001b[0m\u001b[0;34m.\u001b[0m\u001b[0m_compute_log_mpe_value\u001b[0m\u001b[0;34m(\u001b[0m\u001b[0;34m*\u001b[0m\u001b[0margs\u001b[0m\u001b[0;34m)\u001b[0m\u001b[0;34m\u001b[0m\u001b[0m\n",
      "\u001b[0;32m~/Documents/thesis/experiments/libspn/libspn/graph/sum.py\u001b[0m in \u001b[0;36m_compute_log_value\u001b[0;34m(self, weight_tensor, ivs_tensor, *value_tensors)\u001b[0m\n\u001b[1;32m    274\u001b[0m     \u001b[0;32mdef\u001b[0m \u001b[0m_compute_log_value\u001b[0m\u001b[0;34m(\u001b[0m\u001b[0mself\u001b[0m\u001b[0;34m,\u001b[0m \u001b[0mweight_tensor\u001b[0m\u001b[0;34m,\u001b[0m \u001b[0mivs_tensor\u001b[0m\u001b[0;34m,\u001b[0m \u001b[0;34m*\u001b[0m\u001b[0mvalue_tensors\u001b[0m\u001b[0;34m)\u001b[0m\u001b[0;34m:\u001b[0m\u001b[0;34m\u001b[0m\u001b[0m\n\u001b[1;32m    275\u001b[0m         weight_tensor, ivs_tensor, values = self._compute_value_common(\n\u001b[0;32m--> 276\u001b[0;31m             weight_tensor, ivs_tensor, *value_tensors)\n\u001b[0m\u001b[1;32m    277\u001b[0m         \u001b[0mvalues_selected\u001b[0m \u001b[0;34m=\u001b[0m \u001b[0mvalues\u001b[0m \u001b[0;34m+\u001b[0m \u001b[0mivs_tensor\u001b[0m \u001b[0;32mif\u001b[0m \u001b[0mself\u001b[0m\u001b[0;34m.\u001b[0m\u001b[0m_ivs\u001b[0m \u001b[0;32melse\u001b[0m \u001b[0mvalues\u001b[0m\u001b[0;34m\u001b[0m\u001b[0m\n\u001b[1;32m    278\u001b[0m         \u001b[0mvalues_weighted\u001b[0m \u001b[0;34m=\u001b[0m \u001b[0mvalues_selected\u001b[0m \u001b[0;34m+\u001b[0m \u001b[0mweight_tensor\u001b[0m\u001b[0;34m\u001b[0m\u001b[0m\n",
      "\u001b[0;32m~/Documents/thesis/experiments/libspn/libspn/graph/sum.py\u001b[0m in \u001b[0;36m_compute_value_common\u001b[0;34m(self, weight_tensor, ivs_tensor, *value_tensors)\u001b[0m\n\u001b[1;32m    259\u001b[0m             \u001b[0;32mraise\u001b[0m \u001b[0mStructureError\u001b[0m\u001b[0;34m(\u001b[0m\u001b[0;34m\"%s is missing input values\"\u001b[0m \u001b[0;34m%\u001b[0m \u001b[0mself\u001b[0m\u001b[0;34m)\u001b[0m\u001b[0;34m\u001b[0m\u001b[0m\n\u001b[1;32m    260\u001b[0m         \u001b[0;32mif\u001b[0m \u001b[0;32mnot\u001b[0m \u001b[0mself\u001b[0m\u001b[0;34m.\u001b[0m\u001b[0m_weights\u001b[0m\u001b[0;34m:\u001b[0m\u001b[0;34m\u001b[0m\u001b[0m\n\u001b[0;32m--> 261\u001b[0;31m             \u001b[0;32mraise\u001b[0m \u001b[0mStructureError\u001b[0m\u001b[0;34m(\u001b[0m\u001b[0;34m\"%s is missing weights\"\u001b[0m \u001b[0;34m%\u001b[0m \u001b[0mself\u001b[0m\u001b[0;34m)\u001b[0m\u001b[0;34m\u001b[0m\u001b[0m\n\u001b[0m\u001b[1;32m    262\u001b[0m         \u001b[0;31m# Prepare values\u001b[0m\u001b[0;34m\u001b[0m\u001b[0;34m\u001b[0m\u001b[0m\n\u001b[1;32m    263\u001b[0m         weight_tensor, ivs_tensor, *value_tensors = self._gather_input_tensors(\n",
      "\u001b[0;31mStructureError\u001b[0m: Sums1.2/Sum2 is missing weights"
     ]
    }
   ],
   "source": [
    "template_spn.init_learning_ops()"
   ]
  },
  {
   "cell_type": "code",
   "execution_count": 11,
   "metadata": {},
   "outputs": [
    {
     "data": {
      "text/plain": [
       "deepsm.graphspn.tbm.template.ThreeRelTemplate"
      ]
     },
     "execution_count": 11,
     "metadata": {},
     "output_type": "execute_result"
    }
   ],
   "source": [
    "template_spn.template"
   ]
  },
  {
   "cell_type": "code",
   "execution_count": 12,
   "metadata": {},
   "outputs": [
    {
     "name": "stdout",
     "output_type": "stream",
     "text": [
      "Node (Sum)\n",
      "    Input(Products1/Product1, None) (Product)\n",
      "    Input(Products1/Product2, None) (Product)\n",
      "    Input(Products1/Product3, None) (Product)\n",
      "    Input(Products1/Product4, None) (Product)\n",
      "Products1/Product1 (Product)\n",
      "    Input(Sums1.1/Sum1, [0]) (Sum)\n",
      "    Input(Sums1.2/Sum1, [0]) (Sum)\n",
      "Products1/Product2 (Product)\n",
      "    Input(Sums1.1/Sum2, [0]) (Sum)\n",
      "    Input(Sums1.2/Sum1, [0]) (Sum)\n",
      "Products1/Product3 (Product)\n",
      "    Input(Sums1.1/Sum1, [0]) (Sum)\n",
      "    Input(Sums1.2/Sum2, [0]) (Sum)\n",
      "Products1/Product4 (Product)\n",
      "    Input(Sums1.1/Sum2, [0]) (Sum)\n",
      "    Input(Sums1.2/Sum2, [0]) (Sum)\n",
      "Sums1.1/Sum1 (Sum)\n",
      "    Input(Products2/Product1, None) (Product)\n",
      "    Input(Products2/Product2, None) (Product)\n",
      "    Input(Products2/Product3, None) (Product)\n",
      "    Input(Products2/Product4, None) (Product)\n",
      "    Input(Products2/Product5, None) (Product)\n",
      "    Input(Products2/Product6, None) (Product)\n",
      "    Input(Products2/Product7, None) (Product)\n",
      "    Input(Products2/Product8, None) (Product)\n",
      "    Input(Products2/Product9, None) (Product)\n",
      "    Input(Products2/Product10, None) (Product)\n",
      "    Input(Products2/Product11, None) (Product)\n",
      "    Input(Products2/Product12, None) (Product)\n",
      "    Input(Products2/Product13, None) (Product)\n",
      "    Input(Products2/Product14, None) (Product)\n",
      "    Input(Products2/Product15, None) (Product)\n",
      "    Input(Products2/Product16, None) (Product)\n",
      "Sums1.2/Sum1 (Sum)\n",
      "    Input(Products3/Product1, None) (Product)\n",
      "    Input(Products3/Product2, None) (Product)\n",
      "    Input(Products3/Product3, None) (Product)\n",
      "    Input(Products3/Product4, None) (Product)\n",
      "    Input(Products3/Product5, None) (Product)\n",
      "    Input(Products3/Product6, None) (Product)\n",
      "    Input(Products3/Product7, None) (Product)\n",
      "    Input(Products3/Product8, None) (Product)\n",
      "    Input(Products3/Product9, None) (Product)\n",
      "    Input(Products3/Product10, None) (Product)\n",
      "    Input(Products3/Product11, None) (Product)\n",
      "    Input(Products3/Product12, None) (Product)\n",
      "    Input(Products3/Product13, None) (Product)\n",
      "    Input(Products3/Product14, None) (Product)\n",
      "    Input(Products3/Product15, None) (Product)\n",
      "    Input(Products3/Product16, None) (Product)\n",
      "    Input(Products3/Product17, None) (Product)\n",
      "    Input(Products3/Product18, None) (Product)\n",
      "    Input(Products3/Product19, None) (Product)\n",
      "    Input(Products3/Product20, None) (Product)\n",
      "Sums1.1/Sum2 (Sum)\n",
      "    Input(Products2/Product1, None) (Product)\n",
      "    Input(Products2/Product2, None) (Product)\n",
      "    Input(Products2/Product3, None) (Product)\n",
      "    Input(Products2/Product4, None) (Product)\n",
      "    Input(Products2/Product5, None) (Product)\n",
      "    Input(Products2/Product6, None) (Product)\n",
      "    Input(Products2/Product7, None) (Product)\n",
      "    Input(Products2/Product8, None) (Product)\n",
      "    Input(Products2/Product9, None) (Product)\n",
      "    Input(Products2/Product10, None) (Product)\n",
      "    Input(Products2/Product11, None) (Product)\n",
      "    Input(Products2/Product12, None) (Product)\n",
      "    Input(Products2/Product13, None) (Product)\n",
      "    Input(Products2/Product14, None) (Product)\n",
      "    Input(Products2/Product15, None) (Product)\n",
      "    Input(Products2/Product16, None) (Product)\n",
      "Sums1.2/Sum2 (Sum)\n",
      "    Input(Products3/Product1, None) (Product)\n",
      "    Input(Products3/Product2, None) (Product)\n",
      "    Input(Products3/Product3, None) (Product)\n",
      "    Input(Products3/Product4, None) (Product)\n",
      "    Input(Products3/Product5, None) (Product)\n",
      "    Input(Products3/Product6, None) (Product)\n",
      "    Input(Products3/Product7, None) (Product)\n",
      "    Input(Products3/Product8, None) (Product)\n",
      "    Input(Products3/Product9, None) (Product)\n",
      "    Input(Products3/Product10, None) (Product)\n",
      "    Input(Products3/Product11, None) (Product)\n",
      "    Input(Products3/Product12, None) (Product)\n",
      "    Input(Products3/Product13, None) (Product)\n",
      "    Input(Products3/Product14, None) (Product)\n",
      "    Input(Products3/Product15, None) (Product)\n",
      "    Input(Products3/Product16, None) (Product)\n",
      "    Input(Products3/Product17, None) (Product)\n",
      "    Input(Products3/Product18, None) (Product)\n",
      "    Input(Products3/Product19, None) (Product)\n",
      "    Input(Products3/Product20, None) (Product)\n",
      "Products2/Product1 (Product)\n",
      "    Input(Conc_EdgeRelationTemplateSpn_3_1, [4]) (Concat)\n",
      "    Input(Conc_EdgeRelationTemplateSpn_3_1, [8]) (Concat)\n",
      "Products2/Product2 (Product)\n",
      "    Input(Conc_EdgeRelationTemplateSpn_3_1, [5]) (Concat)\n",
      "    Input(Conc_EdgeRelationTemplateSpn_3_1, [8]) (Concat)\n",
      "Products2/Product3 (Product)\n",
      "    Input(Conc_EdgeRelationTemplateSpn_3_1, [6]) (Concat)\n",
      "    Input(Conc_EdgeRelationTemplateSpn_3_1, [8]) (Concat)\n",
      "Products2/Product4 (Product)\n",
      "    Input(Conc_EdgeRelationTemplateSpn_3_1, [7]) (Concat)\n",
      "    Input(Conc_EdgeRelationTemplateSpn_3_1, [8]) (Concat)\n",
      "Products2/Product5 (Product)\n",
      "    Input(Conc_EdgeRelationTemplateSpn_3_1, [4]) (Concat)\n",
      "    Input(Conc_EdgeRelationTemplateSpn_3_1, [9]) (Concat)\n",
      "Products2/Product6 (Product)\n",
      "    Input(Conc_EdgeRelationTemplateSpn_3_1, [5]) (Concat)\n",
      "    Input(Conc_EdgeRelationTemplateSpn_3_1, [9]) (Concat)\n",
      "Products2/Product7 (Product)\n",
      "    Input(Conc_EdgeRelationTemplateSpn_3_1, [6]) (Concat)\n",
      "    Input(Conc_EdgeRelationTemplateSpn_3_1, [9]) (Concat)\n",
      "Products2/Product8 (Product)\n",
      "    Input(Conc_EdgeRelationTemplateSpn_3_1, [7]) (Concat)\n",
      "    Input(Conc_EdgeRelationTemplateSpn_3_1, [9]) (Concat)\n",
      "Products2/Product9 (Product)\n",
      "    Input(Conc_EdgeRelationTemplateSpn_3_1, [4]) (Concat)\n",
      "    Input(Conc_EdgeRelationTemplateSpn_3_1, [10]) (Concat)\n",
      "Products2/Product10 (Product)\n",
      "    Input(Conc_EdgeRelationTemplateSpn_3_1, [5]) (Concat)\n",
      "    Input(Conc_EdgeRelationTemplateSpn_3_1, [10]) (Concat)\n",
      "Products2/Product11 (Product)\n",
      "    Input(Conc_EdgeRelationTemplateSpn_3_1, [6]) (Concat)\n",
      "    Input(Conc_EdgeRelationTemplateSpn_3_1, [10]) (Concat)\n",
      "Products2/Product12 (Product)\n",
      "    Input(Conc_EdgeRelationTemplateSpn_3_1, [7]) (Concat)\n",
      "    Input(Conc_EdgeRelationTemplateSpn_3_1, [10]) (Concat)\n",
      "Products2/Product13 (Product)\n",
      "    Input(Conc_EdgeRelationTemplateSpn_3_1, [4]) (Concat)\n",
      "    Input(Conc_EdgeRelationTemplateSpn_3_1, [11]) (Concat)\n",
      "Products2/Product14 (Product)\n",
      "    Input(Conc_EdgeRelationTemplateSpn_3_1, [5]) (Concat)\n",
      "    Input(Conc_EdgeRelationTemplateSpn_3_1, [11]) (Concat)\n",
      "Products2/Product15 (Product)\n",
      "    Input(Conc_EdgeRelationTemplateSpn_3_1, [6]) (Concat)\n",
      "    Input(Conc_EdgeRelationTemplateSpn_3_1, [11]) (Concat)\n",
      "Products2/Product16 (Product)\n",
      "    Input(Conc_EdgeRelationTemplateSpn_3_1, [7]) (Concat)\n",
      "    Input(Conc_EdgeRelationTemplateSpn_3_1, [11]) (Concat)\n",
      "Products3/Product1 (Product)\n",
      "    Input(Conc_EdgeRelationTemplateSpn_3_1, [12]) (Concat)\n",
      "    Input(Conc_EdgeRelationTemplateSpn_3_1, [0]) (Concat)\n",
      "Products3/Product2 (Product)\n",
      "    Input(Conc_EdgeRelationTemplateSpn_3_1, [13]) (Concat)\n",
      "    Input(Conc_EdgeRelationTemplateSpn_3_1, [0]) (Concat)\n",
      "Products3/Product3 (Product)\n",
      "    Input(Conc_EdgeRelationTemplateSpn_3_1, [14]) (Concat)\n",
      "    Input(Conc_EdgeRelationTemplateSpn_3_1, [0]) (Concat)\n",
      "Products3/Product4 (Product)\n",
      "    Input(Conc_EdgeRelationTemplateSpn_3_1, [15]) (Concat)\n",
      "    Input(Conc_EdgeRelationTemplateSpn_3_1, [0]) (Concat)\n",
      "Products3/Product5 (Product)\n",
      "    Input(Conc_EdgeRelationTemplateSpn_3_1, [16]) (Concat)\n",
      "    Input(Conc_EdgeRelationTemplateSpn_3_1, [0]) (Concat)\n",
      "Products3/Product6 (Product)\n",
      "    Input(Conc_EdgeRelationTemplateSpn_3_1, [12]) (Concat)\n",
      "    Input(Conc_EdgeRelationTemplateSpn_3_1, [1]) (Concat)\n",
      "Products3/Product7 (Product)\n",
      "    Input(Conc_EdgeRelationTemplateSpn_3_1, [13]) (Concat)\n",
      "    Input(Conc_EdgeRelationTemplateSpn_3_1, [1]) (Concat)\n",
      "Products3/Product8 (Product)\n",
      "    Input(Conc_EdgeRelationTemplateSpn_3_1, [14]) (Concat)\n",
      "    Input(Conc_EdgeRelationTemplateSpn_3_1, [1]) (Concat)\n",
      "Products3/Product9 (Product)\n",
      "    Input(Conc_EdgeRelationTemplateSpn_3_1, [15]) (Concat)\n",
      "    Input(Conc_EdgeRelationTemplateSpn_3_1, [1]) (Concat)\n",
      "Products3/Product10 (Product)\n",
      "    Input(Conc_EdgeRelationTemplateSpn_3_1, [16]) (Concat)\n",
      "    Input(Conc_EdgeRelationTemplateSpn_3_1, [1]) (Concat)\n",
      "Products3/Product11 (Product)\n",
      "    Input(Conc_EdgeRelationTemplateSpn_3_1, [12]) (Concat)\n",
      "    Input(Conc_EdgeRelationTemplateSpn_3_1, [2]) (Concat)\n",
      "Products3/Product12 (Product)\n",
      "    Input(Conc_EdgeRelationTemplateSpn_3_1, [13]) (Concat)\n",
      "    Input(Conc_EdgeRelationTemplateSpn_3_1, [2]) (Concat)\n",
      "Products3/Product13 (Product)\n",
      "    Input(Conc_EdgeRelationTemplateSpn_3_1, [14]) (Concat)\n",
      "    Input(Conc_EdgeRelationTemplateSpn_3_1, [2]) (Concat)\n",
      "Products3/Product14 (Product)\n",
      "    Input(Conc_EdgeRelationTemplateSpn_3_1, [15]) (Concat)\n",
      "    Input(Conc_EdgeRelationTemplateSpn_3_1, [2]) (Concat)\n",
      "Products3/Product15 (Product)\n",
      "    Input(Conc_EdgeRelationTemplateSpn_3_1, [16]) (Concat)\n",
      "    Input(Conc_EdgeRelationTemplateSpn_3_1, [2]) (Concat)\n",
      "Products3/Product16 (Product)\n",
      "    Input(Conc_EdgeRelationTemplateSpn_3_1, [12]) (Concat)\n",
      "    Input(Conc_EdgeRelationTemplateSpn_3_1, [3]) (Concat)\n",
      "Products3/Product17 (Product)\n",
      "    Input(Conc_EdgeRelationTemplateSpn_3_1, [13]) (Concat)\n",
      "    Input(Conc_EdgeRelationTemplateSpn_3_1, [3]) (Concat)\n",
      "Products3/Product18 (Product)\n",
      "    Input(Conc_EdgeRelationTemplateSpn_3_1, [14]) (Concat)\n",
      "    Input(Conc_EdgeRelationTemplateSpn_3_1, [3]) (Concat)\n",
      "Products3/Product19 (Product)\n",
      "    Input(Conc_EdgeRelationTemplateSpn_3_1, [15]) (Concat)\n",
      "    Input(Conc_EdgeRelationTemplateSpn_3_1, [3]) (Concat)\n",
      "Products3/Product20 (Product)\n",
      "    Input(Conc_EdgeRelationTemplateSpn_3_1, [16]) (Concat)\n",
      "    Input(Conc_EdgeRelationTemplateSpn_3_1, [3]) (Concat)\n",
      "Conc_EdgeRelationTemplateSpn_3_1 (Concat)\n",
      "    Input(Product, None) (Product)\n",
      "    Input(Product_1, None) (Product)\n",
      "    Input(Product_2, None) (Product)\n",
      "    Input(Product_3, None) (Product)\n",
      "    Input(Product_4, None) (Product)\n",
      "    Input(Product_5, None) (Product)\n",
      "    Input(Product_6, None) (Product)\n",
      "    Input(Product_7, None) (Product)\n",
      "    Input(Product_8, None) (Product)\n",
      "    Input(Product_9, None) (Product)\n",
      "    Input(Product_10, None) (Product)\n",
      "    Input(Product_11, None) (Product)\n",
      "Product (Product)\n",
      "    Input(Exp_Lh_EdgeRelationTemplateSpn_3_1, [0]) (RawInput)\n",
      "    Input(Exp_Catg_EdgeRelationTemplateSpn_3_1, [0]) (IVs)\n",
      "Product_1 (Product)\n",
      "    Input(Exp_Lh_EdgeRelationTemplateSpn_3_1, [1]) (RawInput)\n",
      "    Input(Exp_Catg_EdgeRelationTemplateSpn_3_1, [1]) (IVs)\n",
      "Product_2 (Product)\n",
      "    Input(Exp_Lh_EdgeRelationTemplateSpn_3_1, [2]) (RawInput)\n",
      "    Input(Exp_Catg_EdgeRelationTemplateSpn_3_1, [2]) (IVs)\n",
      "Product_3 (Product)\n",
      "    Input(Exp_Lh_EdgeRelationTemplateSpn_3_1, [3]) (RawInput)\n",
      "    Input(Exp_Catg_EdgeRelationTemplateSpn_3_1, [3]) (IVs)\n",
      "Product_4 (Product)\n",
      "    Input(Exp_Lh_EdgeRelationTemplateSpn_3_1, [4]) (RawInput)\n",
      "    Input(Exp_Catg_EdgeRelationTemplateSpn_3_1, [4]) (IVs)\n",
      "Product_5 (Product)\n",
      "    Input(Exp_Lh_EdgeRelationTemplateSpn_3_1, [5]) (RawInput)\n",
      "    Input(Exp_Catg_EdgeRelationTemplateSpn_3_1, [5]) (IVs)\n",
      "Product_6 (Product)\n",
      "    Input(Exp_Lh_EdgeRelationTemplateSpn_3_1, [6]) (RawInput)\n",
      "    Input(Exp_Catg_EdgeRelationTemplateSpn_3_1, [6]) (IVs)\n",
      "Product_7 (Product)\n",
      "    Input(Exp_Lh_EdgeRelationTemplateSpn_3_1, [7]) (RawInput)\n",
      "    Input(Exp_Catg_EdgeRelationTemplateSpn_3_1, [7]) (IVs)\n",
      "Product_8 (Product)\n",
      "    Input(Exp_Lh_EdgeRelationTemplateSpn_3_1, [8]) (RawInput)\n",
      "    Input(Exp_Catg_EdgeRelationTemplateSpn_3_1, [8]) (IVs)\n",
      "Product_9 (Product)\n",
      "    Input(Exp_Lh_EdgeRelationTemplateSpn_3_1, [9]) (RawInput)\n",
      "    Input(Exp_Catg_EdgeRelationTemplateSpn_3_1, [9]) (IVs)\n",
      "Product_10 (Product)\n",
      "    Input(Exp_Lh_EdgeRelationTemplateSpn_3_1, [10]) (RawInput)\n",
      "    Input(Exp_Catg_EdgeRelationTemplateSpn_3_1, [10]) (IVs)\n",
      "Product_11 (Product)\n",
      "    Input(Exp_Lh_EdgeRelationTemplateSpn_3_1, [11]) (RawInput)\n",
      "    Input(Exp_Catg_EdgeRelationTemplateSpn_3_1, [11]) (IVs)\n"
     ]
    }
   ],
   "source": [
    "SpnModel.print_structure(template_spn._root, sess)"
   ]
  },
  {
   "cell_type": "code",
   "execution_count": 13,
   "metadata": {},
   "outputs": [
    {
     "name": "stdout",
     "output_type": "stream",
     "text": [
      "Node (Sum)\n"
     ]
    },
    {
     "ename": "AttributeError",
     "evalue": "'NoneType' object has no attribute 'get_value'",
     "output_type": "error",
     "traceback": [
      "\u001b[0;31m---------------------------------------------------------------------------\u001b[0m",
      "\u001b[0;31mAttributeError\u001b[0m                            Traceback (most recent call last)",
      "\u001b[0;32m<ipython-input-13-2e52fd8dcce1>\u001b[0m in \u001b[0;36m<module>\u001b[0;34m()\u001b[0m\n\u001b[0;32m----> 1\u001b[0;31m \u001b[0mSpnModel\u001b[0m\u001b[0;34m.\u001b[0m\u001b[0mprint_weights\u001b[0m\u001b[0;34m(\u001b[0m\u001b[0mtemplate_spn\u001b[0m\u001b[0;34m.\u001b[0m\u001b[0m_root\u001b[0m\u001b[0;34m,\u001b[0m \u001b[0msess\u001b[0m\u001b[0;34m)\u001b[0m\u001b[0;34m\u001b[0m\u001b[0m\n\u001b[0m",
      "\u001b[0;32m~/Documents/thesis/experiments/deep-semantic-mapping/deepsm/graphspn/spn_model.py\u001b[0m in \u001b[0;36mprint_weights\u001b[0;34m(cls, spn_root, sess)\u001b[0m\n\u001b[1;32m    178\u001b[0m                 \u001b[0mprint\u001b[0m\u001b[0;34m(\u001b[0m\u001b[0;34m\"%s [%s]\"\u001b[0m \u001b[0;34m%\u001b[0m \u001b[0;34m(\u001b[0m\u001b[0mw\u001b[0m\u001b[0;34m,\u001b[0m \u001b[0mw\u001b[0m\u001b[0;34m.\u001b[0m\u001b[0mshape\u001b[0m\u001b[0;34m)\u001b[0m\u001b[0;34m)\u001b[0m\u001b[0;34m\u001b[0m\u001b[0m\n\u001b[1;32m    179\u001b[0m \u001b[0;34m\u001b[0m\u001b[0m\n\u001b[0;32m--> 180\u001b[0;31m         \u001b[0mtraverse_graph\u001b[0m\u001b[0;34m(\u001b[0m\u001b[0mspn_root\u001b[0m\u001b[0;34m,\u001b[0m \u001b[0mfun\u001b[0m\u001b[0;34m,\u001b[0m \u001b[0mskip_params\u001b[0m\u001b[0;34m=\u001b[0m\u001b[0;32mFalse\u001b[0m\u001b[0;34m)\u001b[0m\u001b[0;34m\u001b[0m\u001b[0m\n\u001b[0m\u001b[1;32m    181\u001b[0m \u001b[0;34m\u001b[0m\u001b[0m\n\u001b[1;32m    182\u001b[0m \u001b[0;34m\u001b[0m\u001b[0m\n",
      "\u001b[0;32m~/Documents/thesis/experiments/libspn/libspn/graph/algorithms.py\u001b[0m in \u001b[0;36mtraverse_graph\u001b[0;34m(root, fun, skip_params)\u001b[0m\n\u001b[1;32m    180\u001b[0m         \u001b[0mnext_node\u001b[0m \u001b[0;34m=\u001b[0m \u001b[0mqueue\u001b[0m\u001b[0;34m.\u001b[0m\u001b[0mpopleft\u001b[0m\u001b[0;34m(\u001b[0m\u001b[0;34m)\u001b[0m\u001b[0;34m\u001b[0m\u001b[0m\n\u001b[1;32m    181\u001b[0m         \u001b[0;32mif\u001b[0m \u001b[0mnext_node\u001b[0m \u001b[0;32mnot\u001b[0m \u001b[0;32min\u001b[0m \u001b[0mvisited_nodes\u001b[0m\u001b[0;34m:\u001b[0m\u001b[0;34m\u001b[0m\u001b[0m\n\u001b[0;32m--> 182\u001b[0;31m             \u001b[0;32mif\u001b[0m \u001b[0mfun\u001b[0m\u001b[0;34m(\u001b[0m\u001b[0mnext_node\u001b[0m\u001b[0;34m)\u001b[0m\u001b[0;34m:\u001b[0m\u001b[0;34m\u001b[0m\u001b[0m\n\u001b[0m\u001b[1;32m    183\u001b[0m                 \u001b[0;32mreturn\u001b[0m \u001b[0mnext_node\u001b[0m\u001b[0;34m\u001b[0m\u001b[0m\n\u001b[1;32m    184\u001b[0m             \u001b[0mvisited_nodes\u001b[0m\u001b[0;34m.\u001b[0m\u001b[0madd\u001b[0m\u001b[0;34m(\u001b[0m\u001b[0mnext_node\u001b[0m\u001b[0;34m)\u001b[0m\u001b[0;34m\u001b[0m\u001b[0m\n",
      "\u001b[0;32m~/Documents/thesis/experiments/deep-semantic-mapping/deepsm/graphspn/spn_model.py\u001b[0m in \u001b[0;36mfun\u001b[0;34m(node)\u001b[0m\n\u001b[1;32m    175\u001b[0m             \u001b[0;32mif\u001b[0m \u001b[0mhasattr\u001b[0m\u001b[0;34m(\u001b[0m\u001b[0mnode\u001b[0m\u001b[0;34m,\u001b[0m \u001b[0;34m'weights'\u001b[0m\u001b[0;34m)\u001b[0m\u001b[0;34m:\u001b[0m\u001b[0;34m\u001b[0m\u001b[0m\n\u001b[1;32m    176\u001b[0m                 \u001b[0mprint\u001b[0m\u001b[0;34m(\u001b[0m\u001b[0;34m\"%s (%s)\"\u001b[0m \u001b[0;34m%\u001b[0m \u001b[0;34m(\u001b[0m\u001b[0mnode\u001b[0m\u001b[0;34m.\u001b[0m\u001b[0mname\u001b[0m\u001b[0;34m,\u001b[0m \u001b[0mnode\u001b[0m\u001b[0;34m.\u001b[0m\u001b[0m__class__\u001b[0m\u001b[0;34m.\u001b[0m\u001b[0m__name__\u001b[0m\u001b[0;34m)\u001b[0m\u001b[0;34m)\u001b[0m\u001b[0;34m\u001b[0m\u001b[0m\n\u001b[0;32m--> 177\u001b[0;31m                 \u001b[0mw\u001b[0m \u001b[0;34m=\u001b[0m \u001b[0msess\u001b[0m\u001b[0;34m.\u001b[0m\u001b[0mrun\u001b[0m\u001b[0;34m(\u001b[0m\u001b[0mnode\u001b[0m\u001b[0;34m.\u001b[0m\u001b[0mweights\u001b[0m\u001b[0;34m.\u001b[0m\u001b[0mnode\u001b[0m\u001b[0;34m.\u001b[0m\u001b[0mget_value\u001b[0m\u001b[0;34m(\u001b[0m\u001b[0;34m)\u001b[0m\u001b[0;34m)\u001b[0m\u001b[0;34m\u001b[0m\u001b[0m\n\u001b[0m\u001b[1;32m    178\u001b[0m                 \u001b[0mprint\u001b[0m\u001b[0;34m(\u001b[0m\u001b[0;34m\"%s [%s]\"\u001b[0m \u001b[0;34m%\u001b[0m \u001b[0;34m(\u001b[0m\u001b[0mw\u001b[0m\u001b[0;34m,\u001b[0m \u001b[0mw\u001b[0m\u001b[0;34m.\u001b[0m\u001b[0mshape\u001b[0m\u001b[0;34m)\u001b[0m\u001b[0;34m)\u001b[0m\u001b[0;34m\u001b[0m\u001b[0m\n\u001b[1;32m    179\u001b[0m \u001b[0;34m\u001b[0m\u001b[0m\n",
      "\u001b[0;31mAttributeError\u001b[0m: 'NoneType' object has no attribute 'get_value'"
     ]
    }
   ],
   "source": [
    "SpnModel.print_weights(template_spn._root, sess)"
   ]
  },
  {
   "cell_type": "code",
   "execution_count": 14,
   "metadata": {},
   "outputs": [
    {
     "name": "stdout",
     "output_type": "stream",
     "text": [
      "()\n",
      "3\n",
      "Conc_EdgeRelationTemplateSpn_3_1\n",
      "View_EdgeRelationTemplateSpn_3_1\n"
     ]
    }
   ],
   "source": [
    "template_spn._conc_inputs.set_inputs()\n",
    "print(template_spn._conc_inputs.inputs)\n",
    "print(template_spn._num_nodes)\n",
    "print(template_spn._conc_inputs)\n",
    "print(template_spn._view_dist_input)"
   ]
  },
  {
   "cell_type": "code",
   "execution_count": 71,
   "metadata": {
    "collapsed": true,
    "scrolled": false
   },
   "outputs": [],
   "source": [
    "catg_inputs = spn.IVs(num_vars=6, num_vals=CategoryManager.NUM_CATEGORIES, name=\"Catg\")\n",
    "view_inputs = spn.IVs(num_vars=2, num_vals=5, name=\"View\")\n",
    "conc = spn.Concat(catg_inputs, view_inputs)\n",
    "copied_tspn_root = mod_compute_graph_up(template_spn._root,\n",
    "                                        TemplateSpn.dup_fun_up,\n",
    "                                        tmpl_num_vars=[0, 1],\n",
    "                                        tmpl_num_vals=[CategoryManager.NUM_CATEGORIES, 5],\n",
    "                                        graph_num_vars=[catg_inputs.num_vars, view_inputs.num_vars],\n",
    "                                        conc=conc,\n",
    "                                        labels=[[],[0]])"
   ]
  },
  {
   "cell_type": "code",
   "execution_count": 72,
   "metadata": {},
   "outputs": [
    {
     "name": "stdout",
     "output_type": "stream",
     "text": [
      "Sum (Sum)\n",
      "[ 0.0035598   0.34087345  0.29326344  0.24100113  0.12130217] [(5,)]\n"
     ]
    }
   ],
   "source": [
    "SpnModel.print_weights(copied_tspn_root, sess)"
   ]
  },
  {
   "cell_type": "code",
   "execution_count": 73,
   "metadata": {
    "scrolled": false
   },
   "outputs": [
    {
     "name": "stdout",
     "output_type": "stream",
     "text": [
      "Sum (Sum)\n",
      "    Input(Product_4, None) (Product)\n",
      "    Input(Product_3, None) (Product)\n",
      "    Input(Product_2, None) (Product)\n",
      "    Input(Product_1, None) (Product)\n",
      "    Input(Product, None) (Product)\n",
      "Product_4 (Product)\n",
      "    Input(Concat_1, [12]) (Concat)\n",
      "Product_3 (Product)\n",
      "    Input(Concat_1, [13]) (Concat)\n",
      "Product_2 (Product)\n",
      "    Input(Concat_1, [14]) (Concat)\n",
      "Product_1 (Product)\n",
      "    Input(Concat_1, [15]) (Concat)\n",
      "Product (Product)\n",
      "    Input(Concat_1, [16]) (Concat)\n",
      "Concat_1 (Concat)\n",
      "    Input(Catg_1, None) (IVs)\n",
      "    Input(View_1, None) (IVs)\n"
     ]
    }
   ],
   "source": [
    "SpnModel.print_structure(copied_tspn_root, sess)"
   ]
  },
  {
   "cell_type": "code",
   "execution_count": 74,
   "metadata": {
    "scrolled": true
   },
   "outputs": [
    {
     "data": {
      "text/plain": [
       "True"
      ]
     },
     "execution_count": 74,
     "metadata": {},
     "output_type": "execute_result"
    }
   ],
   "source": [
    "copied_tspn_root.is_valid()"
   ]
  },
  {
   "cell_type": "code",
   "execution_count": null,
   "metadata": {
    "collapsed": true
   },
   "outputs": [],
   "source": []
  },
  {
   "cell_type": "code",
   "execution_count": null,
   "metadata": {
    "collapsed": true
   },
   "outputs": [],
   "source": []
  }
 ],
 "metadata": {
  "kernelspec": {
   "display_name": "py3",
   "language": "python",
   "name": "py3"
  },
  "language_info": {
   "codemirror_mode": {
    "name": "ipython",
    "version": 3
   },
   "file_extension": ".py",
   "mimetype": "text/x-python",
   "name": "python",
   "nbconvert_exporter": "python",
   "pygments_lexer": "ipython3",
   "version": "3.5.2"
  }
 },
 "nbformat": 4,
 "nbformat_minor": 2
}
