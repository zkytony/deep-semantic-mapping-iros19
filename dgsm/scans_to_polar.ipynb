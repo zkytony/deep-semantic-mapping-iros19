{
 "cells": [
  {
   "cell_type": "code",
   "execution_count": 1,
   "metadata": {
    "collapsed": false
   },
   "outputs": [],
   "source": [
    "from scipy.misc import imread, imshow, imsave\n",
    "from glob import glob\n",
    "import numpy as np\n",
    "import os\n",
    "from math import degrees, radians\n",
    "import matplotlib as mpl \n",
    "from collections import Counter\n",
    "import json\n",
    "import sys\n",
    "import re\n",
    "import libspn as spn\n",
    "np.set_printoptions(threshold=np.inf)"
   ]
  },
  {
   "cell_type": "markdown",
   "metadata": {},
   "source": [
    "# Params"
   ]
  },
  {
   "cell_type": "code",
   "execution_count": 2,
   "metadata": {
    "collapsed": true
   },
   "outputs": [],
   "source": [
    "resolution = 0.02\n",
    "num_angle_cells = 56\n",
    "min_radius = 0.3\n",
    "max_radius = 5\n",
    "radius_factor = 1.15"
   ]
  },
  {
   "cell_type": "code",
   "execution_count": 3,
   "metadata": {
    "collapsed": false
   },
   "outputs": [
    {
     "name": "stdout",
     "output_type": "stream",
     "text": [
      "[-180.         -173.57142857 -167.14285714 -160.71428571 -154.28571429\n",
      " -147.85714286 -141.42857143 -135.         -128.57142857 -122.14285714\n",
      " -115.71428571 -109.28571429 -102.85714286  -96.42857143  -90.\n",
      "  -83.57142857  -77.14285714  -70.71428571  -64.28571429  -57.85714286\n",
      "  -51.42857143  -45.          -38.57142857  -32.14285714  -25.71428571\n",
      "  -19.28571429  -12.85714286   -6.42857143    0.            6.42857143\n",
      "   12.85714286   19.28571429   25.71428571   32.14285714   38.57142857\n",
      "   45.           51.42857143   57.85714286   64.28571429   70.71428571\n",
      "   77.14285714   83.57142857   90.           96.42857143  102.85714286\n",
      "  109.28571429  115.71428571  122.14285714  128.57142857  135.\n",
      "  141.42857143  147.85714286  154.28571429  160.71428571  167.14285714\n",
      "  173.57142857  180.        ]\n",
      "[ 0.3         0.34        0.386       0.4389      0.499735    0.56969525\n",
      "  0.65014954  0.74267197  0.84907276  0.97143368  1.11214873  1.27397104\n",
      "  1.46006669  1.6740767   1.9201882   2.20321643  2.5286989   2.90300373\n",
      "  3.33345429  3.82847244  4.3977433   5.0524048 ]\n",
      "21\n"
     ]
    }
   ],
   "source": [
    "angles = np.linspace(-180, 180, num_angle_cells+1)\n",
    "print(angles)\n",
    "\n",
    "r=min_radius\n",
    "radiuses=[r]\n",
    "v = 0.04\n",
    "while r<max_radius:\n",
    "    r = r+v\n",
    "    radiuses.append(r)\n",
    "    v*=radius_factor\n",
    "    \n",
    "radiuses = np.array(radiuses)\n",
    "num_radius_cells = len(radiuses)-1\n",
    "print(radiuses)\n",
    "print(num_radius_cells)"
   ]
  },
  {
   "cell_type": "markdown",
   "metadata": {},
   "source": [
    "# Processing"
   ]
  },
  {
   "cell_type": "code",
   "execution_count": 4,
   "metadata": {
    "collapsed": false
   },
   "outputs": [
    {
     "data": {
      "text/plain": [
       "(2.0, 0.0)"
      ]
     },
     "execution_count": 4,
     "metadata": {},
     "output_type": "execute_result"
    }
   ],
   "source": [
    "def pixel_to_polar(scan_size, x, y):\n",
    "    \"\"\"Convert pixel coordinate to polar cell coordinate.\"\"\"\n",
    "    c_x = scan_size[0]//2\n",
    "    c_y = scan_size[1]//2\n",
    "    x = x - c_x\n",
    "    y = y - c_y\n",
    "    r = np.sqrt(x**2 + y**2) * resolution\n",
    "    alpha = np.arctan2(-y, x) # Angles go clockwise with the -\n",
    "    return (r, np.degrees(alpha))\n",
    "\n",
    "pixel_to_polar((1000, 1000), 600, 500)"
   ]
  },
  {
   "cell_type": "code",
   "execution_count": 5,
   "metadata": {
    "collapsed": false
   },
   "outputs": [],
   "source": [
    "def scan_to_polar(scan_image):\n",
    "    ys,xs = np.meshgrid(np.arange(scan_image.shape[0])+0.5, np.arange(scan_image.shape[1])+0.5)\n",
    "    rr, aa = pixel_to_polar(scan_image.shape, xs, ys)\n",
    "    aa = np.digitize(aa, angles) - 1\n",
    "    rr = np.digitize(rr, np.r_[0, radiuses]) - 1  # Additional cell for stuff near the robot\n",
    "    polar_scan_elems = [[[] for _ in range(num_angle_cells)] for _ in range(num_radius_cells)]\n",
    "    for x in range(scan_image.shape[0]):\n",
    "        for y in range(scan_image.shape[1]):\n",
    "            r = rr[x,y]\n",
    "            a = aa[x,y]\n",
    "            if r>0 and r<=num_radius_cells:\n",
    "                polar_scan_elems[r-1][a].append(scan_image[x,y])\n",
    "    for r in range(num_radius_cells):\n",
    "        for a in range(num_angle_cells):\n",
    "            vals=polar_scan_elems[r][a]\n",
    "            free_count = sum(1 for i in vals if i>250)\n",
    "            occupied_count = sum(1 for i in vals if i<10)\n",
    "            unknown_count = len(vals) - free_count - occupied_count\n",
    "            if not vals: # No elements!\n",
    "                raise Exception(\"No elements in %s %s\" % (r, a))\n",
    "            if occupied_count/len(vals) > 0.01:        \n",
    "                    val = 1\n",
    "            elif free_count/len(vals) > 0.01:\n",
    "                    val = 0\n",
    "            else:\n",
    "                val = -1\n",
    "            polar_scan_elems[r][a]=val\n",
    "    return np.array(polar_scan_elems)"
   ]
  },
  {
   "cell_type": "markdown",
   "metadata": {},
   "source": [
    "# Plotting"
   ]
  },
  {
   "cell_type": "code",
   "execution_count": 6,
   "metadata": {
    "collapsed": true
   },
   "outputs": [],
   "source": [
    "def plot_polar_scan(polar_scan):\n",
    "    a, r = np.meshgrid(np.radians(angles), radiuses)\n",
    "    ax = plt.subplot(111, projection='polar')\n",
    "    ax.set_theta_zero_location(\"S\")\n",
    "    ax.set_theta_direction(-1)\n",
    "    cmap = mpl.colors.LinearSegmentedColormap.from_list('mycmap', [(0, 'gray'),\n",
    "                                                        (0.5, 'white'),\n",
    "                                                        (1, 'black')])\n",
    "\n",
    "    ax.pcolormesh(a, r, polar_scan+1, cmap=cmap)\n",
    "    plt.show()"
   ]
  },
  {
   "cell_type": "markdown",
   "metadata": {},
   "source": [
    "# Load Scans"
   ]
  },
  {
   "cell_type": "code",
   "execution_count": 7,
   "metadata": {
    "collapsed": true
   },
   "outputs": [],
   "source": [
    "room_categories=['None', 'elevator', 'corridor', 'kitchen', '1p_office', '2p_office', 'mp_office', 'prof_office',\n",
    "                 'anteroom', 'restroom', 'meeting_room', 'robot_lab', 'living_room', 'workshop', 'printer_area', \n",
    "                'large_meeting_room']"
   ]
  },
  {
   "cell_type": "code",
   "execution_count": 8,
   "metadata": {
    "collapsed": true
   },
   "outputs": [],
   "source": [
    "data_path = \"/home/pronobis/Data/\""
   ]
  },
  {
   "cell_type": "code",
   "execution_count": 9,
   "metadata": {
    "collapsed": false
   },
   "outputs": [],
   "source": [
    "def process_sequence(seq_name, typ):\n",
    "    scans_path = os.path.join(data_path, \"virtual_scans_\"+typ, seq_name)\n",
    "    scan_pgms = sorted(glob(os.path.join(scans_path, \"*.pgm\"))) \n",
    "    proc_path = os.path.join(data_path, \"proc_scans_\"+typ, seq_name)\n",
    "    floor_name = re.sub(\"_.*\", \"\", seq_name)\n",
    "    os.makedirs(proc_path, exist_ok=True)\n",
    "    polar_scans = []\n",
    "    for pgm in scan_pgms:\n",
    "        fname = os.path.basename(pgm)\n",
    "        tstamp = re.sub(\"_scan.*pgm\", \"\", fname)\n",
    "        # Load scan and annotations\n",
    "        scan = imread(pgm)\n",
    "        with open(os.path.join(scans_path, tstamp+\"_annot.json\")) as f:\n",
    "            d = json.load(f)\n",
    "        # Check if we want to keep this scan\n",
    "        room_class = d['room_category']\n",
    "        room_id = floor_name + \"_\" + d['room']\n",
    "        # Store\n",
    "        imsave(arr=scan, name=os.path.join(proc_path, tstamp + \"_\" + room_id + \"_\" + room_class + \".png\"))\n",
    "        polar_scan = scan_to_polar(scan)\n",
    "        polar_scans.append([room_id, room_class, polar_scan.ravel()])\n",
    "        sys.stdout.write('.')\n",
    "    return polar_scans"
   ]
  },
  {
   "cell_type": "code",
   "execution_count": 10,
   "metadata": {
    "collapsed": true
   },
   "outputs": [],
   "source": [
    "import pickle\n",
    "def save_sequence(seq, name, typ):\n",
    "    polar_path = os.path.join(data_path, \"polar_scans_\"+typ)\n",
    "    os.makedirs(polar_path, exist_ok=True)\n",
    "    with open(os.path.join(polar_path, name), 'wb') as f:\n",
    "        pickle.dump(seq, f)"
   ]
  },
  {
   "cell_type": "code",
   "execution_count": 11,
   "metadata": {
    "collapsed": false
   },
   "outputs": [
    {
     "name": "stdout",
     "output_type": "stream",
     "text": [
      "['floor4_cloudy_b_data', 'floor4_night_b_data', 'floor5_cloudy_b_data', 'floor5_night_b_data', 'floor6_cloudy_a2_data', 'floor6_night_a2_data', 'floor7_cloudy_b_data', 'floor7_night_b_data']\n"
     ]
    }
   ],
   "source": [
    "sequences = sorted(os.listdir(os.path.join(data_path, \"virtual_scans_real\")))\n",
    "print(sequences)"
   ]
  },
  {
   "cell_type": "code",
   "execution_count": 12,
   "metadata": {
    "collapsed": false
   },
   "outputs": [],
   "source": [
    "def do_sequence(seq_name):\n",
    "    processed_seq = process_sequence(seq_name, typ='real')\n",
    "    save_sequence(processed_seq, seq_name, typ='real')\n",
    "#    processed_seq = process_sequence(seq_name, typ='testing')\n",
    "#    save_sequence(processed_seq, seq_name, typ='testing')"
   ]
  },
  {
   "cell_type": "code",
   "execution_count": 13,
   "metadata": {
    "collapsed": false
   },
   "outputs": [
    {
     "name": "stdout",
     "output_type": "stream",
     "text": [
      "......................................................................................................................................................................................................................................................................................................................................."
     ]
    }
   ],
   "source": [
    "do_sequence('floor4_cloudy_b_data')"
   ]
  },
  {
   "cell_type": "code",
   "execution_count": 14,
   "metadata": {
    "collapsed": false
   },
   "outputs": [
    {
     "name": "stdout",
     "output_type": "stream",
     "text": [
      "....................................................................................................................................................................................................................................................................................................................."
     ]
    }
   ],
   "source": [
    "do_sequence('floor4_night_b_data')"
   ]
  },
  {
   "cell_type": "code",
   "execution_count": 15,
   "metadata": {
    "collapsed": false
   },
   "outputs": [
    {
     "name": "stdout",
     "output_type": "stream",
     "text": [
      "................................................................................................................................................................................................................................................................................................................................"
     ]
    }
   ],
   "source": [
    "do_sequence('floor5_cloudy_b_data')"
   ]
  },
  {
   "cell_type": "code",
   "execution_count": 16,
   "metadata": {
    "collapsed": false
   },
   "outputs": [
    {
     "name": "stdout",
     "output_type": "stream",
     "text": [
      "......................................................................................................................................................................................................................................................................................................................................................................."
     ]
    }
   ],
   "source": [
    "do_sequence('floor5_night_b_data')"
   ]
  },
  {
   "cell_type": "code",
   "execution_count": 17,
   "metadata": {
    "collapsed": false
   },
   "outputs": [
    {
     "name": "stdout",
     "output_type": "stream",
     "text": [
      "........................................................................................................................................................"
     ]
    }
   ],
   "source": [
    "do_sequence('floor6_cloudy_a2_data')"
   ]
  },
  {
   "cell_type": "code",
   "execution_count": 18,
   "metadata": {
    "collapsed": false
   },
   "outputs": [
    {
     "name": "stdout",
     "output_type": "stream",
     "text": [
      ".............................................................................................................................................................................................."
     ]
    }
   ],
   "source": [
    "do_sequence('floor6_night_a2_data')"
   ]
  },
  {
   "cell_type": "code",
   "execution_count": 19,
   "metadata": {
    "collapsed": false
   },
   "outputs": [
    {
     "name": "stdout",
     "output_type": "stream",
     "text": [
      "........................................................................................................................................................................................................................................................................................................................................................................................................."
     ]
    }
   ],
   "source": [
    "do_sequence('floor7_cloudy_b_data')"
   ]
  },
  {
   "cell_type": "code",
   "execution_count": 20,
   "metadata": {
    "collapsed": false
   },
   "outputs": [
    {
     "name": "stdout",
     "output_type": "stream",
     "text": [
      "............................................................................................................................................................................................................................................................................................................................................................................................."
     ]
    }
   ],
   "source": [
    "do_sequence('floor7_night_b_data')"
   ]
  },
  {
   "cell_type": "code",
   "execution_count": 21,
   "metadata": {
    "collapsed": false
   },
   "outputs": [
    {
     "name": "stdout",
     "output_type": "stream",
     "text": [
      "........................................................................................................................................................................................................................................................................................................................................................................................................................................................................................................................................................................................"
     ]
    }
   ],
   "source": [
    "processed_seq = process_sequence('simulated', typ='simulated')\n",
    "save_sequence(processed_seq, 'simulated', typ='simulated')"
   ]
  },
  {
   "cell_type": "code",
   "execution_count": null,
   "metadata": {
    "collapsed": true
   },
   "outputs": [],
   "source": []
  }
 ],
 "metadata": {
  "kernelspec": {
   "display_name": "Python 3",
   "language": "python",
   "name": "python3"
  },
  "language_info": {
   "codemirror_mode": {
    "name": "ipython",
    "version": 3
   },
   "file_extension": ".py",
   "mimetype": "text/x-python",
   "name": "python",
   "nbconvert_exporter": "python",
   "pygments_lexer": "ipython3",
   "version": "3.5.2"
  }
 },
 "nbformat": 4,
 "nbformat_minor": 1
}
