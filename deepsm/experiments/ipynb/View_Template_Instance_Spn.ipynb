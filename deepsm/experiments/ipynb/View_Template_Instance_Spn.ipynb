{
 "cells": [
  {
   "cell_type": "code",
   "execution_count": 1,
   "metadata": {
    "collapsed": true
   },
   "outputs": [],
   "source": [
    "%load_ext autoreload\n",
    "%autoreload 2"
   ]
  },
  {
   "cell_type": "code",
   "execution_count": 2,
   "metadata": {
    "collapsed": true
   },
   "outputs": [],
   "source": [
    "import os\n",
    "import tensorflow as tf\n",
    "\n",
    "import numpy as np\n",
    "import libspn as spn\n",
    "\n",
    "from deepsm.graphspn.spn_model import SpnModel, mod_compute_graph_up\n",
    "from deepsm.graphspn.tbm.spn_template import TemplateSpn, NodeTemplateSpn, EdgeRelationTemplateSpn\n",
    "from deepsm.graphspn.tbm.spn_instance import NodeTemplateInstanceSpn, EdgeRelationTemplateInstanceSpn\n",
    "from deepsm.graphspn.tbm.template import ThreeRelTemplate, SingleRelTemplate, SingleTemplate, RelTemplate\n",
    "from deepsm.graphspn.tbm.graph_builder import build_graph\n",
    "from deepsm.util import CategoryManager"
   ]
  },
  {
   "cell_type": "markdown",
   "metadata": {},
   "source": [
    "# Load Template SPNs"
   ]
  },
  {
   "cell_type": "code",
   "execution_count": 3,
   "metadata": {
    "collapsed": true
   },
   "outputs": [],
   "source": [
    "spn31_path = \"/home/zkytony/Documents/thesis/experiments/deep-semantic-mapping/deepsm/experiments/results/graphspn/EdgeRelationTemplateExperiment/models/ThreeRelTemplate_2_Freiburg-Saarbrucken.spn\"\n",
    "spn11_path = \"/home/zkytony/Documents/thesis/experiments/deep-semantic-mapping/deepsm/experiments/results/graphspn/EdgeRelationTemplateExperiment/models/SingleRelTemplate_2_Freiburg-Saarbrucken.spn\"\n",
    "spn10_path = \"/home/zkytony/Documents/thesis/experiments/deep-semantic-mapping/deepsm/experiments/results/graphspn/EdgeRelationTemplateExperiment/models/SingleTemplate_2_Freiburg-Saarbrucken.spn\"\n",
    "spn01_path = \"/home/zkytony/Documents/thesis/experiments/deep-semantic-mapping/deepsm/experiments/results/graphspn/EdgeRelationTemplateExperiment/models/RelTemplate_2_Freiburg-Saarbrucken.spn\""
   ]
  },
  {
   "cell_type": "code",
   "execution_count": 4,
   "metadata": {},
   "outputs": [
    {
     "name": "stdout",
     "output_type": "stream",
     "text": [
      "Conc_EdgeRelationTemplateSpn_1_1\n"
     ]
    }
   ],
   "source": [
    "tspn31 = EdgeRelationTemplateSpn(ThreeRelTemplate, seed=100)\n",
    "tspn11 = EdgeRelationTemplateSpn(SingleRelTemplate, seed=100)\n",
    "print(tspn11._conc_inputs)\n",
    "tspn10 = EdgeRelationTemplateSpn(SingleTemplate, seed=100)\n",
    "tspn01 = EdgeRelationTemplateSpn(RelTemplate, seed=100)"
   ]
  },
  {
   "cell_type": "code",
   "execution_count": 5,
   "metadata": {},
   "outputs": [
    {
     "data": {
      "text/plain": [
       "(Input(View_EdgeRelationTemplateSpn_0_1, None),)"
      ]
     },
     "execution_count": 5,
     "metadata": {},
     "output_type": "execute_result"
    }
   ],
   "source": [
    "tspn01._conc_inputs.inputs"
   ]
  },
  {
   "cell_type": "code",
   "execution_count": 6,
   "metadata": {
    "collapsed": true
   },
   "outputs": [],
   "source": [
    "sess = tf.Session()"
   ]
  },
  {
   "cell_type": "code",
   "execution_count": 7,
   "metadata": {},
   "outputs": [
    {
     "name": "stderr",
     "output_type": "stream",
     "text": [
      "[INFO] [spn.JSONLoader:load] Loading SPN graph from file '/home/zkytony/Documents/thesis/experiments/deep-semantic-mapping/deepsm/experiments/results/graphspn/EdgeRelationTemplateExperiment/models/ThreeRelTemplate_2_Freiburg-Saarbrucken.spn'\n"
     ]
    },
    {
     "name": "stdout",
     "output_type": "stream",
     "text": [
      "WARNING:tensorflow:From /home/zkytony/Documents/thesis/experiments/libspn/libspn/utils/math.py:466: calling reduce_sum (from tensorflow.python.ops.math_ops) with keep_dims is deprecated and will be removed in a future version.\n",
      "Instructions for updating:\n",
      "keep_dims is deprecated, use keepdims instead\n"
     ]
    },
    {
     "name": "stderr",
     "output_type": "stream",
     "text": [
      "[WARNING] [tensorflow:warning] From /home/zkytony/Documents/thesis/experiments/libspn/libspn/utils/math.py:466: calling reduce_sum (from tensorflow.python.ops.math_ops) with keep_dims is deprecated and will be removed in a future version.\n",
      "Instructions for updating:\n",
      "keep_dims is deprecated, use keepdims instead\n",
      "[INFO] [spn.JSONLoader:load] Loading SPN graph from file '/home/zkytony/Documents/thesis/experiments/deep-semantic-mapping/deepsm/experiments/results/graphspn/EdgeRelationTemplateExperiment/models/SingleRelTemplate_2_Freiburg-Saarbrucken.spn'\n",
      "[INFO] [spn.JSONLoader:load] Loading SPN graph from file '/home/zkytony/Documents/thesis/experiments/deep-semantic-mapping/deepsm/experiments/results/graphspn/EdgeRelationTemplateExperiment/models/SingleTemplate_2_Freiburg-Saarbrucken.spn'\n",
      "[INFO] [spn.JSONLoader:load] Loading SPN graph from file '/home/zkytony/Documents/thesis/experiments/deep-semantic-mapping/deepsm/experiments/results/graphspn/EdgeRelationTemplateExperiment/models/RelTemplate_2_Freiburg-Saarbrucken.spn'\n"
     ]
    },
    {
     "name": "stdout",
     "output_type": "stream",
     "text": [
      "(Input(Catg_EdgeRelationTemplateSpn_3_1_1, None), Input(View_EdgeRelationTemplateSpn_3_1_1, None))\n",
      "Conc_EdgeRelationTemplateSpn_1_1_1\n"
     ]
    }
   ],
   "source": [
    "tspn31.load(spn31_path, sess)\n",
    "print(tspn31._conc_inputs.inputs)\n",
    "tspn11.load(spn11_path, sess)\n",
    "print(tspn11._conc_inputs)\n",
    "tspn10.load(spn10_path, sess)\n",
    "tspn01.load(spn01_path, sess)"
   ]
  },
  {
   "cell_type": "code",
   "execution_count": 8,
   "metadata": {},
   "outputs": [
    {
     "data": {
      "text/plain": [
       "Conc_EdgeRelationTemplateSpn_3_1_1"
      ]
     },
     "execution_count": 8,
     "metadata": {},
     "output_type": "execute_result"
    }
   ],
   "source": [
    "tspn31._conc_inputs"
   ]
  },
  {
   "cell_type": "code",
   "execution_count": 9,
   "metadata": {
    "collapsed": true
   },
   "outputs": [],
   "source": [
    "spns = [(tspn, tspn.template) for tspn in [tspn31, tspn11, tspn10, tspn01]]"
   ]
  },
  {
   "cell_type": "code",
   "execution_count": 10,
   "metadata": {},
   "outputs": [
    {
     "name": "stdout",
     "output_type": "stream",
     "text": [
      "Conc_EdgeRelationTemplateSpn_3_1_1\n",
      "Conc_EdgeRelationTemplateSpn_1_1_1\n",
      "Conc_EdgeRelationTemplateSpn_1_0_1\n",
      "Conc_EdgeRelationTemplateSpn_0_1_1\n"
     ]
    }
   ],
   "source": [
    "print(tspn31._conc_inputs)\n",
    "print(tspn11._conc_inputs)\n",
    "print(tspn10._conc_inputs)\n",
    "print(tspn01._conc_inputs)"
   ]
  },
  {
   "cell_type": "markdown",
   "metadata": {},
   "source": [
    "# Load a topo map"
   ]
  },
  {
   "cell_type": "code",
   "execution_count": 29,
   "metadata": {
    "collapsed": true
   },
   "outputs": [],
   "source": [
    "graph_file = \"/home/zkytony/Documents/thesis/experiments/deep-semantic-mapping/deepsm/experiments/analysis/stockholm_floor7_cloudy_b/3nodes.ug\""
   ]
  },
  {
   "cell_type": "code",
   "execution_count": 30,
   "metadata": {},
   "outputs": [
    {
     "name": "stdout",
     "output_type": "stream",
     "text": [
      "3\n",
      "2\n"
     ]
    }
   ],
   "source": [
    "topo_map, likelihoods = build_graph(graph_file)\n",
    "print(len(topo_map.nodes))\n",
    "print(CategoryManager.NUM_CATEGORIES)"
   ]
  },
  {
   "cell_type": "markdown",
   "metadata": {},
   "source": [
    "# Construct instance spn with view template"
   ]
  },
  {
   "cell_type": "code",
   "execution_count": 13,
   "metadata": {
    "collapsed": true
   },
   "outputs": [],
   "source": [
    "visualize_partitions_dirpath = \"./tmp\"\n",
    "os.makedirs(visualize_partitions_dirpath, exist_ok=True)"
   ]
  },
  {
   "cell_type": "markdown",
   "metadata": {},
   "source": [
    "### Remove inputs for template SPNs"
   ]
  },
  {
   "cell_type": "code",
   "execution_count": 14,
   "metadata": {},
   "outputs": [
    {
     "name": "stdout",
     "output_type": "stream",
     "text": [
      "Sum_1 (Sum)\n",
      "    Input(View_0_SubSPN_Product_1, None) (Product)\n",
      "    Input(View_1_SubSPN_Product_1, None) (Product)\n",
      "    Input(View_2_SubSPN_Product_1, None) (Product)\n",
      "    Input(View_3_SubSPN_Product_1, None) (Product)\n",
      "View_0_SubSPN_Product_1 (Product)\n",
      "    Input(Node_7, None) (Sum)\n",
      "    Input(Conc_EdgeRelationTemplateSpn_3_1_1, [6]) (Concat)\n",
      "View_1_SubSPN_Product_1 (Product)\n",
      "    Input(Node_1_1, None) (Sum)\n",
      "    Input(Conc_EdgeRelationTemplateSpn_3_1_1, [7]) (Concat)\n",
      "View_2_SubSPN_Product_1 (Product)\n",
      "    Input(Node_2_1, None) (Sum)\n",
      "    Input(Conc_EdgeRelationTemplateSpn_3_1_1, [8]) (Concat)\n",
      "View_3_SubSPN_Product_1 (Product)\n",
      "    Input(Node_3_1, None) (Sum)\n",
      "    Input(Conc_EdgeRelationTemplateSpn_3_1_1, [9]) (Concat)\n",
      "Node_7 (Sum)\n",
      "    Input(PermProducts1_7, None) (PermProducts)\n",
      "Conc_EdgeRelationTemplateSpn_3_1_1 (Concat)\n",
      "    Input(Catg_EdgeRelationTemplateSpn_3_1_1, None) (IVs)\n",
      "    Input(View_EdgeRelationTemplateSpn_3_1_1, None) (IVs)\n",
      "Node_1_1 (Sum)\n",
      "    Input(PermProducts1_1_1, None) (PermProducts)\n",
      "Node_2_1 (Sum)\n",
      "    Input(PermProducts1_2_1, None) (PermProducts)\n",
      "Node_3_1 (Sum)\n",
      "    Input(PermProducts1_3_1, None) (PermProducts)\n",
      "PermProducts1_7 (PermProducts)\n",
      "    Input(Conc_EdgeRelationTemplateSpn_3_1_1, [0, 1]) (Concat)\n",
      "    Input(Conc_EdgeRelationTemplateSpn_3_1_1, [2, 3]) (Concat)\n",
      "    Input(Conc_EdgeRelationTemplateSpn_3_1_1, [4, 5]) (Concat)\n",
      "PermProducts1_1_1 (PermProducts)\n",
      "    Input(Conc_EdgeRelationTemplateSpn_3_1_1, [0, 1]) (Concat)\n",
      "    Input(Conc_EdgeRelationTemplateSpn_3_1_1, [2, 3]) (Concat)\n",
      "    Input(Conc_EdgeRelationTemplateSpn_3_1_1, [4, 5]) (Concat)\n",
      "PermProducts1_2_1 (PermProducts)\n",
      "    Input(Conc_EdgeRelationTemplateSpn_3_1_1, [0, 1]) (Concat)\n",
      "    Input(Conc_EdgeRelationTemplateSpn_3_1_1, [2, 3]) (Concat)\n",
      "    Input(Conc_EdgeRelationTemplateSpn_3_1_1, [4, 5]) (Concat)\n",
      "PermProducts1_3_1 (PermProducts)\n",
      "    Input(Conc_EdgeRelationTemplateSpn_3_1_1, [0, 1]) (Concat)\n",
      "    Input(Conc_EdgeRelationTemplateSpn_3_1_1, [2, 3]) (Concat)\n",
      "    Input(Conc_EdgeRelationTemplateSpn_3_1_1, [4, 5]) (Concat)\n"
     ]
    },
    {
     "data": {
      "text/html": [
       "<svg id=\"Sb2d5fc360e924126ab3ebb5e0513dea4\" width=\"950\" height=\"800\"></svg>\n",
       "<script>\n",
       " require.config({\n",
       "   paths: {\n",
       "     d3: 'https://d3js.org/d3.v4.min'\n",
       "   }\n",
       " });\n",
       " require(['d3'], function(d3){\n",
       "\n",
       "   var graph = {\"nodes\": [{\"id\": \"Conc_EdgeRelationTemplateSpn_3_1_1\", \"name\": \"Conc_EdgeRelationTemplateSpn_3_1_1\", \"tooltip\": \"Conc_EdgeRelationTemplateSpn_3_1_1\", \"type\": 1}, {\"id\": \"Catg_EdgeRelationTemplateSpn_3_1_1_1\", \"name\": \"Catg_EdgeRelationTemplateSpn_3_1_1\", \"tooltip\": \"Catg_EdgeRelationTemplateSpn_3_1_1\", \"type\": 0}, {\"id\": \"View_EdgeRelationTemplateSpn_3_1_1_2\", \"name\": \"View_EdgeRelationTemplateSpn_3_1_1\", \"tooltip\": \"View_EdgeRelationTemplateSpn_3_1_1\", \"type\": 0}, {\"id\": \"PermProducts1_3_1\", \"name\": \"PermProducts1_3_1\", \"tooltip\": \"PermProducts1_3_1\", \"type\": 2}, {\"id\": \"Node_3_1\", \"name\": \"Node_3_1\", \"tooltip\": \"Node_3_1\", \"type\": 4}, {\"id\": \"View_3_SubSPN_Product_1\", \"name\": \"View_3_SubSPN_Product_1\", \"tooltip\": \"View_3_SubSPN_Product_1\", \"type\": 5}, {\"id\": \"PermProducts1_2_1\", \"name\": \"PermProducts1_2_1\", \"tooltip\": \"PermProducts1_2_1\", \"type\": 2}, {\"id\": \"Node_2_1\", \"name\": \"Node_2_1\", \"tooltip\": \"Node_2_1\", \"type\": 4}, {\"id\": \"View_2_SubSPN_Product_1\", \"name\": \"View_2_SubSPN_Product_1\", \"tooltip\": \"View_2_SubSPN_Product_1\", \"type\": 5}, {\"id\": \"PermProducts1_1_1\", \"name\": \"PermProducts1_1_1\", \"tooltip\": \"PermProducts1_1_1\", \"type\": 2}, {\"id\": \"Node_1_1\", \"name\": \"Node_1_1\", \"tooltip\": \"Node_1_1\", \"type\": 4}, {\"id\": \"View_1_SubSPN_Product_1\", \"name\": \"View_1_SubSPN_Product_1\", \"tooltip\": \"View_1_SubSPN_Product_1\", \"type\": 5}, {\"id\": \"PermProducts1_7\", \"name\": \"PermProducts1_7\", \"tooltip\": \"PermProducts1_7\", \"type\": 2}, {\"id\": \"Node_7\", \"name\": \"Node_7\", \"tooltip\": \"Node_7\", \"type\": 4}, {\"id\": \"View_0_SubSPN_Product_1\", \"name\": \"View_0_SubSPN_Product_1\", \"tooltip\": \"View_0_SubSPN_Product_1\", \"type\": 5}, {\"id\": \"Sum_1\", \"name\": \"Sum_1\", \"tooltip\": \"Sum_1\", \"type\": 4}], \"links\": [{\"value\": 6, \"source\": \"Catg_EdgeRelationTemplateSpn_3_1_1_1\", \"target\": \"Conc_EdgeRelationTemplateSpn_3_1_1\"}, {\"value\": 4, \"source\": \"View_EdgeRelationTemplateSpn_3_1_1_2\", \"target\": \"Conc_EdgeRelationTemplateSpn_3_1_1\"}, {\"value\": 2, \"source\": \"Conc_EdgeRelationTemplateSpn_3_1_1\", \"target\": \"PermProducts1_3_1\"}, {\"value\": 2, \"source\": \"Conc_EdgeRelationTemplateSpn_3_1_1\", \"target\": \"PermProducts1_3_1\"}, {\"value\": 2, \"source\": \"Conc_EdgeRelationTemplateSpn_3_1_1\", \"target\": \"PermProducts1_3_1\"}, {\"value\": 8, \"source\": \"PermProducts1_3_1\", \"target\": \"Node_3_1\"}, {\"value\": 1, \"source\": \"Node_3_1\", \"target\": \"View_3_SubSPN_Product_1\"}, {\"value\": 1, \"source\": \"Conc_EdgeRelationTemplateSpn_3_1_1\", \"target\": \"View_3_SubSPN_Product_1\"}, {\"value\": 2, \"source\": \"Conc_EdgeRelationTemplateSpn_3_1_1\", \"target\": \"PermProducts1_2_1\"}, {\"value\": 2, \"source\": \"Conc_EdgeRelationTemplateSpn_3_1_1\", \"target\": \"PermProducts1_2_1\"}, {\"value\": 2, \"source\": \"Conc_EdgeRelationTemplateSpn_3_1_1\", \"target\": \"PermProducts1_2_1\"}, {\"value\": 8, \"source\": \"PermProducts1_2_1\", \"target\": \"Node_2_1\"}, {\"value\": 1, \"source\": \"Node_2_1\", \"target\": \"View_2_SubSPN_Product_1\"}, {\"value\": 1, \"source\": \"Conc_EdgeRelationTemplateSpn_3_1_1\", \"target\": \"View_2_SubSPN_Product_1\"}, {\"value\": 2, \"source\": \"Conc_EdgeRelationTemplateSpn_3_1_1\", \"target\": \"PermProducts1_1_1\"}, {\"value\": 2, \"source\": \"Conc_EdgeRelationTemplateSpn_3_1_1\", \"target\": \"PermProducts1_1_1\"}, {\"value\": 2, \"source\": \"Conc_EdgeRelationTemplateSpn_3_1_1\", \"target\": \"PermProducts1_1_1\"}, {\"value\": 8, \"source\": \"PermProducts1_1_1\", \"target\": \"Node_1_1\"}, {\"value\": 1, \"source\": \"Node_1_1\", \"target\": \"View_1_SubSPN_Product_1\"}, {\"value\": 1, \"source\": \"Conc_EdgeRelationTemplateSpn_3_1_1\", \"target\": \"View_1_SubSPN_Product_1\"}, {\"value\": 2, \"source\": \"Conc_EdgeRelationTemplateSpn_3_1_1\", \"target\": \"PermProducts1_7\"}, {\"value\": 2, \"source\": \"Conc_EdgeRelationTemplateSpn_3_1_1\", \"target\": \"PermProducts1_7\"}, {\"value\": 2, \"source\": \"Conc_EdgeRelationTemplateSpn_3_1_1\", \"target\": \"PermProducts1_7\"}, {\"value\": 8, \"source\": \"PermProducts1_7\", \"target\": \"Node_7\"}, {\"value\": 1, \"source\": \"Node_7\", \"target\": \"View_0_SubSPN_Product_1\"}, {\"value\": 1, \"source\": \"Conc_EdgeRelationTemplateSpn_3_1_1\", \"target\": \"View_0_SubSPN_Product_1\"}, {\"value\": 1, \"source\": \"View_0_SubSPN_Product_1\", \"target\": \"Sum_1\"}, {\"value\": 1, \"source\": \"View_1_SubSPN_Product_1\", \"target\": \"Sum_1\"}, {\"value\": 1, \"source\": \"View_2_SubSPN_Product_1\", \"target\": \"Sum_1\"}, {\"value\": 1, \"source\": \"View_3_SubSPN_Product_1\", \"target\": \"Sum_1\"}]};\n",
       "\n",
       "   var color = d3.scaleOrdinal(d3.schemeCategory10);\n",
       "\n",
       "   var zoom = d3.zoom()\n",
       "                .scaleExtent([0.1, 10])\n",
       "                .on(\"zoom\", zoomed);\n",
       "\n",
       "   var svg = d3.select(\"#Sb2d5fc360e924126ab3ebb5e0513dea4\").\n",
       "                call(zoom);\n",
       "\n",
       "   var width = svg.attr(\"width\");\n",
       "   var height = svg.attr(\"height\");\n",
       "\n",
       "   var simulation = d3.forceSimulation(graph.nodes)\n",
       "                      .on(\"tick\", ticked)\n",
       "                      .force(\"link\", d3.forceLink(graph.links)\n",
       "                                       .distance(80)\n",
       "                                       .id(function(d) { return d.id; }))\n",
       "                      .force(\"charge\", d3.forceManyBody().\n",
       "                                          strength(-1000))\n",
       "                      .force(\"center\", d3.forceCenter(width / 2, height / 2));\n",
       "\n",
       "   /* Contents */\n",
       "   var container = svg.append(\"g\").\n",
       "                       attr(\"class\", \"container\");\n",
       "\n",
       "   var link = container.append(\"g\")\n",
       "                       .selectAll(\"link\")\n",
       "                       .data(graph.links)\n",
       "                       .enter().append(\"line\")\n",
       "                       .attr(\"stroke\", \"#444\")\n",
       "                       .attr(\"stroke-opacity\", \"0.6\")\n",
       "                       .attr(\"stroke-width\",\n",
       "                             function(d) {\n",
       "                               return d.value;\n",
       "                               /*return Math.sqrt(d.value);*/\n",
       "                             });\n",
       "\n",
       "   var link_value = container.append(\"g\")\n",
       "                             .selectAll(\"linkvalue\")\n",
       "                             .data(graph.links)\n",
       "                             .enter().append(\"text\")\n",
       "                             .attr(\"alignment-baseline\", \"middle\")\n",
       "                             .style(\"text-anchor\", \"middle\")\n",
       "                             .text(function(d) { return d.value; });\n",
       "\n",
       "   var node = container.append(\"g\")\n",
       "                       .selectAll(\"node\")\n",
       "                       .data(graph.nodes)\n",
       "                       .enter().append(\"g\")\n",
       "                       .call(d3.drag()\n",
       "                               .on(\"start\", dragstarted)\n",
       "                               .on(\"drag\", dragged)\n",
       "                               .on(\"end\", dragended));\n",
       "\n",
       "   /* Node appearance */\n",
       "   node.append(\"rect\")\n",
       "       .attr(\"height\", 0)\n",
       "       .attr(\"width\", 0)\n",
       "       .attr(\"fill\", function(d) { return color(d.type); })\n",
       "       .attr(\"stroke\", \"#000\")\n",
       "       .attr(\"stroke-width\", \"1px\");\n",
       "\n",
       "   node.append(\"text\")\n",
       "       .attr(\"alignment-baseline\", \"middle\")\n",
       "       .style(\"text-anchor\", \"middle\")\n",
       "       .text(function(d) { return d.name; });\n",
       "\n",
       "   /* Adjust rect width to text */\n",
       "   var margin=10;\n",
       "   node.selectAll('rect')\n",
       "       .attr(\"x\", function(d) {return d3.select(this).attr(\"x\") - (this.parentNode.getBBox().width + margin)/2.0;})\n",
       "       .attr(\"y\", function(d) {return d3.select(this).attr(\"y\") - (this.parentNode.getBBox().height + margin)/2.0;})\n",
       "       .attr(\"width\", function(d) {return this.parentNode.getBBox().width + margin;})\n",
       "       .attr(\"height\", function(d) {return this.parentNode.getBBox().height + margin;});\n",
       "\n",
       "   /* Tooltips */\n",
       "   node.append(\"title\")\n",
       "       .text(function(d) { return d.tooltip; });\n",
       "\n",
       "   /* Functions */\n",
       "   function zoomed() {\n",
       "     container.attr(\"transform\", d3.event.transform);\n",
       "   }\n",
       "\n",
       "   function ticked() {\n",
       "     link\n",
       "       .attr(\"x1\", function(d) { return d.source.x; })\n",
       "       .attr(\"y1\", function(d) { return d.source.y; })\n",
       "       .attr(\"x2\", function(d) { return d.target.x; })\n",
       "       .attr(\"y2\", function(d) { return d.target.y; });\n",
       "\n",
       "     link_value\n",
       "       .attr(\"x\", function(d) { return (d.source.x+d.target.x)/2; })\n",
       "       .attr(\"y\", function(d) { return (d.source.y+d.target.y)/2; })\n",
       "\n",
       "     node.attr(\"transform\",\n",
       "               function(d) { return \"translate(\" + d.x + \",\" + d.y + \")\"; });\n",
       "   }\n",
       "\n",
       "   function dragstarted(d) {\n",
       "     if (!d3.event.active) simulation.alphaTarget(0.3).restart();\n",
       "     d.fx = d.x;\n",
       "     d.fy = d.y;\n",
       "   }\n",
       "\n",
       "   function dragged(d) {\n",
       "     d.fx = d3.event.x;\n",
       "     d.fy = d3.event.y;\n",
       "   }\n",
       "\n",
       "   function dragended(d) {\n",
       "     if (!d3.event.active) simulation.alphaTarget(0);\n",
       "     d.fx = null;\n",
       "     d.fy = null;\n",
       "   }\n",
       "\n",
       " });\n",
       "</script>\n"
      ],
      "text/plain": [
       "<IPython.core.display.HTML object>"
      ]
     },
     "metadata": {},
     "output_type": "display_data"
    }
   ],
   "source": [
    "SpnModel.print_structure(tspn31._root, sess)\n",
    "tspn01._conc_inputs\n",
    "spn.display_spn_graph(tspn31._root, sess)"
   ]
  },
  {
   "cell_type": "code",
   "execution_count": 15,
   "metadata": {},
   "outputs": [],
   "source": [
    "tspn31._conc_inputs.set_inputs()\n",
    "tspn11._conc_inputs.set_inputs()\n",
    "tspn10._conc_inputs.set_inputs()\n",
    "tspn01._conc_inputs.set_inputs()"
   ]
  },
  {
   "cell_type": "code",
   "execution_count": 16,
   "metadata": {},
   "outputs": [
    {
     "name": "stdout",
     "output_type": "stream",
     "text": [
      "Node_10 (Sum)\n",
      "    Input(PermProducts1_10, None) (PermProducts)\n",
      "PermProducts1_10 (PermProducts)\n",
      "    Input(Conc_EdgeRelationTemplateSpn_0_1_1, [0, 1, 2, 3]) (Concat)\n",
      "Conc_EdgeRelationTemplateSpn_0_1_1 (Concat)\n"
     ]
    }
   ],
   "source": [
    "SpnModel.print_structure(tspn01._root, sess)"
   ]
  },
  {
   "cell_type": "code",
   "execution_count": 17,
   "metadata": {},
   "outputs": [
    {
     "name": "stdout",
     "output_type": "stream",
     "text": [
      "Partition 1\n",
      "Duplicating (0, 1)... \n",
      "Duplicating (1, 0)... \n",
      "Duplicating (3, 1)... 1 \n",
      "Duplicating (1, 1)... \n"
     ]
    }
   ],
   "source": [
    "ispn = EdgeRelationTemplateInstanceSpn(topo_map, sess, *spns,\n",
    "                                       num_partitions=1,\n",
    "                                       seq_id=\"floor1_happy\",\n",
    "                                       visualize_partitions_dirpath=None,\n",
    "                                       db_name=\"Fake\",\n",
    "                                       divisions=8)"
   ]
  },
  {
   "cell_type": "code",
   "execution_count": 18,
   "metadata": {},
   "outputs": [
    {
     "data": {
      "text/plain": [
       "True"
      ]
     },
     "execution_count": 18,
     "metadata": {},
     "output_type": "execute_result"
    }
   ],
   "source": [
    "ispn._root.is_valid()"
   ]
  },
  {
   "cell_type": "code",
   "execution_count": 19,
   "metadata": {},
   "outputs": [
    {
     "data": {
      "text/plain": [
       "Sum_7"
      ]
     },
     "execution_count": 19,
     "metadata": {},
     "output_type": "execute_result"
    }
   ],
   "source": [
    "ispn._root"
   ]
  },
  {
   "cell_type": "code",
   "execution_count": 20,
   "metadata": {},
   "outputs": [
    {
     "name": "stdout",
     "output_type": "stream",
     "text": [
      "Expanding...\n"
     ]
    }
   ],
   "source": [
    "ispn.expand(use_cont_vars=True)"
   ]
  },
  {
   "cell_type": "code",
   "execution_count": 21,
   "metadata": {},
   "outputs": [
    {
     "name": "stdout",
     "output_type": "stream",
     "text": [
      "Initializing learning Ops...\n",
      "Initializing MPE Ops...\n"
     ]
    }
   ],
   "source": [
    "ispn.init_ops()"
   ]
  },
  {
   "cell_type": "code",
   "execution_count": 22,
   "metadata": {},
   "outputs": [
    {
     "data": {
      "text/html": [
       "<svg id=\"S38f3ff4150b2487baf549809ad9050ea\" width=\"950\" height=\"800\"></svg>\n",
       "<script>\n",
       " require.config({\n",
       "   paths: {\n",
       "     d3: 'https://d3js.org/d3.v4.min'\n",
       "   }\n",
       " });\n",
       " require(['d3'], function(d3){\n",
       "\n",
       "   var graph = {\"nodes\": [{\"id\": \"Product_10\", \"name\": \"Product_10\", \"tooltip\": \"Product_10\", \"type\": 2}, {\"id\": \"RawInput_1\", \"name\": \"RawInput[5]\", \"tooltip\": \"RawInput\", \"type\": 1}, {\"id\": \"IVs_2\", \"name\": \"IVs[5]\", \"tooltip\": \"IVs\", \"type\": 0}, {\"id\": \"Product_9\", \"name\": \"Product_9\", \"tooltip\": \"Product_9\", \"type\": 2}, {\"id\": \"RawInput_3\", \"name\": \"RawInput[4]\", \"tooltip\": \"RawInput\", \"type\": 1}, {\"id\": \"IVs_4\", \"name\": \"IVs[4]\", \"tooltip\": \"IVs\", \"type\": 0}, {\"id\": \"Product_8\", \"name\": \"Product_8\", \"tooltip\": \"Product_8\", \"type\": 2}, {\"id\": \"RawInput_5\", \"name\": \"RawInput[3]\", \"tooltip\": \"RawInput\", \"type\": 1}, {\"id\": \"IVs_6\", \"name\": \"IVs[3]\", \"tooltip\": \"IVs\", \"type\": 0}, {\"id\": \"Product_7\", \"name\": \"Product_7\", \"tooltip\": \"Product_7\", \"type\": 2}, {\"id\": \"RawInput_7\", \"name\": \"RawInput[2]\", \"tooltip\": \"RawInput\", \"type\": 1}, {\"id\": \"IVs_8\", \"name\": \"IVs[2]\", \"tooltip\": \"IVs\", \"type\": 0}, {\"id\": \"Product_6\", \"name\": \"Product_6\", \"tooltip\": \"Product_6\", \"type\": 2}, {\"id\": \"RawInput_9\", \"name\": \"RawInput[1]\", \"tooltip\": \"RawInput\", \"type\": 1}, {\"id\": \"IVs_10\", \"name\": \"IVs[1]\", \"tooltip\": \"IVs\", \"type\": 0}, {\"id\": \"Product_5\", \"name\": \"Product_5\", \"tooltip\": \"Product_5\", \"type\": 2}, {\"id\": \"RawInput_11\", \"name\": \"RawInput[0]\", \"tooltip\": \"RawInput\", \"type\": 1}, {\"id\": \"IVs_12\", \"name\": \"IVs[0]\", \"tooltip\": \"IVs\", \"type\": 0}, {\"id\": \"Conc_2_floor1_happy\", \"name\": \"Conc_2_floor1_happy\", \"tooltip\": \"Conc_2_floor1_happy\", \"type\": 3}, {\"id\": \"View_2_floor1_happy_13\", \"name\": \"View_2_floor1_happy\", \"tooltip\": \"View_2_floor1_happy\", \"type\": 0}, {\"id\": \"PermProducts\", \"name\": \"PermProducts\", \"tooltip\": \"PermProducts\", \"type\": 4}, {\"id\": \"Sum_2\", \"name\": \"Sum_2\", \"tooltip\": \"Sum_2\", \"type\": 6}, {\"id\": \"Product\", \"name\": \"Product\", \"tooltip\": \"Product\", \"type\": 2}, {\"id\": \"PermProducts_1\", \"name\": \"PermProducts_1\", \"tooltip\": \"PermProducts_1\", \"type\": 4}, {\"id\": \"Sum_3\", \"name\": \"Sum_3\", \"tooltip\": \"Sum_3\", \"type\": 6}, {\"id\": \"Product_1\", \"name\": \"Product_1\", \"tooltip\": \"Product_1\", \"type\": 2}, {\"id\": \"PermProducts_2\", \"name\": \"PermProducts_2\", \"tooltip\": \"PermProducts_2\", \"type\": 4}, {\"id\": \"Sum_4\", \"name\": \"Sum_4\", \"tooltip\": \"Sum_4\", \"type\": 6}, {\"id\": \"Product_2\", \"name\": \"Product_2\", \"tooltip\": \"Product_2\", \"type\": 2}, {\"id\": \"PermProducts_3\", \"name\": \"PermProducts_3\", \"tooltip\": \"PermProducts_3\", \"type\": 4}, {\"id\": \"Sum_5\", \"name\": \"Sum_5\", \"tooltip\": \"Sum_5\", \"type\": 6}, {\"id\": \"Product_3\", \"name\": \"Product_3\", \"tooltip\": \"Product_3\", \"type\": 2}, {\"id\": \"Sum_6\", \"name\": \"Sum_6\", \"tooltip\": \"Sum_6\", \"type\": 6}, {\"id\": \"Product_4\", \"name\": \"Product_4\", \"tooltip\": \"Product_4\", \"type\": 2}, {\"id\": \"Sum_7\", \"name\": \"Sum_7\", \"tooltip\": \"Sum_7\", \"type\": 6}], \"links\": [{\"value\": 1, \"source\": \"RawInput_1\", \"target\": \"Product_10\"}, {\"value\": 1, \"source\": \"IVs_2\", \"target\": \"Product_10\"}, {\"value\": 1, \"source\": \"RawInput_3\", \"target\": \"Product_9\"}, {\"value\": 1, \"source\": \"IVs_4\", \"target\": \"Product_9\"}, {\"value\": 1, \"source\": \"RawInput_5\", \"target\": \"Product_8\"}, {\"value\": 1, \"source\": \"IVs_6\", \"target\": \"Product_8\"}, {\"value\": 1, \"source\": \"RawInput_7\", \"target\": \"Product_7\"}, {\"value\": 1, \"source\": \"IVs_8\", \"target\": \"Product_7\"}, {\"value\": 1, \"source\": \"RawInput_9\", \"target\": \"Product_6\"}, {\"value\": 1, \"source\": \"IVs_10\", \"target\": \"Product_6\"}, {\"value\": 1, \"source\": \"RawInput_11\", \"target\": \"Product_5\"}, {\"value\": 1, \"source\": \"IVs_12\", \"target\": \"Product_5\"}, {\"value\": 1, \"source\": \"Product_5\", \"target\": \"Conc_2_floor1_happy\"}, {\"value\": 1, \"source\": \"Product_6\", \"target\": \"Conc_2_floor1_happy\"}, {\"value\": 1, \"source\": \"Product_7\", \"target\": \"Conc_2_floor1_happy\"}, {\"value\": 1, \"source\": \"Product_8\", \"target\": \"Conc_2_floor1_happy\"}, {\"value\": 1, \"source\": \"Product_9\", \"target\": \"Conc_2_floor1_happy\"}, {\"value\": 1, \"source\": \"Product_10\", \"target\": \"Conc_2_floor1_happy\"}, {\"value\": 5, \"source\": \"View_2_floor1_happy_13\", \"target\": \"Conc_2_floor1_happy\"}, {\"value\": 2, \"source\": \"Conc_2_floor1_happy\", \"target\": \"PermProducts\"}, {\"value\": 2, \"source\": \"Conc_2_floor1_happy\", \"target\": \"PermProducts\"}, {\"value\": 2, \"source\": \"Conc_2_floor1_happy\", \"target\": \"PermProducts\"}, {\"value\": 8, \"source\": \"PermProducts\", \"target\": \"Sum_2\"}, {\"value\": 1, \"source\": \"Sum_2\", \"target\": \"Product\"}, {\"value\": 1, \"source\": \"Conc_2_floor1_happy\", \"target\": \"Product\"}, {\"value\": 2, \"source\": \"Conc_2_floor1_happy\", \"target\": \"PermProducts_1\"}, {\"value\": 2, \"source\": \"Conc_2_floor1_happy\", \"target\": \"PermProducts_1\"}, {\"value\": 2, \"source\": \"Conc_2_floor1_happy\", \"target\": \"PermProducts_1\"}, {\"value\": 8, \"source\": \"PermProducts_1\", \"target\": \"Sum_3\"}, {\"value\": 1, \"source\": \"Sum_3\", \"target\": \"Product_1\"}, {\"value\": 1, \"source\": \"Conc_2_floor1_happy\", \"target\": \"Product_1\"}, {\"value\": 2, \"source\": \"Conc_2_floor1_happy\", \"target\": \"PermProducts_2\"}, {\"value\": 2, \"source\": \"Conc_2_floor1_happy\", \"target\": \"PermProducts_2\"}, {\"value\": 2, \"source\": \"Conc_2_floor1_happy\", \"target\": \"PermProducts_2\"}, {\"value\": 8, \"source\": \"PermProducts_2\", \"target\": \"Sum_4\"}, {\"value\": 1, \"source\": \"Sum_4\", \"target\": \"Product_2\"}, {\"value\": 1, \"source\": \"Conc_2_floor1_happy\", \"target\": \"Product_2\"}, {\"value\": 2, \"source\": \"Conc_2_floor1_happy\", \"target\": \"PermProducts_3\"}, {\"value\": 2, \"source\": \"Conc_2_floor1_happy\", \"target\": \"PermProducts_3\"}, {\"value\": 2, \"source\": \"Conc_2_floor1_happy\", \"target\": \"PermProducts_3\"}, {\"value\": 8, \"source\": \"PermProducts_3\", \"target\": \"Sum_5\"}, {\"value\": 1, \"source\": \"Sum_5\", \"target\": \"Product_3\"}, {\"value\": 1, \"source\": \"Conc_2_floor1_happy\", \"target\": \"Product_3\"}, {\"value\": 1, \"source\": \"Product_3\", \"target\": \"Sum_6\"}, {\"value\": 1, \"source\": \"Product_2\", \"target\": \"Sum_6\"}, {\"value\": 1, \"source\": \"Product_1\", \"target\": \"Sum_6\"}, {\"value\": 1, \"source\": \"Product\", \"target\": \"Sum_6\"}, {\"value\": 1, \"source\": \"Sum_6\", \"target\": \"Product_4\"}, {\"value\": 1, \"source\": \"Product_4\", \"target\": \"Sum_7\"}]};\n",
       "\n",
       "   var color = d3.scaleOrdinal(d3.schemeCategory10);\n",
       "\n",
       "   var zoom = d3.zoom()\n",
       "                .scaleExtent([0.1, 10])\n",
       "                .on(\"zoom\", zoomed);\n",
       "\n",
       "   var svg = d3.select(\"#S38f3ff4150b2487baf549809ad9050ea\").\n",
       "                call(zoom);\n",
       "\n",
       "   var width = svg.attr(\"width\");\n",
       "   var height = svg.attr(\"height\");\n",
       "\n",
       "   var simulation = d3.forceSimulation(graph.nodes)\n",
       "                      .on(\"tick\", ticked)\n",
       "                      .force(\"link\", d3.forceLink(graph.links)\n",
       "                                       .distance(80)\n",
       "                                       .id(function(d) { return d.id; }))\n",
       "                      .force(\"charge\", d3.forceManyBody().\n",
       "                                          strength(-1000))\n",
       "                      .force(\"center\", d3.forceCenter(width / 2, height / 2));\n",
       "\n",
       "   /* Contents */\n",
       "   var container = svg.append(\"g\").\n",
       "                       attr(\"class\", \"container\");\n",
       "\n",
       "   var link = container.append(\"g\")\n",
       "                       .selectAll(\"link\")\n",
       "                       .data(graph.links)\n",
       "                       .enter().append(\"line\")\n",
       "                       .attr(\"stroke\", \"#444\")\n",
       "                       .attr(\"stroke-opacity\", \"0.6\")\n",
       "                       .attr(\"stroke-width\",\n",
       "                             function(d) {\n",
       "                               return d.value;\n",
       "                               /*return Math.sqrt(d.value);*/\n",
       "                             });\n",
       "\n",
       "   var link_value = container.append(\"g\")\n",
       "                             .selectAll(\"linkvalue\")\n",
       "                             .data(graph.links)\n",
       "                             .enter().append(\"text\")\n",
       "                             .attr(\"alignment-baseline\", \"middle\")\n",
       "                             .style(\"text-anchor\", \"middle\")\n",
       "                             .text(function(d) { return d.value; });\n",
       "\n",
       "   var node = container.append(\"g\")\n",
       "                       .selectAll(\"node\")\n",
       "                       .data(graph.nodes)\n",
       "                       .enter().append(\"g\")\n",
       "                       .call(d3.drag()\n",
       "                               .on(\"start\", dragstarted)\n",
       "                               .on(\"drag\", dragged)\n",
       "                               .on(\"end\", dragended));\n",
       "\n",
       "   /* Node appearance */\n",
       "   node.append(\"rect\")\n",
       "       .attr(\"height\", 0)\n",
       "       .attr(\"width\", 0)\n",
       "       .attr(\"fill\", function(d) { return color(d.type); })\n",
       "       .attr(\"stroke\", \"#000\")\n",
       "       .attr(\"stroke-width\", \"1px\");\n",
       "\n",
       "   node.append(\"text\")\n",
       "       .attr(\"alignment-baseline\", \"middle\")\n",
       "       .style(\"text-anchor\", \"middle\")\n",
       "       .text(function(d) { return d.name; });\n",
       "\n",
       "   /* Adjust rect width to text */\n",
       "   var margin=10;\n",
       "   node.selectAll('rect')\n",
       "       .attr(\"x\", function(d) {return d3.select(this).attr(\"x\") - (this.parentNode.getBBox().width + margin)/2.0;})\n",
       "       .attr(\"y\", function(d) {return d3.select(this).attr(\"y\") - (this.parentNode.getBBox().height + margin)/2.0;})\n",
       "       .attr(\"width\", function(d) {return this.parentNode.getBBox().width + margin;})\n",
       "       .attr(\"height\", function(d) {return this.parentNode.getBBox().height + margin;});\n",
       "\n",
       "   /* Tooltips */\n",
       "   node.append(\"title\")\n",
       "       .text(function(d) { return d.tooltip; });\n",
       "\n",
       "   /* Functions */\n",
       "   function zoomed() {\n",
       "     container.attr(\"transform\", d3.event.transform);\n",
       "   }\n",
       "\n",
       "   function ticked() {\n",
       "     link\n",
       "       .attr(\"x1\", function(d) { return d.source.x; })\n",
       "       .attr(\"y1\", function(d) { return d.source.y; })\n",
       "       .attr(\"x2\", function(d) { return d.target.x; })\n",
       "       .attr(\"y2\", function(d) { return d.target.y; });\n",
       "\n",
       "     link_value\n",
       "       .attr(\"x\", function(d) { return (d.source.x+d.target.x)/2; })\n",
       "       .attr(\"y\", function(d) { return (d.source.y+d.target.y)/2; })\n",
       "\n",
       "     node.attr(\"transform\",\n",
       "               function(d) { return \"translate(\" + d.x + \",\" + d.y + \")\"; });\n",
       "   }\n",
       "\n",
       "   function dragstarted(d) {\n",
       "     if (!d3.event.active) simulation.alphaTarget(0.3).restart();\n",
       "     d.fx = d.x;\n",
       "     d.fy = d.y;\n",
       "   }\n",
       "\n",
       "   function dragged(d) {\n",
       "     d.fx = d3.event.x;\n",
       "     d.fy = d3.event.y;\n",
       "   }\n",
       "\n",
       "   function dragended(d) {\n",
       "     if (!d3.event.active) simulation.alphaTarget(0);\n",
       "     d.fx = null;\n",
       "     d.fy = null;\n",
       "   }\n",
       "\n",
       " });\n",
       "</script>\n"
      ],
      "text/plain": [
       "<IPython.core.display.HTML object>"
      ]
     },
     "metadata": {},
     "output_type": "display_data"
    }
   ],
   "source": [
    "spn.display_spn_graph(ispn._root, sess)"
   ]
  },
  {
   "cell_type": "code",
   "execution_count": 34,
   "metadata": {},
   "outputs": [
    {
     "data": {
      "text/plain": [
       "array([-10.05981636], dtype=float32)"
      ]
     },
     "execution_count": 34,
     "metadata": {},
     "output_type": "execute_result"
    }
   ],
   "source": [
    "ispn._expanded = True\n",
    "ispn.evaluate(sess, {159:1, 160:1, 162:1}, sample_lh={159:(0.5,0.5), 160:(-3,-4), 162:(-2,-4)})"
   ]
  },
  {
   "cell_type": "code",
   "execution_count": 32,
   "metadata": {},
   "outputs": [
    {
     "data": {
      "text/plain": [
       "{162: [array([-13.59084797], dtype=float32),\n",
       "  array([-111.55982208], dtype=float32)]}"
      ]
     },
     "execution_count": 32,
     "metadata": {},
     "output_type": "execute_result"
    }
   ],
   "source": [
    "ispn.marginal_inference(sess, [162], {159:1, 160:1, 162:-1}, query_lh={159:(-5,-3), 160:(-3,-4), 162:(-2,-102)})"
   ]
  },
  {
   "cell_type": "code",
   "execution_count": 33,
   "metadata": {},
   "outputs": [
    {
     "ename": "NameError",
     "evalue": "name 'tmpl11' is not defined",
     "output_type": "error",
     "traceback": [
      "\u001b[0;31m---------------------------------------------------------------------------\u001b[0m",
      "\u001b[0;31mNameError\u001b[0m                                 Traceback (most recent call last)",
      "\u001b[0;32m<ipython-input-33-cf86d179ef92>\u001b[0m in \u001b[0;36m<module>\u001b[0;34m()\u001b[0m\n\u001b[1;32m      1\u001b[0m \u001b[0mview_ivs\u001b[0m \u001b[0;34m=\u001b[0m \u001b[0mspn\u001b[0m\u001b[0;34m.\u001b[0m\u001b[0mIVs\u001b[0m\u001b[0;34m(\u001b[0m\u001b[0mnum_vars\u001b[0m\u001b[0;34m=\u001b[0m\u001b[0;36m1\u001b[0m\u001b[0;34m,\u001b[0m \u001b[0mnum_vals\u001b[0m\u001b[0;34m=\u001b[0m\u001b[0;36m5\u001b[0m\u001b[0;34m)\u001b[0m\u001b[0;34m\u001b[0m\u001b[0m\n\u001b[0;32m----> 2\u001b[0;31m \u001b[0mroot\u001b[0m \u001b[0;34m=\u001b[0m \u001b[0mtmpl11\u001b[0m\u001b[0;34m.\u001b[0m\u001b[0m_dense_gen\u001b[0m\u001b[0;34m.\u001b[0m\u001b[0mgenerate\u001b[0m\u001b[0;34m(\u001b[0m\u001b[0mview_ivs\u001b[0m\u001b[0;34m)\u001b[0m\u001b[0;34m\u001b[0m\u001b[0m\n\u001b[0m",
      "\u001b[0;31mNameError\u001b[0m: name 'tmpl11' is not defined"
     ]
    }
   ],
   "source": [
    "view_ivs = spn.IVs(num_vars=1, num_vals=5)\n",
    "root = tmpl11._dense_gen.generate(view_ivs)"
   ]
  },
  {
   "cell_type": "code",
   "execution_count": null,
   "metadata": {
    "collapsed": true
   },
   "outputs": [],
   "source": []
  },
  {
   "cell_type": "code",
   "execution_count": null,
   "metadata": {
    "collapsed": true
   },
   "outputs": [],
   "source": []
  }
 ],
 "metadata": {
  "kernelspec": {
   "display_name": "py3",
   "language": "python",
   "name": "py3"
  },
  "language_info": {
   "codemirror_mode": {
    "name": "ipython",
    "version": 3
   },
   "file_extension": ".py",
   "mimetype": "text/x-python",
   "name": "python",
   "nbconvert_exporter": "python",
   "pygments_lexer": "ipython3",
   "version": "3.5.2"
  }
 },
 "nbformat": 4,
 "nbformat_minor": 2
}
