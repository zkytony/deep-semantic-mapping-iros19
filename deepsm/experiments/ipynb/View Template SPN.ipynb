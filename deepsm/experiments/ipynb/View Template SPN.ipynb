{
 "cells": [
  {
   "cell_type": "code",
   "execution_count": 1,
   "metadata": {},
   "outputs": [],
   "source": [
    "%load_ext autoreload\n",
    "%autoreload 2"
   ]
  },
  {
   "cell_type": "code",
   "execution_count": 2,
   "metadata": {
    "collapsed": true
   },
   "outputs": [],
   "source": [
    "import os\n",
    "import tensorflow as tf\n",
    "\n",
    "import numpy as np\n",
    "import libspn as spn\n",
    "\n",
    "from deepsm.graphspn.spn_model import SpnModel, mod_compute_graph_up\n",
    "from deepsm.graphspn.tbm.spn_template import TemplateSpn, NodeTemplateSpn, EdgeRelationTemplateSpn\n",
    "from deepsm.graphspn.tbm.spn_instance import NodeTemplateInstanceSpn\n",
    "from deepsm.graphspn.tbm.template import ThreeRelTemplate, SingleRelTemplate, SingleTemplate, RelTemplate\n",
    "from deepsm.graphspn.tbm.graph_builder import build_graph\n",
    "from deepsm.util import CategoryManager"
   ]
  },
  {
   "cell_type": "markdown",
   "metadata": {},
   "source": [
    "# Load a trained view template SPN"
   ]
  },
  {
   "cell_type": "code",
   "execution_count": 34,
   "metadata": {
    "collapsed": true
   },
   "outputs": [],
   "source": [
    "spn_path = \"/home/zkytony/Documents/thesis/experiments/deep-semantic-mapping/deepsm/experiments/results/graphspn/EdgeRelationTemplateExperiment/models/ThreeRelTemplate_10_Freiburg-Saarbrucken.spn\""
   ]
  },
  {
   "cell_type": "code",
   "execution_count": 35,
   "metadata": {
    "collapsed": true
   },
   "outputs": [],
   "source": [
    "sess = tf.Session()"
   ]
  },
  {
   "cell_type": "code",
   "execution_count": 100,
   "metadata": {
    "collapsed": true
   },
   "outputs": [],
   "source": [
    "params = {\n",
    "    'num_decomps': 1,\n",
    "    'num_subsets': 3,\n",
    "    'num_mixtures': 2,\n",
    "    'num_input_mixtures': 2,\n",
    "\n",
    "    # spn_learning\n",
    "    'additive_smoothing': 30,\n",
    "}"
   ]
  },
  {
   "cell_type": "code",
   "execution_count": 118,
   "metadata": {},
   "outputs": [
    {
     "name": "stdout",
     "output_type": "stream",
     "text": [
      "Node_28 (Sum)\n",
      "    Input(Products1_1/Product1, None) (Product)\n",
      "    Input(Products1_1/Product2, None) (Product)\n",
      "    Input(Products1_1/Product3, None) (Product)\n",
      "    Input(Products1_1/Product4, None) (Product)\n",
      "Products1_1/Product1 (Product)\n",
      "    Input(Conc_EdgeRelationTemplateSpn_0_1_3, [0]) (Concat)\n",
      "Products1_1/Product2 (Product)\n",
      "    Input(Conc_EdgeRelationTemplateSpn_0_1_3, [1]) (Concat)\n",
      "Products1_1/Product3 (Product)\n",
      "    Input(Conc_EdgeRelationTemplateSpn_0_1_3, [2]) (Concat)\n",
      "Products1_1/Product4 (Product)\n",
      "    Input(Conc_EdgeRelationTemplateSpn_0_1_3, [3]) (Concat)\n",
      "Conc_EdgeRelationTemplateSpn_0_1_3 (Concat)\n",
      "    Input(View_EdgeRelationTemplateSpn_0_1_3, None) (IVs)\n",
      "Conc_EdgeRelationTemplateSpn_0_1_3\n",
      "View_EdgeRelationTemplateSpn_0_1_3\n"
     ]
    }
   ],
   "source": [
    "template_spn = EdgeRelationTemplateSpn(RelTemplate, **params, seed=100)\n",
    "#template_spn.load(spn_path, sess)\n",
    "SpnModel.print_structure(template_spn._root, sess)\n",
    "print(template_spn._conc_inputs)\n",
    "print(template_spn._view_dist_input)"
   ]
  },
  {
   "cell_type": "code",
   "execution_count": 119,
   "metadata": {},
   "outputs": [
    {
     "name": "stdout",
     "output_type": "stream",
     "text": [
      "Conc_EdgeRelationTemplateSpn_0_1_3\n",
      "View_EdgeRelationTemplateSpn_0_1_3\n"
     ]
    }
   ],
   "source": [
    "print(template_spn._conc_inputs)\n",
    "print(template_spn._view_dist_input)"
   ]
  },
  {
   "cell_type": "code",
   "execution_count": 120,
   "metadata": {},
   "outputs": [
    {
     "ename": "ValueError",
     "evalue": "num_vars must be a positive integer",
     "output_type": "error",
     "traceback": [
      "\u001b[0;31m---------------------------------------------------------------------------\u001b[0m",
      "\u001b[0;31mValueError\u001b[0m                                Traceback (most recent call last)",
      "\u001b[0;32m<ipython-input-120-7c47d82ae89b>\u001b[0m in \u001b[0;36m<module>\u001b[0;34m()\u001b[0m\n\u001b[0;32m----> 1\u001b[0;31m \u001b[0mtemplate_spn\u001b[0m\u001b[0;34m.\u001b[0m\u001b[0mexpand\u001b[0m\u001b[0;34m(\u001b[0m\u001b[0;34m)\u001b[0m\u001b[0;34m\u001b[0m\u001b[0m\n\u001b[0m",
      "\u001b[0;32m~/Documents/thesis/experiments/deep-semantic-mapping/deepsm/graphspn/tbm/spn_template.py\u001b[0m in \u001b[0;36mexpand\u001b[0;34m(self)\u001b[0m\n\u001b[1;32m    142\u001b[0m         \u001b[0;32mif\u001b[0m \u001b[0;32mnot\u001b[0m \u001b[0mself\u001b[0m\u001b[0;34m.\u001b[0m\u001b[0m_expanded\u001b[0m\u001b[0;34m:\u001b[0m\u001b[0;34m\u001b[0m\u001b[0m\n\u001b[1;32m    143\u001b[0m             self._likelihood_inputs = spn.RawInput(num_vars=self._num_nodes * CategoryManager.NUM_CATEGORIES,\n\u001b[0;32m--> 144\u001b[0;31m                                                    name=self.vn['LH_CONT'])\n\u001b[0m\u001b[1;32m    145\u001b[0m             self._semantic_inputs = spn.IVs(num_vars=self._num_nodes, num_vals=CategoryManager.NUM_CATEGORIES,\n\u001b[1;32m    146\u001b[0m                                             name=self.vn['SEMAN_IVS'])\n",
      "\u001b[0;32m~/Documents/thesis/experiments/libspn/libspn/graph/raw_input.py\u001b[0m in \u001b[0;36m__init__\u001b[0;34m(self, feed, num_vars, name)\u001b[0m\n\u001b[1;32m     26\u001b[0m     \u001b[0;32mdef\u001b[0m \u001b[0m__init__\u001b[0m\u001b[0;34m(\u001b[0m\u001b[0mself\u001b[0m\u001b[0;34m,\u001b[0m \u001b[0mfeed\u001b[0m\u001b[0;34m=\u001b[0m\u001b[0;32mNone\u001b[0m\u001b[0;34m,\u001b[0m \u001b[0mnum_vars\u001b[0m\u001b[0;34m=\u001b[0m\u001b[0;36m1\u001b[0m\u001b[0;34m,\u001b[0m \u001b[0mname\u001b[0m\u001b[0;34m=\u001b[0m\u001b[0;34m\"RawInput\"\u001b[0m\u001b[0;34m)\u001b[0m\u001b[0;34m:\u001b[0m\u001b[0;34m\u001b[0m\u001b[0m\n\u001b[1;32m     27\u001b[0m         \u001b[0;32mif\u001b[0m \u001b[0;32mnot\u001b[0m \u001b[0misinstance\u001b[0m\u001b[0;34m(\u001b[0m\u001b[0mnum_vars\u001b[0m\u001b[0;34m,\u001b[0m \u001b[0mint\u001b[0m\u001b[0;34m)\u001b[0m \u001b[0;32mor\u001b[0m \u001b[0mnum_vars\u001b[0m \u001b[0;34m<\u001b[0m \u001b[0;36m1\u001b[0m\u001b[0;34m:\u001b[0m\u001b[0;34m\u001b[0m\u001b[0m\n\u001b[0;32m---> 28\u001b[0;31m             \u001b[0;32mraise\u001b[0m \u001b[0mValueError\u001b[0m\u001b[0;34m(\u001b[0m\u001b[0;34m\"num_vars must be a positive integer\"\u001b[0m\u001b[0;34m)\u001b[0m\u001b[0;34m\u001b[0m\u001b[0m\n\u001b[0m\u001b[1;32m     29\u001b[0m         \u001b[0mself\u001b[0m\u001b[0;34m.\u001b[0m\u001b[0m_num_vars\u001b[0m \u001b[0;34m=\u001b[0m \u001b[0mnum_vars\u001b[0m\u001b[0;34m\u001b[0m\u001b[0m\n\u001b[1;32m     30\u001b[0m         \u001b[0msuper\u001b[0m\u001b[0;34m(\u001b[0m\u001b[0;34m)\u001b[0m\u001b[0;34m.\u001b[0m\u001b[0m__init__\u001b[0m\u001b[0;34m(\u001b[0m\u001b[0mfeed\u001b[0m\u001b[0;34m,\u001b[0m \u001b[0mname\u001b[0m\u001b[0;34m)\u001b[0m\u001b[0;34m\u001b[0m\u001b[0m\n",
      "\u001b[0;31mValueError\u001b[0m: num_vars must be a positive integer"
     ]
    }
   ],
   "source": [
    "template_spn.expand()"
   ]
  },
  {
   "cell_type": "code",
   "execution_count": 121,
   "metadata": {},
   "outputs": [
    {
     "data": {
      "text/html": [
       "<svg id=\"S2f0fa6c888044683a48f56e7567938d2\" width=\"950\" height=\"800\"></svg>\n",
       "<script>\n",
       " require.config({\n",
       "   paths: {\n",
       "     d3: 'https://d3js.org/d3.v4.min'\n",
       "   }\n",
       " });\n",
       " require(['d3'], function(d3){\n",
       "\n",
       "   var graph = {\"links\": [{\"source\": \"View_EdgeRelationTemplateSpn_0_1_3_1\", \"target\": \"Conc_EdgeRelationTemplateSpn_0_1_3\", \"value\": 4}, {\"source\": \"Conc_EdgeRelationTemplateSpn_0_1_3\", \"target\": \"Products1_1/Product4\", \"value\": 1}, {\"source\": \"Conc_EdgeRelationTemplateSpn_0_1_3\", \"target\": \"Products1_1/Product3\", \"value\": 1}, {\"source\": \"Conc_EdgeRelationTemplateSpn_0_1_3\", \"target\": \"Products1_1/Product2\", \"value\": 1}, {\"source\": \"Conc_EdgeRelationTemplateSpn_0_1_3\", \"target\": \"Products1_1/Product1\", \"value\": 1}, {\"source\": \"Products1_1/Product1\", \"target\": \"Node_28\", \"value\": 1}, {\"source\": \"Products1_1/Product2\", \"target\": \"Node_28\", \"value\": 1}, {\"source\": \"Products1_1/Product3\", \"target\": \"Node_28\", \"value\": 1}, {\"source\": \"Products1_1/Product4\", \"target\": \"Node_28\", \"value\": 1}], \"nodes\": [{\"id\": \"Conc_EdgeRelationTemplateSpn_0_1_3\", \"name\": \"Conc_EdgeRelationTemplateSpn_0_1_3\", \"tooltip\": \"Conc_EdgeRelationTemplateSpn_0_1_3\", \"type\": 1}, {\"id\": \"View_EdgeRelationTemplateSpn_0_1_3_1\", \"name\": \"View_EdgeRelationTemplateSpn_0_1_3\", \"tooltip\": \"View_EdgeRelationTemplateSpn_0_1_3\", \"type\": 0}, {\"id\": \"Products1_1/Product4\", \"name\": \"Products1_1/Product4\", \"tooltip\": \"Products1_1/Product4\", \"type\": 2}, {\"id\": \"Products1_1/Product3\", \"name\": \"Products1_1/Product3\", \"tooltip\": \"Products1_1/Product3\", \"type\": 2}, {\"id\": \"Products1_1/Product2\", \"name\": \"Products1_1/Product2\", \"tooltip\": \"Products1_1/Product2\", \"type\": 2}, {\"id\": \"Products1_1/Product1\", \"name\": \"Products1_1/Product1\", \"tooltip\": \"Products1_1/Product1\", \"type\": 2}, {\"id\": \"Node_28\", \"name\": \"Node_28\", \"tooltip\": \"Node_28\", \"type\": 3}]};\n",
       "\n",
       "   var color = d3.scaleOrdinal(d3.schemeCategory10);\n",
       "\n",
       "   var zoom = d3.zoom()\n",
       "                .scaleExtent([0.1, 10])\n",
       "                .on(\"zoom\", zoomed);\n",
       "\n",
       "   var svg = d3.select(\"#S2f0fa6c888044683a48f56e7567938d2\").\n",
       "                call(zoom);\n",
       "\n",
       "   var width = svg.attr(\"width\");\n",
       "   var height = svg.attr(\"height\");\n",
       "\n",
       "   var simulation = d3.forceSimulation(graph.nodes)\n",
       "                      .on(\"tick\", ticked)\n",
       "                      .force(\"link\", d3.forceLink(graph.links)\n",
       "                                       .distance(80)\n",
       "                                       .id(function(d) { return d.id; }))\n",
       "                      .force(\"charge\", d3.forceManyBody().\n",
       "                                          strength(-1000))\n",
       "                      .force(\"center\", d3.forceCenter(width / 2, height / 2));\n",
       "\n",
       "   /* Contents */\n",
       "   var container = svg.append(\"g\").\n",
       "                       attr(\"class\", \"container\");\n",
       "\n",
       "   var link = container.append(\"g\")\n",
       "                       .selectAll(\"link\")\n",
       "                       .data(graph.links)\n",
       "                       .enter().append(\"line\")\n",
       "                       .attr(\"stroke\", \"#444\")\n",
       "                       .attr(\"stroke-opacity\", \"0.6\")\n",
       "                       .attr(\"stroke-width\",\n",
       "                             function(d) {\n",
       "                               return d.value;\n",
       "                               /*return Math.sqrt(d.value);*/\n",
       "                             });\n",
       "\n",
       "   var link_value = container.append(\"g\")\n",
       "                             .selectAll(\"linkvalue\")\n",
       "                             .data(graph.links)\n",
       "                             .enter().append(\"text\")\n",
       "                             .attr(\"alignment-baseline\", \"middle\")\n",
       "                             .style(\"text-anchor\", \"middle\")\n",
       "                             .text(function(d) { return d.value; });\n",
       "\n",
       "   var node = container.append(\"g\")\n",
       "                       .selectAll(\"node\")\n",
       "                       .data(graph.nodes)\n",
       "                       .enter().append(\"g\")\n",
       "                       .call(d3.drag()\n",
       "                               .on(\"start\", dragstarted)\n",
       "                               .on(\"drag\", dragged)\n",
       "                               .on(\"end\", dragended));\n",
       "\n",
       "   /* Node appearance */\n",
       "   node.append(\"rect\")\n",
       "       .attr(\"height\", 0)\n",
       "       .attr(\"width\", 0)\n",
       "       .attr(\"fill\", function(d) { return color(d.type); })\n",
       "       .attr(\"stroke\", \"#000\")\n",
       "       .attr(\"stroke-width\", \"1px\");\n",
       "\n",
       "   node.append(\"text\")\n",
       "       .attr(\"alignment-baseline\", \"middle\")\n",
       "       .style(\"text-anchor\", \"middle\")\n",
       "       .text(function(d) { return d.name; });\n",
       "\n",
       "   /* Adjust rect width to text */\n",
       "   var margin=10;\n",
       "   node.selectAll('rect')\n",
       "       .attr(\"x\", function(d) {return d3.select(this).attr(\"x\") - (this.parentNode.getBBox().width + margin)/2.0;})\n",
       "       .attr(\"y\", function(d) {return d3.select(this).attr(\"y\") - (this.parentNode.getBBox().height + margin)/2.0;})\n",
       "       .attr(\"width\", function(d) {return this.parentNode.getBBox().width + margin;})\n",
       "       .attr(\"height\", function(d) {return this.parentNode.getBBox().height + margin;});\n",
       "\n",
       "   /* Tooltips */\n",
       "   node.append(\"title\")\n",
       "       .text(function(d) { return d.tooltip; });\n",
       "\n",
       "   /* Functions */\n",
       "   function zoomed() {\n",
       "     container.attr(\"transform\", d3.event.transform);\n",
       "   }\n",
       "\n",
       "   function ticked() {\n",
       "     link\n",
       "       .attr(\"x1\", function(d) { return d.source.x; })\n",
       "       .attr(\"y1\", function(d) { return d.source.y; })\n",
       "       .attr(\"x2\", function(d) { return d.target.x; })\n",
       "       .attr(\"y2\", function(d) { return d.target.y; });\n",
       "\n",
       "     link_value\n",
       "       .attr(\"x\", function(d) { return (d.source.x+d.target.x)/2; })\n",
       "       .attr(\"y\", function(d) { return (d.source.y+d.target.y)/2; })\n",
       "\n",
       "     node.attr(\"transform\",\n",
       "               function(d) { return \"translate(\" + d.x + \",\" + d.y + \")\"; });\n",
       "   }\n",
       "\n",
       "   function dragstarted(d) {\n",
       "     if (!d3.event.active) simulation.alphaTarget(0.3).restart();\n",
       "     d.fx = d.x;\n",
       "     d.fy = d.y;\n",
       "   }\n",
       "\n",
       "   function dragged(d) {\n",
       "     d.fx = d3.event.x;\n",
       "     d.fy = d3.event.y;\n",
       "   }\n",
       "\n",
       "   function dragended(d) {\n",
       "     if (!d3.event.active) simulation.alphaTarget(0);\n",
       "     d.fx = null;\n",
       "     d.fy = null;\n",
       "   }\n",
       "\n",
       " });\n",
       "</script>\n"
      ],
      "text/plain": [
       "<IPython.core.display.HTML object>"
      ]
     },
     "metadata": {},
     "output_type": "display_data"
    }
   ],
   "source": [
    "spn.display_spn_graph(template_spn._root, skip_params=False)"
   ]
  },
  {
   "cell_type": "code",
   "execution_count": 122,
   "metadata": {},
   "outputs": [
    {
     "data": {
      "text/plain": [
       "3"
      ]
     },
     "execution_count": 122,
     "metadata": {},
     "output_type": "execute_result"
    }
   ],
   "source": [
    "template_spn._num_subsets"
   ]
  },
  {
   "cell_type": "code",
   "execution_count": 123,
   "metadata": {},
   "outputs": [
    {
     "name": "stdout",
     "output_type": "stream",
     "text": [
      "Generating weight initialization Ops...\n",
      "Initializing learning Ops...\n",
      "Initializing weights...\n"
     ]
    }
   ],
   "source": [
    "template_spn.generate_random_weights()\n",
    "template_spn.init_weights_ops()\n",
    "template_spn.init_learning_ops()\n",
    "template_spn.initialize_weights(sess)"
   ]
  },
  {
   "cell_type": "code",
   "execution_count": 124,
   "metadata": {},
   "outputs": [
    {
     "data": {
      "text/plain": [
       "deepsm.graphspn.tbm.template.RelTemplate"
      ]
     },
     "execution_count": 124,
     "metadata": {},
     "output_type": "execute_result"
    }
   ],
   "source": [
    "template_spn.template"
   ]
  },
  {
   "cell_type": "code",
   "execution_count": 125,
   "metadata": {},
   "outputs": [
    {
     "name": "stdout",
     "output_type": "stream",
     "text": [
      "Node_28 (Sum)\n",
      "    Input(Products1_1/Product1, None) (Product)\n",
      "    Input(Products1_1/Product2, None) (Product)\n",
      "    Input(Products1_1/Product3, None) (Product)\n",
      "    Input(Products1_1/Product4, None) (Product)\n",
      "Products1_1/Product1 (Product)\n",
      "    Input(Conc_EdgeRelationTemplateSpn_0_1_3, [0]) (Concat)\n",
      "Products1_1/Product2 (Product)\n",
      "    Input(Conc_EdgeRelationTemplateSpn_0_1_3, [1]) (Concat)\n",
      "Products1_1/Product3 (Product)\n",
      "    Input(Conc_EdgeRelationTemplateSpn_0_1_3, [2]) (Concat)\n",
      "Products1_1/Product4 (Product)\n",
      "    Input(Conc_EdgeRelationTemplateSpn_0_1_3, [3]) (Concat)\n",
      "Conc_EdgeRelationTemplateSpn_0_1_3 (Concat)\n",
      "    Input(View_EdgeRelationTemplateSpn_0_1_3, None) (IVs)\n"
     ]
    }
   ],
   "source": [
    "SpnModel.print_structure(template_spn._root, sess)"
   ]
  },
  {
   "cell_type": "code",
   "execution_count": 126,
   "metadata": {},
   "outputs": [
    {
     "data": {
      "text/plain": [
       "Input(Weights_4/Node_28_Weights, None)"
      ]
     },
     "execution_count": 126,
     "metadata": {},
     "output_type": "execute_result"
    }
   ],
   "source": [
    "template_spn._root.weights"
   ]
  },
  {
   "cell_type": "code",
   "execution_count": 129,
   "metadata": {},
   "outputs": [
    {
     "name": "stdout",
     "output_type": "stream",
     "text": [
      "Node_28 (Sum)\n",
      "[[ 0.24780256  0.25517696  0.24561906  0.25140151]] [(1, 4)]\n"
     ]
    }
   ],
   "source": [
    "SpnModel.print_weights(template_spn._root, sess)"
   ]
  },
  {
   "cell_type": "code",
   "execution_count": 130,
   "metadata": {},
   "outputs": [
    {
     "data": {
      "text/plain": [
       "array([[-1.365798]], dtype=float32)"
      ]
     },
     "execution_count": 130,
     "metadata": {},
     "output_type": "execute_result"
    }
   ],
   "source": [
    "template_spn.evaluate(sess, np.array([1]))"
   ]
  },
  {
   "cell_type": "code",
   "execution_count": 131,
   "metadata": {},
   "outputs": [
    {
     "name": "stdout",
     "output_type": "stream",
     "text": [
      "()\n",
      "0\n",
      "Conc_EdgeRelationTemplateSpn_0_1_3\n",
      "View_EdgeRelationTemplateSpn_0_1_3\n"
     ]
    }
   ],
   "source": [
    "template_spn._conc_inputs.set_inputs()\n",
    "print(template_spn._conc_inputs.inputs)\n",
    "print(template_spn._num_nodes)\n",
    "print(template_spn._conc_inputs)\n",
    "print(template_spn._view_dist_input)"
   ]
  },
  {
   "cell_type": "code",
   "execution_count": 132,
   "metadata": {
    "scrolled": false
   },
   "outputs": [],
   "source": [
    "catg_inputs = spn.IVs(num_vars=9, num_vals=CategoryManager.NUM_CATEGORIES, name=\"Catg\")\n",
    "view_inputs = spn.IVs(num_vars=3, num_vals=4, name=\"View\")\n",
    "conc = spn.Concat(catg_inputs, view_inputs)\n",
    "copied_tspn_root = mod_compute_graph_up(template_spn._root,\n",
    "                                        TemplateSpn.dup_fun_up,\n",
    "                                        tmpl_num_vars=[3, 1],\n",
    "                                        tmpl_num_vals=[CategoryManager.NUM_CATEGORIES, 4],\n",
    "                                        graph_num_vars=[catg_inputs.num_vars, view_inputs.num_vars],\n",
    "                                        conc=conc,\n",
    "                                        labels=[[5,6,7],[0]])"
   ]
  },
  {
   "cell_type": "code",
   "execution_count": 113,
   "metadata": {},
   "outputs": [
    {
     "name": "stdout",
     "output_type": "stream",
     "text": [
      "Sum_14 (Sum)\n",
      "[[ 1.]] [(1, 1)]\n"
     ]
    }
   ],
   "source": [
    "SpnModel.print_weights(copied_tspn_root, sess)"
   ]
  },
  {
   "cell_type": "code",
   "execution_count": 114,
   "metadata": {
    "scrolled": false
   },
   "outputs": [
    {
     "name": "stdout",
     "output_type": "stream",
     "text": [
      "Sum_14 (Sum)\n",
      "    Input(PermProducts_4, None) (PermProducts)\n",
      "PermProducts_4 (PermProducts)\n",
      "    Input(Concat_12, [10, 11, 12, 13]) (Concat)\n",
      "Concat_12 (Concat)\n",
      "    Input(Catg_12, None) (IVs)\n",
      "    Input(View_12, None) (IVs)\n"
     ]
    }
   ],
   "source": [
    "SpnModel.print_structure(copied_tspn_root, sess)"
   ]
  },
  {
   "cell_type": "code",
   "execution_count": 115,
   "metadata": {
    "scrolled": true
   },
   "outputs": [
    {
     "data": {
      "text/plain": [
       "True"
      ]
     },
     "execution_count": 115,
     "metadata": {},
     "output_type": "execute_result"
    }
   ],
   "source": [
    "copied_tspn_root.is_valid()"
   ]
  },
  {
   "cell_type": "code",
   "execution_count": null,
   "metadata": {
    "collapsed": true
   },
   "outputs": [],
   "source": []
  }
 ],
 "metadata": {
  "kernelspec": {
   "display_name": "py3",
   "language": "python",
   "name": "py3"
  },
  "language_info": {
   "codemirror_mode": {
    "name": "ipython",
    "version": 3
   },
   "file_extension": ".py",
   "mimetype": "text/x-python",
   "name": "python",
   "nbconvert_exporter": "python",
   "pygments_lexer": "ipython3",
   "version": "3.5.2"
  }
 },
 "nbformat": 4,
 "nbformat_minor": 2
}
